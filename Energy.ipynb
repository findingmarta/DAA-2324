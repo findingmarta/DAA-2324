{
 "cells": [
  {
   "cell_type": "markdown",
   "metadata": {},
   "source": [
    "## Introdução\n",
    "\n",
    "AAAAAAAAAAAAAAAAAAAAAAAAAAAAAAAAA"
   ]
  },
  {
   "cell_type": "code",
   "execution_count": 186,
   "metadata": {},
   "outputs": [],
   "source": [
    "'''import libraries'''\n",
    "import sklearn as skl\n",
    "import pandas as pd\n",
    "import matplotlib.pyplot as plt\n",
    "import seaborn as sns\n",
    "import numpy as np\n",
    "#import category_encoders as ce"
   ]
  },
  {
   "cell_type": "code",
   "execution_count": 187,
   "metadata": {},
   "outputs": [],
   "source": [
    "'''Load CSVs'''\n",
    "energia_2021 = pd.read_csv('./competition/energia_202109-202112.csv')\n",
    "energia_2022 = pd.read_csv('./competition/energia_202201-202212.csv')\n",
    "meteo_2021 = pd.read_csv('./competition/meteo_202109-202112.csv')\n",
    "meteo_2022 = pd.read_csv('./competition/meteo_202201-202212.csv')\n",
    "teste_meteo_2023 = pd.read_csv('./competition/meteo_202301-202304.csv')\n",
    "teste_energia_2023 = pd.read_csv('./competition/energia_202301-202304.csv')\n"
   ]
  },
  {
   "cell_type": "markdown",
   "metadata": {},
   "source": [
    "## Análise dos Dados"
   ]
  },
  {
   "cell_type": "markdown",
   "metadata": {},
   "source": [
    "### Datasets Energia"
   ]
  },
  {
   "cell_type": "code",
   "execution_count": 188,
   "metadata": {},
   "outputs": [
    {
     "data": {
      "text/html": [
       "<div>\n",
       "<style scoped>\n",
       "    .dataframe tbody tr th:only-of-type {\n",
       "        vertical-align: middle;\n",
       "    }\n",
       "\n",
       "    .dataframe tbody tr th {\n",
       "        vertical-align: top;\n",
       "    }\n",
       "\n",
       "    .dataframe thead th {\n",
       "        text-align: right;\n",
       "    }\n",
       "</style>\n",
       "<table border=\"1\" class=\"dataframe\">\n",
       "  <thead>\n",
       "    <tr style=\"text-align: right;\">\n",
       "      <th></th>\n",
       "      <th>Data</th>\n",
       "      <th>Hora</th>\n",
       "      <th>Normal (kWh)</th>\n",
       "      <th>Horário Económico (kWh)</th>\n",
       "      <th>Autoconsumo (kWh)</th>\n",
       "      <th>Injeção na rede (kWh)</th>\n",
       "    </tr>\n",
       "  </thead>\n",
       "  <tbody>\n",
       "    <tr>\n",
       "      <th>0</th>\n",
       "      <td>2021-09-29</td>\n",
       "      <td>0</td>\n",
       "      <td>0.0</td>\n",
       "      <td>0.0</td>\n",
       "      <td>0.0</td>\n",
       "      <td>NaN</td>\n",
       "    </tr>\n",
       "    <tr>\n",
       "      <th>1</th>\n",
       "      <td>2021-09-29</td>\n",
       "      <td>1</td>\n",
       "      <td>0.0</td>\n",
       "      <td>0.0</td>\n",
       "      <td>0.0</td>\n",
       "      <td>NaN</td>\n",
       "    </tr>\n",
       "    <tr>\n",
       "      <th>2</th>\n",
       "      <td>2021-09-29</td>\n",
       "      <td>2</td>\n",
       "      <td>0.0</td>\n",
       "      <td>0.0</td>\n",
       "      <td>0.0</td>\n",
       "      <td>NaN</td>\n",
       "    </tr>\n",
       "    <tr>\n",
       "      <th>3</th>\n",
       "      <td>2021-09-29</td>\n",
       "      <td>3</td>\n",
       "      <td>0.0</td>\n",
       "      <td>0.0</td>\n",
       "      <td>0.0</td>\n",
       "      <td>NaN</td>\n",
       "    </tr>\n",
       "    <tr>\n",
       "      <th>4</th>\n",
       "      <td>2021-09-29</td>\n",
       "      <td>4</td>\n",
       "      <td>0.0</td>\n",
       "      <td>0.0</td>\n",
       "      <td>0.0</td>\n",
       "      <td>NaN</td>\n",
       "    </tr>\n",
       "  </tbody>\n",
       "</table>\n",
       "</div>"
      ],
      "text/plain": [
       "         Data  Hora  Normal (kWh)  Horário Económico (kWh)  Autoconsumo (kWh)  \\\n",
       "0  2021-09-29     0           0.0                      0.0                0.0   \n",
       "1  2021-09-29     1           0.0                      0.0                0.0   \n",
       "2  2021-09-29     2           0.0                      0.0                0.0   \n",
       "3  2021-09-29     3           0.0                      0.0                0.0   \n",
       "4  2021-09-29     4           0.0                      0.0                0.0   \n",
       "\n",
       "  Injeção na rede (kWh)  \n",
       "0                   NaN  \n",
       "1                   NaN  \n",
       "2                   NaN  \n",
       "3                   NaN  \n",
       "4                   NaN  "
      ]
     },
     "execution_count": 188,
     "metadata": {},
     "output_type": "execute_result"
    }
   ],
   "source": [
    "energia_2021.head()"
   ]
  },
  {
   "cell_type": "code",
   "execution_count": 189,
   "metadata": {},
   "outputs": [
    {
     "data": {
      "text/html": [
       "<div>\n",
       "<style scoped>\n",
       "    .dataframe tbody tr th:only-of-type {\n",
       "        vertical-align: middle;\n",
       "    }\n",
       "\n",
       "    .dataframe tbody tr th {\n",
       "        vertical-align: top;\n",
       "    }\n",
       "\n",
       "    .dataframe thead th {\n",
       "        text-align: right;\n",
       "    }\n",
       "</style>\n",
       "<table border=\"1\" class=\"dataframe\">\n",
       "  <thead>\n",
       "    <tr style=\"text-align: right;\">\n",
       "      <th></th>\n",
       "      <th>Data</th>\n",
       "      <th>Hora</th>\n",
       "      <th>Normal (kWh)</th>\n",
       "      <th>Horário Económico (kWh)</th>\n",
       "      <th>Autoconsumo (kWh)</th>\n",
       "      <th>Injeção na rede (kWh)</th>\n",
       "    </tr>\n",
       "  </thead>\n",
       "  <tbody>\n",
       "    <tr>\n",
       "      <th>0</th>\n",
       "      <td>2022-01-01</td>\n",
       "      <td>0</td>\n",
       "      <td>0.0</td>\n",
       "      <td>0.486</td>\n",
       "      <td>0.0</td>\n",
       "      <td>NaN</td>\n",
       "    </tr>\n",
       "    <tr>\n",
       "      <th>1</th>\n",
       "      <td>2022-01-01</td>\n",
       "      <td>1</td>\n",
       "      <td>0.0</td>\n",
       "      <td>0.429</td>\n",
       "      <td>0.0</td>\n",
       "      <td>NaN</td>\n",
       "    </tr>\n",
       "    <tr>\n",
       "      <th>2</th>\n",
       "      <td>2022-01-01</td>\n",
       "      <td>2</td>\n",
       "      <td>0.0</td>\n",
       "      <td>0.463</td>\n",
       "      <td>0.0</td>\n",
       "      <td>NaN</td>\n",
       "    </tr>\n",
       "    <tr>\n",
       "      <th>3</th>\n",
       "      <td>2022-01-01</td>\n",
       "      <td>3</td>\n",
       "      <td>0.0</td>\n",
       "      <td>0.545</td>\n",
       "      <td>0.0</td>\n",
       "      <td>NaN</td>\n",
       "    </tr>\n",
       "    <tr>\n",
       "      <th>4</th>\n",
       "      <td>2022-01-01</td>\n",
       "      <td>4</td>\n",
       "      <td>0.0</td>\n",
       "      <td>0.439</td>\n",
       "      <td>0.0</td>\n",
       "      <td>NaN</td>\n",
       "    </tr>\n",
       "  </tbody>\n",
       "</table>\n",
       "</div>"
      ],
      "text/plain": [
       "         Data  Hora  Normal (kWh)  Horário Económico (kWh)  Autoconsumo (kWh)  \\\n",
       "0  2022-01-01     0           0.0                    0.486                0.0   \n",
       "1  2022-01-01     1           0.0                    0.429                0.0   \n",
       "2  2022-01-01     2           0.0                    0.463                0.0   \n",
       "3  2022-01-01     3           0.0                    0.545                0.0   \n",
       "4  2022-01-01     4           0.0                    0.439                0.0   \n",
       "\n",
       "  Injeção na rede (kWh)  \n",
       "0                   NaN  \n",
       "1                   NaN  \n",
       "2                   NaN  \n",
       "3                   NaN  \n",
       "4                   NaN  "
      ]
     },
     "execution_count": 189,
     "metadata": {},
     "output_type": "execute_result"
    }
   ],
   "source": [
    "energia_2022.head()"
   ]
  },
  {
   "cell_type": "code",
   "execution_count": 190,
   "metadata": {},
   "outputs": [
    {
     "name": "stdout",
     "output_type": "stream",
     "text": [
      "<class 'pandas.core.frame.DataFrame'>\n",
      "RangeIndex: 2256 entries, 0 to 2255\n",
      "Data columns (total 6 columns):\n",
      " #   Column                   Non-Null Count  Dtype  \n",
      "---  ------                   --------------  -----  \n",
      " 0   Data                     2256 non-null   object \n",
      " 1   Hora                     2256 non-null   int64  \n",
      " 2   Normal (kWh)             2256 non-null   float64\n",
      " 3   Horário Económico (kWh)  2256 non-null   float64\n",
      " 4   Autoconsumo (kWh)        2256 non-null   float64\n",
      " 5   Injeção na rede (kWh)    566 non-null    object \n",
      "dtypes: float64(3), int64(1), object(2)\n",
      "memory usage: 105.9+ KB\n"
     ]
    }
   ],
   "source": [
    "energia_2021.info()"
   ]
  },
  {
   "cell_type": "code",
   "execution_count": 191,
   "metadata": {},
   "outputs": [
    {
     "name": "stdout",
     "output_type": "stream",
     "text": [
      "<class 'pandas.core.frame.DataFrame'>\n",
      "RangeIndex: 8760 entries, 0 to 8759\n",
      "Data columns (total 6 columns):\n",
      " #   Column                   Non-Null Count  Dtype  \n",
      "---  ------                   --------------  -----  \n",
      " 0   Data                     8760 non-null   object \n",
      " 1   Hora                     8760 non-null   int64  \n",
      " 2   Normal (kWh)             8760 non-null   float64\n",
      " 3   Horário Económico (kWh)  8760 non-null   float64\n",
      " 4   Autoconsumo (kWh)        8760 non-null   float64\n",
      " 5   Injeção na rede (kWh)    2673 non-null   object \n",
      "dtypes: float64(3), int64(1), object(2)\n",
      "memory usage: 410.8+ KB\n"
     ]
    }
   ],
   "source": [
    "energia_2022.info()"
   ]
  },
  {
   "cell_type": "markdown",
   "metadata": {},
   "source": [
    "#### Full Join dos datasets Energia 2021 e Energia 2022"
   ]
  },
  {
   "cell_type": "code",
   "execution_count": 192,
   "metadata": {},
   "outputs": [
    {
     "name": "stdout",
     "output_type": "stream",
     "text": [
      "<class 'pandas.core.frame.DataFrame'>\n",
      "RangeIndex: 11016 entries, 0 to 11015\n",
      "Data columns (total 6 columns):\n",
      " #   Column                   Non-Null Count  Dtype  \n",
      "---  ------                   --------------  -----  \n",
      " 0   Data                     11016 non-null  object \n",
      " 1   Hora                     11016 non-null  int64  \n",
      " 2   Normal (kWh)             11016 non-null  float64\n",
      " 3   Horário Económico (kWh)  11016 non-null  float64\n",
      " 4   Autoconsumo (kWh)        11016 non-null  float64\n",
      " 5   Injeção na rede (kWh)    3239 non-null   object \n",
      "dtypes: float64(3), int64(1), object(2)\n",
      "memory usage: 516.5+ KB\n"
     ]
    }
   ],
   "source": [
    "energia_21 = energia_2021.copy()\n",
    "energia_22 = energia_2022.copy() \n",
    "energia = pd.merge(energia_21, energia_22, how=\"outer\", on=['Data', 'Hora','Normal (kWh)','Horário Económico (kWh)','Autoconsumo (kWh)','Injeção na rede (kWh)'])\n",
    "energia.info()"
   ]
  },
  {
   "cell_type": "markdown",
   "metadata": {},
   "source": [
    "### Dataset Meteorologia "
   ]
  },
  {
   "cell_type": "code",
   "execution_count": 193,
   "metadata": {},
   "outputs": [
    {
     "data": {
      "text/html": [
       "<div>\n",
       "<style scoped>\n",
       "    .dataframe tbody tr th:only-of-type {\n",
       "        vertical-align: middle;\n",
       "    }\n",
       "\n",
       "    .dataframe tbody tr th {\n",
       "        vertical-align: top;\n",
       "    }\n",
       "\n",
       "    .dataframe thead th {\n",
       "        text-align: right;\n",
       "    }\n",
       "</style>\n",
       "<table border=\"1\" class=\"dataframe\">\n",
       "  <thead>\n",
       "    <tr style=\"text-align: right;\">\n",
       "      <th></th>\n",
       "      <th>dt</th>\n",
       "      <th>dt_iso</th>\n",
       "      <th>city_name</th>\n",
       "      <th>temp</th>\n",
       "      <th>feels_like</th>\n",
       "      <th>temp_min</th>\n",
       "      <th>temp_max</th>\n",
       "      <th>pressure</th>\n",
       "      <th>sea_level</th>\n",
       "      <th>grnd_level</th>\n",
       "      <th>humidity</th>\n",
       "      <th>wind_speed</th>\n",
       "      <th>rain_1h</th>\n",
       "      <th>clouds_all</th>\n",
       "      <th>weather_description</th>\n",
       "    </tr>\n",
       "  </thead>\n",
       "  <tbody>\n",
       "    <tr>\n",
       "      <th>0</th>\n",
       "      <td>1630454400</td>\n",
       "      <td>2021-09-01 00:00:00 +0000 UTC</td>\n",
       "      <td>local</td>\n",
       "      <td>18.74</td>\n",
       "      <td>18.84</td>\n",
       "      <td>15.72</td>\n",
       "      <td>20.34</td>\n",
       "      <td>1015</td>\n",
       "      <td>NaN</td>\n",
       "      <td>NaN</td>\n",
       "      <td>83</td>\n",
       "      <td>1.18</td>\n",
       "      <td>NaN</td>\n",
       "      <td>78</td>\n",
       "      <td>broken clouds</td>\n",
       "    </tr>\n",
       "    <tr>\n",
       "      <th>1</th>\n",
       "      <td>1630458000</td>\n",
       "      <td>2021-09-01 01:00:00 +0000 UTC</td>\n",
       "      <td>local</td>\n",
       "      <td>18.73</td>\n",
       "      <td>18.83</td>\n",
       "      <td>15.72</td>\n",
       "      <td>20.34</td>\n",
       "      <td>1014</td>\n",
       "      <td>NaN</td>\n",
       "      <td>NaN</td>\n",
       "      <td>83</td>\n",
       "      <td>1.46</td>\n",
       "      <td>NaN</td>\n",
       "      <td>92</td>\n",
       "      <td>overcast clouds</td>\n",
       "    </tr>\n",
       "    <tr>\n",
       "      <th>2</th>\n",
       "      <td>1630461600</td>\n",
       "      <td>2021-09-01 02:00:00 +0000 UTC</td>\n",
       "      <td>local</td>\n",
       "      <td>17.84</td>\n",
       "      <td>17.98</td>\n",
       "      <td>16.72</td>\n",
       "      <td>20.34</td>\n",
       "      <td>1014</td>\n",
       "      <td>NaN</td>\n",
       "      <td>NaN</td>\n",
       "      <td>88</td>\n",
       "      <td>1.05</td>\n",
       "      <td>NaN</td>\n",
       "      <td>91</td>\n",
       "      <td>overcast clouds</td>\n",
       "    </tr>\n",
       "    <tr>\n",
       "      <th>3</th>\n",
       "      <td>1630465200</td>\n",
       "      <td>2021-09-01 03:00:00 +0000 UTC</td>\n",
       "      <td>local</td>\n",
       "      <td>18.27</td>\n",
       "      <td>18.40</td>\n",
       "      <td>16.68</td>\n",
       "      <td>20.34</td>\n",
       "      <td>1014</td>\n",
       "      <td>NaN</td>\n",
       "      <td>NaN</td>\n",
       "      <td>86</td>\n",
       "      <td>0.46</td>\n",
       "      <td>0.14</td>\n",
       "      <td>94</td>\n",
       "      <td>light rain</td>\n",
       "    </tr>\n",
       "    <tr>\n",
       "      <th>4</th>\n",
       "      <td>1630468800</td>\n",
       "      <td>2021-09-01 04:00:00 +0000 UTC</td>\n",
       "      <td>local</td>\n",
       "      <td>17.81</td>\n",
       "      <td>17.97</td>\n",
       "      <td>16.12</td>\n",
       "      <td>20.34</td>\n",
       "      <td>1013</td>\n",
       "      <td>NaN</td>\n",
       "      <td>NaN</td>\n",
       "      <td>89</td>\n",
       "      <td>0.93</td>\n",
       "      <td>1.26</td>\n",
       "      <td>95</td>\n",
       "      <td>moderate rain</td>\n",
       "    </tr>\n",
       "  </tbody>\n",
       "</table>\n",
       "</div>"
      ],
      "text/plain": [
       "           dt                         dt_iso city_name   temp  feels_like  \\\n",
       "0  1630454400  2021-09-01 00:00:00 +0000 UTC     local  18.74       18.84   \n",
       "1  1630458000  2021-09-01 01:00:00 +0000 UTC     local  18.73       18.83   \n",
       "2  1630461600  2021-09-01 02:00:00 +0000 UTC     local  17.84       17.98   \n",
       "3  1630465200  2021-09-01 03:00:00 +0000 UTC     local  18.27       18.40   \n",
       "4  1630468800  2021-09-01 04:00:00 +0000 UTC     local  17.81       17.97   \n",
       "\n",
       "   temp_min  temp_max  pressure  sea_level  grnd_level  humidity  wind_speed  \\\n",
       "0     15.72     20.34      1015        NaN         NaN        83        1.18   \n",
       "1     15.72     20.34      1014        NaN         NaN        83        1.46   \n",
       "2     16.72     20.34      1014        NaN         NaN        88        1.05   \n",
       "3     16.68     20.34      1014        NaN         NaN        86        0.46   \n",
       "4     16.12     20.34      1013        NaN         NaN        89        0.93   \n",
       "\n",
       "   rain_1h  clouds_all weather_description  \n",
       "0      NaN          78       broken clouds  \n",
       "1      NaN          92     overcast clouds  \n",
       "2      NaN          91     overcast clouds  \n",
       "3     0.14          94          light rain  \n",
       "4     1.26          95       moderate rain  "
      ]
     },
     "execution_count": 193,
     "metadata": {},
     "output_type": "execute_result"
    }
   ],
   "source": [
    "meteo_2021.head()"
   ]
  },
  {
   "cell_type": "code",
   "execution_count": 194,
   "metadata": {},
   "outputs": [
    {
     "data": {
      "text/html": [
       "<div>\n",
       "<style scoped>\n",
       "    .dataframe tbody tr th:only-of-type {\n",
       "        vertical-align: middle;\n",
       "    }\n",
       "\n",
       "    .dataframe tbody tr th {\n",
       "        vertical-align: top;\n",
       "    }\n",
       "\n",
       "    .dataframe thead th {\n",
       "        text-align: right;\n",
       "    }\n",
       "</style>\n",
       "<table border=\"1\" class=\"dataframe\">\n",
       "  <thead>\n",
       "    <tr style=\"text-align: right;\">\n",
       "      <th></th>\n",
       "      <th>dt</th>\n",
       "      <th>dt_iso</th>\n",
       "      <th>city_name</th>\n",
       "      <th>temp</th>\n",
       "      <th>feels_like</th>\n",
       "      <th>temp_min</th>\n",
       "      <th>temp_max</th>\n",
       "      <th>pressure</th>\n",
       "      <th>sea_level</th>\n",
       "      <th>grnd_level</th>\n",
       "      <th>humidity</th>\n",
       "      <th>wind_speed</th>\n",
       "      <th>rain_1h</th>\n",
       "      <th>clouds_all</th>\n",
       "      <th>weather_description</th>\n",
       "    </tr>\n",
       "  </thead>\n",
       "  <tbody>\n",
       "    <tr>\n",
       "      <th>0</th>\n",
       "      <td>1640995200</td>\n",
       "      <td>2022-01-01 00:00:00 +0000 UTC</td>\n",
       "      <td>local</td>\n",
       "      <td>16.59</td>\n",
       "      <td>16.00</td>\n",
       "      <td>16.21</td>\n",
       "      <td>16.72</td>\n",
       "      <td>1024</td>\n",
       "      <td>NaN</td>\n",
       "      <td>NaN</td>\n",
       "      <td>65</td>\n",
       "      <td>3.15</td>\n",
       "      <td>NaN</td>\n",
       "      <td>97</td>\n",
       "      <td>overcast clouds</td>\n",
       "    </tr>\n",
       "    <tr>\n",
       "      <th>1</th>\n",
       "      <td>1640998800</td>\n",
       "      <td>2022-01-01 01:00:00 +0000 UTC</td>\n",
       "      <td>local</td>\n",
       "      <td>16.59</td>\n",
       "      <td>16.00</td>\n",
       "      <td>16.21</td>\n",
       "      <td>16.72</td>\n",
       "      <td>1024</td>\n",
       "      <td>NaN</td>\n",
       "      <td>NaN</td>\n",
       "      <td>65</td>\n",
       "      <td>3.14</td>\n",
       "      <td>NaN</td>\n",
       "      <td>58</td>\n",
       "      <td>broken clouds</td>\n",
       "    </tr>\n",
       "    <tr>\n",
       "      <th>2</th>\n",
       "      <td>1641002400</td>\n",
       "      <td>2022-01-01 02:00:00 +0000 UTC</td>\n",
       "      <td>local</td>\n",
       "      <td>16.59</td>\n",
       "      <td>16.03</td>\n",
       "      <td>15.67</td>\n",
       "      <td>16.72</td>\n",
       "      <td>1024</td>\n",
       "      <td>NaN</td>\n",
       "      <td>NaN</td>\n",
       "      <td>66</td>\n",
       "      <td>3.12</td>\n",
       "      <td>NaN</td>\n",
       "      <td>23</td>\n",
       "      <td>few clouds</td>\n",
       "    </tr>\n",
       "    <tr>\n",
       "      <th>3</th>\n",
       "      <td>1641006000</td>\n",
       "      <td>2022-01-01 03:00:00 +0000 UTC</td>\n",
       "      <td>local</td>\n",
       "      <td>13.59</td>\n",
       "      <td>12.75</td>\n",
       "      <td>11.61</td>\n",
       "      <td>16.16</td>\n",
       "      <td>1023</td>\n",
       "      <td>NaN</td>\n",
       "      <td>NaN</td>\n",
       "      <td>67</td>\n",
       "      <td>3.08</td>\n",
       "      <td>NaN</td>\n",
       "      <td>22</td>\n",
       "      <td>few clouds</td>\n",
       "    </tr>\n",
       "    <tr>\n",
       "      <th>4</th>\n",
       "      <td>1641009600</td>\n",
       "      <td>2022-01-01 04:00:00 +0000 UTC</td>\n",
       "      <td>local</td>\n",
       "      <td>14.97</td>\n",
       "      <td>14.27</td>\n",
       "      <td>14.72</td>\n",
       "      <td>15.66</td>\n",
       "      <td>1023</td>\n",
       "      <td>NaN</td>\n",
       "      <td>NaN</td>\n",
       "      <td>67</td>\n",
       "      <td>3.12</td>\n",
       "      <td>NaN</td>\n",
       "      <td>15</td>\n",
       "      <td>few clouds</td>\n",
       "    </tr>\n",
       "  </tbody>\n",
       "</table>\n",
       "</div>"
      ],
      "text/plain": [
       "           dt                         dt_iso city_name   temp  feels_like  \\\n",
       "0  1640995200  2022-01-01 00:00:00 +0000 UTC     local  16.59       16.00   \n",
       "1  1640998800  2022-01-01 01:00:00 +0000 UTC     local  16.59       16.00   \n",
       "2  1641002400  2022-01-01 02:00:00 +0000 UTC     local  16.59       16.03   \n",
       "3  1641006000  2022-01-01 03:00:00 +0000 UTC     local  13.59       12.75   \n",
       "4  1641009600  2022-01-01 04:00:00 +0000 UTC     local  14.97       14.27   \n",
       "\n",
       "   temp_min  temp_max  pressure  sea_level  grnd_level  humidity  wind_speed  \\\n",
       "0     16.21     16.72      1024        NaN         NaN        65        3.15   \n",
       "1     16.21     16.72      1024        NaN         NaN        65        3.14   \n",
       "2     15.67     16.72      1024        NaN         NaN        66        3.12   \n",
       "3     11.61     16.16      1023        NaN         NaN        67        3.08   \n",
       "4     14.72     15.66      1023        NaN         NaN        67        3.12   \n",
       "\n",
       "   rain_1h  clouds_all weather_description  \n",
       "0      NaN          97     overcast clouds  \n",
       "1      NaN          58       broken clouds  \n",
       "2      NaN          23          few clouds  \n",
       "3      NaN          22          few clouds  \n",
       "4      NaN          15          few clouds  "
      ]
     },
     "execution_count": 194,
     "metadata": {},
     "output_type": "execute_result"
    }
   ],
   "source": [
    "meteo_2022.head()"
   ]
  },
  {
   "cell_type": "code",
   "execution_count": 195,
   "metadata": {},
   "outputs": [
    {
     "name": "stdout",
     "output_type": "stream",
     "text": [
      "<class 'pandas.core.frame.DataFrame'>\n",
      "RangeIndex: 2928 entries, 0 to 2927\n",
      "Data columns (total 15 columns):\n",
      " #   Column               Non-Null Count  Dtype  \n",
      "---  ------               --------------  -----  \n",
      " 0   dt                   2928 non-null   int64  \n",
      " 1   dt_iso               2928 non-null   object \n",
      " 2   city_name            2928 non-null   object \n",
      " 3   temp                 2928 non-null   float64\n",
      " 4   feels_like           2928 non-null   float64\n",
      " 5   temp_min             2928 non-null   float64\n",
      " 6   temp_max             2928 non-null   float64\n",
      " 7   pressure             2928 non-null   int64  \n",
      " 8   sea_level            0 non-null      float64\n",
      " 9   grnd_level           0 non-null      float64\n",
      " 10  humidity             2928 non-null   int64  \n",
      " 11  wind_speed           2928 non-null   float64\n",
      " 12  rain_1h              537 non-null    float64\n",
      " 13  clouds_all           2928 non-null   int64  \n",
      " 14  weather_description  2928 non-null   object \n",
      "dtypes: float64(8), int64(4), object(3)\n",
      "memory usage: 343.2+ KB\n"
     ]
    }
   ],
   "source": [
    "meteo_2021.info()"
   ]
  },
  {
   "cell_type": "code",
   "execution_count": 196,
   "metadata": {},
   "outputs": [
    {
     "name": "stdout",
     "output_type": "stream",
     "text": [
      "<class 'pandas.core.frame.DataFrame'>\n",
      "RangeIndex: 8760 entries, 0 to 8759\n",
      "Data columns (total 15 columns):\n",
      " #   Column               Non-Null Count  Dtype  \n",
      "---  ------               --------------  -----  \n",
      " 0   dt                   8760 non-null   int64  \n",
      " 1   dt_iso               8760 non-null   object \n",
      " 2   city_name            8760 non-null   object \n",
      " 3   temp                 8760 non-null   float64\n",
      " 4   feels_like           8760 non-null   float64\n",
      " 5   temp_min             8760 non-null   float64\n",
      " 6   temp_max             8760 non-null   float64\n",
      " 7   pressure             8760 non-null   int64  \n",
      " 8   sea_level            0 non-null      float64\n",
      " 9   grnd_level           0 non-null      float64\n",
      " 10  humidity             8760 non-null   int64  \n",
      " 11  wind_speed           8760 non-null   float64\n",
      " 12  rain_1h              1898 non-null   float64\n",
      " 13  clouds_all           8760 non-null   int64  \n",
      " 14  weather_description  8760 non-null   object \n",
      "dtypes: float64(8), int64(4), object(3)\n",
      "memory usage: 1.0+ MB\n"
     ]
    }
   ],
   "source": [
    "meteo_2022.info()"
   ]
  },
  {
   "cell_type": "markdown",
   "metadata": {},
   "source": [
    "#### Full Join dos datasets Meteorologia 2021 e Meteorologia 2022"
   ]
  },
  {
   "cell_type": "code",
   "execution_count": 197,
   "metadata": {},
   "outputs": [
    {
     "name": "stdout",
     "output_type": "stream",
     "text": [
      "<class 'pandas.core.frame.DataFrame'>\n",
      "RangeIndex: 11688 entries, 0 to 11687\n",
      "Data columns (total 15 columns):\n",
      " #   Column               Non-Null Count  Dtype  \n",
      "---  ------               --------------  -----  \n",
      " 0   dt                   11688 non-null  int64  \n",
      " 1   dt_iso               11688 non-null  object \n",
      " 2   city_name            11688 non-null  object \n",
      " 3   temp                 11688 non-null  float64\n",
      " 4   feels_like           11688 non-null  float64\n",
      " 5   temp_min             11688 non-null  float64\n",
      " 6   temp_max             11688 non-null  float64\n",
      " 7   pressure             11688 non-null  int64  \n",
      " 8   sea_level            0 non-null      float64\n",
      " 9   grnd_level           0 non-null      float64\n",
      " 10  humidity             11688 non-null  int64  \n",
      " 11  wind_speed           11688 non-null  float64\n",
      " 12  rain_1h              2435 non-null   float64\n",
      " 13  clouds_all           11688 non-null  int64  \n",
      " 14  weather_description  11688 non-null  object \n",
      "dtypes: float64(8), int64(4), object(3)\n",
      "memory usage: 1.3+ MB\n"
     ]
    }
   ],
   "source": [
    "meteo_21 = meteo_2021.copy()\n",
    "meteo_22 = meteo_2022.copy() \n",
    "meteo = pd.merge(meteo_21, meteo_22, how=\"outer\", on=['dt','dt_iso','city_name','temp', 'feels_like', 'temp_min', 'temp_max' , 'pressure', 'sea_level', 'grnd_level', 'humidity', 'wind_speed', 'rain_1h', 'clouds_all', 'weather_description'])\n",
    "meteo.info()"
   ]
  },
  {
   "cell_type": "markdown",
   "metadata": {},
   "source": [
    "### Inner Join dos datasets Energia e Meteorologia"
   ]
  },
  {
   "cell_type": "markdown",
   "metadata": {},
   "source": [
    "#### Criação de uma coluna Timestamp no Dataset Energia "
   ]
  },
  {
   "cell_type": "markdown",
   "metadata": {},
   "source": [
    "Junção das colunas 'Data' e 'Hora' para criar a coluna 'Data_Hora'"
   ]
  },
  {
   "cell_type": "code",
   "execution_count": 198,
   "metadata": {},
   "outputs": [
    {
     "data": {
      "text/html": [
       "<div>\n",
       "<style scoped>\n",
       "    .dataframe tbody tr th:only-of-type {\n",
       "        vertical-align: middle;\n",
       "    }\n",
       "\n",
       "    .dataframe tbody tr th {\n",
       "        vertical-align: top;\n",
       "    }\n",
       "\n",
       "    .dataframe thead th {\n",
       "        text-align: right;\n",
       "    }\n",
       "</style>\n",
       "<table border=\"1\" class=\"dataframe\">\n",
       "  <thead>\n",
       "    <tr style=\"text-align: right;\">\n",
       "      <th></th>\n",
       "      <th>Data</th>\n",
       "      <th>Hora</th>\n",
       "      <th>Normal (kWh)</th>\n",
       "      <th>Horário Económico (kWh)</th>\n",
       "      <th>Autoconsumo (kWh)</th>\n",
       "      <th>Injeção na rede (kWh)</th>\n",
       "      <th>Data_Hora</th>\n",
       "    </tr>\n",
       "  </thead>\n",
       "  <tbody>\n",
       "    <tr>\n",
       "      <th>0</th>\n",
       "      <td>2021-09-29</td>\n",
       "      <td>0</td>\n",
       "      <td>0.0</td>\n",
       "      <td>0.0</td>\n",
       "      <td>0.0</td>\n",
       "      <td>NaN</td>\n",
       "      <td>2021-09-29:0</td>\n",
       "    </tr>\n",
       "    <tr>\n",
       "      <th>1</th>\n",
       "      <td>2021-09-29</td>\n",
       "      <td>1</td>\n",
       "      <td>0.0</td>\n",
       "      <td>0.0</td>\n",
       "      <td>0.0</td>\n",
       "      <td>NaN</td>\n",
       "      <td>2021-09-29:1</td>\n",
       "    </tr>\n",
       "    <tr>\n",
       "      <th>2</th>\n",
       "      <td>2021-09-29</td>\n",
       "      <td>2</td>\n",
       "      <td>0.0</td>\n",
       "      <td>0.0</td>\n",
       "      <td>0.0</td>\n",
       "      <td>NaN</td>\n",
       "      <td>2021-09-29:2</td>\n",
       "    </tr>\n",
       "    <tr>\n",
       "      <th>3</th>\n",
       "      <td>2021-09-29</td>\n",
       "      <td>3</td>\n",
       "      <td>0.0</td>\n",
       "      <td>0.0</td>\n",
       "      <td>0.0</td>\n",
       "      <td>NaN</td>\n",
       "      <td>2021-09-29:3</td>\n",
       "    </tr>\n",
       "    <tr>\n",
       "      <th>4</th>\n",
       "      <td>2021-09-29</td>\n",
       "      <td>4</td>\n",
       "      <td>0.0</td>\n",
       "      <td>0.0</td>\n",
       "      <td>0.0</td>\n",
       "      <td>NaN</td>\n",
       "      <td>2021-09-29:4</td>\n",
       "    </tr>\n",
       "  </tbody>\n",
       "</table>\n",
       "</div>"
      ],
      "text/plain": [
       "         Data  Hora  Normal (kWh)  Horário Económico (kWh)  Autoconsumo (kWh)  \\\n",
       "0  2021-09-29     0           0.0                      0.0                0.0   \n",
       "1  2021-09-29     1           0.0                      0.0                0.0   \n",
       "2  2021-09-29     2           0.0                      0.0                0.0   \n",
       "3  2021-09-29     3           0.0                      0.0                0.0   \n",
       "4  2021-09-29     4           0.0                      0.0                0.0   \n",
       "\n",
       "  Injeção na rede (kWh)     Data_Hora  \n",
       "0                   NaN  2021-09-29:0  \n",
       "1                   NaN  2021-09-29:1  \n",
       "2                   NaN  2021-09-29:2  \n",
       "3                   NaN  2021-09-29:3  \n",
       "4                   NaN  2021-09-29:4  "
      ]
     },
     "execution_count": 198,
     "metadata": {},
     "output_type": "execute_result"
    }
   ],
   "source": [
    "energia['Data_Hora'] = energia['Data'] + \":\" + energia['Hora'].astype(str)\n",
    "energia.head()"
   ]
  },
  {
   "cell_type": "markdown",
   "metadata": {},
   "source": [
    "Criação da coluna 'dt' com timetamps a partir da coluna 'Data_Hora'"
   ]
  },
  {
   "cell_type": "code",
   "execution_count": 199,
   "metadata": {},
   "outputs": [
    {
     "data": {
      "text/html": [
       "<div>\n",
       "<style scoped>\n",
       "    .dataframe tbody tr th:only-of-type {\n",
       "        vertical-align: middle;\n",
       "    }\n",
       "\n",
       "    .dataframe tbody tr th {\n",
       "        vertical-align: top;\n",
       "    }\n",
       "\n",
       "    .dataframe thead th {\n",
       "        text-align: right;\n",
       "    }\n",
       "</style>\n",
       "<table border=\"1\" class=\"dataframe\">\n",
       "  <thead>\n",
       "    <tr style=\"text-align: right;\">\n",
       "      <th></th>\n",
       "      <th>Data</th>\n",
       "      <th>Hora</th>\n",
       "      <th>Normal (kWh)</th>\n",
       "      <th>Horário Económico (kWh)</th>\n",
       "      <th>Autoconsumo (kWh)</th>\n",
       "      <th>Injeção na rede (kWh)</th>\n",
       "      <th>Data_Hora</th>\n",
       "      <th>dt</th>\n",
       "    </tr>\n",
       "  </thead>\n",
       "  <tbody>\n",
       "    <tr>\n",
       "      <th>0</th>\n",
       "      <td>2021-09-29</td>\n",
       "      <td>0</td>\n",
       "      <td>0.0</td>\n",
       "      <td>0.0</td>\n",
       "      <td>0.0</td>\n",
       "      <td>NaN</td>\n",
       "      <td>2021-09-29:0</td>\n",
       "      <td>1632873600</td>\n",
       "    </tr>\n",
       "    <tr>\n",
       "      <th>1</th>\n",
       "      <td>2021-09-29</td>\n",
       "      <td>1</td>\n",
       "      <td>0.0</td>\n",
       "      <td>0.0</td>\n",
       "      <td>0.0</td>\n",
       "      <td>NaN</td>\n",
       "      <td>2021-09-29:1</td>\n",
       "      <td>1632877200</td>\n",
       "    </tr>\n",
       "    <tr>\n",
       "      <th>2</th>\n",
       "      <td>2021-09-29</td>\n",
       "      <td>2</td>\n",
       "      <td>0.0</td>\n",
       "      <td>0.0</td>\n",
       "      <td>0.0</td>\n",
       "      <td>NaN</td>\n",
       "      <td>2021-09-29:2</td>\n",
       "      <td>1632880800</td>\n",
       "    </tr>\n",
       "    <tr>\n",
       "      <th>3</th>\n",
       "      <td>2021-09-29</td>\n",
       "      <td>3</td>\n",
       "      <td>0.0</td>\n",
       "      <td>0.0</td>\n",
       "      <td>0.0</td>\n",
       "      <td>NaN</td>\n",
       "      <td>2021-09-29:3</td>\n",
       "      <td>1632884400</td>\n",
       "    </tr>\n",
       "    <tr>\n",
       "      <th>4</th>\n",
       "      <td>2021-09-29</td>\n",
       "      <td>4</td>\n",
       "      <td>0.0</td>\n",
       "      <td>0.0</td>\n",
       "      <td>0.0</td>\n",
       "      <td>NaN</td>\n",
       "      <td>2021-09-29:4</td>\n",
       "      <td>1632888000</td>\n",
       "    </tr>\n",
       "  </tbody>\n",
       "</table>\n",
       "</div>"
      ],
      "text/plain": [
       "         Data  Hora  Normal (kWh)  Horário Económico (kWh)  Autoconsumo (kWh)  \\\n",
       "0  2021-09-29     0           0.0                      0.0                0.0   \n",
       "1  2021-09-29     1           0.0                      0.0                0.0   \n",
       "2  2021-09-29     2           0.0                      0.0                0.0   \n",
       "3  2021-09-29     3           0.0                      0.0                0.0   \n",
       "4  2021-09-29     4           0.0                      0.0                0.0   \n",
       "\n",
       "  Injeção na rede (kWh)     Data_Hora          dt  \n",
       "0                   NaN  2021-09-29:0  1632873600  \n",
       "1                   NaN  2021-09-29:1  1632877200  \n",
       "2                   NaN  2021-09-29:2  1632880800  \n",
       "3                   NaN  2021-09-29:3  1632884400  \n",
       "4                   NaN  2021-09-29:4  1632888000  "
      ]
     },
     "execution_count": 199,
     "metadata": {},
     "output_type": "execute_result"
    }
   ],
   "source": [
    "energia['dt'] = energia['Data_Hora'].apply(lambda x: pd.to_datetime(x,format='%Y-%m-%d:%H').timestamp()).astype('int64')\n",
    "energia.head()"
   ]
  },
  {
   "cell_type": "markdown",
   "metadata": {},
   "source": [
    "Provar que ambas as colunas são iguais"
   ]
  },
  {
   "cell_type": "code",
   "execution_count": 200,
   "metadata": {},
   "outputs": [],
   "source": [
    "energia_1 = energia.copy()"
   ]
  },
  {
   "cell_type": "code",
   "execution_count": 201,
   "metadata": {},
   "outputs": [
    {
     "data": {
      "text/html": [
       "<div>\n",
       "<style scoped>\n",
       "    .dataframe tbody tr th:only-of-type {\n",
       "        vertical-align: middle;\n",
       "    }\n",
       "\n",
       "    .dataframe tbody tr th {\n",
       "        vertical-align: top;\n",
       "    }\n",
       "\n",
       "    .dataframe thead th {\n",
       "        text-align: right;\n",
       "    }\n",
       "</style>\n",
       "<table border=\"1\" class=\"dataframe\">\n",
       "  <thead>\n",
       "    <tr style=\"text-align: right;\">\n",
       "      <th></th>\n",
       "      <th>Data</th>\n",
       "      <th>Hora</th>\n",
       "      <th>Normal (kWh)</th>\n",
       "      <th>Horário Económico (kWh)</th>\n",
       "      <th>Autoconsumo (kWh)</th>\n",
       "      <th>Injeção na rede (kWh)</th>\n",
       "      <th>Data_Hora</th>\n",
       "      <th>dt</th>\n",
       "    </tr>\n",
       "  </thead>\n",
       "  <tbody>\n",
       "    <tr>\n",
       "      <th>0</th>\n",
       "      <td>2021-09-29</td>\n",
       "      <td>0</td>\n",
       "      <td>0.0</td>\n",
       "      <td>0.0</td>\n",
       "      <td>0.0</td>\n",
       "      <td>NaN</td>\n",
       "      <td>2021-09-29:0</td>\n",
       "      <td>2021-09-29 00:00:00+00:00</td>\n",
       "    </tr>\n",
       "    <tr>\n",
       "      <th>1</th>\n",
       "      <td>2021-09-29</td>\n",
       "      <td>1</td>\n",
       "      <td>0.0</td>\n",
       "      <td>0.0</td>\n",
       "      <td>0.0</td>\n",
       "      <td>NaN</td>\n",
       "      <td>2021-09-29:1</td>\n",
       "      <td>2021-09-29 01:00:00+00:00</td>\n",
       "    </tr>\n",
       "    <tr>\n",
       "      <th>2</th>\n",
       "      <td>2021-09-29</td>\n",
       "      <td>2</td>\n",
       "      <td>0.0</td>\n",
       "      <td>0.0</td>\n",
       "      <td>0.0</td>\n",
       "      <td>NaN</td>\n",
       "      <td>2021-09-29:2</td>\n",
       "      <td>2021-09-29 02:00:00+00:00</td>\n",
       "    </tr>\n",
       "    <tr>\n",
       "      <th>3</th>\n",
       "      <td>2021-09-29</td>\n",
       "      <td>3</td>\n",
       "      <td>0.0</td>\n",
       "      <td>0.0</td>\n",
       "      <td>0.0</td>\n",
       "      <td>NaN</td>\n",
       "      <td>2021-09-29:3</td>\n",
       "      <td>2021-09-29 03:00:00+00:00</td>\n",
       "    </tr>\n",
       "    <tr>\n",
       "      <th>4</th>\n",
       "      <td>2021-09-29</td>\n",
       "      <td>4</td>\n",
       "      <td>0.0</td>\n",
       "      <td>0.0</td>\n",
       "      <td>0.0</td>\n",
       "      <td>NaN</td>\n",
       "      <td>2021-09-29:4</td>\n",
       "      <td>2021-09-29 04:00:00+00:00</td>\n",
       "    </tr>\n",
       "  </tbody>\n",
       "</table>\n",
       "</div>"
      ],
      "text/plain": [
       "         Data  Hora  Normal (kWh)  Horário Económico (kWh)  Autoconsumo (kWh)  \\\n",
       "0  2021-09-29     0           0.0                      0.0                0.0   \n",
       "1  2021-09-29     1           0.0                      0.0                0.0   \n",
       "2  2021-09-29     2           0.0                      0.0                0.0   \n",
       "3  2021-09-29     3           0.0                      0.0                0.0   \n",
       "4  2021-09-29     4           0.0                      0.0                0.0   \n",
       "\n",
       "  Injeção na rede (kWh)     Data_Hora                        dt  \n",
       "0                   NaN  2021-09-29:0 2021-09-29 00:00:00+00:00  \n",
       "1                   NaN  2021-09-29:1 2021-09-29 01:00:00+00:00  \n",
       "2                   NaN  2021-09-29:2 2021-09-29 02:00:00+00:00  \n",
       "3                   NaN  2021-09-29:3 2021-09-29 03:00:00+00:00  \n",
       "4                   NaN  2021-09-29:4 2021-09-29 04:00:00+00:00  "
      ]
     },
     "execution_count": 201,
     "metadata": {},
     "output_type": "execute_result"
    }
   ],
   "source": [
    "# Converter para datetime a coluna dt\n",
    "energia_1['dt'] = pd.to_datetime(energia_1['dt'], unit='s', utc=True)\n",
    "energia_1.head()"
   ]
  },
  {
   "cell_type": "code",
   "execution_count": 202,
   "metadata": {},
   "outputs": [],
   "source": [
    "# Criação de duas colunas, Data2 e Hora2, a partir da coluna dt\n",
    "energia_1[\"Data2\"] = energia_1[\"dt\"].dt.date.astype(\"datetime64[ns]\")\n",
    "assert energia_1['Data2'].isnull().sum() == 0, 'missing Data'\n",
    "\n",
    "energia_1[\"Hora2\"] = energia_1[\"dt\"].dt.hour.astype('int64')\n",
    "assert energia_1['Hora2'].isnull().sum() == 0, 'missing Data'    # acho que isto só faz senti com o errors='coerce'\n",
    "\n",
    "# Converte a coluna Data para o tipo datetime para futura comparação com a coluna Data2\n",
    "energia_1[\"Data\"] = energia_1[\"Data\"].astype(\"datetime64[ns]\")"
   ]
  },
  {
   "cell_type": "code",
   "execution_count": 203,
   "metadata": {},
   "outputs": [
    {
     "name": "stdout",
     "output_type": "stream",
     "text": [
      "True\n",
      "True\n"
     ]
    }
   ],
   "source": [
    "# Verificar se as colunas são exatamente iguais\n",
    "print(energia_1['Data2'].equals(energia_1['Data']))\n",
    "print(energia_1['Hora2'].equals(energia_1['Hora']))"
   ]
  },
  {
   "cell_type": "markdown",
   "metadata": {},
   "source": [
    "Junção dos dataset Energia e Meteorologia utilizando a coluna 'dt'"
   ]
  },
  {
   "cell_type": "code",
   "execution_count": 204,
   "metadata": {},
   "outputs": [],
   "source": [
    "e_m = pd.merge(meteo, energia, how=\"inner\", on= 'dt')"
   ]
  },
  {
   "cell_type": "markdown",
   "metadata": {},
   "source": [
    "Conversão da coluna 'dt' de segundos para horas de forma a diminuir o intervalo de valores comparativamente às restantes features"
   ]
  },
  {
   "cell_type": "code",
   "execution_count": 205,
   "metadata": {},
   "outputs": [],
   "source": [
    "def seconds_to_hours(x):\n",
    "    return x / 3600"
   ]
  },
  {
   "cell_type": "code",
   "execution_count": 206,
   "metadata": {},
   "outputs": [],
   "source": [
    "#e_m['dt'] = e_m['dt'].apply(lambda x: seconds_to_hours(x))\n",
    "#e_m.describe()"
   ]
  },
  {
   "cell_type": "markdown",
   "metadata": {},
   "source": [
    "### Análise dos Dados do novo dataset"
   ]
  },
  {
   "cell_type": "code",
   "execution_count": 207,
   "metadata": {},
   "outputs": [
    {
     "data": {
      "text/html": [
       "<div>\n",
       "<style scoped>\n",
       "    .dataframe tbody tr th:only-of-type {\n",
       "        vertical-align: middle;\n",
       "    }\n",
       "\n",
       "    .dataframe tbody tr th {\n",
       "        vertical-align: top;\n",
       "    }\n",
       "\n",
       "    .dataframe thead th {\n",
       "        text-align: right;\n",
       "    }\n",
       "</style>\n",
       "<table border=\"1\" class=\"dataframe\">\n",
       "  <thead>\n",
       "    <tr style=\"text-align: right;\">\n",
       "      <th></th>\n",
       "      <th>dt</th>\n",
       "      <th>dt_iso</th>\n",
       "      <th>city_name</th>\n",
       "      <th>temp</th>\n",
       "      <th>feels_like</th>\n",
       "      <th>temp_min</th>\n",
       "      <th>temp_max</th>\n",
       "      <th>pressure</th>\n",
       "      <th>sea_level</th>\n",
       "      <th>grnd_level</th>\n",
       "      <th>...</th>\n",
       "      <th>rain_1h</th>\n",
       "      <th>clouds_all</th>\n",
       "      <th>weather_description</th>\n",
       "      <th>Data</th>\n",
       "      <th>Hora</th>\n",
       "      <th>Normal (kWh)</th>\n",
       "      <th>Horário Económico (kWh)</th>\n",
       "      <th>Autoconsumo (kWh)</th>\n",
       "      <th>Injeção na rede (kWh)</th>\n",
       "      <th>Data_Hora</th>\n",
       "    </tr>\n",
       "  </thead>\n",
       "  <tbody>\n",
       "    <tr>\n",
       "      <th>0</th>\n",
       "      <td>1632873600</td>\n",
       "      <td>2021-09-29 00:00:00 +0000 UTC</td>\n",
       "      <td>local</td>\n",
       "      <td>13.97</td>\n",
       "      <td>13.54</td>\n",
       "      <td>11.45</td>\n",
       "      <td>14.04</td>\n",
       "      <td>1027</td>\n",
       "      <td>NaN</td>\n",
       "      <td>NaN</td>\n",
       "      <td>...</td>\n",
       "      <td>NaN</td>\n",
       "      <td>87</td>\n",
       "      <td>overcast clouds</td>\n",
       "      <td>2021-09-29</td>\n",
       "      <td>0</td>\n",
       "      <td>0.0</td>\n",
       "      <td>0.0</td>\n",
       "      <td>0.0</td>\n",
       "      <td>NaN</td>\n",
       "      <td>2021-09-29:0</td>\n",
       "    </tr>\n",
       "    <tr>\n",
       "      <th>1</th>\n",
       "      <td>1632877200</td>\n",
       "      <td>2021-09-29 01:00:00 +0000 UTC</td>\n",
       "      <td>local</td>\n",
       "      <td>13.48</td>\n",
       "      <td>13.02</td>\n",
       "      <td>13.43</td>\n",
       "      <td>13.90</td>\n",
       "      <td>1028</td>\n",
       "      <td>NaN</td>\n",
       "      <td>NaN</td>\n",
       "      <td>...</td>\n",
       "      <td>NaN</td>\n",
       "      <td>91</td>\n",
       "      <td>overcast clouds</td>\n",
       "      <td>2021-09-29</td>\n",
       "      <td>1</td>\n",
       "      <td>0.0</td>\n",
       "      <td>0.0</td>\n",
       "      <td>0.0</td>\n",
       "      <td>NaN</td>\n",
       "      <td>2021-09-29:1</td>\n",
       "    </tr>\n",
       "    <tr>\n",
       "      <th>2</th>\n",
       "      <td>1632880800</td>\n",
       "      <td>2021-09-29 02:00:00 +0000 UTC</td>\n",
       "      <td>local</td>\n",
       "      <td>12.93</td>\n",
       "      <td>12.47</td>\n",
       "      <td>12.72</td>\n",
       "      <td>13.43</td>\n",
       "      <td>1027</td>\n",
       "      <td>NaN</td>\n",
       "      <td>NaN</td>\n",
       "      <td>...</td>\n",
       "      <td>NaN</td>\n",
       "      <td>93</td>\n",
       "      <td>overcast clouds</td>\n",
       "      <td>2021-09-29</td>\n",
       "      <td>2</td>\n",
       "      <td>0.0</td>\n",
       "      <td>0.0</td>\n",
       "      <td>0.0</td>\n",
       "      <td>NaN</td>\n",
       "      <td>2021-09-29:2</td>\n",
       "    </tr>\n",
       "    <tr>\n",
       "      <th>3</th>\n",
       "      <td>1632884400</td>\n",
       "      <td>2021-09-29 03:00:00 +0000 UTC</td>\n",
       "      <td>local</td>\n",
       "      <td>12.61</td>\n",
       "      <td>12.15</td>\n",
       "      <td>10.34</td>\n",
       "      <td>12.93</td>\n",
       "      <td>1027</td>\n",
       "      <td>NaN</td>\n",
       "      <td>NaN</td>\n",
       "      <td>...</td>\n",
       "      <td>NaN</td>\n",
       "      <td>95</td>\n",
       "      <td>overcast clouds</td>\n",
       "      <td>2021-09-29</td>\n",
       "      <td>3</td>\n",
       "      <td>0.0</td>\n",
       "      <td>0.0</td>\n",
       "      <td>0.0</td>\n",
       "      <td>NaN</td>\n",
       "      <td>2021-09-29:3</td>\n",
       "    </tr>\n",
       "    <tr>\n",
       "      <th>4</th>\n",
       "      <td>1632888000</td>\n",
       "      <td>2021-09-29 04:00:00 +0000 UTC</td>\n",
       "      <td>local</td>\n",
       "      <td>12.61</td>\n",
       "      <td>12.17</td>\n",
       "      <td>9.79</td>\n",
       "      <td>12.93</td>\n",
       "      <td>1027</td>\n",
       "      <td>NaN</td>\n",
       "      <td>NaN</td>\n",
       "      <td>...</td>\n",
       "      <td>NaN</td>\n",
       "      <td>93</td>\n",
       "      <td>overcast clouds</td>\n",
       "      <td>2021-09-29</td>\n",
       "      <td>4</td>\n",
       "      <td>0.0</td>\n",
       "      <td>0.0</td>\n",
       "      <td>0.0</td>\n",
       "      <td>NaN</td>\n",
       "      <td>2021-09-29:4</td>\n",
       "    </tr>\n",
       "  </tbody>\n",
       "</table>\n",
       "<p>5 rows × 22 columns</p>\n",
       "</div>"
      ],
      "text/plain": [
       "           dt                         dt_iso city_name   temp  feels_like  \\\n",
       "0  1632873600  2021-09-29 00:00:00 +0000 UTC     local  13.97       13.54   \n",
       "1  1632877200  2021-09-29 01:00:00 +0000 UTC     local  13.48       13.02   \n",
       "2  1632880800  2021-09-29 02:00:00 +0000 UTC     local  12.93       12.47   \n",
       "3  1632884400  2021-09-29 03:00:00 +0000 UTC     local  12.61       12.15   \n",
       "4  1632888000  2021-09-29 04:00:00 +0000 UTC     local  12.61       12.17   \n",
       "\n",
       "   temp_min  temp_max  pressure  sea_level  grnd_level  ...  rain_1h  \\\n",
       "0     11.45     14.04      1027        NaN         NaN  ...      NaN   \n",
       "1     13.43     13.90      1028        NaN         NaN  ...      NaN   \n",
       "2     12.72     13.43      1027        NaN         NaN  ...      NaN   \n",
       "3     10.34     12.93      1027        NaN         NaN  ...      NaN   \n",
       "4      9.79     12.93      1027        NaN         NaN  ...      NaN   \n",
       "\n",
       "   clouds_all  weather_description        Data Hora Normal (kWh)  \\\n",
       "0          87      overcast clouds  2021-09-29    0          0.0   \n",
       "1          91      overcast clouds  2021-09-29    1          0.0   \n",
       "2          93      overcast clouds  2021-09-29    2          0.0   \n",
       "3          95      overcast clouds  2021-09-29    3          0.0   \n",
       "4          93      overcast clouds  2021-09-29    4          0.0   \n",
       "\n",
       "   Horário Económico (kWh)  Autoconsumo (kWh)  Injeção na rede (kWh)  \\\n",
       "0                      0.0                0.0                    NaN   \n",
       "1                      0.0                0.0                    NaN   \n",
       "2                      0.0                0.0                    NaN   \n",
       "3                      0.0                0.0                    NaN   \n",
       "4                      0.0                0.0                    NaN   \n",
       "\n",
       "      Data_Hora  \n",
       "0  2021-09-29:0  \n",
       "1  2021-09-29:1  \n",
       "2  2021-09-29:2  \n",
       "3  2021-09-29:3  \n",
       "4  2021-09-29:4  \n",
       "\n",
       "[5 rows x 22 columns]"
      ]
     },
     "execution_count": 207,
     "metadata": {},
     "output_type": "execute_result"
    }
   ],
   "source": [
    "e_m.head()"
   ]
  },
  {
   "cell_type": "code",
   "execution_count": 208,
   "metadata": {},
   "outputs": [
    {
     "name": "stdout",
     "output_type": "stream",
     "text": [
      "<class 'pandas.core.frame.DataFrame'>\n",
      "RangeIndex: 11016 entries, 0 to 11015\n",
      "Data columns (total 22 columns):\n",
      " #   Column                   Non-Null Count  Dtype  \n",
      "---  ------                   --------------  -----  \n",
      " 0   dt                       11016 non-null  int64  \n",
      " 1   dt_iso                   11016 non-null  object \n",
      " 2   city_name                11016 non-null  object \n",
      " 3   temp                     11016 non-null  float64\n",
      " 4   feels_like               11016 non-null  float64\n",
      " 5   temp_min                 11016 non-null  float64\n",
      " 6   temp_max                 11016 non-null  float64\n",
      " 7   pressure                 11016 non-null  int64  \n",
      " 8   sea_level                0 non-null      float64\n",
      " 9   grnd_level               0 non-null      float64\n",
      " 10  humidity                 11016 non-null  int64  \n",
      " 11  wind_speed               11016 non-null  float64\n",
      " 12  rain_1h                  2284 non-null   float64\n",
      " 13  clouds_all               11016 non-null  int64  \n",
      " 14  weather_description      11016 non-null  object \n",
      " 15  Data                     11016 non-null  object \n",
      " 16  Hora                     11016 non-null  int64  \n",
      " 17  Normal (kWh)             11016 non-null  float64\n",
      " 18  Horário Económico (kWh)  11016 non-null  float64\n",
      " 19  Autoconsumo (kWh)        11016 non-null  float64\n",
      " 20  Injeção na rede (kWh)    3239 non-null   object \n",
      " 21  Data_Hora                11016 non-null  object \n",
      "dtypes: float64(11), int64(5), object(6)\n",
      "memory usage: 1.8+ MB\n"
     ]
    }
   ],
   "source": [
    "e_m.info()"
   ]
  },
  {
   "cell_type": "code",
   "execution_count": 209,
   "metadata": {},
   "outputs": [
    {
     "name": "stdout",
     "output_type": "stream",
     "text": [
      "dt                             0\n",
      "dt_iso                         0\n",
      "city_name                      0\n",
      "temp                           0\n",
      "feels_like                     0\n",
      "temp_min                       0\n",
      "temp_max                       0\n",
      "pressure                       0\n",
      "sea_level                  11016\n",
      "grnd_level                 11016\n",
      "humidity                       0\n",
      "wind_speed                     0\n",
      "rain_1h                     8732\n",
      "clouds_all                     0\n",
      "weather_description            0\n",
      "Data                           0\n",
      "Hora                           0\n",
      "Normal (kWh)                   0\n",
      "Horário Económico (kWh)        0\n",
      "Autoconsumo (kWh)              0\n",
      "Injeção na rede (kWh)       7777\n",
      "Data_Hora                      0\n",
      "dtype: int64\n"
     ]
    }
   ],
   "source": [
    "'''\n",
    "Verificar a quantidade de Missing Values no dataset\n",
    "'''\n",
    "print(e_m.isnull().sum()) "
   ]
  },
  {
   "cell_type": "code",
   "execution_count": 210,
   "metadata": {},
   "outputs": [
    {
     "data": {
      "text/plain": [
       "<Axes: >"
      ]
     },
     "execution_count": 210,
     "metadata": {},
     "output_type": "execute_result"
    },
    {
     "data": {
      "image/png": "[encoded data removed]",
      "text/plain": [
       "<Figure size 640x480 with 1 Axes>"
      ]
     },
     "metadata": {},
     "output_type": "display_data"
    }
   ],
   "source": [
    "sns.heatmap(e_m.isnull(),yticklabels=False,cbar=False,cmap='viridis')\n"
   ]
  },
  {
   "cell_type": "code",
   "execution_count": 211,
   "metadata": {},
   "outputs": [
    {
     "data": {
      "text/plain": [
       "dt                         11016\n",
       "dt_iso                     11016\n",
       "city_name                      1\n",
       "temp                        2382\n",
       "feels_like                  2670\n",
       "temp_min                     481\n",
       "temp_max                     545\n",
       "pressure                      41\n",
       "sea_level                      0\n",
       "grnd_level                     0\n",
       "humidity                      82\n",
       "wind_speed                   771\n",
       "rain_1h                      367\n",
       "clouds_all                   101\n",
       "weather_description            8\n",
       "Data                         459\n",
       "Hora                          24\n",
       "Normal (kWh)                1282\n",
       "Horário Económico (kWh)      851\n",
       "Autoconsumo (kWh)            752\n",
       "Injeção na rede (kWh)          4\n",
       "Data_Hora                  11016\n",
       "dtype: int64"
      ]
     },
     "execution_count": 211,
     "metadata": {},
     "output_type": "execute_result"
    }
   ],
   "source": [
    "'''\n",
    "Verificar a quantidade de valores únicos em cada feature\n",
    "'''\n",
    "e_m.nunique()"
   ]
  },
  {
   "cell_type": "code",
   "execution_count": 212,
   "metadata": {},
   "outputs": [
    {
     "data": {
      "image/png": "[encoded data removed]",
      "text/plain": [
       "<Figure size 640x480 with 1 Axes>"
      ]
     },
     "metadata": {},
     "output_type": "display_data"
    }
   ],
   "source": [
    "'''\n",
    "Analisar a feature \"Injeção na Rede\"\n",
    "'''\n",
    "\n",
    "e_m_count = e_m[\"Injeção na rede (kWh)\"].value_counts()\n",
    "sns.set(style=\"darkgrid\")\n",
    "sns.barplot(x=e_m_count.index, y=e_m_count.values)\n",
    "plt.title('')\n",
    "plt.ylabel('Número de Ocorrências', fontsize=12)\n",
    "plt.xlabel('Energia Injetada na Rede', fontsize=12)\n",
    "plt.show()"
   ]
  },
  {
   "cell_type": "code",
   "execution_count": 213,
   "metadata": {},
   "outputs": [
    {
     "data": {
      "text/html": [
       "<div>\n",
       "<style scoped>\n",
       "    .dataframe tbody tr th:only-of-type {\n",
       "        vertical-align: middle;\n",
       "    }\n",
       "\n",
       "    .dataframe tbody tr th {\n",
       "        vertical-align: top;\n",
       "    }\n",
       "\n",
       "    .dataframe thead th {\n",
       "        text-align: right;\n",
       "    }\n",
       "</style>\n",
       "<table border=\"1\" class=\"dataframe\">\n",
       "  <thead>\n",
       "    <tr style=\"text-align: right;\">\n",
       "      <th></th>\n",
       "      <th>dt</th>\n",
       "      <th>temp</th>\n",
       "      <th>feels_like</th>\n",
       "      <th>temp_min</th>\n",
       "      <th>temp_max</th>\n",
       "      <th>pressure</th>\n",
       "      <th>sea_level</th>\n",
       "      <th>grnd_level</th>\n",
       "      <th>humidity</th>\n",
       "      <th>wind_speed</th>\n",
       "      <th>rain_1h</th>\n",
       "      <th>clouds_all</th>\n",
       "      <th>Hora</th>\n",
       "      <th>Normal (kWh)</th>\n",
       "      <th>Horário Económico (kWh)</th>\n",
       "      <th>Autoconsumo (kWh)</th>\n",
       "    </tr>\n",
       "  </thead>\n",
       "  <tbody>\n",
       "    <tr>\n",
       "      <th>count</th>\n",
       "      <td>1.101600e+04</td>\n",
       "      <td>11016.000000</td>\n",
       "      <td>11016.000000</td>\n",
       "      <td>11016.000000</td>\n",
       "      <td>11016.000000</td>\n",
       "      <td>11016.000000</td>\n",
       "      <td>0.0</td>\n",
       "      <td>0.0</td>\n",
       "      <td>11016.000000</td>\n",
       "      <td>11016.000000</td>\n",
       "      <td>2284.000000</td>\n",
       "      <td>11016.000000</td>\n",
       "      <td>11016.000000</td>\n",
       "      <td>11016.000000</td>\n",
       "      <td>11016.000000</td>\n",
       "      <td>11016.000000</td>\n",
       "    </tr>\n",
       "    <tr>\n",
       "      <th>mean</th>\n",
       "      <td>1.652701e+09</td>\n",
       "      <td>16.182991</td>\n",
       "      <td>15.826868</td>\n",
       "      <td>14.195064</td>\n",
       "      <td>17.288098</td>\n",
       "      <td>1018.396605</td>\n",
       "      <td>NaN</td>\n",
       "      <td>NaN</td>\n",
       "      <td>76.570715</td>\n",
       "      <td>2.672039</td>\n",
       "      <td>0.896642</td>\n",
       "      <td>54.000908</td>\n",
       "      <td>11.500000</td>\n",
       "      <td>0.202278</td>\n",
       "      <td>0.159714</td>\n",
       "      <td>0.117314</td>\n",
       "    </tr>\n",
       "    <tr>\n",
       "      <th>std</th>\n",
       "      <td>1.144868e+07</td>\n",
       "      <td>5.756972</td>\n",
       "      <td>6.264860</td>\n",
       "      <td>4.956014</td>\n",
       "      <td>6.164689</td>\n",
       "      <td>6.203379</td>\n",
       "      <td>NaN</td>\n",
       "      <td>NaN</td>\n",
       "      <td>16.268260</td>\n",
       "      <td>1.476158</td>\n",
       "      <td>1.079381</td>\n",
       "      <td>40.553002</td>\n",
       "      <td>6.922501</td>\n",
       "      <td>0.349478</td>\n",
       "      <td>0.271792</td>\n",
       "      <td>0.176762</td>\n",
       "    </tr>\n",
       "    <tr>\n",
       "      <th>min</th>\n",
       "      <td>1.632874e+09</td>\n",
       "      <td>0.320000</td>\n",
       "      <td>-2.190000</td>\n",
       "      <td>-0.640000</td>\n",
       "      <td>1.330000</td>\n",
       "      <td>994.000000</td>\n",
       "      <td>NaN</td>\n",
       "      <td>NaN</td>\n",
       "      <td>19.000000</td>\n",
       "      <td>0.060000</td>\n",
       "      <td>0.100000</td>\n",
       "      <td>0.000000</td>\n",
       "      <td>0.000000</td>\n",
       "      <td>0.000000</td>\n",
       "      <td>0.000000</td>\n",
       "      <td>0.000000</td>\n",
       "    </tr>\n",
       "    <tr>\n",
       "      <th>25%</th>\n",
       "      <td>1.642787e+09</td>\n",
       "      <td>12.080000</td>\n",
       "      <td>11.507500</td>\n",
       "      <td>10.720000</td>\n",
       "      <td>12.890000</td>\n",
       "      <td>1015.000000</td>\n",
       "      <td>NaN</td>\n",
       "      <td>NaN</td>\n",
       "      <td>66.000000</td>\n",
       "      <td>1.620000</td>\n",
       "      <td>0.210000</td>\n",
       "      <td>7.000000</td>\n",
       "      <td>5.750000</td>\n",
       "      <td>0.000000</td>\n",
       "      <td>0.000000</td>\n",
       "      <td>0.000000</td>\n",
       "    </tr>\n",
       "    <tr>\n",
       "      <th>50%</th>\n",
       "      <td>1.652701e+09</td>\n",
       "      <td>15.625000</td>\n",
       "      <td>15.230000</td>\n",
       "      <td>14.230000</td>\n",
       "      <td>16.260000</td>\n",
       "      <td>1018.000000</td>\n",
       "      <td>NaN</td>\n",
       "      <td>NaN</td>\n",
       "      <td>81.000000</td>\n",
       "      <td>2.400000</td>\n",
       "      <td>0.460000</td>\n",
       "      <td>60.000000</td>\n",
       "      <td>11.500000</td>\n",
       "      <td>0.000000</td>\n",
       "      <td>0.000000</td>\n",
       "      <td>0.000000</td>\n",
       "    </tr>\n",
       "    <tr>\n",
       "      <th>75%</th>\n",
       "      <td>1.662614e+09</td>\n",
       "      <td>19.270000</td>\n",
       "      <td>19.260000</td>\n",
       "      <td>17.490000</td>\n",
       "      <td>20.340000</td>\n",
       "      <td>1022.000000</td>\n",
       "      <td>NaN</td>\n",
       "      <td>NaN</td>\n",
       "      <td>91.000000</td>\n",
       "      <td>3.420000</td>\n",
       "      <td>1.092500</td>\n",
       "      <td>98.000000</td>\n",
       "      <td>17.250000</td>\n",
       "      <td>0.314000</td>\n",
       "      <td>0.288000</td>\n",
       "      <td>0.227000</td>\n",
       "    </tr>\n",
       "    <tr>\n",
       "      <th>max</th>\n",
       "      <td>1.672528e+09</td>\n",
       "      <td>40.850000</td>\n",
       "      <td>41.330000</td>\n",
       "      <td>36.720000</td>\n",
       "      <td>41.450000</td>\n",
       "      <td>1034.000000</td>\n",
       "      <td>NaN</td>\n",
       "      <td>NaN</td>\n",
       "      <td>100.000000</td>\n",
       "      <td>11.100000</td>\n",
       "      <td>7.450000</td>\n",
       "      <td>100.000000</td>\n",
       "      <td>23.000000</td>\n",
       "      <td>3.251000</td>\n",
       "      <td>6.978000</td>\n",
       "      <td>1.192000</td>\n",
       "    </tr>\n",
       "  </tbody>\n",
       "</table>\n",
       "</div>"
      ],
      "text/plain": [
       "                 dt          temp    feels_like      temp_min      temp_max  \\\n",
       "count  1.101600e+04  11016.000000  11016.000000  11016.000000  11016.000000   \n",
       "mean   1.652701e+09     16.182991     15.826868     14.195064     17.288098   \n",
       "std    1.144868e+07      5.756972      6.264860      4.956014      6.164689   \n",
       "min    1.632874e+09      0.320000     -2.190000     -0.640000      1.330000   \n",
       "25%    1.642787e+09     12.080000     11.507500     10.720000     12.890000   \n",
       "50%    1.652701e+09     15.625000     15.230000     14.230000     16.260000   \n",
       "75%    1.662614e+09     19.270000     19.260000     17.490000     20.340000   \n",
       "max    1.672528e+09     40.850000     41.330000     36.720000     41.450000   \n",
       "\n",
       "           pressure  sea_level  grnd_level      humidity    wind_speed  \\\n",
       "count  11016.000000        0.0         0.0  11016.000000  11016.000000   \n",
       "mean    1018.396605        NaN         NaN     76.570715      2.672039   \n",
       "std        6.203379        NaN         NaN     16.268260      1.476158   \n",
       "min      994.000000        NaN         NaN     19.000000      0.060000   \n",
       "25%     1015.000000        NaN         NaN     66.000000      1.620000   \n",
       "50%     1018.000000        NaN         NaN     81.000000      2.400000   \n",
       "75%     1022.000000        NaN         NaN     91.000000      3.420000   \n",
       "max     1034.000000        NaN         NaN    100.000000     11.100000   \n",
       "\n",
       "           rain_1h    clouds_all          Hora  Normal (kWh)  \\\n",
       "count  2284.000000  11016.000000  11016.000000  11016.000000   \n",
       "mean      0.896642     54.000908     11.500000      0.202278   \n",
       "std       1.079381     40.553002      6.922501      0.349478   \n",
       "min       0.100000      0.000000      0.000000      0.000000   \n",
       "25%       0.210000      7.000000      5.750000      0.000000   \n",
       "50%       0.460000     60.000000     11.500000      0.000000   \n",
       "75%       1.092500     98.000000     17.250000      0.314000   \n",
       "max       7.450000    100.000000     23.000000      3.251000   \n",
       "\n",
       "       Horário Económico (kWh)  Autoconsumo (kWh)  \n",
       "count             11016.000000       11016.000000  \n",
       "mean                  0.159714           0.117314  \n",
       "std                   0.271792           0.176762  \n",
       "min                   0.000000           0.000000  \n",
       "25%                   0.000000           0.000000  \n",
       "50%                   0.000000           0.000000  \n",
       "75%                   0.288000           0.227000  \n",
       "max                   6.978000           1.192000  "
      ]
     },
     "execution_count": 213,
     "metadata": {},
     "output_type": "execute_result"
    }
   ],
   "source": [
    "e_m.describe()"
   ]
  },
  {
   "cell_type": "code",
   "execution_count": 214,
   "metadata": {},
   "outputs": [],
   "source": [
    "#print(f\"Skewness: \\n{e_m.skew()}\")\n",
    "#print(f\"\\nKurtosis: \\n{e_m.kurt()}\")"
   ]
  },
  {
   "cell_type": "markdown",
   "metadata": {},
   "source": [
    "## Tratamento dos Dados"
   ]
  },
  {
   "cell_type": "markdown",
   "metadata": {},
   "source": [
    "### Simplificação dos nomes das features"
   ]
  },
  {
   "cell_type": "code",
   "execution_count": 215,
   "metadata": {},
   "outputs": [
    {
     "data": {
      "text/html": [
       "<div>\n",
       "<style scoped>\n",
       "    .dataframe tbody tr th:only-of-type {\n",
       "        vertical-align: middle;\n",
       "    }\n",
       "\n",
       "    .dataframe tbody tr th {\n",
       "        vertical-align: top;\n",
       "    }\n",
       "\n",
       "    .dataframe thead th {\n",
       "        text-align: right;\n",
       "    }\n",
       "</style>\n",
       "<table border=\"1\" class=\"dataframe\">\n",
       "  <thead>\n",
       "    <tr style=\"text-align: right;\">\n",
       "      <th></th>\n",
       "      <th>Timestamp</th>\n",
       "      <th>dt_iso</th>\n",
       "      <th>city_name</th>\n",
       "      <th>Temperatura</th>\n",
       "      <th>Sensação Térmica</th>\n",
       "      <th>Temperatura Mínima</th>\n",
       "      <th>Temperatura Máxima</th>\n",
       "      <th>Pressão Atmosférica</th>\n",
       "      <th>sea_level</th>\n",
       "      <th>grnd_level</th>\n",
       "      <th>...</th>\n",
       "      <th>Precipitação Média</th>\n",
       "      <th>Nebulosidade</th>\n",
       "      <th>Estado do Tempo</th>\n",
       "      <th>Data</th>\n",
       "      <th>Hora</th>\n",
       "      <th>Normal</th>\n",
       "      <th>Horário Económico</th>\n",
       "      <th>Autoconsumo</th>\n",
       "      <th>Injeção na Rede</th>\n",
       "      <th>Data_Hora</th>\n",
       "    </tr>\n",
       "  </thead>\n",
       "  <tbody>\n",
       "    <tr>\n",
       "      <th>0</th>\n",
       "      <td>1632873600</td>\n",
       "      <td>2021-09-29 00:00:00 +0000 UTC</td>\n",
       "      <td>local</td>\n",
       "      <td>13.97</td>\n",
       "      <td>13.54</td>\n",
       "      <td>11.45</td>\n",
       "      <td>14.04</td>\n",
       "      <td>1027</td>\n",
       "      <td>NaN</td>\n",
       "      <td>NaN</td>\n",
       "      <td>...</td>\n",
       "      <td>NaN</td>\n",
       "      <td>87</td>\n",
       "      <td>overcast clouds</td>\n",
       "      <td>2021-09-29</td>\n",
       "      <td>0</td>\n",
       "      <td>0.0</td>\n",
       "      <td>0.0</td>\n",
       "      <td>0.0</td>\n",
       "      <td>NaN</td>\n",
       "      <td>2021-09-29:0</td>\n",
       "    </tr>\n",
       "    <tr>\n",
       "      <th>1</th>\n",
       "      <td>1632877200</td>\n",
       "      <td>2021-09-29 01:00:00 +0000 UTC</td>\n",
       "      <td>local</td>\n",
       "      <td>13.48</td>\n",
       "      <td>13.02</td>\n",
       "      <td>13.43</td>\n",
       "      <td>13.90</td>\n",
       "      <td>1028</td>\n",
       "      <td>NaN</td>\n",
       "      <td>NaN</td>\n",
       "      <td>...</td>\n",
       "      <td>NaN</td>\n",
       "      <td>91</td>\n",
       "      <td>overcast clouds</td>\n",
       "      <td>2021-09-29</td>\n",
       "      <td>1</td>\n",
       "      <td>0.0</td>\n",
       "      <td>0.0</td>\n",
       "      <td>0.0</td>\n",
       "      <td>NaN</td>\n",
       "      <td>2021-09-29:1</td>\n",
       "    </tr>\n",
       "    <tr>\n",
       "      <th>2</th>\n",
       "      <td>1632880800</td>\n",
       "      <td>2021-09-29 02:00:00 +0000 UTC</td>\n",
       "      <td>local</td>\n",
       "      <td>12.93</td>\n",
       "      <td>12.47</td>\n",
       "      <td>12.72</td>\n",
       "      <td>13.43</td>\n",
       "      <td>1027</td>\n",
       "      <td>NaN</td>\n",
       "      <td>NaN</td>\n",
       "      <td>...</td>\n",
       "      <td>NaN</td>\n",
       "      <td>93</td>\n",
       "      <td>overcast clouds</td>\n",
       "      <td>2021-09-29</td>\n",
       "      <td>2</td>\n",
       "      <td>0.0</td>\n",
       "      <td>0.0</td>\n",
       "      <td>0.0</td>\n",
       "      <td>NaN</td>\n",
       "      <td>2021-09-29:2</td>\n",
       "    </tr>\n",
       "    <tr>\n",
       "      <th>3</th>\n",
       "      <td>1632884400</td>\n",
       "      <td>2021-09-29 03:00:00 +0000 UTC</td>\n",
       "      <td>local</td>\n",
       "      <td>12.61</td>\n",
       "      <td>12.15</td>\n",
       "      <td>10.34</td>\n",
       "      <td>12.93</td>\n",
       "      <td>1027</td>\n",
       "      <td>NaN</td>\n",
       "      <td>NaN</td>\n",
       "      <td>...</td>\n",
       "      <td>NaN</td>\n",
       "      <td>95</td>\n",
       "      <td>overcast clouds</td>\n",
       "      <td>2021-09-29</td>\n",
       "      <td>3</td>\n",
       "      <td>0.0</td>\n",
       "      <td>0.0</td>\n",
       "      <td>0.0</td>\n",
       "      <td>NaN</td>\n",
       "      <td>2021-09-29:3</td>\n",
       "    </tr>\n",
       "    <tr>\n",
       "      <th>4</th>\n",
       "      <td>1632888000</td>\n",
       "      <td>2021-09-29 04:00:00 +0000 UTC</td>\n",
       "      <td>local</td>\n",
       "      <td>12.61</td>\n",
       "      <td>12.17</td>\n",
       "      <td>9.79</td>\n",
       "      <td>12.93</td>\n",
       "      <td>1027</td>\n",
       "      <td>NaN</td>\n",
       "      <td>NaN</td>\n",
       "      <td>...</td>\n",
       "      <td>NaN</td>\n",
       "      <td>93</td>\n",
       "      <td>overcast clouds</td>\n",
       "      <td>2021-09-29</td>\n",
       "      <td>4</td>\n",
       "      <td>0.0</td>\n",
       "      <td>0.0</td>\n",
       "      <td>0.0</td>\n",
       "      <td>NaN</td>\n",
       "      <td>2021-09-29:4</td>\n",
       "    </tr>\n",
       "  </tbody>\n",
       "</table>\n",
       "<p>5 rows × 22 columns</p>\n",
       "</div>"
      ],
      "text/plain": [
       "    Timestamp                         dt_iso city_name  Temperatura  \\\n",
       "0  1632873600  2021-09-29 00:00:00 +0000 UTC     local        13.97   \n",
       "1  1632877200  2021-09-29 01:00:00 +0000 UTC     local        13.48   \n",
       "2  1632880800  2021-09-29 02:00:00 +0000 UTC     local        12.93   \n",
       "3  1632884400  2021-09-29 03:00:00 +0000 UTC     local        12.61   \n",
       "4  1632888000  2021-09-29 04:00:00 +0000 UTC     local        12.61   \n",
       "\n",
       "   Sensação Térmica  Temperatura Mínima  Temperatura Máxima  \\\n",
       "0             13.54               11.45               14.04   \n",
       "1             13.02               13.43               13.90   \n",
       "2             12.47               12.72               13.43   \n",
       "3             12.15               10.34               12.93   \n",
       "4             12.17                9.79               12.93   \n",
       "\n",
       "   Pressão Atmosférica  sea_level  grnd_level  ...  Precipitação Média  \\\n",
       "0                 1027        NaN         NaN  ...                 NaN   \n",
       "1                 1028        NaN         NaN  ...                 NaN   \n",
       "2                 1027        NaN         NaN  ...                 NaN   \n",
       "3                 1027        NaN         NaN  ...                 NaN   \n",
       "4                 1027        NaN         NaN  ...                 NaN   \n",
       "\n",
       "   Nebulosidade  Estado do Tempo        Data Hora Normal  Horário Económico  \\\n",
       "0            87  overcast clouds  2021-09-29    0    0.0                0.0   \n",
       "1            91  overcast clouds  2021-09-29    1    0.0                0.0   \n",
       "2            93  overcast clouds  2021-09-29    2    0.0                0.0   \n",
       "3            95  overcast clouds  2021-09-29    3    0.0                0.0   \n",
       "4            93  overcast clouds  2021-09-29    4    0.0                0.0   \n",
       "\n",
       "   Autoconsumo  Injeção na Rede     Data_Hora  \n",
       "0          0.0              NaN  2021-09-29:0  \n",
       "1          0.0              NaN  2021-09-29:1  \n",
       "2          0.0              NaN  2021-09-29:2  \n",
       "3          0.0              NaN  2021-09-29:3  \n",
       "4          0.0              NaN  2021-09-29:4  \n",
       "\n",
       "[5 rows x 22 columns]"
      ]
     },
     "execution_count": 215,
     "metadata": {},
     "output_type": "execute_result"
    }
   ],
   "source": [
    "e_m.rename(columns={\"dt\": \"Timestamp\"}, inplace=True)\n",
    "e_m.rename(columns={\"temp\": \"Temperatura\"}, inplace=True)\n",
    "e_m.rename(columns={\"feels_like\": \"Sensação Térmica\"}, inplace=True)\n",
    "e_m.rename(columns={\"temp_min\": \"Temperatura Mínima\"}, inplace=True)\n",
    "e_m.rename(columns={\"temp_max\": \"Temperatura Máxima\"}, inplace=True)\n",
    "e_m.rename(columns={\"pressure\": \"Pressão Atmosférica\"}, inplace=True)\n",
    "e_m.rename(columns={\"humidity\": \"Humidade\"}, inplace=True)\n",
    "e_m.rename(columns={\"wind_speed\": \"Velocidade Vento\"}, inplace=True)\n",
    "e_m.rename(columns={\"rain_1h\": \"Precipitação Média\"}, inplace=True)\n",
    "e_m.rename(columns={\"clouds_all\": \"Nebulosidade\"}, inplace=True)\n",
    "e_m.rename(columns={\"weather_description\": \"Estado do Tempo\"}, inplace=True)\n",
    "e_m.rename(columns={\"Normal (kWh)\": \"Normal\"}, inplace=True)\n",
    "e_m.rename(columns={\"Horário Económico (kWh)\": \"Horário Económico\"}, inplace=True)\n",
    "e_m.rename(columns={\"Autoconsumo (kWh)\": \"Autoconsumo\"}, inplace=True)\n",
    "e_m.rename(columns={\"Injeção na rede (kWh)\": \"Injeção na Rede\"}, inplace=True)\n",
    "\n",
    "e_m.head()"
   ]
  },
  {
   "cell_type": "markdown",
   "metadata": {},
   "source": [
    "### Remoção de features"
   ]
  },
  {
   "cell_type": "markdown",
   "metadata": {},
   "source": [
    "Remoção de colunas com apenas 1 valor único ou com a totalidade dos seus registos representados por Missing Values"
   ]
  },
  {
   "cell_type": "code",
   "execution_count": 216,
   "metadata": {},
   "outputs": [
    {
     "data": {
      "text/plain": [
       "Index(['Timestamp', 'dt_iso', 'Temperatura', 'Sensação Térmica',\n",
       "       'Temperatura Mínima', 'Temperatura Máxima', 'Pressão Atmosférica',\n",
       "       'Humidade', 'Velocidade Vento', 'Precipitação Média', 'Nebulosidade',\n",
       "       'Estado do Tempo', 'Data', 'Hora', 'Normal', 'Horário Económico',\n",
       "       'Autoconsumo', 'Injeção na Rede', 'Data_Hora'],\n",
       "      dtype='object')"
      ]
     },
     "execution_count": 216,
     "metadata": {},
     "output_type": "execute_result"
    }
   ],
   "source": [
    "e_m.drop(['city_name','sea_level','grnd_level'], axis=1, inplace=True)\n",
    "e_m.columns"
   ]
  },
  {
   "cell_type": "markdown",
   "metadata": {},
   "source": [
    "Remoção da coluna 'Data_Hora', 'Data' e 'Hora' visto que agora são representadas pela coluna 'Timestamp'"
   ]
  },
  {
   "cell_type": "code",
   "execution_count": 217,
   "metadata": {},
   "outputs": [
    {
     "data": {
      "text/plain": [
       "Index(['Timestamp', 'dt_iso', 'Temperatura', 'Sensação Térmica',\n",
       "       'Temperatura Mínima', 'Temperatura Máxima', 'Pressão Atmosférica',\n",
       "       'Humidade', 'Velocidade Vento', 'Precipitação Média', 'Nebulosidade',\n",
       "       'Estado do Tempo', 'Normal', 'Horário Económico', 'Autoconsumo',\n",
       "       'Injeção na Rede'],\n",
       "      dtype='object')"
      ]
     },
     "execution_count": 217,
     "metadata": {},
     "output_type": "execute_result"
    }
   ],
   "source": [
    "e_m.drop(['Data_Hora','Data','Hora'], axis=1, inplace=True)\n",
    "e_m.columns"
   ]
  },
  {
   "cell_type": "markdown",
   "metadata": {},
   "source": [
    "### Alteração de datas"
   ]
  },
  {
   "cell_type": "markdown",
   "metadata": {},
   "source": [
    "Converter o tipo de dados da coluna 'dt_iso' para datetime"
   ]
  },
  {
   "cell_type": "code",
   "execution_count": 218,
   "metadata": {},
   "outputs": [
    {
     "data": {
      "text/plain": [
       "0   2021-09-29 00:00:00+00:00\n",
       "1   2021-09-29 01:00:00+00:00\n",
       "2   2021-09-29 02:00:00+00:00\n",
       "3   2021-09-29 03:00:00+00:00\n",
       "4   2021-09-29 04:00:00+00:00\n",
       "Name: dt_iso, dtype: datetime64[ns, UTC]"
      ]
     },
     "execution_count": 218,
     "metadata": {},
     "output_type": "execute_result"
    }
   ],
   "source": [
    "e_m_1 = e_m.copy()\n",
    "e_m_1['dt_iso'] = pd.to_datetime(e_m_1['dt_iso'], format='%Y-%m-%d %H:%M:%S %z UTC', errors='coerce')\n",
    "assert e_m_1['dt_iso'].isnull().sum() == 0, 'missing dt_iso'\n",
    "e_m_1['dt_iso'].head()"
   ]
  },
  {
   "cell_type": "markdown",
   "metadata": {},
   "source": [
    "Converter o tipo de dados da coluna 'Timestamp' para datetime"
   ]
  },
  {
   "cell_type": "code",
   "execution_count": 219,
   "metadata": {},
   "outputs": [
    {
     "data": {
      "text/plain": [
       "0   2021-09-29 00:00:00+00:00\n",
       "1   2021-09-29 01:00:00+00:00\n",
       "2   2021-09-29 02:00:00+00:00\n",
       "3   2021-09-29 03:00:00+00:00\n",
       "4   2021-09-29 04:00:00+00:00\n",
       "Name: Timestamp, dtype: datetime64[ns, UTC]"
      ]
     },
     "execution_count": 219,
     "metadata": {},
     "output_type": "execute_result"
    }
   ],
   "source": [
    "e_m_1['Timestamp'] = pd.to_datetime(e_m_1['Timestamp'], unit='s', utc=True)\n",
    "e_m_1['Timestamp'].head()"
   ]
  },
  {
   "cell_type": "markdown",
   "metadata": {},
   "source": [
    "Verificar se as colunas são exatamente iguais"
   ]
  },
  {
   "cell_type": "code",
   "execution_count": 220,
   "metadata": {},
   "outputs": [
    {
     "name": "stdout",
     "output_type": "stream",
     "text": [
      "True\n"
     ]
    }
   ],
   "source": [
    "print(e_m_1['Timestamp'].equals(e_m_1['dt_iso']))"
   ]
  },
  {
   "cell_type": "markdown",
   "metadata": {},
   "source": [
    "Remoção da coluna 'dt_iso' do dataset original"
   ]
  },
  {
   "cell_type": "code",
   "execution_count": 221,
   "metadata": {},
   "outputs": [
    {
     "data": {
      "text/html": [
       "<div>\n",
       "<style scoped>\n",
       "    .dataframe tbody tr th:only-of-type {\n",
       "        vertical-align: middle;\n",
       "    }\n",
       "\n",
       "    .dataframe tbody tr th {\n",
       "        vertical-align: top;\n",
       "    }\n",
       "\n",
       "    .dataframe thead th {\n",
       "        text-align: right;\n",
       "    }\n",
       "</style>\n",
       "<table border=\"1\" class=\"dataframe\">\n",
       "  <thead>\n",
       "    <tr style=\"text-align: right;\">\n",
       "      <th></th>\n",
       "      <th>Timestamp</th>\n",
       "      <th>Temperatura</th>\n",
       "      <th>Sensação Térmica</th>\n",
       "      <th>Temperatura Mínima</th>\n",
       "      <th>Temperatura Máxima</th>\n",
       "      <th>Pressão Atmosférica</th>\n",
       "      <th>Humidade</th>\n",
       "      <th>Velocidade Vento</th>\n",
       "      <th>Precipitação Média</th>\n",
       "      <th>Nebulosidade</th>\n",
       "      <th>Estado do Tempo</th>\n",
       "      <th>Normal</th>\n",
       "      <th>Horário Económico</th>\n",
       "      <th>Autoconsumo</th>\n",
       "      <th>Injeção na Rede</th>\n",
       "    </tr>\n",
       "  </thead>\n",
       "  <tbody>\n",
       "    <tr>\n",
       "      <th>0</th>\n",
       "      <td>1632873600</td>\n",
       "      <td>13.97</td>\n",
       "      <td>13.54</td>\n",
       "      <td>11.45</td>\n",
       "      <td>14.04</td>\n",
       "      <td>1027</td>\n",
       "      <td>81</td>\n",
       "      <td>1.96</td>\n",
       "      <td>NaN</td>\n",
       "      <td>87</td>\n",
       "      <td>overcast clouds</td>\n",
       "      <td>0.0</td>\n",
       "      <td>0.0</td>\n",
       "      <td>0.0</td>\n",
       "      <td>NaN</td>\n",
       "    </tr>\n",
       "    <tr>\n",
       "      <th>1</th>\n",
       "      <td>1632877200</td>\n",
       "      <td>13.48</td>\n",
       "      <td>13.02</td>\n",
       "      <td>13.43</td>\n",
       "      <td>13.90</td>\n",
       "      <td>1028</td>\n",
       "      <td>82</td>\n",
       "      <td>1.83</td>\n",
       "      <td>NaN</td>\n",
       "      <td>91</td>\n",
       "      <td>overcast clouds</td>\n",
       "      <td>0.0</td>\n",
       "      <td>0.0</td>\n",
       "      <td>0.0</td>\n",
       "      <td>NaN</td>\n",
       "    </tr>\n",
       "    <tr>\n",
       "      <th>2</th>\n",
       "      <td>1632880800</td>\n",
       "      <td>12.93</td>\n",
       "      <td>12.47</td>\n",
       "      <td>12.72</td>\n",
       "      <td>13.43</td>\n",
       "      <td>1027</td>\n",
       "      <td>84</td>\n",
       "      <td>1.96</td>\n",
       "      <td>NaN</td>\n",
       "      <td>93</td>\n",
       "      <td>overcast clouds</td>\n",
       "      <td>0.0</td>\n",
       "      <td>0.0</td>\n",
       "      <td>0.0</td>\n",
       "      <td>NaN</td>\n",
       "    </tr>\n",
       "    <tr>\n",
       "      <th>3</th>\n",
       "      <td>1632884400</td>\n",
       "      <td>12.61</td>\n",
       "      <td>12.15</td>\n",
       "      <td>10.34</td>\n",
       "      <td>12.93</td>\n",
       "      <td>1027</td>\n",
       "      <td>85</td>\n",
       "      <td>1.85</td>\n",
       "      <td>NaN</td>\n",
       "      <td>95</td>\n",
       "      <td>overcast clouds</td>\n",
       "      <td>0.0</td>\n",
       "      <td>0.0</td>\n",
       "      <td>0.0</td>\n",
       "      <td>NaN</td>\n",
       "    </tr>\n",
       "    <tr>\n",
       "      <th>4</th>\n",
       "      <td>1632888000</td>\n",
       "      <td>12.61</td>\n",
       "      <td>12.17</td>\n",
       "      <td>9.79</td>\n",
       "      <td>12.93</td>\n",
       "      <td>1027</td>\n",
       "      <td>86</td>\n",
       "      <td>1.83</td>\n",
       "      <td>NaN</td>\n",
       "      <td>93</td>\n",
       "      <td>overcast clouds</td>\n",
       "      <td>0.0</td>\n",
       "      <td>0.0</td>\n",
       "      <td>0.0</td>\n",
       "      <td>NaN</td>\n",
       "    </tr>\n",
       "  </tbody>\n",
       "</table>\n",
       "</div>"
      ],
      "text/plain": [
       "    Timestamp  Temperatura  Sensação Térmica  Temperatura Mínima  \\\n",
       "0  1632873600        13.97             13.54               11.45   \n",
       "1  1632877200        13.48             13.02               13.43   \n",
       "2  1632880800        12.93             12.47               12.72   \n",
       "3  1632884400        12.61             12.15               10.34   \n",
       "4  1632888000        12.61             12.17                9.79   \n",
       "\n",
       "   Temperatura Máxima  Pressão Atmosférica  Humidade  Velocidade Vento  \\\n",
       "0               14.04                 1027        81              1.96   \n",
       "1               13.90                 1028        82              1.83   \n",
       "2               13.43                 1027        84              1.96   \n",
       "3               12.93                 1027        85              1.85   \n",
       "4               12.93                 1027        86              1.83   \n",
       "\n",
       "   Precipitação Média  Nebulosidade  Estado do Tempo  Normal  \\\n",
       "0                 NaN            87  overcast clouds     0.0   \n",
       "1                 NaN            91  overcast clouds     0.0   \n",
       "2                 NaN            93  overcast clouds     0.0   \n",
       "3                 NaN            95  overcast clouds     0.0   \n",
       "4                 NaN            93  overcast clouds     0.0   \n",
       "\n",
       "   Horário Económico  Autoconsumo Injeção na Rede  \n",
       "0                0.0          0.0             NaN  \n",
       "1                0.0          0.0             NaN  \n",
       "2                0.0          0.0             NaN  \n",
       "3                0.0          0.0             NaN  \n",
       "4                0.0          0.0             NaN  "
      ]
     },
     "execution_count": 221,
     "metadata": {},
     "output_type": "execute_result"
    }
   ],
   "source": [
    "e_m.drop(['dt_iso'], axis=1, inplace=True)\n",
    "e_m.head()"
   ]
  },
  {
   "cell_type": "markdown",
   "metadata": {},
   "source": [
    "### Converter tipos de dados categóricos para numéricos"
   ]
  },
  {
   "cell_type": "code",
   "execution_count": 222,
   "metadata": {},
   "outputs": [
    {
     "name": "stdout",
     "output_type": "stream",
     "text": [
      "<class 'pandas.core.frame.DataFrame'>\n",
      "RangeIndex: 11016 entries, 0 to 11015\n",
      "Data columns (total 15 columns):\n",
      " #   Column               Non-Null Count  Dtype  \n",
      "---  ------               --------------  -----  \n",
      " 0   Timestamp            11016 non-null  int64  \n",
      " 1   Temperatura          11016 non-null  float64\n",
      " 2   Sensação Térmica     11016 non-null  float64\n",
      " 3   Temperatura Mínima   11016 non-null  float64\n",
      " 4   Temperatura Máxima   11016 non-null  float64\n",
      " 5   Pressão Atmosférica  11016 non-null  int64  \n",
      " 6   Humidade             11016 non-null  int64  \n",
      " 7   Velocidade Vento     11016 non-null  float64\n",
      " 8   Precipitação Média   2284 non-null   float64\n",
      " 9   Nebulosidade         11016 non-null  int64  \n",
      " 10  Estado do Tempo      11016 non-null  object \n",
      " 11  Normal               11016 non-null  float64\n",
      " 12  Horário Económico    11016 non-null  float64\n",
      " 13  Autoconsumo          11016 non-null  float64\n",
      " 14  Injeção na Rede      3239 non-null   object \n",
      "dtypes: float64(9), int64(4), object(2)\n",
      "memory usage: 1.3+ MB\n"
     ]
    }
   ],
   "source": [
    "e_m.info()"
   ]
  },
  {
   "cell_type": "markdown",
   "metadata": {},
   "source": [
    "Coluna: Injeção na Rede"
   ]
  },
  {
   "cell_type": "markdown",
   "metadata": {},
   "source": [
    "Label Encoding - os valores têm uma relação de ordem entre eles (?????????????????????????????????????)"
   ]
  },
  {
   "cell_type": "code",
   "execution_count": 223,
   "metadata": {},
   "outputs": [],
   "source": [
    "from sklearn.preprocessing import LabelEncoder    "
   ]
  },
  {
   "cell_type": "code",
   "execution_count": 224,
   "metadata": {},
   "outputs": [
    {
     "data": {
      "text/html": [
       "<div>\n",
       "<style scoped>\n",
       "    .dataframe tbody tr th:only-of-type {\n",
       "        vertical-align: middle;\n",
       "    }\n",
       "\n",
       "    .dataframe tbody tr th {\n",
       "        vertical-align: top;\n",
       "    }\n",
       "\n",
       "    .dataframe thead th {\n",
       "        text-align: right;\n",
       "    }\n",
       "</style>\n",
       "<table border=\"1\" class=\"dataframe\">\n",
       "  <thead>\n",
       "    <tr style=\"text-align: right;\">\n",
       "      <th></th>\n",
       "      <th>Timestamp</th>\n",
       "      <th>Temperatura</th>\n",
       "      <th>Sensação Térmica</th>\n",
       "      <th>Temperatura Mínima</th>\n",
       "      <th>Temperatura Máxima</th>\n",
       "      <th>Pressão Atmosférica</th>\n",
       "      <th>Humidade</th>\n",
       "      <th>Velocidade Vento</th>\n",
       "      <th>Precipitação Média</th>\n",
       "      <th>Nebulosidade</th>\n",
       "      <th>Estado do Tempo</th>\n",
       "      <th>Normal</th>\n",
       "      <th>Horário Económico</th>\n",
       "      <th>Autoconsumo</th>\n",
       "      <th>Injeção na Rede</th>\n",
       "      <th>Injeção na Rede (Code)</th>\n",
       "    </tr>\n",
       "  </thead>\n",
       "  <tbody>\n",
       "    <tr>\n",
       "      <th>0</th>\n",
       "      <td>1632873600</td>\n",
       "      <td>13.97</td>\n",
       "      <td>13.54</td>\n",
       "      <td>11.45</td>\n",
       "      <td>14.04</td>\n",
       "      <td>1027</td>\n",
       "      <td>81</td>\n",
       "      <td>1.96</td>\n",
       "      <td>NaN</td>\n",
       "      <td>87</td>\n",
       "      <td>overcast clouds</td>\n",
       "      <td>0.0</td>\n",
       "      <td>0.0</td>\n",
       "      <td>0.0</td>\n",
       "      <td>NaN</td>\n",
       "      <td>4</td>\n",
       "    </tr>\n",
       "    <tr>\n",
       "      <th>1</th>\n",
       "      <td>1632877200</td>\n",
       "      <td>13.48</td>\n",
       "      <td>13.02</td>\n",
       "      <td>13.43</td>\n",
       "      <td>13.90</td>\n",
       "      <td>1028</td>\n",
       "      <td>82</td>\n",
       "      <td>1.83</td>\n",
       "      <td>NaN</td>\n",
       "      <td>91</td>\n",
       "      <td>overcast clouds</td>\n",
       "      <td>0.0</td>\n",
       "      <td>0.0</td>\n",
       "      <td>0.0</td>\n",
       "      <td>NaN</td>\n",
       "      <td>4</td>\n",
       "    </tr>\n",
       "    <tr>\n",
       "      <th>2</th>\n",
       "      <td>1632880800</td>\n",
       "      <td>12.93</td>\n",
       "      <td>12.47</td>\n",
       "      <td>12.72</td>\n",
       "      <td>13.43</td>\n",
       "      <td>1027</td>\n",
       "      <td>84</td>\n",
       "      <td>1.96</td>\n",
       "      <td>NaN</td>\n",
       "      <td>93</td>\n",
       "      <td>overcast clouds</td>\n",
       "      <td>0.0</td>\n",
       "      <td>0.0</td>\n",
       "      <td>0.0</td>\n",
       "      <td>NaN</td>\n",
       "      <td>4</td>\n",
       "    </tr>\n",
       "    <tr>\n",
       "      <th>3</th>\n",
       "      <td>1632884400</td>\n",
       "      <td>12.61</td>\n",
       "      <td>12.15</td>\n",
       "      <td>10.34</td>\n",
       "      <td>12.93</td>\n",
       "      <td>1027</td>\n",
       "      <td>85</td>\n",
       "      <td>1.85</td>\n",
       "      <td>NaN</td>\n",
       "      <td>95</td>\n",
       "      <td>overcast clouds</td>\n",
       "      <td>0.0</td>\n",
       "      <td>0.0</td>\n",
       "      <td>0.0</td>\n",
       "      <td>NaN</td>\n",
       "      <td>4</td>\n",
       "    </tr>\n",
       "    <tr>\n",
       "      <th>4</th>\n",
       "      <td>1632888000</td>\n",
       "      <td>12.61</td>\n",
       "      <td>12.17</td>\n",
       "      <td>9.79</td>\n",
       "      <td>12.93</td>\n",
       "      <td>1027</td>\n",
       "      <td>86</td>\n",
       "      <td>1.83</td>\n",
       "      <td>NaN</td>\n",
       "      <td>93</td>\n",
       "      <td>overcast clouds</td>\n",
       "      <td>0.0</td>\n",
       "      <td>0.0</td>\n",
       "      <td>0.0</td>\n",
       "      <td>NaN</td>\n",
       "      <td>4</td>\n",
       "    </tr>\n",
       "  </tbody>\n",
       "</table>\n",
       "</div>"
      ],
      "text/plain": [
       "    Timestamp  Temperatura  Sensação Térmica  Temperatura Mínima  \\\n",
       "0  1632873600        13.97             13.54               11.45   \n",
       "1  1632877200        13.48             13.02               13.43   \n",
       "2  1632880800        12.93             12.47               12.72   \n",
       "3  1632884400        12.61             12.15               10.34   \n",
       "4  1632888000        12.61             12.17                9.79   \n",
       "\n",
       "   Temperatura Máxima  Pressão Atmosférica  Humidade  Velocidade Vento  \\\n",
       "0               14.04                 1027        81              1.96   \n",
       "1               13.90                 1028        82              1.83   \n",
       "2               13.43                 1027        84              1.96   \n",
       "3               12.93                 1027        85              1.85   \n",
       "4               12.93                 1027        86              1.83   \n",
       "\n",
       "   Precipitação Média  Nebulosidade  Estado do Tempo  Normal  \\\n",
       "0                 NaN            87  overcast clouds     0.0   \n",
       "1                 NaN            91  overcast clouds     0.0   \n",
       "2                 NaN            93  overcast clouds     0.0   \n",
       "3                 NaN            95  overcast clouds     0.0   \n",
       "4                 NaN            93  overcast clouds     0.0   \n",
       "\n",
       "   Horário Económico  Autoconsumo Injeção na Rede  Injeção na Rede (Code)  \n",
       "0                0.0          0.0             NaN                       4  \n",
       "1                0.0          0.0             NaN                       4  \n",
       "2                0.0          0.0             NaN                       4  \n",
       "3                0.0          0.0             NaN                       4  \n",
       "4                0.0          0.0             NaN                       4  "
      ]
     },
     "execution_count": 224,
     "metadata": {},
     "output_type": "execute_result"
    }
   ],
   "source": [
    "e_m_2_skl = e_m.copy()\n",
    "e_m_2 = e_m.copy()\n",
    "\n",
    "lb_make = LabelEncoder()\n",
    "e_m_2_skl['Injeção na Rede (Code)'] = lb_make.fit_transform(e_m_2['Injeção na Rede'])\n",
    "\n",
    "e_m_2_skl.head()"
   ]
  },
  {
   "cell_type": "markdown",
   "metadata": {},
   "source": [
    "One-Hot Encoding"
   ]
  },
  {
   "cell_type": "code",
   "execution_count": 225,
   "metadata": {},
   "outputs": [],
   "source": [
    "from sklearn.preprocessing import LabelBinarizer"
   ]
  },
  {
   "cell_type": "code",
   "execution_count": 226,
   "metadata": {},
   "outputs": [],
   "source": [
    "#e_m_3 = e_m.copy()\n",
    "#lb = LabelBinarizer()\n",
    "#lb_results = lb.fit_transform(e_m_3['Injeção na Rede'])\n",
    "#lb_results_df = pd.DataFrame(lb_results, columns=lb.classes_)\n",
    "\n",
    "#lb_results_df.head()"
   ]
  },
  {
   "cell_type": "markdown",
   "metadata": {},
   "source": [
    "Binary Encoding "
   ]
  },
  {
   "cell_type": "code",
   "execution_count": 227,
   "metadata": {},
   "outputs": [],
   "source": [
    "#e_m_aux1 = e_m.copy()\n",
    "#encoder = ce.BinaryEncoder(cols = ['Injeção na Rede'])\n",
    "#e_m_5 = encoder.fit_transform(e_m_aux1)\n",
    "#e_m_5.head()\n"
   ]
  },
  {
   "cell_type": "markdown",
   "metadata": {},
   "source": [
    "Backward Difference Encoding"
   ]
  },
  {
   "cell_type": "code",
   "execution_count": 228,
   "metadata": {},
   "outputs": [],
   "source": [
    "#e_m_aux2 = e_m.copy()\n",
    "#encoder = ce.BackwardDifferenceEncoder(cols=['Injeção na Rede'])\n",
    "#e_m_6 = encoder.encoder.fit_transform(e_m_aux2)\n",
    "#e_m_6.head()"
   ]
  },
  {
   "cell_type": "markdown",
   "metadata": {},
   "source": [
    "Factorize"
   ]
  },
  {
   "cell_type": "code",
   "execution_count": 229,
   "metadata": {},
   "outputs": [
    {
     "data": {
      "text/html": [
       "<div>\n",
       "<style scoped>\n",
       "    .dataframe tbody tr th:only-of-type {\n",
       "        vertical-align: middle;\n",
       "    }\n",
       "\n",
       "    .dataframe tbody tr th {\n",
       "        vertical-align: top;\n",
       "    }\n",
       "\n",
       "    .dataframe thead th {\n",
       "        text-align: right;\n",
       "    }\n",
       "</style>\n",
       "<table border=\"1\" class=\"dataframe\">\n",
       "  <thead>\n",
       "    <tr style=\"text-align: right;\">\n",
       "      <th></th>\n",
       "      <th>Timestamp</th>\n",
       "      <th>Temperatura</th>\n",
       "      <th>Sensação Térmica</th>\n",
       "      <th>Temperatura Mínima</th>\n",
       "      <th>Temperatura Máxima</th>\n",
       "      <th>Pressão Atmosférica</th>\n",
       "      <th>Humidade</th>\n",
       "      <th>Velocidade Vento</th>\n",
       "      <th>Precipitação Média</th>\n",
       "      <th>Nebulosidade</th>\n",
       "      <th>Estado do Tempo</th>\n",
       "      <th>Normal</th>\n",
       "      <th>Horário Económico</th>\n",
       "      <th>Autoconsumo</th>\n",
       "      <th>Injeção na Rede</th>\n",
       "    </tr>\n",
       "  </thead>\n",
       "  <tbody>\n",
       "    <tr>\n",
       "      <th>0</th>\n",
       "      <td>1632873600</td>\n",
       "      <td>13.97</td>\n",
       "      <td>13.54</td>\n",
       "      <td>11.45</td>\n",
       "      <td>14.04</td>\n",
       "      <td>1027</td>\n",
       "      <td>81</td>\n",
       "      <td>1.96</td>\n",
       "      <td>NaN</td>\n",
       "      <td>87</td>\n",
       "      <td>overcast clouds</td>\n",
       "      <td>0.0</td>\n",
       "      <td>0.0</td>\n",
       "      <td>0.0</td>\n",
       "      <td>0</td>\n",
       "    </tr>\n",
       "    <tr>\n",
       "      <th>1</th>\n",
       "      <td>1632877200</td>\n",
       "      <td>13.48</td>\n",
       "      <td>13.02</td>\n",
       "      <td>13.43</td>\n",
       "      <td>13.90</td>\n",
       "      <td>1028</td>\n",
       "      <td>82</td>\n",
       "      <td>1.83</td>\n",
       "      <td>NaN</td>\n",
       "      <td>91</td>\n",
       "      <td>overcast clouds</td>\n",
       "      <td>0.0</td>\n",
       "      <td>0.0</td>\n",
       "      <td>0.0</td>\n",
       "      <td>0</td>\n",
       "    </tr>\n",
       "    <tr>\n",
       "      <th>2</th>\n",
       "      <td>1632880800</td>\n",
       "      <td>12.93</td>\n",
       "      <td>12.47</td>\n",
       "      <td>12.72</td>\n",
       "      <td>13.43</td>\n",
       "      <td>1027</td>\n",
       "      <td>84</td>\n",
       "      <td>1.96</td>\n",
       "      <td>NaN</td>\n",
       "      <td>93</td>\n",
       "      <td>overcast clouds</td>\n",
       "      <td>0.0</td>\n",
       "      <td>0.0</td>\n",
       "      <td>0.0</td>\n",
       "      <td>0</td>\n",
       "    </tr>\n",
       "    <tr>\n",
       "      <th>3</th>\n",
       "      <td>1632884400</td>\n",
       "      <td>12.61</td>\n",
       "      <td>12.15</td>\n",
       "      <td>10.34</td>\n",
       "      <td>12.93</td>\n",
       "      <td>1027</td>\n",
       "      <td>85</td>\n",
       "      <td>1.85</td>\n",
       "      <td>NaN</td>\n",
       "      <td>95</td>\n",
       "      <td>overcast clouds</td>\n",
       "      <td>0.0</td>\n",
       "      <td>0.0</td>\n",
       "      <td>0.0</td>\n",
       "      <td>0</td>\n",
       "    </tr>\n",
       "    <tr>\n",
       "      <th>4</th>\n",
       "      <td>1632888000</td>\n",
       "      <td>12.61</td>\n",
       "      <td>12.17</td>\n",
       "      <td>9.79</td>\n",
       "      <td>12.93</td>\n",
       "      <td>1027</td>\n",
       "      <td>86</td>\n",
       "      <td>1.83</td>\n",
       "      <td>NaN</td>\n",
       "      <td>93</td>\n",
       "      <td>overcast clouds</td>\n",
       "      <td>0.0</td>\n",
       "      <td>0.0</td>\n",
       "      <td>0.0</td>\n",
       "      <td>0</td>\n",
       "    </tr>\n",
       "  </tbody>\n",
       "</table>\n",
       "</div>"
      ],
      "text/plain": [
       "    Timestamp  Temperatura  Sensação Térmica  Temperatura Mínima  \\\n",
       "0  1632873600        13.97             13.54               11.45   \n",
       "1  1632877200        13.48             13.02               13.43   \n",
       "2  1632880800        12.93             12.47               12.72   \n",
       "3  1632884400        12.61             12.15               10.34   \n",
       "4  1632888000        12.61             12.17                9.79   \n",
       "\n",
       "   Temperatura Máxima  Pressão Atmosférica  Humidade  Velocidade Vento  \\\n",
       "0               14.04                 1027        81              1.96   \n",
       "1               13.90                 1028        82              1.83   \n",
       "2               13.43                 1027        84              1.96   \n",
       "3               12.93                 1027        85              1.85   \n",
       "4               12.93                 1027        86              1.83   \n",
       "\n",
       "   Precipitação Média  Nebulosidade  Estado do Tempo  Normal  \\\n",
       "0                 NaN            87  overcast clouds     0.0   \n",
       "1                 NaN            91  overcast clouds     0.0   \n",
       "2                 NaN            93  overcast clouds     0.0   \n",
       "3                 NaN            95  overcast clouds     0.0   \n",
       "4                 NaN            93  overcast clouds     0.0   \n",
       "\n",
       "   Horário Económico  Autoconsumo  Injeção na Rede  \n",
       "0                0.0          0.0                0  \n",
       "1                0.0          0.0                0  \n",
       "2                0.0          0.0                0  \n",
       "3                0.0          0.0                0  \n",
       "4                0.0          0.0                0  "
      ]
     },
     "execution_count": 229,
     "metadata": {},
     "output_type": "execute_result"
    }
   ],
   "source": [
    "e_m_4 = e_m.copy()\n",
    "e_m_4['Injeção na Rede'] = pd.factorize(e_m_4['Injeção na Rede'])[0] + 1\n",
    "e_m_4.head()"
   ]
  },
  {
   "cell_type": "markdown",
   "metadata": {},
   "source": [
    "Coluna: Estado do Tempo"
   ]
  },
  {
   "cell_type": "markdown",
   "metadata": {},
   "source": [
    "Label Encoding"
   ]
  },
  {
   "cell_type": "code",
   "execution_count": 230,
   "metadata": {},
   "outputs": [
    {
     "data": {
      "text/html": [
       "<div>\n",
       "<style scoped>\n",
       "    .dataframe tbody tr th:only-of-type {\n",
       "        vertical-align: middle;\n",
       "    }\n",
       "\n",
       "    .dataframe tbody tr th {\n",
       "        vertical-align: top;\n",
       "    }\n",
       "\n",
       "    .dataframe thead th {\n",
       "        text-align: right;\n",
       "    }\n",
       "</style>\n",
       "<table border=\"1\" class=\"dataframe\">\n",
       "  <thead>\n",
       "    <tr style=\"text-align: right;\">\n",
       "      <th></th>\n",
       "      <th>Timestamp</th>\n",
       "      <th>Temperatura</th>\n",
       "      <th>Sensação Térmica</th>\n",
       "      <th>Temperatura Mínima</th>\n",
       "      <th>Temperatura Máxima</th>\n",
       "      <th>Pressão Atmosférica</th>\n",
       "      <th>Humidade</th>\n",
       "      <th>Velocidade Vento</th>\n",
       "      <th>Precipitação Média</th>\n",
       "      <th>Nebulosidade</th>\n",
       "      <th>Estado do Tempo</th>\n",
       "      <th>Normal</th>\n",
       "      <th>Horário Económico</th>\n",
       "      <th>Autoconsumo</th>\n",
       "      <th>Injeção na Rede</th>\n",
       "      <th>Estado do Tempo (Code)</th>\n",
       "    </tr>\n",
       "  </thead>\n",
       "  <tbody>\n",
       "    <tr>\n",
       "      <th>0</th>\n",
       "      <td>1632873600</td>\n",
       "      <td>13.97</td>\n",
       "      <td>13.54</td>\n",
       "      <td>11.45</td>\n",
       "      <td>14.04</td>\n",
       "      <td>1027</td>\n",
       "      <td>81</td>\n",
       "      <td>1.96</td>\n",
       "      <td>NaN</td>\n",
       "      <td>87</td>\n",
       "      <td>overcast clouds</td>\n",
       "      <td>0.0</td>\n",
       "      <td>0.0</td>\n",
       "      <td>0.0</td>\n",
       "      <td>NaN</td>\n",
       "      <td>5</td>\n",
       "    </tr>\n",
       "    <tr>\n",
       "      <th>1</th>\n",
       "      <td>1632877200</td>\n",
       "      <td>13.48</td>\n",
       "      <td>13.02</td>\n",
       "      <td>13.43</td>\n",
       "      <td>13.90</td>\n",
       "      <td>1028</td>\n",
       "      <td>82</td>\n",
       "      <td>1.83</td>\n",
       "      <td>NaN</td>\n",
       "      <td>91</td>\n",
       "      <td>overcast clouds</td>\n",
       "      <td>0.0</td>\n",
       "      <td>0.0</td>\n",
       "      <td>0.0</td>\n",
       "      <td>NaN</td>\n",
       "      <td>5</td>\n",
       "    </tr>\n",
       "    <tr>\n",
       "      <th>2</th>\n",
       "      <td>1632880800</td>\n",
       "      <td>12.93</td>\n",
       "      <td>12.47</td>\n",
       "      <td>12.72</td>\n",
       "      <td>13.43</td>\n",
       "      <td>1027</td>\n",
       "      <td>84</td>\n",
       "      <td>1.96</td>\n",
       "      <td>NaN</td>\n",
       "      <td>93</td>\n",
       "      <td>overcast clouds</td>\n",
       "      <td>0.0</td>\n",
       "      <td>0.0</td>\n",
       "      <td>0.0</td>\n",
       "      <td>NaN</td>\n",
       "      <td>5</td>\n",
       "    </tr>\n",
       "    <tr>\n",
       "      <th>3</th>\n",
       "      <td>1632884400</td>\n",
       "      <td>12.61</td>\n",
       "      <td>12.15</td>\n",
       "      <td>10.34</td>\n",
       "      <td>12.93</td>\n",
       "      <td>1027</td>\n",
       "      <td>85</td>\n",
       "      <td>1.85</td>\n",
       "      <td>NaN</td>\n",
       "      <td>95</td>\n",
       "      <td>overcast clouds</td>\n",
       "      <td>0.0</td>\n",
       "      <td>0.0</td>\n",
       "      <td>0.0</td>\n",
       "      <td>NaN</td>\n",
       "      <td>5</td>\n",
       "    </tr>\n",
       "    <tr>\n",
       "      <th>4</th>\n",
       "      <td>1632888000</td>\n",
       "      <td>12.61</td>\n",
       "      <td>12.17</td>\n",
       "      <td>9.79</td>\n",
       "      <td>12.93</td>\n",
       "      <td>1027</td>\n",
       "      <td>86</td>\n",
       "      <td>1.83</td>\n",
       "      <td>NaN</td>\n",
       "      <td>93</td>\n",
       "      <td>overcast clouds</td>\n",
       "      <td>0.0</td>\n",
       "      <td>0.0</td>\n",
       "      <td>0.0</td>\n",
       "      <td>NaN</td>\n",
       "      <td>5</td>\n",
       "    </tr>\n",
       "  </tbody>\n",
       "</table>\n",
       "</div>"
      ],
      "text/plain": [
       "    Timestamp  Temperatura  Sensação Térmica  Temperatura Mínima  \\\n",
       "0  1632873600        13.97             13.54               11.45   \n",
       "1  1632877200        13.48             13.02               13.43   \n",
       "2  1632880800        12.93             12.47               12.72   \n",
       "3  1632884400        12.61             12.15               10.34   \n",
       "4  1632888000        12.61             12.17                9.79   \n",
       "\n",
       "   Temperatura Máxima  Pressão Atmosférica  Humidade  Velocidade Vento  \\\n",
       "0               14.04                 1027        81              1.96   \n",
       "1               13.90                 1028        82              1.83   \n",
       "2               13.43                 1027        84              1.96   \n",
       "3               12.93                 1027        85              1.85   \n",
       "4               12.93                 1027        86              1.83   \n",
       "\n",
       "   Precipitação Média  Nebulosidade  Estado do Tempo  Normal  \\\n",
       "0                 NaN            87  overcast clouds     0.0   \n",
       "1                 NaN            91  overcast clouds     0.0   \n",
       "2                 NaN            93  overcast clouds     0.0   \n",
       "3                 NaN            95  overcast clouds     0.0   \n",
       "4                 NaN            93  overcast clouds     0.0   \n",
       "\n",
       "   Horário Económico  Autoconsumo Injeção na Rede  Estado do Tempo (Code)  \n",
       "0                0.0          0.0             NaN                       5  \n",
       "1                0.0          0.0             NaN                       5  \n",
       "2                0.0          0.0             NaN                       5  \n",
       "3                0.0          0.0             NaN                       5  \n",
       "4                0.0          0.0             NaN                       5  "
      ]
     },
     "execution_count": 230,
     "metadata": {},
     "output_type": "execute_result"
    }
   ],
   "source": [
    "e_m_7_skl = e_m.copy()\n",
    "e_m_7 = e_m.copy()\n",
    "\n",
    "lb_make = LabelEncoder()\n",
    "e_m_7_skl['Estado do Tempo (Code)'] = lb_make.fit_transform(e_m_7['Estado do Tempo'])\n",
    "\n",
    "e_m_7_skl.head()"
   ]
  },
  {
   "cell_type": "markdown",
   "metadata": {},
   "source": [
    "One-Hot Encoding"
   ]
  },
  {
   "cell_type": "code",
   "execution_count": 231,
   "metadata": {},
   "outputs": [
    {
     "data": {
      "text/html": [
       "<div>\n",
       "<style scoped>\n",
       "    .dataframe tbody tr th:only-of-type {\n",
       "        vertical-align: middle;\n",
       "    }\n",
       "\n",
       "    .dataframe tbody tr th {\n",
       "        vertical-align: top;\n",
       "    }\n",
       "\n",
       "    .dataframe thead th {\n",
       "        text-align: right;\n",
       "    }\n",
       "</style>\n",
       "<table border=\"1\" class=\"dataframe\">\n",
       "  <thead>\n",
       "    <tr style=\"text-align: right;\">\n",
       "      <th></th>\n",
       "      <th>broken clouds</th>\n",
       "      <th>few clouds</th>\n",
       "      <th>heavy intensity rain</th>\n",
       "      <th>light rain</th>\n",
       "      <th>moderate rain</th>\n",
       "      <th>overcast clouds</th>\n",
       "      <th>scattered clouds</th>\n",
       "      <th>sky is clear</th>\n",
       "    </tr>\n",
       "  </thead>\n",
       "  <tbody>\n",
       "    <tr>\n",
       "      <th>0</th>\n",
       "      <td>0</td>\n",
       "      <td>0</td>\n",
       "      <td>0</td>\n",
       "      <td>0</td>\n",
       "      <td>0</td>\n",
       "      <td>1</td>\n",
       "      <td>0</td>\n",
       "      <td>0</td>\n",
       "    </tr>\n",
       "    <tr>\n",
       "      <th>1</th>\n",
       "      <td>0</td>\n",
       "      <td>0</td>\n",
       "      <td>0</td>\n",
       "      <td>0</td>\n",
       "      <td>0</td>\n",
       "      <td>1</td>\n",
       "      <td>0</td>\n",
       "      <td>0</td>\n",
       "    </tr>\n",
       "    <tr>\n",
       "      <th>2</th>\n",
       "      <td>0</td>\n",
       "      <td>0</td>\n",
       "      <td>0</td>\n",
       "      <td>0</td>\n",
       "      <td>0</td>\n",
       "      <td>1</td>\n",
       "      <td>0</td>\n",
       "      <td>0</td>\n",
       "    </tr>\n",
       "    <tr>\n",
       "      <th>3</th>\n",
       "      <td>0</td>\n",
       "      <td>0</td>\n",
       "      <td>0</td>\n",
       "      <td>0</td>\n",
       "      <td>0</td>\n",
       "      <td>1</td>\n",
       "      <td>0</td>\n",
       "      <td>0</td>\n",
       "    </tr>\n",
       "    <tr>\n",
       "      <th>4</th>\n",
       "      <td>0</td>\n",
       "      <td>0</td>\n",
       "      <td>0</td>\n",
       "      <td>0</td>\n",
       "      <td>0</td>\n",
       "      <td>1</td>\n",
       "      <td>0</td>\n",
       "      <td>0</td>\n",
       "    </tr>\n",
       "  </tbody>\n",
       "</table>\n",
       "</div>"
      ],
      "text/plain": [
       "   broken clouds  few clouds  heavy intensity rain  light rain  moderate rain  \\\n",
       "0              0           0                     0           0              0   \n",
       "1              0           0                     0           0              0   \n",
       "2              0           0                     0           0              0   \n",
       "3              0           0                     0           0              0   \n",
       "4              0           0                     0           0              0   \n",
       "\n",
       "   overcast clouds  scattered clouds  sky is clear  \n",
       "0                1                 0             0  \n",
       "1                1                 0             0  \n",
       "2                1                 0             0  \n",
       "3                1                 0             0  \n",
       "4                1                 0             0  "
      ]
     },
     "execution_count": 231,
     "metadata": {},
     "output_type": "execute_result"
    }
   ],
   "source": [
    "e_m_8 = e_m.copy()\n",
    "lb = LabelBinarizer()\n",
    "lb_results = lb.fit_transform(e_m_8['Estado do Tempo'])\n",
    "lb_results_df = pd.DataFrame(lb_results, columns=lb.classes_)\n",
    "\n",
    "lb_results_df.head()"
   ]
  },
  {
   "cell_type": "markdown",
   "metadata": {},
   "source": [
    "Binary Encoding"
   ]
  },
  {
   "cell_type": "code",
   "execution_count": null,
   "metadata": {},
   "outputs": [],
   "source": []
  },
  {
   "cell_type": "markdown",
   "metadata": {},
   "source": [
    "Backward Difference Encoding"
   ]
  },
  {
   "cell_type": "code",
   "execution_count": null,
   "metadata": {},
   "outputs": [],
   "source": []
  },
  {
   "cell_type": "markdown",
   "metadata": {},
   "source": [
    "Factorize"
   ]
  },
  {
   "cell_type": "code",
   "execution_count": 232,
   "metadata": {},
   "outputs": [
    {
     "data": {
      "text/html": [
       "<div>\n",
       "<style scoped>\n",
       "    .dataframe tbody tr th:only-of-type {\n",
       "        vertical-align: middle;\n",
       "    }\n",
       "\n",
       "    .dataframe tbody tr th {\n",
       "        vertical-align: top;\n",
       "    }\n",
       "\n",
       "    .dataframe thead th {\n",
       "        text-align: right;\n",
       "    }\n",
       "</style>\n",
       "<table border=\"1\" class=\"dataframe\">\n",
       "  <thead>\n",
       "    <tr style=\"text-align: right;\">\n",
       "      <th></th>\n",
       "      <th>Timestamp</th>\n",
       "      <th>Temperatura</th>\n",
       "      <th>Sensação Térmica</th>\n",
       "      <th>Temperatura Mínima</th>\n",
       "      <th>Temperatura Máxima</th>\n",
       "      <th>Pressão Atmosférica</th>\n",
       "      <th>Humidade</th>\n",
       "      <th>Velocidade Vento</th>\n",
       "      <th>Precipitação Média</th>\n",
       "      <th>Nebulosidade</th>\n",
       "      <th>Estado do Tempo</th>\n",
       "      <th>Normal</th>\n",
       "      <th>Horário Económico</th>\n",
       "      <th>Autoconsumo</th>\n",
       "      <th>Injeção na Rede</th>\n",
       "    </tr>\n",
       "  </thead>\n",
       "  <tbody>\n",
       "    <tr>\n",
       "      <th>0</th>\n",
       "      <td>1632873600</td>\n",
       "      <td>13.97</td>\n",
       "      <td>13.54</td>\n",
       "      <td>11.45</td>\n",
       "      <td>14.04</td>\n",
       "      <td>1027</td>\n",
       "      <td>81</td>\n",
       "      <td>1.96</td>\n",
       "      <td>NaN</td>\n",
       "      <td>87</td>\n",
       "      <td>1</td>\n",
       "      <td>0.0</td>\n",
       "      <td>0.0</td>\n",
       "      <td>0.0</td>\n",
       "      <td>NaN</td>\n",
       "    </tr>\n",
       "    <tr>\n",
       "      <th>1</th>\n",
       "      <td>1632877200</td>\n",
       "      <td>13.48</td>\n",
       "      <td>13.02</td>\n",
       "      <td>13.43</td>\n",
       "      <td>13.90</td>\n",
       "      <td>1028</td>\n",
       "      <td>82</td>\n",
       "      <td>1.83</td>\n",
       "      <td>NaN</td>\n",
       "      <td>91</td>\n",
       "      <td>1</td>\n",
       "      <td>0.0</td>\n",
       "      <td>0.0</td>\n",
       "      <td>0.0</td>\n",
       "      <td>NaN</td>\n",
       "    </tr>\n",
       "    <tr>\n",
       "      <th>2</th>\n",
       "      <td>1632880800</td>\n",
       "      <td>12.93</td>\n",
       "      <td>12.47</td>\n",
       "      <td>12.72</td>\n",
       "      <td>13.43</td>\n",
       "      <td>1027</td>\n",
       "      <td>84</td>\n",
       "      <td>1.96</td>\n",
       "      <td>NaN</td>\n",
       "      <td>93</td>\n",
       "      <td>1</td>\n",
       "      <td>0.0</td>\n",
       "      <td>0.0</td>\n",
       "      <td>0.0</td>\n",
       "      <td>NaN</td>\n",
       "    </tr>\n",
       "    <tr>\n",
       "      <th>3</th>\n",
       "      <td>1632884400</td>\n",
       "      <td>12.61</td>\n",
       "      <td>12.15</td>\n",
       "      <td>10.34</td>\n",
       "      <td>12.93</td>\n",
       "      <td>1027</td>\n",
       "      <td>85</td>\n",
       "      <td>1.85</td>\n",
       "      <td>NaN</td>\n",
       "      <td>95</td>\n",
       "      <td>1</td>\n",
       "      <td>0.0</td>\n",
       "      <td>0.0</td>\n",
       "      <td>0.0</td>\n",
       "      <td>NaN</td>\n",
       "    </tr>\n",
       "    <tr>\n",
       "      <th>4</th>\n",
       "      <td>1632888000</td>\n",
       "      <td>12.61</td>\n",
       "      <td>12.17</td>\n",
       "      <td>9.79</td>\n",
       "      <td>12.93</td>\n",
       "      <td>1027</td>\n",
       "      <td>86</td>\n",
       "      <td>1.83</td>\n",
       "      <td>NaN</td>\n",
       "      <td>93</td>\n",
       "      <td>1</td>\n",
       "      <td>0.0</td>\n",
       "      <td>0.0</td>\n",
       "      <td>0.0</td>\n",
       "      <td>NaN</td>\n",
       "    </tr>\n",
       "  </tbody>\n",
       "</table>\n",
       "</div>"
      ],
      "text/plain": [
       "    Timestamp  Temperatura  Sensação Térmica  Temperatura Mínima  \\\n",
       "0  1632873600        13.97             13.54               11.45   \n",
       "1  1632877200        13.48             13.02               13.43   \n",
       "2  1632880800        12.93             12.47               12.72   \n",
       "3  1632884400        12.61             12.15               10.34   \n",
       "4  1632888000        12.61             12.17                9.79   \n",
       "\n",
       "   Temperatura Máxima  Pressão Atmosférica  Humidade  Velocidade Vento  \\\n",
       "0               14.04                 1027        81              1.96   \n",
       "1               13.90                 1028        82              1.83   \n",
       "2               13.43                 1027        84              1.96   \n",
       "3               12.93                 1027        85              1.85   \n",
       "4               12.93                 1027        86              1.83   \n",
       "\n",
       "   Precipitação Média  Nebulosidade  Estado do Tempo  Normal  \\\n",
       "0                 NaN            87                1     0.0   \n",
       "1                 NaN            91                1     0.0   \n",
       "2                 NaN            93                1     0.0   \n",
       "3                 NaN            95                1     0.0   \n",
       "4                 NaN            93                1     0.0   \n",
       "\n",
       "   Horário Económico  Autoconsumo Injeção na Rede  \n",
       "0                0.0          0.0             NaN  \n",
       "1                0.0          0.0             NaN  \n",
       "2                0.0          0.0             NaN  \n",
       "3                0.0          0.0             NaN  \n",
       "4                0.0          0.0             NaN  "
      ]
     },
     "execution_count": 232,
     "metadata": {},
     "output_type": "execute_result"
    }
   ],
   "source": [
    "e_m_9 = e_m.copy()\n",
    "e_m_9['Estado do Tempo'] = pd.factorize(e_m_9['Estado do Tempo'])[0] + 1\n",
    "e_m_9.head()"
   ]
  },
  {
   "cell_type": "markdown",
   "metadata": {},
   "source": [
    "### Normalização"
   ]
  },
  {
   "cell_type": "code",
   "execution_count": 259,
   "metadata": {},
   "outputs": [
    {
     "data": {
      "text/html": [
       "<div>\n",
       "<style scoped>\n",
       "    .dataframe tbody tr th:only-of-type {\n",
       "        vertical-align: middle;\n",
       "    }\n",
       "\n",
       "    .dataframe tbody tr th {\n",
       "        vertical-align: top;\n",
       "    }\n",
       "\n",
       "    .dataframe thead th {\n",
       "        text-align: right;\n",
       "    }\n",
       "</style>\n",
       "<table border=\"1\" class=\"dataframe\">\n",
       "  <thead>\n",
       "    <tr style=\"text-align: right;\">\n",
       "      <th></th>\n",
       "      <th>Timestamp</th>\n",
       "      <th>Temperatura</th>\n",
       "      <th>Sensação Térmica</th>\n",
       "      <th>Temperatura Mínima</th>\n",
       "      <th>Temperatura Máxima</th>\n",
       "      <th>Pressão Atmosférica</th>\n",
       "      <th>Humidade</th>\n",
       "      <th>Velocidade Vento</th>\n",
       "      <th>Precipitação Média</th>\n",
       "      <th>Nebulosidade</th>\n",
       "      <th>Normal</th>\n",
       "      <th>Horário Económico</th>\n",
       "      <th>Autoconsumo</th>\n",
       "    </tr>\n",
       "  </thead>\n",
       "  <tbody>\n",
       "    <tr>\n",
       "      <th>count</th>\n",
       "      <td>1.101600e+04</td>\n",
       "      <td>11016.000000</td>\n",
       "      <td>11016.000000</td>\n",
       "      <td>11016.000000</td>\n",
       "      <td>11016.000000</td>\n",
       "      <td>11016.000000</td>\n",
       "      <td>11016.000000</td>\n",
       "      <td>11016.000000</td>\n",
       "      <td>2284.000000</td>\n",
       "      <td>11016.000000</td>\n",
       "      <td>11016.000000</td>\n",
       "      <td>11016.000000</td>\n",
       "      <td>11016.000000</td>\n",
       "    </tr>\n",
       "    <tr>\n",
       "      <th>mean</th>\n",
       "      <td>1.652701e+09</td>\n",
       "      <td>16.182991</td>\n",
       "      <td>15.826868</td>\n",
       "      <td>14.195064</td>\n",
       "      <td>17.288098</td>\n",
       "      <td>1018.396605</td>\n",
       "      <td>76.570715</td>\n",
       "      <td>2.672039</td>\n",
       "      <td>0.896642</td>\n",
       "      <td>54.000908</td>\n",
       "      <td>0.202278</td>\n",
       "      <td>0.159714</td>\n",
       "      <td>0.117314</td>\n",
       "    </tr>\n",
       "    <tr>\n",
       "      <th>std</th>\n",
       "      <td>1.144868e+07</td>\n",
       "      <td>5.756972</td>\n",
       "      <td>6.264860</td>\n",
       "      <td>4.956014</td>\n",
       "      <td>6.164689</td>\n",
       "      <td>6.203379</td>\n",
       "      <td>16.268260</td>\n",
       "      <td>1.476158</td>\n",
       "      <td>1.079381</td>\n",
       "      <td>40.553002</td>\n",
       "      <td>0.349478</td>\n",
       "      <td>0.271792</td>\n",
       "      <td>0.176762</td>\n",
       "    </tr>\n",
       "    <tr>\n",
       "      <th>min</th>\n",
       "      <td>1.632874e+09</td>\n",
       "      <td>0.320000</td>\n",
       "      <td>-2.190000</td>\n",
       "      <td>-0.640000</td>\n",
       "      <td>1.330000</td>\n",
       "      <td>994.000000</td>\n",
       "      <td>19.000000</td>\n",
       "      <td>0.060000</td>\n",
       "      <td>0.100000</td>\n",
       "      <td>0.000000</td>\n",
       "      <td>0.000000</td>\n",
       "      <td>0.000000</td>\n",
       "      <td>0.000000</td>\n",
       "    </tr>\n",
       "    <tr>\n",
       "      <th>25%</th>\n",
       "      <td>1.642787e+09</td>\n",
       "      <td>12.080000</td>\n",
       "      <td>11.507500</td>\n",
       "      <td>10.720000</td>\n",
       "      <td>12.890000</td>\n",
       "      <td>1015.000000</td>\n",
       "      <td>66.000000</td>\n",
       "      <td>1.620000</td>\n",
       "      <td>0.210000</td>\n",
       "      <td>7.000000</td>\n",
       "      <td>0.000000</td>\n",
       "      <td>0.000000</td>\n",
       "      <td>0.000000</td>\n",
       "    </tr>\n",
       "    <tr>\n",
       "      <th>50%</th>\n",
       "      <td>1.652701e+09</td>\n",
       "      <td>15.625000</td>\n",
       "      <td>15.230000</td>\n",
       "      <td>14.230000</td>\n",
       "      <td>16.260000</td>\n",
       "      <td>1018.000000</td>\n",
       "      <td>81.000000</td>\n",
       "      <td>2.400000</td>\n",
       "      <td>0.460000</td>\n",
       "      <td>60.000000</td>\n",
       "      <td>0.000000</td>\n",
       "      <td>0.000000</td>\n",
       "      <td>0.000000</td>\n",
       "    </tr>\n",
       "    <tr>\n",
       "      <th>75%</th>\n",
       "      <td>1.662614e+09</td>\n",
       "      <td>19.270000</td>\n",
       "      <td>19.260000</td>\n",
       "      <td>17.490000</td>\n",
       "      <td>20.340000</td>\n",
       "      <td>1022.000000</td>\n",
       "      <td>91.000000</td>\n",
       "      <td>3.420000</td>\n",
       "      <td>1.092500</td>\n",
       "      <td>98.000000</td>\n",
       "      <td>0.314000</td>\n",
       "      <td>0.288000</td>\n",
       "      <td>0.227000</td>\n",
       "    </tr>\n",
       "    <tr>\n",
       "      <th>max</th>\n",
       "      <td>1.672528e+09</td>\n",
       "      <td>40.850000</td>\n",
       "      <td>41.330000</td>\n",
       "      <td>36.720000</td>\n",
       "      <td>41.450000</td>\n",
       "      <td>1034.000000</td>\n",
       "      <td>100.000000</td>\n",
       "      <td>11.100000</td>\n",
       "      <td>7.450000</td>\n",
       "      <td>100.000000</td>\n",
       "      <td>3.251000</td>\n",
       "      <td>6.978000</td>\n",
       "      <td>1.192000</td>\n",
       "    </tr>\n",
       "  </tbody>\n",
       "</table>\n",
       "</div>"
      ],
      "text/plain": [
       "          Timestamp   Temperatura  Sensação Térmica  Temperatura Mínima  \\\n",
       "count  1.101600e+04  11016.000000      11016.000000        11016.000000   \n",
       "mean   1.652701e+09     16.182991         15.826868           14.195064   \n",
       "std    1.144868e+07      5.756972          6.264860            4.956014   \n",
       "min    1.632874e+09      0.320000         -2.190000           -0.640000   \n",
       "25%    1.642787e+09     12.080000         11.507500           10.720000   \n",
       "50%    1.652701e+09     15.625000         15.230000           14.230000   \n",
       "75%    1.662614e+09     19.270000         19.260000           17.490000   \n",
       "max    1.672528e+09     40.850000         41.330000           36.720000   \n",
       "\n",
       "       Temperatura Máxima  Pressão Atmosférica      Humidade  \\\n",
       "count        11016.000000         11016.000000  11016.000000   \n",
       "mean            17.288098          1018.396605     76.570715   \n",
       "std              6.164689             6.203379     16.268260   \n",
       "min              1.330000           994.000000     19.000000   \n",
       "25%             12.890000          1015.000000     66.000000   \n",
       "50%             16.260000          1018.000000     81.000000   \n",
       "75%             20.340000          1022.000000     91.000000   \n",
       "max             41.450000          1034.000000    100.000000   \n",
       "\n",
       "       Velocidade Vento  Precipitação Média  Nebulosidade        Normal  \\\n",
       "count      11016.000000         2284.000000  11016.000000  11016.000000   \n",
       "mean           2.672039            0.896642     54.000908      0.202278   \n",
       "std            1.476158            1.079381     40.553002      0.349478   \n",
       "min            0.060000            0.100000      0.000000      0.000000   \n",
       "25%            1.620000            0.210000      7.000000      0.000000   \n",
       "50%            2.400000            0.460000     60.000000      0.000000   \n",
       "75%            3.420000            1.092500     98.000000      0.314000   \n",
       "max           11.100000            7.450000    100.000000      3.251000   \n",
       "\n",
       "       Horário Económico   Autoconsumo  \n",
       "count       11016.000000  11016.000000  \n",
       "mean            0.159714      0.117314  \n",
       "std             0.271792      0.176762  \n",
       "min             0.000000      0.000000  \n",
       "25%             0.000000      0.000000  \n",
       "50%             0.000000      0.000000  \n",
       "75%             0.288000      0.227000  \n",
       "max             6.978000      1.192000  "
      ]
     },
     "execution_count": 259,
     "metadata": {},
     "output_type": "execute_result"
    }
   ],
   "source": [
    "e_m.describe()"
   ]
  },
  {
   "cell_type": "code",
   "execution_count": 257,
   "metadata": {},
   "outputs": [],
   "source": [
    "from sklearn import preprocessing"
   ]
  },
  {
   "cell_type": "code",
   "execution_count": 233,
   "metadata": {},
   "outputs": [],
   "source": [
    "e_m_norm = e_m.copy()"
   ]
  },
  {
   "cell_type": "code",
   "execution_count": 261,
   "metadata": {},
   "outputs": [],
   "source": [
    "min_max_scaler = preprocessing.MinMaxScaler(feature_range=(0,1))\n",
    "e_m_norm[['Timestamp']] = min_max_scaler.fit_transform(e_m_norm[['Timestamp']])\n",
    "e_m_norm[['Temperatura']] = min_max_scaler.fit_transform(e_m_norm[['Temperatura']])\n",
    "e_m_norm[['Sensação Térmica']] = min_max_scaler.fit_transform(e_m_norm[['Sensação Térmica']])\n",
    "e_m_norm[['Temperatura Mínima']] = min_max_scaler.fit_transform(e_m_norm[['Temperatura Mínima']])\n",
    "e_m_norm[['Temperatura Máxima']] = min_max_scaler.fit_transform(e_m_norm[['Temperatura Máxima']])\n",
    "e_m_norm[['Pressão Atmosférica']] = min_max_scaler.fit_transform(e_m_norm[['Pressão Atmosférica']])\n",
    "e_m_norm[['Humidade']] = min_max_scaler.fit_transform(e_m_norm[['Humidade']])\n",
    "#Velocidade Vento\n",
    "#Precipitação Média\n",
    "e_m_norm[['Nebulosidade']] = min_max_scaler.fit_transform(e_m_norm[['Nebulosidade']])\n",
    "\n",
    "#test[['delay_in_seconds']] = min_max_scaler.fit_transform(test[['delay_in_seconds']])"
   ]
  },
  {
   "cell_type": "code",
   "execution_count": 263,
   "metadata": {},
   "outputs": [
    {
     "data": {
      "text/html": [
       "<div>\n",
       "<style scoped>\n",
       "    .dataframe tbody tr th:only-of-type {\n",
       "        vertical-align: middle;\n",
       "    }\n",
       "\n",
       "    .dataframe tbody tr th {\n",
       "        vertical-align: top;\n",
       "    }\n",
       "\n",
       "    .dataframe thead th {\n",
       "        text-align: right;\n",
       "    }\n",
       "</style>\n",
       "<table border=\"1\" class=\"dataframe\">\n",
       "  <thead>\n",
       "    <tr style=\"text-align: right;\">\n",
       "      <th></th>\n",
       "      <th>Timestamp</th>\n",
       "      <th>Temperatura</th>\n",
       "      <th>Sensação Térmica</th>\n",
       "      <th>Temperatura Mínima</th>\n",
       "      <th>Temperatura Máxima</th>\n",
       "      <th>Pressão Atmosférica</th>\n",
       "      <th>Humidade</th>\n",
       "      <th>Velocidade Vento</th>\n",
       "      <th>Precipitação Média</th>\n",
       "      <th>Nebulosidade</th>\n",
       "      <th>Normal</th>\n",
       "      <th>Horário Económico</th>\n",
       "      <th>Autoconsumo</th>\n",
       "    </tr>\n",
       "  </thead>\n",
       "  <tbody>\n",
       "    <tr>\n",
       "      <th>count</th>\n",
       "      <td>11016.000000</td>\n",
       "      <td>11016.000000</td>\n",
       "      <td>11016.000000</td>\n",
       "      <td>11016.000000</td>\n",
       "      <td>11016.000000</td>\n",
       "      <td>11016.000000</td>\n",
       "      <td>11016.000000</td>\n",
       "      <td>11016.000000</td>\n",
       "      <td>2284.000000</td>\n",
       "      <td>11016.000000</td>\n",
       "      <td>11016.000000</td>\n",
       "      <td>11016.000000</td>\n",
       "      <td>11016.000000</td>\n",
       "    </tr>\n",
       "    <tr>\n",
       "      <th>mean</th>\n",
       "      <td>0.500000</td>\n",
       "      <td>0.391389</td>\n",
       "      <td>0.413991</td>\n",
       "      <td>0.397084</td>\n",
       "      <td>0.397759</td>\n",
       "      <td>0.609915</td>\n",
       "      <td>0.710750</td>\n",
       "      <td>2.672039</td>\n",
       "      <td>0.896642</td>\n",
       "      <td>0.540009</td>\n",
       "      <td>0.202278</td>\n",
       "      <td>0.159714</td>\n",
       "      <td>0.117314</td>\n",
       "    </tr>\n",
       "    <tr>\n",
       "      <th>std</th>\n",
       "      <td>0.288714</td>\n",
       "      <td>0.142042</td>\n",
       "      <td>0.143954</td>\n",
       "      <td>0.132656</td>\n",
       "      <td>0.153656</td>\n",
       "      <td>0.155084</td>\n",
       "      <td>0.200843</td>\n",
       "      <td>1.476158</td>\n",
       "      <td>1.079381</td>\n",
       "      <td>0.405530</td>\n",
       "      <td>0.349478</td>\n",
       "      <td>0.271792</td>\n",
       "      <td>0.176762</td>\n",
       "    </tr>\n",
       "    <tr>\n",
       "      <th>min</th>\n",
       "      <td>0.000000</td>\n",
       "      <td>0.000000</td>\n",
       "      <td>0.000000</td>\n",
       "      <td>0.000000</td>\n",
       "      <td>0.000000</td>\n",
       "      <td>0.000000</td>\n",
       "      <td>0.000000</td>\n",
       "      <td>0.060000</td>\n",
       "      <td>0.100000</td>\n",
       "      <td>0.000000</td>\n",
       "      <td>0.000000</td>\n",
       "      <td>0.000000</td>\n",
       "      <td>0.000000</td>\n",
       "    </tr>\n",
       "    <tr>\n",
       "      <th>25%</th>\n",
       "      <td>0.250000</td>\n",
       "      <td>0.290155</td>\n",
       "      <td>0.314740</td>\n",
       "      <td>0.304069</td>\n",
       "      <td>0.288136</td>\n",
       "      <td>0.525000</td>\n",
       "      <td>0.580247</td>\n",
       "      <td>1.620000</td>\n",
       "      <td>0.210000</td>\n",
       "      <td>0.070000</td>\n",
       "      <td>0.000000</td>\n",
       "      <td>0.000000</td>\n",
       "      <td>0.000000</td>\n",
       "    </tr>\n",
       "    <tr>\n",
       "      <th>50%</th>\n",
       "      <td>0.500000</td>\n",
       "      <td>0.377622</td>\n",
       "      <td>0.400276</td>\n",
       "      <td>0.398019</td>\n",
       "      <td>0.372134</td>\n",
       "      <td>0.600000</td>\n",
       "      <td>0.765432</td>\n",
       "      <td>2.400000</td>\n",
       "      <td>0.460000</td>\n",
       "      <td>0.600000</td>\n",
       "      <td>0.000000</td>\n",
       "      <td>0.000000</td>\n",
       "      <td>0.000000</td>\n",
       "    </tr>\n",
       "    <tr>\n",
       "      <th>75%</th>\n",
       "      <td>0.750000</td>\n",
       "      <td>0.467555</td>\n",
       "      <td>0.492877</td>\n",
       "      <td>0.485278</td>\n",
       "      <td>0.473829</td>\n",
       "      <td>0.700000</td>\n",
       "      <td>0.888889</td>\n",
       "      <td>3.420000</td>\n",
       "      <td>1.092500</td>\n",
       "      <td>0.980000</td>\n",
       "      <td>0.314000</td>\n",
       "      <td>0.288000</td>\n",
       "      <td>0.227000</td>\n",
       "    </tr>\n",
       "    <tr>\n",
       "      <th>max</th>\n",
       "      <td>1.000000</td>\n",
       "      <td>1.000000</td>\n",
       "      <td>1.000000</td>\n",
       "      <td>1.000000</td>\n",
       "      <td>1.000000</td>\n",
       "      <td>1.000000</td>\n",
       "      <td>1.000000</td>\n",
       "      <td>11.100000</td>\n",
       "      <td>7.450000</td>\n",
       "      <td>1.000000</td>\n",
       "      <td>3.251000</td>\n",
       "      <td>6.978000</td>\n",
       "      <td>1.192000</td>\n",
       "    </tr>\n",
       "  </tbody>\n",
       "</table>\n",
       "</div>"
      ],
      "text/plain": [
       "          Timestamp   Temperatura  Sensação Térmica  Temperatura Mínima  \\\n",
       "count  11016.000000  11016.000000      11016.000000        11016.000000   \n",
       "mean       0.500000      0.391389          0.413991            0.397084   \n",
       "std        0.288714      0.142042          0.143954            0.132656   \n",
       "min        0.000000      0.000000          0.000000            0.000000   \n",
       "25%        0.250000      0.290155          0.314740            0.304069   \n",
       "50%        0.500000      0.377622          0.400276            0.398019   \n",
       "75%        0.750000      0.467555          0.492877            0.485278   \n",
       "max        1.000000      1.000000          1.000000            1.000000   \n",
       "\n",
       "       Temperatura Máxima  Pressão Atmosférica      Humidade  \\\n",
       "count        11016.000000         11016.000000  11016.000000   \n",
       "mean             0.397759             0.609915      0.710750   \n",
       "std              0.153656             0.155084      0.200843   \n",
       "min              0.000000             0.000000      0.000000   \n",
       "25%              0.288136             0.525000      0.580247   \n",
       "50%              0.372134             0.600000      0.765432   \n",
       "75%              0.473829             0.700000      0.888889   \n",
       "max              1.000000             1.000000      1.000000   \n",
       "\n",
       "       Velocidade Vento  Precipitação Média  Nebulosidade        Normal  \\\n",
       "count      11016.000000         2284.000000  11016.000000  11016.000000   \n",
       "mean           2.672039            0.896642      0.540009      0.202278   \n",
       "std            1.476158            1.079381      0.405530      0.349478   \n",
       "min            0.060000            0.100000      0.000000      0.000000   \n",
       "25%            1.620000            0.210000      0.070000      0.000000   \n",
       "50%            2.400000            0.460000      0.600000      0.000000   \n",
       "75%            3.420000            1.092500      0.980000      0.314000   \n",
       "max           11.100000            7.450000      1.000000      3.251000   \n",
       "\n",
       "       Horário Económico   Autoconsumo  \n",
       "count       11016.000000  11016.000000  \n",
       "mean            0.159714      0.117314  \n",
       "std             0.271792      0.176762  \n",
       "min             0.000000      0.000000  \n",
       "25%             0.000000      0.000000  \n",
       "50%             0.000000      0.000000  \n",
       "75%             0.288000      0.227000  \n",
       "max             6.978000      1.192000  "
      ]
     },
     "execution_count": 263,
     "metadata": {},
     "output_type": "execute_result"
    }
   ],
   "source": [
    "e_m_norm.describe()"
   ]
  },
  {
   "cell_type": "markdown",
   "metadata": {},
   "source": [
    "### Tratamento de Outliers"
   ]
  },
  {
   "cell_type": "code",
   "execution_count": 235,
   "metadata": {},
   "outputs": [],
   "source": [
    "sns.set_theme(palette=\"flare\")"
   ]
  },
  {
   "cell_type": "code",
   "execution_count": 236,
   "metadata": {},
   "outputs": [
    {
     "data": {
      "text/plain": [
       "<Axes: >"
      ]
     },
     "execution_count": 236,
     "metadata": {},
     "output_type": "execute_result"
    },
    {
     "data": {
      "image/png": "[encoded data removed]",
      "text/plain": [
       "<Figure size 2000x800 with 1 Axes>"
      ]
     },
     "metadata": {},
     "output_type": "display_data"
    }
   ],
   "source": [
    "plt.subplots(figsize=(20,8))\n",
    "sns.boxplot(data=e_m, orient=\"v\")"
   ]
  },
  {
   "cell_type": "code",
   "execution_count": 237,
   "metadata": {},
   "outputs": [
    {
     "name": "stderr",
     "output_type": "stream",
     "text": [
      "c:\\Users\\Marta\\miniconda3\\envs\\envPython\\lib\\site-packages\\seaborn\\axisgrid.py:118: UserWarning: The figure layout has changed to tight\n",
      "  self._figure.tight_layout(*args, **kwargs)\n"
     ]
    },
    {
     "data": {
      "image/png": "[encoded data removed]",
      "text/plain": [
       "<Figure size 2000x800 with 1 Axes>"
      ]
     },
     "metadata": {},
     "output_type": "display_data"
    }
   ],
   "source": [
    "sns.catplot(x='Injeção na Rede', y='Nebulosidade', data=e_m, kind='box', height=8, aspect=2.5)\n",
    "plt.show()"
   ]
  },
  {
   "cell_type": "code",
   "execution_count": 238,
   "metadata": {},
   "outputs": [
    {
     "data": {
      "image/png": "[encoded data removed]",
      "text/plain": [
       "<Figure size 1000x500 with 1 Axes>"
      ]
     },
     "metadata": {},
     "output_type": "display_data"
    },
    {
     "data": {
      "image/png": "[encoded data removed]",
      "text/plain": [
       "<Figure size 1000x500 with 1 Axes>"
      ]
     },
     "metadata": {},
     "output_type": "display_data"
    },
    {
     "data": {
      "image/png": "[encoded data removed]",
      "text/plain": [
       "<Figure size 1000x500 with 1 Axes>"
      ]
     },
     "metadata": {},
     "output_type": "display_data"
    },
    {
     "data": {
      "image/png": "[encoded data removed]",
      "text/plain": [
       "<Figure size 1000x500 with 1 Axes>"
      ]
     },
     "metadata": {},
     "output_type": "display_data"
    },
    {
     "data": {
      "image/png": "[encoded data removed]",
      "text/plain": [
       "<Figure size 1000x500 with 1 Axes>"
      ]
     },
     "metadata": {},
     "output_type": "display_data"
    },
    {
     "data": {
      "image/png": "[encoded data removed]",
      "text/plain": [
       "<Figure size 1000x500 with 1 Axes>"
      ]
     },
     "metadata": {},
     "output_type": "display_data"
    },
    {
     "data": {
      "image/png": "[encoded data removed]",
      "text/plain": [
       "<Figure size 1000x500 with 1 Axes>"
      ]
     },
     "metadata": {},
     "output_type": "display_data"
    },
    {
     "data": {
      "image/png": "[encoded data removed]",
      "text/plain": [
       "<Figure size 1000x500 with 1 Axes>"
      ]
     },
     "metadata": {},
     "output_type": "display_data"
    },
    {
     "data": {
      "image/png": "[encoded data removed]",
      "text/plain": [
       "<Figure size 1000x500 with 1 Axes>"
      ]
     },
     "metadata": {},
     "output_type": "display_data"
    },
    {
     "data": {
      "image/png": "[encoded data removed]",
      "text/plain": [
       "<Figure size 1000x500 with 1 Axes>"
      ]
     },
     "metadata": {},
     "output_type": "display_data"
    },
    {
     "data": {
      "image/png": "[encoded data removed]",
      "text/plain": [
       "<Figure size 1000x500 with 1 Axes>"
      ]
     },
     "metadata": {},
     "output_type": "display_data"
    },
    {
     "data": {
      "image/png": "[encoded data removed]",
      "text/plain": [
       "<Figure size 1000x500 with 1 Axes>"
      ]
     },
     "metadata": {},
     "output_type": "display_data"
    },
    {
     "data": {
      "image/png": "[encoded data removed]",
      "text/plain": [
       "<Figure size 1000x500 with 1 Axes>"
      ]
     },
     "metadata": {},
     "output_type": "display_data"
    }
   ],
   "source": [
    "numeric_collumns = e_m.select_dtypes(include=np.number)\n",
    "for num in numeric_collumns:\n",
    "    fig = plt.figure(figsize=(10, 5))\n",
    "    sns.boxplot(e_m[num])\n",
    "    plt.title('Box Plot: ' + num, fontsize=15)\n",
    "    plt.show()"
   ]
  },
  {
   "cell_type": "markdown",
   "metadata": {},
   "source": [
    "### Tratamento de Missing Values"
   ]
  },
  {
   "cell_type": "code",
   "execution_count": 240,
   "metadata": {},
   "outputs": [
    {
     "name": "stdout",
     "output_type": "stream",
     "text": [
      "Timestamp                 0\n",
      "Temperatura               0\n",
      "Sensação Térmica          0\n",
      "Temperatura Mínima        0\n",
      "Temperatura Máxima        0\n",
      "Pressão Atmosférica       0\n",
      "Humidade                  0\n",
      "Velocidade Vento          0\n",
      "Precipitação Média     8732\n",
      "Nebulosidade              0\n",
      "Estado do Tempo           0\n",
      "Normal                    0\n",
      "Horário Económico         0\n",
      "Autoconsumo               0\n",
      "Injeção na Rede        7777\n",
      "dtype: int64\n"
     ]
    }
   ],
   "source": [
    "print(e_m.isna().sum())"
   ]
  },
  {
   "cell_type": "markdown",
   "metadata": {},
   "source": [
    "#### Precipitação Média"
   ]
  },
  {
   "cell_type": "code",
   "execution_count": 241,
   "metadata": {},
   "outputs": [
    {
     "data": {
      "text/plain": [
       "count    2284.000000\n",
       "mean        0.896642\n",
       "std         1.079381\n",
       "min         0.100000\n",
       "25%         0.210000\n",
       "50%         0.460000\n",
       "75%         1.092500\n",
       "max         7.450000\n",
       "Name: Precipitação Média, dtype: float64"
      ]
     },
     "execution_count": 241,
     "metadata": {},
     "output_type": "execute_result"
    }
   ],
   "source": [
    "e_m['Precipitação Média'].describe()"
   ]
  },
  {
   "cell_type": "code",
   "execution_count": 242,
   "metadata": {},
   "outputs": [
    {
     "data": {
      "text/plain": [
       "2.4349045847675654"
      ]
     },
     "execution_count": 242,
     "metadata": {},
     "output_type": "execute_result"
    }
   ],
   "source": [
    "e_m['Precipitação Média'].skew()"
   ]
  },
  {
   "cell_type": "code",
   "execution_count": 243,
   "metadata": {},
   "outputs": [
    {
     "data": {
      "text/plain": [
       "7.108283823477523"
      ]
     },
     "execution_count": 243,
     "metadata": {},
     "output_type": "execute_result"
    }
   ],
   "source": [
    "e_m['Precipitação Média'].kurt()"
   ]
  },
  {
   "cell_type": "code",
   "execution_count": 244,
   "metadata": {},
   "outputs": [
    {
     "name": "stderr",
     "output_type": "stream",
     "text": [
      "c:\\Users\\Marta\\miniconda3\\envs\\envPython\\lib\\site-packages\\seaborn\\axisgrid.py:118: UserWarning: The figure layout has changed to tight\n",
      "  self._figure.tight_layout(*args, **kwargs)\n"
     ]
    },
    {
     "data": {
      "text/plain": [
       "<seaborn.axisgrid.FacetGrid at 0x16c92c5a9b0>"
      ]
     },
     "execution_count": 244,
     "metadata": {},
     "output_type": "execute_result"
    },
    {
     "data": {
      "image/png": "[encoded data removed]",
      "text/plain": [
       "<Figure size 500x500 with 1 Axes>"
      ]
     },
     "metadata": {},
     "output_type": "display_data"
    }
   ],
   "source": [
    "sns.displot(e_m, x='Precipitação Média', kde=True)"
   ]
  },
  {
   "cell_type": "markdown",
   "metadata": {},
   "source": [
    "Remover a coluna"
   ]
  },
  {
   "cell_type": "code",
   "execution_count": 245,
   "metadata": {},
   "outputs": [],
   "source": [
    "e_m_missing_1 = e_m.copy() "
   ]
  },
  {
   "cell_type": "code",
   "execution_count": 246,
   "metadata": {},
   "outputs": [
    {
     "data": {
      "text/plain": [
       "Index(['Timestamp', 'Temperatura', 'Sensação Térmica', 'Temperatura Mínima',\n",
       "       'Temperatura Máxima', 'Pressão Atmosférica', 'Humidade',\n",
       "       'Velocidade Vento', 'Nebulosidade', 'Estado do Tempo', 'Normal',\n",
       "       'Horário Económico', 'Autoconsumo', 'Injeção na Rede'],\n",
       "      dtype='object')"
      ]
     },
     "execution_count": 246,
     "metadata": {},
     "output_type": "execute_result"
    }
   ],
   "source": [
    "e_m_missing_1.drop(['Precipitação Média'], axis=1, inplace=True)\n",
    "e_m_missing_1.columns"
   ]
  },
  {
   "cell_type": "markdown",
   "metadata": {},
   "source": [
    "Substituir os valores NaN pela mediana"
   ]
  },
  {
   "cell_type": "code",
   "execution_count": 247,
   "metadata": {},
   "outputs": [],
   "source": [
    "e_m_missing_2 = e_m.copy()"
   ]
  },
  {
   "cell_type": "code",
   "execution_count": 248,
   "metadata": {},
   "outputs": [],
   "source": [
    "def substitute_mean(row):\n",
    "    if pd.isna(row['Precipitação Média']):\n",
    "        return e_m_missing_2['Precipitação Média'].median()\n",
    "    return row['Precipitação Média']"
   ]
  },
  {
   "cell_type": "code",
   "execution_count": 250,
   "metadata": {},
   "outputs": [
    {
     "name": "stderr",
     "output_type": "stream",
     "text": [
      "c:\\Users\\Marta\\miniconda3\\envs\\envPython\\lib\\site-packages\\seaborn\\axisgrid.py:118: UserWarning: The figure layout has changed to tight\n",
      "  self._figure.tight_layout(*args, **kwargs)\n"
     ]
    },
    {
     "data": {
      "text/plain": [
       "<seaborn.axisgrid.FacetGrid at 0x16c93fd7d00>"
      ]
     },
     "execution_count": 250,
     "metadata": {},
     "output_type": "execute_result"
    },
    {
     "data": {
      "image/png": "[encoded data removed]",
      "text/plain": [
       "<Figure size 500x500 with 1 Axes>"
      ]
     },
     "metadata": {},
     "output_type": "display_data"
    }
   ],
   "source": [
    "e_m_missing_2['Precipitação Média'] = e_m_missing_2.apply(substitute_mean, axis=1)\n",
    "sns.displot(e_m_missing_2, x='Precipitação Média', kde=True)"
   ]
  },
  {
   "cell_type": "markdown",
   "metadata": {},
   "source": [
    "Substituir os valores NaN pela média"
   ]
  },
  {
   "cell_type": "code",
   "execution_count": 249,
   "metadata": {},
   "outputs": [],
   "source": [
    "e_m_missing_3 = e_m.copy()"
   ]
  },
  {
   "cell_type": "code",
   "execution_count": 251,
   "metadata": {},
   "outputs": [],
   "source": [
    "def substitute_mean(row):\n",
    "    if pd.isna(row['Precipitação Média']):\n",
    "        return e_m_missing_3['Precipitação Média'].mean()\n",
    "    return row['Precipitação Média']"
   ]
  },
  {
   "cell_type": "code",
   "execution_count": 252,
   "metadata": {},
   "outputs": [
    {
     "name": "stderr",
     "output_type": "stream",
     "text": [
      "c:\\Users\\Marta\\miniconda3\\envs\\envPython\\lib\\site-packages\\seaborn\\axisgrid.py:118: UserWarning: The figure layout has changed to tight\n",
      "  self._figure.tight_layout(*args, **kwargs)\n"
     ]
    },
    {
     "data": {
      "text/plain": [
       "<seaborn.axisgrid.FacetGrid at 0x16c943f5de0>"
      ]
     },
     "execution_count": 252,
     "metadata": {},
     "output_type": "execute_result"
    },
    {
     "data": {
      "image/png": "[encoded data removed]",
      "text/plain": [
       "<Figure size 500x500 with 1 Axes>"
      ]
     },
     "metadata": {},
     "output_type": "display_data"
    }
   ],
   "source": [
    "e_m_missing_3['Precipitação Média'] = e_m_missing_3.apply(substitute_mean, axis=1)\n",
    "sns.displot(e_m_missing_3, x='Precipitação Média', kde=True)"
   ]
  },
  {
   "cell_type": "markdown",
   "metadata": {},
   "source": [
    "Interpolação"
   ]
  },
  {
   "cell_type": "code",
   "execution_count": 253,
   "metadata": {},
   "outputs": [],
   "source": [
    "e_m_missing_4 = e_m.copy()"
   ]
  },
  {
   "cell_type": "code",
   "execution_count": 254,
   "metadata": {},
   "outputs": [
    {
     "name": "stderr",
     "output_type": "stream",
     "text": [
      "c:\\Users\\Marta\\miniconda3\\envs\\envPython\\lib\\site-packages\\seaborn\\axisgrid.py:118: UserWarning: The figure layout has changed to tight\n",
      "  self._figure.tight_layout(*args, **kwargs)\n"
     ]
    },
    {
     "data": {
      "text/plain": [
       "<seaborn.axisgrid.FacetGrid at 0x16c94457760>"
      ]
     },
     "execution_count": 254,
     "metadata": {},
     "output_type": "execute_result"
    },
    {
     "data": {
      "image/png": "[encoded data removed]",
      "text/plain": [
       "<Figure size 500x500 with 1 Axes>"
      ]
     },
     "metadata": {},
     "output_type": "display_data"
    }
   ],
   "source": [
    "methods = [\"akima\", \"linear\", \"quadratic\", \"cubic\"]\n",
    "e_m_missing_4['Precipitação Média'] = e_m_missing_4['Precipitação Média'].interpolate(method='linear')\n",
    "sns.displot(e_m_missing_3, x='Precipitação Média', kde=True)"
   ]
  },
  {
   "cell_type": "markdown",
   "metadata": {},
   "source": [
    "### Exploratory Data Analysis "
   ]
  },
  {
   "cell_type": "code",
   "execution_count": null,
   "metadata": {},
   "outputs": [],
   "source": [
    "#fig = plt.figure(figsize = (10,10))\n",
    "#incidents_corr = e_m.corr(method = 'pearson')\n",
    "#sns.heatmap(incidents_corr, linecolor = 'black', linewidths = 0.5)"
   ]
  },
  {
   "cell_type": "code",
   "execution_count": null,
   "metadata": {},
   "outputs": [],
   "source": [
    "#-sns.pairplot(e_m)"
   ]
  },
  {
   "cell_type": "code",
   "execution_count": null,
   "metadata": {},
   "outputs": [],
   "source": [
    "#sns.set_palette(\"GnBu_d\")\n",
    "#sns.set_style('whitegrid')\n",
    "#sns.jointplot(x='magnitude_of_delay', y='delay_in_seconds', data = e_m)"
   ]
  },
  {
   "cell_type": "code",
   "execution_count": null,
   "metadata": {},
   "outputs": [],
   "source": [
    "#sns.joinplot(x='',y='',data=e_m)"
   ]
  },
  {
   "cell_type": "code",
   "execution_count": null,
   "metadata": {},
   "outputs": [],
   "source": [
    "#sns.Implot(x='',y='',data=e_m)"
   ]
  },
  {
   "cell_type": "markdown",
   "metadata": {},
   "source": [
    "## Modelos"
   ]
  },
  {
   "cell_type": "markdown",
   "metadata": {},
   "source": [
    "### Decision Tree"
   ]
  }
 ],
 "metadata": {
  "kernelspec": {
   "display_name": "envPython",
   "language": "python",
   "name": "python3"
  },
  "language_info": {
   "codemirror_mode": {
    "name": "ipython",
    "version": 3
   },
   "file_extension": ".py",
   "mimetype": "text/x-python",
   "name": "python",
   "nbconvert_exporter": "python",
   "pygments_lexer": "ipython3",
   "version": "3.10.0"
  }
 },
 "nbformat": 4,
 "nbformat_minor": 2
}
