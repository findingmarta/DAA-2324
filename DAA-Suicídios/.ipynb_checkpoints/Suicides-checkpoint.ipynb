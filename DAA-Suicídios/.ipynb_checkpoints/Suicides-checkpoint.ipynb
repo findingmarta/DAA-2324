{
 "cells": [
  {
   "cell_type": "markdown",
   "id": "1c8c386d",
   "metadata": {},
   "source": [
    "## Introdução\n",
    "\n",
    "O dataset que escolhemos foi “Suicide Rates Overview 1985 to 2016” e o nosso\n",
    "objetivo é observar como os atributos presentes neste dataset e as relações entre eles têm\n",
    "impacto no atributo suicides_no (número de suicídios). Assim, para efetuar esta análise,\n",
    "usamos o ambiente miniconda."
   ]
  },
  {
   "cell_type": "code",
   "execution_count": 1,
   "id": "c4b16101",
   "metadata": {},
   "outputs": [],
   "source": [
    "'''import libraries'''\n",
    "import sklearn as skl\n",
    "import pandas as pd\n",
    "import matplotlib.pyplot as plt\n",
    "import seaborn as sns\n",
    "import numpy as np\n",
    "from sklearn import preprocessing\n",
    "from sklearn.linear_model import LinearRegression\n",
    "from sklearn.model_selection import train_test_split\n",
    "from sklearn.model_selection import cross_val_score\n",
    "from sklearn.model_selection import KFold\n",
    "from sklearn.tree import DecisionTreeRegressor\n",
    "from sklearn import metrics\n",
    "from sklearn.metrics import classification_report\n",
    "from sklearn.metrics import ConfusionMatrixDisplay\n",
    "from sklearn.metrics import r2_score\n",
    "from sklearn.metrics import confusion_matrix\n",
    "from sklearn.metrics import recall_score\n",
    "from sklearn.metrics import accuracy_score\n",
    "from sklearn.metrics import precision_score\n",
    "from sklearn.metrics import roc_auc_score\n",
    "from sklearn.metrics import roc_curve\n",
    "from sklearn.metrics import f1_score\n",
    "from sklearn.metrics import fbeta_score\n",
    "from sklearn.metrics import mean_absolute_error\n",
    "from sklearn.metrics import mean_squared_error\n",
    "from sklearn.model_selection import cross_val_score"
   ]
  },
  {
   "cell_type": "markdown",
   "id": "77dd73c1",
   "metadata": {},
   "source": [
    "## Análise dos dados\n",
    "\n",
    "\n",
    "### Descrição dos atributos\n",
    "De forma a perceber a melhor forma de abordar o problema, começamos por\n",
    "analisar as features do dataset, Assim, podemos verificar que o dataset é composto pelos\n",
    "seguintes atributos:\n",
    "* **country**: variável do tipo string que identifica o país analisado.\n",
    "* **year**: variável do tipo int que representa o ano correspondente ao levantamento dos dados.\n",
    "* **sex**: variável do tipo string que define o sexo das pessoas que cometeram suicídio.\n",
    "* **age**: variável do tipo string que representa a faixa etária dos individuos que cometeram suicídio.\n",
    "* **suicides_no**: variável do tipo int que corresponde ao número de suicídios ocorridos.\n",
    "* **population**: variável do tipo int que define a população de um determinado país num determinado ano.\n",
    "* **suicides/100k pop**: variável do tipo double que corresponde ao número de suicídios por cada 100 mil habitantes .\n",
    "* **country-year**: variável do tipo string que representa o país e o ano correspondente ao levantamento de dados .\n",
    "* **HDI for year**: variável do tipo double que corresponde ao índice de desenvolvimento humano.\n",
    "* **gdp_for_year**: variável do tipo string que representa o grau de desenvolvimento de um país num determinado ano\n",
    "* **gdp_per_capita**: variável do tipo inteiro que representa o grau de desenvolvimento de um país per capita.\n",
    "* **generation**: variável do tipo string que representa a geração do conjunto de pessoas que cometeram suicidio.\n",
    "\n"
   ]
  },
  {
   "cell_type": "code",
   "execution_count": 2,
   "id": "68922fe0",
   "metadata": {},
   "outputs": [],
   "source": [
    "'''Load CSV'''\n",
    "df = pd.read_csv('master.csv')"
   ]
  },
  {
   "cell_type": "code",
   "execution_count": 3,
   "id": "d738fabe",
   "metadata": {},
   "outputs": [
    {
     "name": "stdout",
     "output_type": "stream",
     "text": [
      "<class 'pandas.core.frame.DataFrame'>\n",
      "RangeIndex: 27820 entries, 0 to 27819\n",
      "Data columns (total 12 columns):\n",
      " #   Column              Non-Null Count  Dtype  \n",
      "---  ------              --------------  -----  \n",
      " 0   country             27820 non-null  object \n",
      " 1   year                27820 non-null  int64  \n",
      " 2   sex                 27820 non-null  object \n",
      " 3   age                 27820 non-null  object \n",
      " 4   suicides_no         27820 non-null  int64  \n",
      " 5   population          27820 non-null  int64  \n",
      " 6   suicides/100k pop   27820 non-null  float64\n",
      " 7   country-year        27820 non-null  object \n",
      " 8   HDI for year        8364 non-null   float64\n",
      " 9    gdp_for_year ($)   27820 non-null  object \n",
      " 10  gdp_per_capita ($)  27820 non-null  int64  \n",
      " 11  generation          27820 non-null  object \n",
      "dtypes: float64(2), int64(4), object(6)\n",
      "memory usage: 2.5+ MB\n"
     ]
    }
   ],
   "source": [
    "df.info()"
   ]
  },
  {
   "cell_type": "code",
   "execution_count": 4,
   "id": "84f8cb26",
   "metadata": {},
   "outputs": [
    {
     "data": {
      "text/html": [
       "<div>\n",
       "<style scoped>\n",
       "    .dataframe tbody tr th:only-of-type {\n",
       "        vertical-align: middle;\n",
       "    }\n",
       "\n",
       "    .dataframe tbody tr th {\n",
       "        vertical-align: top;\n",
       "    }\n",
       "\n",
       "    .dataframe thead th {\n",
       "        text-align: right;\n",
       "    }\n",
       "</style>\n",
       "<table border=\"1\" class=\"dataframe\">\n",
       "  <thead>\n",
       "    <tr style=\"text-align: right;\">\n",
       "      <th></th>\n",
       "      <th>country</th>\n",
       "      <th>year</th>\n",
       "      <th>sex</th>\n",
       "      <th>age</th>\n",
       "      <th>suicides_no</th>\n",
       "      <th>population</th>\n",
       "      <th>suicides/100k pop</th>\n",
       "      <th>country-year</th>\n",
       "      <th>HDI for year</th>\n",
       "      <th>gdp_for_year ($)</th>\n",
       "      <th>gdp_per_capita ($)</th>\n",
       "      <th>generation</th>\n",
       "    </tr>\n",
       "  </thead>\n",
       "  <tbody>\n",
       "    <tr>\n",
       "      <th>0</th>\n",
       "      <td>Albania</td>\n",
       "      <td>1987</td>\n",
       "      <td>male</td>\n",
       "      <td>15-24 years</td>\n",
       "      <td>21</td>\n",
       "      <td>312900</td>\n",
       "      <td>6.71</td>\n",
       "      <td>Albania1987</td>\n",
       "      <td>NaN</td>\n",
       "      <td>2,156,624,900</td>\n",
       "      <td>796</td>\n",
       "      <td>Generation X</td>\n",
       "    </tr>\n",
       "    <tr>\n",
       "      <th>1</th>\n",
       "      <td>Albania</td>\n",
       "      <td>1987</td>\n",
       "      <td>male</td>\n",
       "      <td>35-54 years</td>\n",
       "      <td>16</td>\n",
       "      <td>308000</td>\n",
       "      <td>5.19</td>\n",
       "      <td>Albania1987</td>\n",
       "      <td>NaN</td>\n",
       "      <td>2,156,624,900</td>\n",
       "      <td>796</td>\n",
       "      <td>Silent</td>\n",
       "    </tr>\n",
       "    <tr>\n",
       "      <th>2</th>\n",
       "      <td>Albania</td>\n",
       "      <td>1987</td>\n",
       "      <td>female</td>\n",
       "      <td>15-24 years</td>\n",
       "      <td>14</td>\n",
       "      <td>289700</td>\n",
       "      <td>4.83</td>\n",
       "      <td>Albania1987</td>\n",
       "      <td>NaN</td>\n",
       "      <td>2,156,624,900</td>\n",
       "      <td>796</td>\n",
       "      <td>Generation X</td>\n",
       "    </tr>\n",
       "    <tr>\n",
       "      <th>3</th>\n",
       "      <td>Albania</td>\n",
       "      <td>1987</td>\n",
       "      <td>male</td>\n",
       "      <td>75+ years</td>\n",
       "      <td>1</td>\n",
       "      <td>21800</td>\n",
       "      <td>4.59</td>\n",
       "      <td>Albania1987</td>\n",
       "      <td>NaN</td>\n",
       "      <td>2,156,624,900</td>\n",
       "      <td>796</td>\n",
       "      <td>G.I. Generation</td>\n",
       "    </tr>\n",
       "    <tr>\n",
       "      <th>4</th>\n",
       "      <td>Albania</td>\n",
       "      <td>1987</td>\n",
       "      <td>male</td>\n",
       "      <td>25-34 years</td>\n",
       "      <td>9</td>\n",
       "      <td>274300</td>\n",
       "      <td>3.28</td>\n",
       "      <td>Albania1987</td>\n",
       "      <td>NaN</td>\n",
       "      <td>2,156,624,900</td>\n",
       "      <td>796</td>\n",
       "      <td>Boomers</td>\n",
       "    </tr>\n",
       "  </tbody>\n",
       "</table>\n",
       "</div>"
      ],
      "text/plain": [
       "   country  year     sex          age  suicides_no  population  \\\n",
       "0  Albania  1987    male  15-24 years           21      312900   \n",
       "1  Albania  1987    male  35-54 years           16      308000   \n",
       "2  Albania  1987  female  15-24 years           14      289700   \n",
       "3  Albania  1987    male    75+ years            1       21800   \n",
       "4  Albania  1987    male  25-34 years            9      274300   \n",
       "\n",
       "   suicides/100k pop country-year  HDI for year  gdp_for_year ($)   \\\n",
       "0               6.71  Albania1987           NaN      2,156,624,900   \n",
       "1               5.19  Albania1987           NaN      2,156,624,900   \n",
       "2               4.83  Albania1987           NaN      2,156,624,900   \n",
       "3               4.59  Albania1987           NaN      2,156,624,900   \n",
       "4               3.28  Albania1987           NaN      2,156,624,900   \n",
       "\n",
       "   gdp_per_capita ($)       generation  \n",
       "0                 796     Generation X  \n",
       "1                 796           Silent  \n",
       "2                 796     Generation X  \n",
       "3                 796  G.I. Generation  \n",
       "4                 796          Boomers  "
      ]
     },
     "execution_count": 4,
     "metadata": {},
     "output_type": "execute_result"
    }
   ],
   "source": [
    "''''''\n",
    "df.head()"
   ]
  },
  {
   "cell_type": "code",
   "execution_count": 5,
   "id": "7e1df637",
   "metadata": {
    "scrolled": true
   },
   "outputs": [
    {
     "name": "stdout",
     "output_type": "stream",
     "text": [
      "27719\n"
     ]
    }
   ],
   "source": [
    "# Contar o número de registos repetidos\n",
    "print(df['country'].duplicated().sum())"
   ]
  },
  {
   "cell_type": "code",
   "execution_count": 6,
   "id": "f280c6ec",
   "metadata": {},
   "outputs": [
    {
     "name": "stdout",
     "output_type": "stream",
     "text": [
      "<class 'pandas.core.frame.DataFrame'>\n",
      "RangeIndex: 27820 entries, 0 to 27819\n",
      "Data columns (total 12 columns):\n",
      " #   Column             Non-Null Count  Dtype  \n",
      "---  ------             --------------  -----  \n",
      " 0   country            27820 non-null  object \n",
      " 1   year               27820 non-null  int64  \n",
      " 2   sex                27820 non-null  object \n",
      " 3   age                27820 non-null  object \n",
      " 4   suicides_no        27820 non-null  int64  \n",
      " 5   population         27820 non-null  int64  \n",
      " 6   suicides/100k pop  27820 non-null  float64\n",
      " 7   country-year       27820 non-null  object \n",
      " 8   HDI for year       8364 non-null   float64\n",
      " 9   gdp_for_year       27820 non-null  object \n",
      " 10  gdp_per_capita     27820 non-null  int64  \n",
      " 11  generation         27820 non-null  object \n",
      "dtypes: float64(2), int64(4), object(6)\n",
      "memory usage: 2.5+ MB\n"
     ]
    }
   ],
   "source": [
    "\n",
    "'''\n",
    "Rename complicated columns' names\n",
    "'''  \n",
    "df.rename(columns={\" gdp_for_year ($) \": \"gdp_for_year\"}, inplace=True)\n",
    "df.rename(columns={\"gdp_per_capita ($)\": \"gdp_per_capita\"}, inplace=True)\n",
    "df.info()\n"
   ]
  },
  {
   "cell_type": "code",
   "execution_count": 7,
   "id": "48a6b35c",
   "metadata": {},
   "outputs": [],
   "source": [
    "df[\"gdp_for_year\"] = df[\"gdp_for_year\"].replace(\",\", \"\", regex=True)\n"
   ]
  },
  {
   "cell_type": "code",
   "execution_count": 8,
   "id": "8edf23fb",
   "metadata": {
    "scrolled": true
   },
   "outputs": [
    {
     "name": "stdout",
     "output_type": "stream",
     "text": [
      "          country  year     sex          age  suicides_no  population  \\\n",
      "0         Albania  1987    male  15-24 years           21      312900   \n",
      "1         Albania  1987    male  35-54 years           16      308000   \n",
      "2         Albania  1987  female  15-24 years           14      289700   \n",
      "3         Albania  1987    male    75+ years            1       21800   \n",
      "4         Albania  1987    male  25-34 years            9      274300   \n",
      "...           ...   ...     ...          ...          ...         ...   \n",
      "27815  Uzbekistan  2014  female  35-54 years          107     3620833   \n",
      "27816  Uzbekistan  2014  female    75+ years            9      348465   \n",
      "27817  Uzbekistan  2014    male   5-14 years           60     2762158   \n",
      "27818  Uzbekistan  2014  female   5-14 years           44     2631600   \n",
      "27819  Uzbekistan  2014  female  55-74 years           21     1438935   \n",
      "\n",
      "       suicides/100k pop    country-year  HDI for year  gdp_for_year  \\\n",
      "0                   6.71     Albania1987           NaN    2156624900   \n",
      "1                   5.19     Albania1987           NaN    2156624900   \n",
      "2                   4.83     Albania1987           NaN    2156624900   \n",
      "3                   4.59     Albania1987           NaN    2156624900   \n",
      "4                   3.28     Albania1987           NaN    2156624900   \n",
      "...                  ...             ...           ...           ...   \n",
      "27815               2.96  Uzbekistan2014         0.675   63067077179   \n",
      "27816               2.58  Uzbekistan2014         0.675   63067077179   \n",
      "27817               2.17  Uzbekistan2014         0.675   63067077179   \n",
      "27818               1.67  Uzbekistan2014         0.675   63067077179   \n",
      "27819               1.46  Uzbekistan2014         0.675   63067077179   \n",
      "\n",
      "       gdp_per_capita       generation  \n",
      "0                 796     Generation X  \n",
      "1                 796           Silent  \n",
      "2                 796     Generation X  \n",
      "3                 796  G.I. Generation  \n",
      "4                 796          Boomers  \n",
      "...               ...              ...  \n",
      "27815            2309     Generation X  \n",
      "27816            2309           Silent  \n",
      "27817            2309     Generation Z  \n",
      "27818            2309     Generation Z  \n",
      "27819            2309          Boomers  \n",
      "\n",
      "[27820 rows x 12 columns]\n"
     ]
    }
   ],
   "source": [
    "df[\"gdp_for_year\"] = df[\"gdp_for_year\"].astype(\"int64\")\n",
    "print(df)"
   ]
  },
  {
   "cell_type": "code",
   "execution_count": 9,
   "id": "e449fead",
   "metadata": {
    "scrolled": true
   },
   "outputs": [
    {
     "name": "stdout",
     "output_type": "stream",
     "text": [
      "          country  year     sex          age  suicides_no  population  \\\n",
      "0         Albania  1987    male  15-24 years           21      312900   \n",
      "1         Albania  1987    male  35-54 years           16      308000   \n",
      "2         Albania  1987  female  15-24 years           14      289700   \n",
      "3         Albania  1987    male    75+ years            1       21800   \n",
      "4         Albania  1987    male  25-34 years            9      274300   \n",
      "...           ...   ...     ...          ...          ...         ...   \n",
      "27815  Uzbekistan  2014  female  35-54 years          107     3620833   \n",
      "27816  Uzbekistan  2014  female    75+ years            9      348465   \n",
      "27817  Uzbekistan  2014    male   5-14 years           60     2762158   \n",
      "27818  Uzbekistan  2014  female   5-14 years           44     2631600   \n",
      "27819  Uzbekistan  2014  female  55-74 years           21     1438935   \n",
      "\n",
      "       suicides/100k pop    country-year  HDI for year  gdp_for_year  \\\n",
      "0                   6.71     Albania1987           NaN    2156624900   \n",
      "1                   5.19     Albania1987           NaN    2156624900   \n",
      "2                   4.83     Albania1987           NaN    2156624900   \n",
      "3                   4.59     Albania1987           NaN    2156624900   \n",
      "4                   3.28     Albania1987           NaN    2156624900   \n",
      "...                  ...             ...           ...           ...   \n",
      "27815               2.96  Uzbekistan2014         0.675   63067077179   \n",
      "27816               2.58  Uzbekistan2014         0.675   63067077179   \n",
      "27817               2.17  Uzbekistan2014         0.675   63067077179   \n",
      "27818               1.67  Uzbekistan2014         0.675   63067077179   \n",
      "27819               1.46  Uzbekistan2014         0.675   63067077179   \n",
      "\n",
      "       gdp_per_capita       generation  country(to number)  \n",
      "0                 796     Generation X                   3  \n",
      "1                 796           Silent                   3  \n",
      "2                 796     Generation X                   3  \n",
      "3                 796  G.I. Generation                   3  \n",
      "4                 796          Boomers                   3  \n",
      "...               ...              ...                 ...  \n",
      "27815            2309     Generation X                1023  \n",
      "27816            2309           Silent                1023  \n",
      "27817            2309     Generation Z                1023  \n",
      "27818            2309     Generation Z                1023  \n",
      "27819            2309          Boomers                1023  \n",
      "\n",
      "[27820 rows x 13 columns]\n"
     ]
    }
   ],
   "source": [
    "\"\"\"\n",
    "Replace each country with a number\n",
    "\"\"\"\n",
    "\n",
    "unique_countries = df['country'].unique()\n",
    "country_to_number = {}\n",
    "\n",
    "iteracoes = len(unique_countries)\n",
    "\n",
    "numeros = set()\n",
    "\n",
    "while len(numeros) < iteracoes:\n",
    "    numeros.add(np.random.randint(1, iteracoes * 21))\n",
    "\n",
    "\n",
    "for i in range(len(unique_countries)):\n",
    "    country_to_number[unique_countries[i]] = numeros.pop() \n",
    "    #print(f\"{unique_countries[i]} : {country_to_number[unique_countries[i]]}\")\n",
    "\n",
    "# Adicione a coluna \"country(to number)\" ao DataFrame usando o mapeamento\n",
    "df['country(to number)'] = df['country'].map(country_to_number)\n",
    "\n",
    "# Exiba o DataFrame resultante\n",
    "print(df)\n"
   ]
  },
  {
   "cell_type": "code",
   "execution_count": 10,
   "id": "788ef056",
   "metadata": {},
   "outputs": [
    {
     "name": "stdout",
     "output_type": "stream",
     "text": [
      "['15-24 years' '35-54 years' '75+ years' '25-34 years' '55-74 years'\n",
      " '5-14 years']\n"
     ]
    }
   ],
   "source": [
    "print(df['age'].unique())"
   ]
  },
  {
   "cell_type": "code",
   "execution_count": 11,
   "id": "cb79f5ce",
   "metadata": {},
   "outputs": [
    {
     "name": "stdout",
     "output_type": "stream",
     "text": [
      "32\n"
     ]
    }
   ],
   "source": [
    "print(len(df['year'].unique()))"
   ]
  },
  {
   "cell_type": "code",
   "execution_count": 12,
   "id": "cc8cc5e7",
   "metadata": {},
   "outputs": [],
   "source": [
    "\"\"\"\n",
    "Remove as colunas country-year e country\n",
    "\"\"\"\n",
    "df = df.drop(['country-year','country'], axis=1)"
   ]
  },
  {
   "cell_type": "markdown",
   "id": "e230336a",
   "metadata": {},
   "source": [
    "## Tratamento de Dados"
   ]
  },
  {
   "cell_type": "code",
   "execution_count": 13,
   "id": "f66da5ff",
   "metadata": {},
   "outputs": [],
   "source": [
    "\"\"\"\n",
    "Replace each sex with a number\n",
    "\"\"\"\n",
    "\n",
    "# Crie um dicionário que mapeia cada sexo para um número\n",
    "sex_to_number = {'male': 0, 'female': 1}\n",
    "\n",
    "# Adicione a coluna \"sex\" ao DataFrame usando o mapeamento\n",
    "df['sex'] = df['sex'].map(sex_to_number)"
   ]
  },
  {
   "cell_type": "code",
   "execution_count": 14,
   "id": "8d01b392",
   "metadata": {},
   "outputs": [
    {
     "name": "stdout",
     "output_type": "stream",
     "text": [
      "For the Generation X generation we have this ages: \n",
      "\n",
      "  15-24 years\n",
      "\n",
      "  5-14 years\n",
      "\n",
      "  25-34 years\n",
      "\n",
      "  35-54 years\n",
      "\n",
      "For the Silent generation we have this ages: \n",
      "\n",
      "  35-54 years\n",
      "\n",
      "  55-74 years\n",
      "\n",
      "  75+ years\n",
      "\n",
      "For the G.I. Generation generation we have this ages: \n",
      "\n",
      "  75+ years\n",
      "\n",
      "  55-74 years\n",
      "\n",
      "For the Boomers generation we have this ages: \n",
      "\n",
      "  25-34 years\n",
      "\n",
      "  35-54 years\n",
      "\n",
      "  55-74 years\n",
      "\n",
      "For the Millenials generation we have this ages: \n",
      "\n",
      "  5-14 years\n",
      "\n",
      "  15-24 years\n",
      "\n",
      "  25-34 years\n",
      "\n",
      "For the Generation Z generation we have this ages: \n",
      "\n",
      "  5-14 years\n",
      "\n"
     ]
    }
   ],
   "source": [
    "gens = df['generation'].unique()\n",
    "for g in gens:\n",
    "    print(f'For the {g} generation we have this ages: \\n')\n",
    "    ages = df[df['generation'] == g]['age'].unique()\n",
    "    for idade in ages:\n",
    "        print(f\"  {idade}\\n\")"
   ]
  },
  {
   "cell_type": "code",
   "execution_count": 15,
   "id": "bb47a04b",
   "metadata": {},
   "outputs": [],
   "source": [
    "\"\"\"\n",
    "Replace each age with a number\n",
    "\"\"\"\n",
    "\n",
    "age_to_number = {'5-14 years':0,\n",
    "                '15-24 years':1,\n",
    "                '25-34 years':2,\n",
    "                '35-54 years':3,\n",
    "                '55-74 years':4,\n",
    "                '75+ years':5}\n",
    "\n",
    "# Adicione a coluna \"age\" ao DataFrame usando o mapeamento\n",
    "df['age'] = df['age'].map(age_to_number)\n"
   ]
  },
  {
   "cell_type": "code",
   "execution_count": 16,
   "id": "7381d305",
   "metadata": {},
   "outputs": [],
   "source": [
    "df = df.drop('HDI for year',axis=1)\n",
    "df = df.drop('generation',axis=1)"
   ]
  },
  {
   "cell_type": "code",
   "execution_count": 17,
   "id": "ae1c369a",
   "metadata": {
    "scrolled": true
   },
   "outputs": [
    {
     "data": {
      "text/plain": [
       "year                  False\n",
       "sex                   False\n",
       "age                   False\n",
       "suicides_no           False\n",
       "population            False\n",
       "suicides/100k pop     False\n",
       "gdp_for_year          False\n",
       "gdp_per_capita        False\n",
       "country(to number)    False\n",
       "dtype: bool"
      ]
     },
     "execution_count": 17,
     "metadata": {},
     "output_type": "execute_result"
    }
   ],
   "source": [
    "'''Dados em Falta'''\n",
    "df.isna().any()"
   ]
  },
  {
   "cell_type": "code",
   "execution_count": 18,
   "id": "4b955bed",
   "metadata": {},
   "outputs": [
    {
     "name": "stdout",
     "output_type": "stream",
     "text": [
      "<class 'pandas.core.frame.DataFrame'>\n",
      "RangeIndex: 27820 entries, 0 to 27819\n",
      "Data columns (total 9 columns):\n",
      " #   Column              Non-Null Count  Dtype  \n",
      "---  ------              --------------  -----  \n",
      " 0   year                27820 non-null  int64  \n",
      " 1   sex                 27820 non-null  int64  \n",
      " 2   age                 27820 non-null  int64  \n",
      " 3   suicides_no         27820 non-null  int64  \n",
      " 4   population          27820 non-null  int64  \n",
      " 5   suicides/100k pop   27820 non-null  float64\n",
      " 6   gdp_for_year        27820 non-null  int64  \n",
      " 7   gdp_per_capita      27820 non-null  int64  \n",
      " 8   country(to number)  27820 non-null  int64  \n",
      "dtypes: float64(1), int64(8)\n",
      "memory usage: 1.9 MB\n"
     ]
    }
   ],
   "source": [
    "df.info()"
   ]
  },
  {
   "cell_type": "markdown",
   "id": "55fa20cc",
   "metadata": {},
   "source": [
    "## Tratamento Outliers"
   ]
  },
  {
   "cell_type": "code",
   "execution_count": 19,
   "id": "5220a588",
   "metadata": {},
   "outputs": [
    {
     "data": {
      "text/plain": [
       "<Axes: xlabel='gdp_for_year'>"
      ]
     },
     "execution_count": 19,
     "metadata": {},
     "output_type": "execute_result"
    },
    {
     "data": {
      "image/png": "[encoded data removed]",
      "text/plain": [
       "<Figure size 640x480 with 1 Axes>"
      ]
     },
     "metadata": {},
     "output_type": "display_data"
    }
   ],
   "source": [
    "sns.boxplot(x=df['gdp_for_year'])"
   ]
  },
  {
   "cell_type": "code",
   "execution_count": 20,
   "id": "cc15e03b",
   "metadata": {},
   "outputs": [
    {
     "name": "stdout",
     "output_type": "stream",
     "text": [
      "Media:\n",
      "445580969025.7266\n",
      "Desvio:\n",
      "1453583860436.8037\n"
     ]
    }
   ],
   "source": [
    "print(\"Media:\")\n",
    "print(np.mean(df['gdp_for_year']))\n",
    "print(\"Desvio:\")\n",
    "print(np.std(df['gdp_for_year']))"
   ]
  },
  {
   "cell_type": "code",
   "execution_count": 21,
   "id": "78ba4a5d",
   "metadata": {
    "scrolled": false
   },
   "outputs": [
    {
     "name": "stdout",
     "output_type": "stream",
     "text": [
      "Primeiro Quartil (Q1): 8985352832.0\n",
      "Terceiro Quartil (Q3): 260202429150.0\n",
      "O número de registos removidos ao remover outliers é: 3586\n"
     ]
    }
   ],
   "source": [
    "# Calcule os quantis desejados\n",
    "q1 = df['gdp_for_year'].quantile(0.25)\n",
    "q3 = df['gdp_for_year'].quantile(0.75)\n",
    "\n",
    "# Exiba os resultados\n",
    "print(f'Primeiro Quartil (Q1): {q1}')\n",
    "print(f'Terceiro Quartil (Q3): {q3}')\n",
    "\n",
    "iqr = abs(q3-q1)\n",
    "min = q1 - 1.5 * iqr\n",
    "max = q3 + 1.5 * iqr\n",
    "\n",
    "# Criar um array com os outliers\n",
    "outliers = np.where((df['gdp_for_year']>max) | (df['gdp_for_year']<min))\n",
    "\n",
    "# Extrair os índices dos outliers\n",
    "outlier_indices = outliers[0]\n",
    "\n",
    "\n",
    "# Remover os outliers\n",
    "for i in outlier_indices:\n",
    "    df.drop(index=i, inplace=True)\n",
    "\n",
    "count_drops = len(outlier_indices)\n",
    "print(f'O número de registos removidos ao remover outliers é: {count_drops}')\n",
    "\n"
   ]
  },
  {
   "cell_type": "code",
   "execution_count": 22,
   "id": "16670c07",
   "metadata": {},
   "outputs": [
    {
     "data": {
      "text/html": [
       "<div>\n",
       "<style scoped>\n",
       "    .dataframe tbody tr th:only-of-type {\n",
       "        vertical-align: middle;\n",
       "    }\n",
       "\n",
       "    .dataframe tbody tr th {\n",
       "        vertical-align: top;\n",
       "    }\n",
       "\n",
       "    .dataframe thead th {\n",
       "        text-align: right;\n",
       "    }\n",
       "</style>\n",
       "<table border=\"1\" class=\"dataframe\">\n",
       "  <thead>\n",
       "    <tr style=\"text-align: right;\">\n",
       "      <th></th>\n",
       "      <th>year</th>\n",
       "      <th>sex</th>\n",
       "      <th>age</th>\n",
       "      <th>suicides_no</th>\n",
       "      <th>population</th>\n",
       "      <th>suicides/100k pop</th>\n",
       "      <th>gdp_for_year</th>\n",
       "      <th>gdp_per_capita</th>\n",
       "      <th>country(to number)</th>\n",
       "    </tr>\n",
       "  </thead>\n",
       "  <tbody>\n",
       "    <tr>\n",
       "      <th>0</th>\n",
       "      <td>1987</td>\n",
       "      <td>0</td>\n",
       "      <td>1</td>\n",
       "      <td>21</td>\n",
       "      <td>312900</td>\n",
       "      <td>6.71</td>\n",
       "      <td>2156624900</td>\n",
       "      <td>796</td>\n",
       "      <td>3</td>\n",
       "    </tr>\n",
       "    <tr>\n",
       "      <th>1</th>\n",
       "      <td>1987</td>\n",
       "      <td>0</td>\n",
       "      <td>3</td>\n",
       "      <td>16</td>\n",
       "      <td>308000</td>\n",
       "      <td>5.19</td>\n",
       "      <td>2156624900</td>\n",
       "      <td>796</td>\n",
       "      <td>3</td>\n",
       "    </tr>\n",
       "    <tr>\n",
       "      <th>2</th>\n",
       "      <td>1987</td>\n",
       "      <td>1</td>\n",
       "      <td>1</td>\n",
       "      <td>14</td>\n",
       "      <td>289700</td>\n",
       "      <td>4.83</td>\n",
       "      <td>2156624900</td>\n",
       "      <td>796</td>\n",
       "      <td>3</td>\n",
       "    </tr>\n",
       "    <tr>\n",
       "      <th>3</th>\n",
       "      <td>1987</td>\n",
       "      <td>0</td>\n",
       "      <td>5</td>\n",
       "      <td>1</td>\n",
       "      <td>21800</td>\n",
       "      <td>4.59</td>\n",
       "      <td>2156624900</td>\n",
       "      <td>796</td>\n",
       "      <td>3</td>\n",
       "    </tr>\n",
       "    <tr>\n",
       "      <th>4</th>\n",
       "      <td>1987</td>\n",
       "      <td>0</td>\n",
       "      <td>2</td>\n",
       "      <td>9</td>\n",
       "      <td>274300</td>\n",
       "      <td>3.28</td>\n",
       "      <td>2156624900</td>\n",
       "      <td>796</td>\n",
       "      <td>3</td>\n",
       "    </tr>\n",
       "  </tbody>\n",
       "</table>\n",
       "</div>"
      ],
      "text/plain": [
       "   year  sex  age  suicides_no  population  suicides/100k pop  gdp_for_year  \\\n",
       "0  1987    0    1           21      312900               6.71    2156624900   \n",
       "1  1987    0    3           16      308000               5.19    2156624900   \n",
       "2  1987    1    1           14      289700               4.83    2156624900   \n",
       "3  1987    0    5            1       21800               4.59    2156624900   \n",
       "4  1987    0    2            9      274300               3.28    2156624900   \n",
       "\n",
       "   gdp_per_capita  country(to number)  \n",
       "0             796                   3  \n",
       "1             796                   3  \n",
       "2             796                   3  \n",
       "3             796                   3  \n",
       "4             796                   3  "
      ]
     },
     "execution_count": 22,
     "metadata": {},
     "output_type": "execute_result"
    }
   ],
   "source": [
    "df.head()"
   ]
  },
  {
   "cell_type": "code",
   "execution_count": 23,
   "id": "b02a3bb7",
   "metadata": {},
   "outputs": [
    {
     "data": {
      "text/html": [
       "<div>\n",
       "<style scoped>\n",
       "    .dataframe tbody tr th:only-of-type {\n",
       "        vertical-align: middle;\n",
       "    }\n",
       "\n",
       "    .dataframe tbody tr th {\n",
       "        vertical-align: top;\n",
       "    }\n",
       "\n",
       "    .dataframe thead th {\n",
       "        text-align: right;\n",
       "    }\n",
       "</style>\n",
       "<table border=\"1\" class=\"dataframe\">\n",
       "  <thead>\n",
       "    <tr style=\"text-align: right;\">\n",
       "      <th></th>\n",
       "      <th>year</th>\n",
       "      <th>sex</th>\n",
       "      <th>age</th>\n",
       "      <th>suicides_no</th>\n",
       "      <th>population</th>\n",
       "      <th>suicides/100k pop</th>\n",
       "      <th>gdp_for_year</th>\n",
       "      <th>gdp_per_capita</th>\n",
       "      <th>country(to number)</th>\n",
       "    </tr>\n",
       "  </thead>\n",
       "  <tbody>\n",
       "    <tr>\n",
       "      <th>count</th>\n",
       "      <td>24234.000000</td>\n",
       "      <td>24234.00000</td>\n",
       "      <td>24234.000000</td>\n",
       "      <td>24234.000000</td>\n",
       "      <td>2.423400e+04</td>\n",
       "      <td>24234.000000</td>\n",
       "      <td>2.423400e+04</td>\n",
       "      <td>24234.000000</td>\n",
       "      <td>24234.000000</td>\n",
       "    </tr>\n",
       "    <tr>\n",
       "      <th>mean</th>\n",
       "      <td>2000.880416</td>\n",
       "      <td>0.50000</td>\n",
       "      <td>2.503095</td>\n",
       "      <td>127.725303</td>\n",
       "      <td>9.884047e+05</td>\n",
       "      <td>12.631022</td>\n",
       "      <td>1.016431e+11</td>\n",
       "      <td>14643.078815</td>\n",
       "      <td>1137.683915</td>\n",
       "    </tr>\n",
       "    <tr>\n",
       "      <th>std</th>\n",
       "      <td>8.441124</td>\n",
       "      <td>0.50001</td>\n",
       "      <td>1.706649</td>\n",
       "      <td>649.514879</td>\n",
       "      <td>2.036633e+06</td>\n",
       "      <td>19.049345</td>\n",
       "      <td>1.434169e+11</td>\n",
       "      <td>18191.829551</td>\n",
       "      <td>617.943314</td>\n",
       "    </tr>\n",
       "    <tr>\n",
       "      <th>min</th>\n",
       "      <td>1985.000000</td>\n",
       "      <td>0.00000</td>\n",
       "      <td>0.000000</td>\n",
       "      <td>0.000000</td>\n",
       "      <td>2.780000e+02</td>\n",
       "      <td>0.000000</td>\n",
       "      <td>4.691962e+07</td>\n",
       "      <td>251.000000</td>\n",
       "      <td>3.000000</td>\n",
       "    </tr>\n",
       "    <tr>\n",
       "      <th>25%</th>\n",
       "      <td>1994.000000</td>\n",
       "      <td>0.00000</td>\n",
       "      <td>1.000000</td>\n",
       "      <td>2.000000</td>\n",
       "      <td>6.949325e+04</td>\n",
       "      <td>0.750000</td>\n",
       "      <td>6.680269e+09</td>\n",
       "      <td>2953.000000</td>\n",
       "      <td>646.000000</td>\n",
       "    </tr>\n",
       "    <tr>\n",
       "      <th>50%</th>\n",
       "      <td>2001.000000</td>\n",
       "      <td>0.50000</td>\n",
       "      <td>3.000000</td>\n",
       "      <td>17.000000</td>\n",
       "      <td>3.281615e+05</td>\n",
       "      <td>5.590000</td>\n",
       "      <td>3.042980e+10</td>\n",
       "      <td>7407.000000</td>\n",
       "      <td>1179.000000</td>\n",
       "    </tr>\n",
       "    <tr>\n",
       "      <th>75%</th>\n",
       "      <td>2008.000000</td>\n",
       "      <td>1.00000</td>\n",
       "      <td>4.000000</td>\n",
       "      <td>85.000000</td>\n",
       "      <td>8.362500e+05</td>\n",
       "      <td>16.227500</td>\n",
       "      <td>1.407821e+11</td>\n",
       "      <td>19679.000000</td>\n",
       "      <td>1671.000000</td>\n",
       "    </tr>\n",
       "    <tr>\n",
       "      <th>max</th>\n",
       "      <td>2016.000000</td>\n",
       "      <td>1.00000</td>\n",
       "      <td>5.000000</td>\n",
       "      <td>22338.000000</td>\n",
       "      <td>2.304663e+07</td>\n",
       "      <td>224.970000</td>\n",
       "      <td>6.331941e+11</td>\n",
       "      <td>126352.000000</td>\n",
       "      <td>2119.000000</td>\n",
       "    </tr>\n",
       "  </tbody>\n",
       "</table>\n",
       "</div>"
      ],
      "text/plain": [
       "               year          sex           age   suicides_no    population  \\\n",
       "count  24234.000000  24234.00000  24234.000000  24234.000000  2.423400e+04   \n",
       "mean    2000.880416      0.50000      2.503095    127.725303  9.884047e+05   \n",
       "std        8.441124      0.50001      1.706649    649.514879  2.036633e+06   \n",
       "min     1985.000000      0.00000      0.000000      0.000000  2.780000e+02   \n",
       "25%     1994.000000      0.00000      1.000000      2.000000  6.949325e+04   \n",
       "50%     2001.000000      0.50000      3.000000     17.000000  3.281615e+05   \n",
       "75%     2008.000000      1.00000      4.000000     85.000000  8.362500e+05   \n",
       "max     2016.000000      1.00000      5.000000  22338.000000  2.304663e+07   \n",
       "\n",
       "       suicides/100k pop  gdp_for_year  gdp_per_capita  country(to number)  \n",
       "count       24234.000000  2.423400e+04    24234.000000        24234.000000  \n",
       "mean           12.631022  1.016431e+11    14643.078815         1137.683915  \n",
       "std            19.049345  1.434169e+11    18191.829551          617.943314  \n",
       "min             0.000000  4.691962e+07      251.000000            3.000000  \n",
       "25%             0.750000  6.680269e+09     2953.000000          646.000000  \n",
       "50%             5.590000  3.042980e+10     7407.000000         1179.000000  \n",
       "75%            16.227500  1.407821e+11    19679.000000         1671.000000  \n",
       "max           224.970000  6.331941e+11   126352.000000         2119.000000  "
      ]
     },
     "execution_count": 23,
     "metadata": {},
     "output_type": "execute_result"
    }
   ],
   "source": [
    "df.describe()"
   ]
  },
  {
   "cell_type": "code",
   "execution_count": 24,
   "id": "9da477db",
   "metadata": {},
   "outputs": [
    {
     "data": {
      "text/plain": [
       "<Axes: xlabel='gdp_for_year'>"
      ]
     },
     "execution_count": 24,
     "metadata": {},
     "output_type": "execute_result"
    },
    {
     "data": {
      "image/png": "[encoded data removed]",
      "text/plain": [
       "<Figure size 640x480 with 1 Axes>"
      ]
     },
     "metadata": {},
     "output_type": "display_data"
    }
   ],
   "source": [
    "sns.boxplot(x=df['gdp_for_year'])"
   ]
  },
  {
   "cell_type": "code",
   "execution_count": 25,
   "id": "69db359e",
   "metadata": {
    "scrolled": true
   },
   "outputs": [
    {
     "data": {
      "text/plain": [
       "<Axes: >"
      ]
     },
     "execution_count": 25,
     "metadata": {},
     "output_type": "execute_result"
    },
    {
     "data": {
      "image/png": "[encoded data removed]",
      "text/plain": [
       "<Figure size 1200x1000 with 2 Axes>"
      ]
     },
     "metadata": {},
     "output_type": "display_data"
    }
   ],
   "source": [
    "#Correlation depois de tratamento de dados\n",
    "corr_matrix= df.corr(numeric_only=True)\n",
    "f, ax = plt.subplots(figsize=(12,10))\n",
    "sns.heatmap(corr_matrix, vmin=-1, vmax=1, square= True,annot=True)"
   ]
  },
  {
   "cell_type": "markdown",
   "id": "6391a584",
   "metadata": {},
   "source": [
    "## Treino de um Modelo de Regressão Linear"
   ]
  },
  {
   "cell_type": "code",
   "execution_count": 26,
   "id": "ac0f39f4",
   "metadata": {},
   "outputs": [],
   "source": [
    "#X = df[['year','sex','age','population','suicides/100k pop','gdp_for_year','gdp_per_capita','country(to number)']]\n",
    "X = df[['year','sex','age','population','gdp_for_year','gdp_per_capita','country(to number)']]\n",
    "#X = df[['year','sex','age','population','gdp_for_year','gdp_per_capita']]\n",
    "y = df['suicides_no']"
   ]
  },
  {
   "cell_type": "markdown",
   "id": "9bfebb30",
   "metadata": {},
   "source": [
    "### Separação dos dados de teste"
   ]
  },
  {
   "cell_type": "code",
   "execution_count": 27,
   "id": "81bd2d6e",
   "metadata": {},
   "outputs": [],
   "source": [
    "X_train, X_test, y_train, y_test = train_test_split(X,y, test_size=0.4, random_state=2023)"
   ]
  },
  {
   "cell_type": "markdown",
   "id": "c666f37b",
   "metadata": {},
   "source": [
    "### Criação e treino do Modelo"
   ]
  },
  {
   "cell_type": "code",
   "execution_count": 28,
   "id": "575d45ac",
   "metadata": {},
   "outputs": [],
   "source": [
    "#Treino\n",
    "lm = LinearRegression()"
   ]
  },
  {
   "cell_type": "code",
   "execution_count": 29,
   "id": "da5c2900",
   "metadata": {},
   "outputs": [
    {
     "data": {
      "text/html": [
       "<style>#sk-container-id-1 {color: black;}#sk-container-id-1 pre{padding: 0;}#sk-container-id-1 div.sk-toggleable {background-color: white;}#sk-container-id-1 label.sk-toggleable__label {cursor: pointer;display: block;width: 100%;margin-bottom: 0;padding: 0.3em;box-sizing: border-box;text-align: center;}#sk-container-id-1 label.sk-toggleable__label-arrow:before {content: \"▸\";float: left;margin-right: 0.25em;color: #696969;}#sk-container-id-1 label.sk-toggleable__label-arrow:hover:before {color: black;}#sk-container-id-1 div.sk-estimator:hover label.sk-toggleable__label-arrow:before {color: black;}#sk-container-id-1 div.sk-toggleable__content {max-height: 0;max-width: 0;overflow: hidden;text-align: left;background-color: #f0f8ff;}#sk-container-id-1 div.sk-toggleable__content pre {margin: 0.2em;color: black;border-radius: 0.25em;background-color: #f0f8ff;}#sk-container-id-1 input.sk-toggleable__control:checked~div.sk-toggleable__content {max-height: 200px;max-width: 100%;overflow: auto;}#sk-container-id-1 input.sk-toggleable__control:checked~label.sk-toggleable__label-arrow:before {content: \"▾\";}#sk-container-id-1 div.sk-estimator input.sk-toggleable__control:checked~label.sk-toggleable__label {background-color: #d4ebff;}#sk-container-id-1 div.sk-label input.sk-toggleable__control:checked~label.sk-toggleable__label {background-color: #d4ebff;}#sk-container-id-1 input.sk-hidden--visually {border: 0;clip: rect(1px 1px 1px 1px);clip: rect(1px, 1px, 1px, 1px);height: 1px;margin: -1px;overflow: hidden;padding: 0;position: absolute;width: 1px;}#sk-container-id-1 div.sk-estimator {font-family: monospace;background-color: #f0f8ff;border: 1px dotted black;border-radius: 0.25em;box-sizing: border-box;margin-bottom: 0.5em;}#sk-container-id-1 div.sk-estimator:hover {background-color: #d4ebff;}#sk-container-id-1 div.sk-parallel-item::after {content: \"\";width: 100%;border-bottom: 1px solid gray;flex-grow: 1;}#sk-container-id-1 div.sk-label:hover label.sk-toggleable__label {background-color: #d4ebff;}#sk-container-id-1 div.sk-serial::before {content: \"\";position: absolute;border-left: 1px solid gray;box-sizing: border-box;top: 0;bottom: 0;left: 50%;z-index: 0;}#sk-container-id-1 div.sk-serial {display: flex;flex-direction: column;align-items: center;background-color: white;padding-right: 0.2em;padding-left: 0.2em;position: relative;}#sk-container-id-1 div.sk-item {position: relative;z-index: 1;}#sk-container-id-1 div.sk-parallel {display: flex;align-items: stretch;justify-content: center;background-color: white;position: relative;}#sk-container-id-1 div.sk-item::before, #sk-container-id-1 div.sk-parallel-item::before {content: \"\";position: absolute;border-left: 1px solid gray;box-sizing: border-box;top: 0;bottom: 0;left: 50%;z-index: -1;}#sk-container-id-1 div.sk-parallel-item {display: flex;flex-direction: column;z-index: 1;position: relative;background-color: white;}#sk-container-id-1 div.sk-parallel-item:first-child::after {align-self: flex-end;width: 50%;}#sk-container-id-1 div.sk-parallel-item:last-child::after {align-self: flex-start;width: 50%;}#sk-container-id-1 div.sk-parallel-item:only-child::after {width: 0;}#sk-container-id-1 div.sk-dashed-wrapped {border: 1px dashed gray;margin: 0 0.4em 0.5em 0.4em;box-sizing: border-box;padding-bottom: 0.4em;background-color: white;}#sk-container-id-1 div.sk-label label {font-family: monospace;font-weight: bold;display: inline-block;line-height: 1.2em;}#sk-container-id-1 div.sk-label-container {text-align: center;}#sk-container-id-1 div.sk-container {/* jupyter's `normalize.less` sets `[hidden] { display: none; }` but bootstrap.min.css set `[hidden] { display: none !important; }` so we also need the `!important` here to be able to override the default hidden behavior on the sphinx rendered scikit-learn.org. See: https://github.com/scikit-learn/scikit-learn/issues/21755 */display: inline-block !important;position: relative;}#sk-container-id-1 div.sk-text-repr-fallback {display: none;}</style><div id=\"sk-container-id-1\" class=\"sk-top-container\"><div class=\"sk-text-repr-fallback\"><pre>LinearRegression()</pre><b>In a Jupyter environment, please rerun this cell to show the HTML representation or trust the notebook. <br />On GitHub, the HTML representation is unable to render, please try loading this page with nbviewer.org.</b></div><div class=\"sk-container\" hidden><div class=\"sk-item\"><div class=\"sk-estimator sk-toggleable\"><input class=\"sk-toggleable__control sk-hidden--visually\" id=\"sk-estimator-id-1\" type=\"checkbox\" checked><label for=\"sk-estimator-id-1\" class=\"sk-toggleable__label sk-toggleable__label-arrow\">LinearRegression</label><div class=\"sk-toggleable__content\"><pre>LinearRegression()</pre></div></div></div></div></div>"
      ],
      "text/plain": [
       "LinearRegression()"
      ]
     },
     "execution_count": 29,
     "metadata": {},
     "output_type": "execute_result"
    }
   ],
   "source": [
    "lm.fit(X_train,y_train)"
   ]
  },
  {
   "cell_type": "markdown",
   "id": "06542704",
   "metadata": {},
   "source": [
    "### Avaliação do Modelo"
   ]
  },
  {
   "cell_type": "code",
   "execution_count": 30,
   "id": "4d8c5f2b",
   "metadata": {},
   "outputs": [
    {
     "name": "stdout",
     "output_type": "stream",
     "text": [
      "315.98273074934315\n"
     ]
    }
   ],
   "source": [
    "print(lm.intercept_)"
   ]
  },
  {
   "cell_type": "code",
   "execution_count": 31,
   "id": "dbaf7261",
   "metadata": {},
   "outputs": [],
   "source": [
    "predictions = lm.predict(X_test)"
   ]
  },
  {
   "cell_type": "code",
   "execution_count": 32,
   "id": "cb8bff36",
   "metadata": {
    "scrolled": false
   },
   "outputs": [
    {
     "name": "stdout",
     "output_type": "stream",
     "text": [
      "MAE: 159.32569683905712\n",
      "MSE: 309900.71318830684\n",
      "RMSE: 556.6872669536342\n",
      "R2: 0.27458242937199595\n"
     ]
    }
   ],
   "source": [
    "print(\"MAE:\", metrics.mean_absolute_error(y_test,predictions))\n",
    "print(\"MSE:\", metrics.mean_squared_error(y_test,predictions))\n",
    "print(\"RMSE:\", np.sqrt(metrics.mean_squared_error(y_test,predictions)))\n",
    "print(\"R2:\",r2_score(y_test, predictions))"
   ]
  },
  {
   "cell_type": "code",
   "execution_count": 33,
   "id": "5646f259",
   "metadata": {},
   "outputs": [
    {
     "name": "stdout",
     "output_type": "stream",
     "text": [
      "R2 Adjusted: 0.2740581755010073\n"
     ]
    }
   ],
   "source": [
    "# Calculate the number of observations (n) and predictors (k)\n",
    "n = X_test.shape[0]\n",
    "k = X_test.shape[1]\n",
    "\n",
    "# Calculate Adjusted R-squared\n",
    "adjusted_r_squared = 1 - ((1 - r2_score(y_test, predictions)) * (n - 1) / (n - k - 1))\n",
    "\n",
    "print(\"R2 Adjusted:\",adjusted_r_squared)"
   ]
  },
  {
   "cell_type": "markdown",
   "id": "a5fa1c92",
   "metadata": {},
   "source": [
    "## Treino de um Modelo de Regressão Linear (C/ Cross-Validation)"
   ]
  },
  {
   "cell_type": "code",
   "execution_count": 229,
   "id": "6bdbfd97",
   "metadata": {},
   "outputs": [],
   "source": [
    "#X_cv = df[['year','sex','age','population','suicides/100k pop','gdp_for_year','gdp_per_capita','country(to number)']]\n",
    "X_cv = df[['population','gdp_for_year']]\n",
    "y_cv = df['suicides_no']"
   ]
  },
  {
   "cell_type": "markdown",
   "id": "539838d0",
   "metadata": {},
   "source": [
    "### Separação dos dados de teste"
   ]
  },
  {
   "cell_type": "code",
   "execution_count": 230,
   "id": "68a06cc1",
   "metadata": {},
   "outputs": [
    {
     "data": {
      "text/plain": [
       "'kf = KFold(n_splits=10, shuffle=True, random_state=2023)'"
      ]
     },
     "execution_count": 230,
     "metadata": {},
     "output_type": "execute_result"
    }
   ],
   "source": [
    "'''kf = KFold(n_splits=10, shuffle=True, random_state=2023)'''"
   ]
  },
  {
   "cell_type": "markdown",
   "id": "35fe8ed6",
   "metadata": {},
   "source": [
    "### Criação e treino do Modelo"
   ]
  },
  {
   "cell_type": "code",
   "execution_count": 234,
   "id": "7ddb1dc9",
   "metadata": {},
   "outputs": [],
   "source": [
    "#Treino\n",
    "lm_cv = LinearRegression()"
   ]
  },
  {
   "cell_type": "code",
   "execution_count": 241,
   "id": "3e4105ff",
   "metadata": {},
   "outputs": [],
   "source": [
    "'''r2_scores_cv = []\n",
    "\n",
    "for train_cv_index, test_cv_index in kf.split(X_cv):\n",
    "    X_train_cv, X_test_cv = X_cv.iloc[train_cv_index], X_cv.iloc[test_cv_index]\n",
    "    y_train_cv, y_test_cv = y_cv.iloc[train_cv_index], y_cv.iloc[test_cv_index]\n",
    "\n",
    "    lm_cv.fit(X_train_cv, y_train_cv)\n",
    "    y_pred_cv = lm_cv.predict(X_test_cv)\n",
    "    r2_cv = r2_score(y_test_cv, y_pred_cv)\n",
    "    r2_scores_cv.append(r2_cv)'''\n",
    "\n",
    "cross_val_results = cross_val_score(lm_cv, X_cv, y_cv, cv=3, scoring='r2')"
   ]
  },
  {
   "cell_type": "markdown",
   "id": "817c2b23",
   "metadata": {},
   "source": [
    "### Avaliação do Modelo"
   ]
  },
  {
   "cell_type": "code",
   "execution_count": 242,
   "id": "7a79b05c",
   "metadata": {},
   "outputs": [
    {
     "name": "stdout",
     "output_type": "stream",
     "text": [
      "Cross-Validation Results: [-4.12901053 -0.85677947  0.08533069]\n",
      "Average R-squared: -1.6334864375724631\n"
     ]
    }
   ],
   "source": [
    "'''\n",
    "# Imprimir os resultados da validação cruzada\n",
    "print(\"Resultados da Validação Cruzada:\")\n",
    "print(\"R-squared para cada fold:\", r2_scores_cv)\n",
    "print(\"Média R-squared:\", np.mean(r2_scores_cv))\n",
    "'''\n",
    "\n",
    "print(\"Cross-Validation Results:\", cross_val_results)\n",
    "print(\"Average R-squared:\", np.mean(cross_val_results))"
   ]
  },
  {
   "cell_type": "markdown",
   "id": "143ee7e9",
   "metadata": {},
   "source": [
    "## Treino de um Modelo de Decision Tree Regressor"
   ]
  },
  {
   "cell_type": "code",
   "execution_count": null,
   "id": "9cd7e71d",
   "metadata": {},
   "outputs": [],
   "source": [
    "df.describe()"
   ]
  },
  {
   "cell_type": "code",
   "execution_count": null,
   "id": "f6fa5212",
   "metadata": {},
   "outputs": [],
   "source": [
    "df.info()"
   ]
  },
  {
   "cell_type": "code",
   "execution_count": null,
   "id": "c1918889",
   "metadata": {},
   "outputs": [],
   "source": [
    "# Separando as variáveis explicativas (X) da variável dependente (y)\n",
    "X_tree = df.drop(['suicides_no','suicides/100k pop'], axis=1)\n",
    "y_tree = df['suicides_no']"
   ]
  },
  {
   "cell_type": "code",
   "execution_count": null,
   "id": "3808bec5",
   "metadata": {},
   "outputs": [],
   "source": [
    "# Dividindo o conjunto de dados em conjuntos de treino e teste\n",
    "X_train_tree, X_test_tree, y_train_tree, y_test_tree = train_test_split(X_tree, y_tree, test_size=0.4, random_state=2023)"
   ]
  },
  {
   "cell_type": "code",
   "execution_count": null,
   "id": "126c6598",
   "metadata": {},
   "outputs": [],
   "source": [
    "# Instanciando e ajustando o modelo de árvore de regressão\n",
    "regressor = DecisionTreeRegressor()\n",
    "regressor.fit(X_train_tree, y_train_tree)"
   ]
  },
  {
   "cell_type": "code",
   "execution_count": null,
   "id": "d8316c89",
   "metadata": {},
   "outputs": [],
   "source": [
    "# Fazendo a previsão do número de suicídios para o conjunto de teste\n",
    "y_pred_tree = regressor.predict(X_test_tree)"
   ]
  },
  {
   "cell_type": "code",
   "execution_count": null,
   "id": "b7c52da5",
   "metadata": {},
   "outputs": [],
   "source": [
    "# Avaliando o desempenho do modelo\n",
    "print(\"MAE:\", metrics.mean_absolute_error(y_test_tree, y_pred_tree))\n",
    "print(\"MSE:\", metrics.mean_squared_error(y_test_tree, y_pred_tree))\n",
    "print(\"RMSE:\", np.sqrt(metrics.mean_squared_error(y_test_tree, y_pred_tree)))\n",
    "print(\"R2:\",r2_score(y_test_tree, y_pred_tree))"
   ]
  },
  {
   "cell_type": "code",
   "execution_count": null,
   "id": "e3e6e46a",
   "metadata": {},
   "outputs": [],
   "source": [
    "# Calculate the number of observations (n) and predictors (k)\n",
    "n = X_test_tree.shape[0]\n",
    "k = X_test_tree.shape[1]\n",
    "\n",
    "# Calculate Adjusted R-squared\n",
    "adjusted_r_squared = 1 - ((1 - r2_score(y_test_tree, y_pred_tree)) * (n - 1) / (n - k - 1))\n",
    "\n",
    "print(\"R2 Adjusted:\",adjusted_r_squared)"
   ]
  },
  {
   "cell_type": "code",
   "execution_count": null,
   "id": "f0d770e9",
   "metadata": {},
   "outputs": [],
   "source": []
  }
 ],
 "metadata": {
  "kernelspec": {
   "display_name": "Python 3 (ipykernel)",
   "language": "python",
   "name": "python3"
  },
  "language_info": {
   "codemirror_mode": {
    "name": "ipython",
    "version": 3
   },
   "file_extension": ".py",
   "mimetype": "text/x-python",
   "name": "python",
   "nbconvert_exporter": "python",
   "pygments_lexer": "ipython3",
   "version": "3.10.0"
  }
 },
 "nbformat": 4,
 "nbformat_minor": 5
}
