{
 "cells": [
  {
   "cell_type": "code",
   "execution_count": 528,
   "metadata": {},
   "outputs": [
    {
     "name": "stdout",
     "output_type": "stream",
     "text": [
      "Requirement already satisfied: category_encoders in c:\\users\\marta\\miniconda3\\envs\\envpython\\lib\\site-packages (2.6.3)\n",
      "Requirement already satisfied: numpy>=1.14.0 in c:\\users\\marta\\miniconda3\\envs\\envpython\\lib\\site-packages (from category_encoders) (1.24.3)\n",
      "Requirement already satisfied: scikit-learn>=0.20.0 in c:\\users\\marta\\miniconda3\\envs\\envpython\\lib\\site-packages (from category_encoders) (1.3.0)\n",
      "Requirement already satisfied: scipy>=1.0.0 in c:\\users\\marta\\miniconda3\\envs\\envpython\\lib\\site-packages (from category_encoders) (1.11.1)\n",
      "Requirement already satisfied: statsmodels>=0.9.0 in c:\\users\\marta\\miniconda3\\envs\\envpython\\lib\\site-packages (from category_encoders) (0.14.0)\n",
      "Requirement already satisfied: pandas>=1.0.5 in c:\\users\\marta\\miniconda3\\envs\\envpython\\lib\\site-packages (from category_encoders) (2.0.3)\n",
      "Requirement already satisfied: patsy>=0.5.1 in c:\\users\\marta\\miniconda3\\envs\\envpython\\lib\\site-packages (from category_encoders) (0.5.3)\n",
      "Requirement already satisfied: python-dateutil>=2.8.2 in c:\\users\\marta\\miniconda3\\envs\\envpython\\lib\\site-packages (from pandas>=1.0.5->category_encoders) (2.8.2)\n",
      "Requirement already satisfied: pytz>=2020.1 in c:\\users\\marta\\miniconda3\\envs\\envpython\\lib\\site-packages (from pandas>=1.0.5->category_encoders) (2023.3.post1)\n",
      "Requirement already satisfied: tzdata>=2022.1 in c:\\users\\marta\\miniconda3\\envs\\envpython\\lib\\site-packages (from pandas>=1.0.5->category_encoders) (2023.3)\n",
      "Requirement already satisfied: six in c:\\users\\marta\\miniconda3\\envs\\envpython\\lib\\site-packages (from patsy>=0.5.1->category_encoders) (1.16.0)\n",
      "Requirement already satisfied: joblib>=1.1.1 in c:\\users\\marta\\miniconda3\\envs\\envpython\\lib\\site-packages (from scikit-learn>=0.20.0->category_encoders) (1.2.0)\n",
      "Requirement already satisfied: threadpoolctl>=2.0.0 in c:\\users\\marta\\miniconda3\\envs\\envpython\\lib\\site-packages (from scikit-learn>=0.20.0->category_encoders) (2.2.0)\n",
      "Requirement already satisfied: packaging>=21.3 in c:\\users\\marta\\miniconda3\\envs\\envpython\\lib\\site-packages (from statsmodels>=0.9.0->category_encoders) (23.1)\n"
     ]
    }
   ],
   "source": [
    "!pip3 install category_encoders"
   ]
  },
  {
   "cell_type": "code",
   "execution_count": 529,
   "metadata": {},
   "outputs": [
    {
     "name": "stdout",
     "output_type": "stream",
     "text": [
      "Requirement already satisfied: xgboost in c:\\users\\marta\\miniconda3\\envs\\envpython\\lib\\site-packages (2.0.2)\n",
      "Requirement already satisfied: numpy in c:\\users\\marta\\miniconda3\\envs\\envpython\\lib\\site-packages (from xgboost) (1.24.3)\n",
      "Requirement already satisfied: scipy in c:\\users\\marta\\miniconda3\\envs\\envpython\\lib\\site-packages (from xgboost) (1.11.1)\n"
     ]
    }
   ],
   "source": [
    "!pip3 install xgboost"
   ]
  },
  {
   "cell_type": "code",
   "execution_count": 530,
   "metadata": {},
   "outputs": [
    {
     "name": "stdout",
     "output_type": "stream",
     "text": [
      "Requirement already satisfied: scipy in c:\\users\\marta\\miniconda3\\envs\\envpython\\lib\\site-packages (1.11.1)\n",
      "Requirement already satisfied: numpy<1.28.0,>=1.21.6 in c:\\users\\marta\\miniconda3\\envs\\envpython\\lib\\site-packages (from scipy) (1.24.3)\n"
     ]
    }
   ],
   "source": [
    "!pip3 install scipy"
   ]
  },
  {
   "cell_type": "code",
   "execution_count": 531,
   "metadata": {},
   "outputs": [],
   "source": [
    "'''import libraries'''\n",
    "import sklearn as skl\n",
    "import pandas as pd\n",
    "import matplotlib.pyplot as plt\n",
    "import seaborn as sns\n",
    "import numpy as np\n",
    "import category_encoders as ce\n",
    "import xgboost as xgb\n",
    "from sklearn.metrics import confusion_matrix, ConfusionMatrixDisplay\n",
    "from sklearn.metrics import recall_score,accuracy_score,precision_score\n",
    "from sklearn.model_selection import train_test_split, cross_val_score, KFold, GridSearchCV\n",
    "from sklearn.ensemble import RandomForestClassifier\n",
    "from sklearn.model_selection import RandomizedSearchCV \n",
    "from sklearn.metrics import classification_report"
   ]
  },
  {
   "cell_type": "code",
   "execution_count": 532,
   "metadata": {},
   "outputs": [],
   "source": [
    "'''Load CSVs'''\n",
    "energia_2021 = pd.read_csv('./datasets/energia_202109-202112.csv')\n",
    "energia_2022 = pd.read_csv('./datasets/energia_202201-202212.csv')\n",
    "meteo_2021 = pd.read_csv('./datasets/meteo_202109-202112.csv')\n",
    "meteo_2022 = pd.read_csv('./datasets/meteo_202201-202212.csv')\n",
    "\n",
    "teste_energia = pd.read_csv('./datasets/energia_202301-202304.csv')\n",
    "teste_meteo = pd.read_csv('./datasets/meteo_202301-202304.csv')"
   ]
  },
  {
   "cell_type": "markdown",
   "metadata": {},
   "source": [
    "## Análise dos Dados"
   ]
  },
  {
   "cell_type": "markdown",
   "metadata": {},
   "source": [
    "#### Full Join dos datasets"
   ]
  },
  {
   "cell_type": "code",
   "execution_count": 533,
   "metadata": {},
   "outputs": [],
   "source": [
    "energia_21 = energia_2021.copy()\n",
    "energia_22 = energia_2022.copy() \n",
    "energia = pd.merge(energia_21, energia_22, how=\"outer\", on=['Data', 'Hora','Normal (kWh)','Horário Económico (kWh)','Autoconsumo (kWh)','Injeção na rede (kWh)'])"
   ]
  },
  {
   "cell_type": "code",
   "execution_count": 534,
   "metadata": {},
   "outputs": [],
   "source": [
    "meteo_21 = meteo_2021.copy()\n",
    "meteo_22 = meteo_2022.copy() \n",
    "meteo = pd.merge(meteo_21, meteo_22, how=\"outer\", on=['dt','dt_iso','city_name','temp', 'feels_like', 'temp_min', 'temp_max' , 'pressure', 'sea_level', 'grnd_level', 'humidity', 'wind_speed', 'rain_1h', 'clouds_all', 'weather_description'])"
   ]
  },
  {
   "cell_type": "markdown",
   "metadata": {},
   "source": [
    "### Join dos datasets Energia e Meteorologia"
   ]
  },
  {
   "cell_type": "code",
   "execution_count": 535,
   "metadata": {},
   "outputs": [],
   "source": [
    "energia['Data_Hora'] = energia['Data'] + \":\" + energia['Hora'].astype(str)\n",
    "energia['dt'] = energia['Data_Hora'].apply(lambda x: pd.to_datetime(x,format='%Y-%m-%d:%H').timestamp()).astype('int64')"
   ]
  },
  {
   "cell_type": "code",
   "execution_count": 536,
   "metadata": {},
   "outputs": [],
   "source": [
    "e_m = pd.merge(meteo, energia, how=\"inner\", on= 'dt')"
   ]
  },
  {
   "cell_type": "markdown",
   "metadata": {},
   "source": [
    "Teste"
   ]
  },
  {
   "cell_type": "code",
   "execution_count": 537,
   "metadata": {},
   "outputs": [],
   "source": [
    "teste_energia['Data_Hora'] = teste_energia['Data'] + \":\" + teste_energia['Hora'].astype(str)\n",
    "teste_energia['dt'] = teste_energia['Data_Hora'].apply(lambda x: pd.to_datetime(x,format='%Y-%m-%d:%H').timestamp()).astype('int64')"
   ]
  },
  {
   "cell_type": "code",
   "execution_count": 538,
   "metadata": {},
   "outputs": [],
   "source": [
    "teste = pd.merge(teste_meteo, teste_energia, how=\"inner\", on= 'dt')"
   ]
  },
  {
   "cell_type": "code",
   "execution_count": 539,
   "metadata": {},
   "outputs": [],
   "source": [
    "#for i in teste_meteo.columns:\n",
    "    #sns.displot(teste_meteo, x=i, kde=True)"
   ]
  },
  {
   "cell_type": "code",
   "execution_count": 540,
   "metadata": {},
   "outputs": [],
   "source": [
    "#teste_meteo.describe()"
   ]
  },
  {
   "cell_type": "markdown",
   "metadata": {},
   "source": [
    "## Tratamento dos Dados"
   ]
  },
  {
   "cell_type": "markdown",
   "metadata": {},
   "source": [
    "### Simplificação dos nomes das features"
   ]
  },
  {
   "cell_type": "code",
   "execution_count": 541,
   "metadata": {},
   "outputs": [],
   "source": [
    "e_m.rename(columns={\"dt\": \"Timestamp\"}, inplace=True)\n",
    "e_m.rename(columns={\"temp\": \"Temperatura\"}, inplace=True)\n",
    "e_m.rename(columns={\"feels_like\": \"Sensação Térmica\"}, inplace=True)\n",
    "e_m.rename(columns={\"temp_min\": \"Temperatura Mínima\"}, inplace=True)\n",
    "e_m.rename(columns={\"temp_max\": \"Temperatura Máxima\"}, inplace=True)\n",
    "e_m.rename(columns={\"pressure\": \"Pressão Atmosférica\"}, inplace=True)\n",
    "e_m.rename(columns={\"humidity\": \"Humidade\"}, inplace=True)\n",
    "e_m.rename(columns={\"wind_speed\": \"Velocidade Vento\"}, inplace=True)\n",
    "e_m.rename(columns={\"rain_1h\": \"Precipitação Média\"}, inplace=True)\n",
    "e_m.rename(columns={\"clouds_all\": \"Nebulosidade\"}, inplace=True)\n",
    "e_m.rename(columns={\"weather_description\": \"Estado do Tempo\"}, inplace=True)\n",
    "e_m.rename(columns={\"Normal (kWh)\": \"Normal\"}, inplace=True)\n",
    "e_m.rename(columns={\"Horário Económico (kWh)\": \"Horário Económico\"}, inplace=True)\n",
    "e_m.rename(columns={\"Autoconsumo (kWh)\": \"Autoconsumo\"}, inplace=True)\n",
    "e_m.rename(columns={\"Injeção na rede (kWh)\": \"Injeção na Rede\"}, inplace=True)"
   ]
  },
  {
   "cell_type": "code",
   "execution_count": 542,
   "metadata": {},
   "outputs": [],
   "source": [
    "teste.rename(columns={\"dt\": \"Timestamp\"}, inplace=True)\n",
    "teste.rename(columns={\"temp\": \"Temperatura\"}, inplace=True)\n",
    "teste.rename(columns={\"feels_like\": \"Sensação Térmica\"}, inplace=True)\n",
    "teste.rename(columns={\"temp_min\": \"Temperatura Mínima\"}, inplace=True)\n",
    "teste.rename(columns={\"temp_max\": \"Temperatura Máxima\"}, inplace=True)\n",
    "teste.rename(columns={\"pressure\": \"Pressão Atmosférica\"}, inplace=True)\n",
    "teste.rename(columns={\"humidity\": \"Humidade\"}, inplace=True)\n",
    "teste.rename(columns={\"wind_speed\": \"Velocidade Vento\"}, inplace=True)\n",
    "teste.rename(columns={\"rain_1h\": \"Precipitação Média\"}, inplace=True)\n",
    "teste.rename(columns={\"clouds_all\": \"Nebulosidade\"}, inplace=True)\n",
    "teste.rename(columns={\"weather_description\": \"Estado do Tempo\"}, inplace=True)\n",
    "teste.rename(columns={\"Normal (kWh)\": \"Normal\"}, inplace=True)\n",
    "teste.rename(columns={\"Horário Económico (kWh)\": \"Horário Económico\"}, inplace=True)\n",
    "teste.rename(columns={\"Autoconsumo (kWh)\": \"Autoconsumo\"}, inplace=True)\n",
    "teste.rename(columns={\"Injeção na rede (kWh)\": \"Injeção na Rede\"}, inplace=True)"
   ]
  },
  {
   "cell_type": "markdown",
   "metadata": {},
   "source": [
    "### Remoção de features"
   ]
  },
  {
   "cell_type": "code",
   "execution_count": 543,
   "metadata": {},
   "outputs": [],
   "source": [
    "e_m.drop(['city_name','sea_level','grnd_level'], axis=1, inplace=True)"
   ]
  },
  {
   "cell_type": "code",
   "execution_count": 544,
   "metadata": {},
   "outputs": [],
   "source": [
    "teste.drop(['city_name','sea_level','grnd_level'], axis=1, inplace=True)"
   ]
  },
  {
   "cell_type": "code",
   "execution_count": 545,
   "metadata": {},
   "outputs": [],
   "source": [
    "e_m.drop(['Data_Hora'], axis=1, inplace=True)"
   ]
  },
  {
   "cell_type": "code",
   "execution_count": 546,
   "metadata": {},
   "outputs": [],
   "source": [
    "teste.drop(['Data_Hora'], axis=1, inplace=True)"
   ]
  },
  {
   "cell_type": "markdown",
   "metadata": {},
   "source": [
    "### Alteração de datas"
   ]
  },
  {
   "cell_type": "code",
   "execution_count": 547,
   "metadata": {},
   "outputs": [],
   "source": [
    "#def seconds_to_hours(x):\n",
    "#    return x / 3600"
   ]
  },
  {
   "cell_type": "code",
   "execution_count": 548,
   "metadata": {},
   "outputs": [],
   "source": [
    "#e_m['Timestamp'] = e_m['Timestamp'].apply(lambda x: seconds_to_hours(x))"
   ]
  },
  {
   "cell_type": "code",
   "execution_count": 549,
   "metadata": {},
   "outputs": [],
   "source": [
    "#teste['Timestamp'] = teste['Timestamp'].apply(lambda x: seconds_to_hours(x))"
   ]
  },
  {
   "cell_type": "code",
   "execution_count": 550,
   "metadata": {},
   "outputs": [],
   "source": [
    "e_m.drop(['dt_iso'], axis=1, inplace=True)"
   ]
  },
  {
   "cell_type": "code",
   "execution_count": 551,
   "metadata": {},
   "outputs": [],
   "source": [
    "teste.drop(['dt_iso'], axis=1, inplace=True)"
   ]
  },
  {
   "cell_type": "markdown",
   "metadata": {},
   "source": [
    "#### Adicionar colunas a partir da data"
   ]
  },
  {
   "cell_type": "markdown",
   "metadata": {},
   "source": [
    "Converter o tipo de dados da coluna 'timestamp' para datetime"
   ]
  },
  {
   "cell_type": "code",
   "execution_count": 552,
   "metadata": {},
   "outputs": [
    {
     "data": {
      "text/plain": [
       "0   2021-09-29\n",
       "1   2021-09-29\n",
       "2   2021-09-29\n",
       "3   2021-09-29\n",
       "4   2021-09-29\n",
       "Name: Data, dtype: datetime64[ns]"
      ]
     },
     "execution_count": 552,
     "metadata": {},
     "output_type": "execute_result"
    }
   ],
   "source": [
    "e_m['Data'] = pd.to_datetime(e_m['Data'], format='%Y-%m-%d', errors='coerce')\n",
    "assert e_m['Data'].isnull().sum() == 0, 'missing Data'\n",
    "e_m['Data'].head()"
   ]
  },
  {
   "cell_type": "code",
   "execution_count": 553,
   "metadata": {},
   "outputs": [
    {
     "data": {
      "text/plain": [
       "0   2023-01-01\n",
       "1   2023-01-01\n",
       "2   2023-01-01\n",
       "3   2023-01-01\n",
       "4   2023-01-01\n",
       "Name: Data, dtype: datetime64[ns]"
      ]
     },
     "execution_count": 553,
     "metadata": {},
     "output_type": "execute_result"
    }
   ],
   "source": [
    "teste['Data'] = pd.to_datetime(teste['Data'], format='%Y-%m-%d', errors='coerce')\n",
    "assert teste['Data'].isnull().sum() == 0, 'missing Data'\n",
    "teste['Data'].head()"
   ]
  },
  {
   "cell_type": "markdown",
   "metadata": {},
   "source": [
    "Criação de várias colunas com as partes extraídas da Data"
   ]
  },
  {
   "cell_type": "code",
   "execution_count": 554,
   "metadata": {},
   "outputs": [
    {
     "data": {
      "text/html": [
       "<div>\n",
       "<style scoped>\n",
       "    .dataframe tbody tr th:only-of-type {\n",
       "        vertical-align: middle;\n",
       "    }\n",
       "\n",
       "    .dataframe tbody tr th {\n",
       "        vertical-align: top;\n",
       "    }\n",
       "\n",
       "    .dataframe thead th {\n",
       "        text-align: right;\n",
       "    }\n",
       "</style>\n",
       "<table border=\"1\" class=\"dataframe\">\n",
       "  <thead>\n",
       "    <tr style=\"text-align: right;\">\n",
       "      <th></th>\n",
       "      <th>Timestamp</th>\n",
       "      <th>Temperatura</th>\n",
       "      <th>Sensação Térmica</th>\n",
       "      <th>Temperatura Mínima</th>\n",
       "      <th>Temperatura Máxima</th>\n",
       "      <th>Pressão Atmosférica</th>\n",
       "      <th>Humidade</th>\n",
       "      <th>Velocidade Vento</th>\n",
       "      <th>Precipitação Média</th>\n",
       "      <th>Nebulosidade</th>\n",
       "      <th>Estado do Tempo</th>\n",
       "      <th>Data</th>\n",
       "      <th>Hora</th>\n",
       "      <th>Normal</th>\n",
       "      <th>Horário Económico</th>\n",
       "      <th>Autoconsumo</th>\n",
       "      <th>Injeção na Rede</th>\n",
       "      <th>Ano</th>\n",
       "      <th>Mês</th>\n",
       "      <th>Dia</th>\n",
       "    </tr>\n",
       "  </thead>\n",
       "  <tbody>\n",
       "    <tr>\n",
       "      <th>0</th>\n",
       "      <td>1632873600</td>\n",
       "      <td>13.97</td>\n",
       "      <td>13.54</td>\n",
       "      <td>11.45</td>\n",
       "      <td>14.04</td>\n",
       "      <td>1027</td>\n",
       "      <td>81</td>\n",
       "      <td>1.96</td>\n",
       "      <td>NaN</td>\n",
       "      <td>87</td>\n",
       "      <td>overcast clouds</td>\n",
       "      <td>2021-09-29</td>\n",
       "      <td>0</td>\n",
       "      <td>0.0</td>\n",
       "      <td>0.0</td>\n",
       "      <td>0.0</td>\n",
       "      <td>NaN</td>\n",
       "      <td>2021</td>\n",
       "      <td>9</td>\n",
       "      <td>29</td>\n",
       "    </tr>\n",
       "    <tr>\n",
       "      <th>1</th>\n",
       "      <td>1632877200</td>\n",
       "      <td>13.48</td>\n",
       "      <td>13.02</td>\n",
       "      <td>13.43</td>\n",
       "      <td>13.90</td>\n",
       "      <td>1028</td>\n",
       "      <td>82</td>\n",
       "      <td>1.83</td>\n",
       "      <td>NaN</td>\n",
       "      <td>91</td>\n",
       "      <td>overcast clouds</td>\n",
       "      <td>2021-09-29</td>\n",
       "      <td>1</td>\n",
       "      <td>0.0</td>\n",
       "      <td>0.0</td>\n",
       "      <td>0.0</td>\n",
       "      <td>NaN</td>\n",
       "      <td>2021</td>\n",
       "      <td>9</td>\n",
       "      <td>29</td>\n",
       "    </tr>\n",
       "    <tr>\n",
       "      <th>2</th>\n",
       "      <td>1632880800</td>\n",
       "      <td>12.93</td>\n",
       "      <td>12.47</td>\n",
       "      <td>12.72</td>\n",
       "      <td>13.43</td>\n",
       "      <td>1027</td>\n",
       "      <td>84</td>\n",
       "      <td>1.96</td>\n",
       "      <td>NaN</td>\n",
       "      <td>93</td>\n",
       "      <td>overcast clouds</td>\n",
       "      <td>2021-09-29</td>\n",
       "      <td>2</td>\n",
       "      <td>0.0</td>\n",
       "      <td>0.0</td>\n",
       "      <td>0.0</td>\n",
       "      <td>NaN</td>\n",
       "      <td>2021</td>\n",
       "      <td>9</td>\n",
       "      <td>29</td>\n",
       "    </tr>\n",
       "    <tr>\n",
       "      <th>3</th>\n",
       "      <td>1632884400</td>\n",
       "      <td>12.61</td>\n",
       "      <td>12.15</td>\n",
       "      <td>10.34</td>\n",
       "      <td>12.93</td>\n",
       "      <td>1027</td>\n",
       "      <td>85</td>\n",
       "      <td>1.85</td>\n",
       "      <td>NaN</td>\n",
       "      <td>95</td>\n",
       "      <td>overcast clouds</td>\n",
       "      <td>2021-09-29</td>\n",
       "      <td>3</td>\n",
       "      <td>0.0</td>\n",
       "      <td>0.0</td>\n",
       "      <td>0.0</td>\n",
       "      <td>NaN</td>\n",
       "      <td>2021</td>\n",
       "      <td>9</td>\n",
       "      <td>29</td>\n",
       "    </tr>\n",
       "    <tr>\n",
       "      <th>4</th>\n",
       "      <td>1632888000</td>\n",
       "      <td>12.61</td>\n",
       "      <td>12.17</td>\n",
       "      <td>9.79</td>\n",
       "      <td>12.93</td>\n",
       "      <td>1027</td>\n",
       "      <td>86</td>\n",
       "      <td>1.83</td>\n",
       "      <td>NaN</td>\n",
       "      <td>93</td>\n",
       "      <td>overcast clouds</td>\n",
       "      <td>2021-09-29</td>\n",
       "      <td>4</td>\n",
       "      <td>0.0</td>\n",
       "      <td>0.0</td>\n",
       "      <td>0.0</td>\n",
       "      <td>NaN</td>\n",
       "      <td>2021</td>\n",
       "      <td>9</td>\n",
       "      <td>29</td>\n",
       "    </tr>\n",
       "  </tbody>\n",
       "</table>\n",
       "</div>"
      ],
      "text/plain": [
       "    Timestamp  Temperatura  Sensação Térmica  Temperatura Mínima  \\\n",
       "0  1632873600        13.97             13.54               11.45   \n",
       "1  1632877200        13.48             13.02               13.43   \n",
       "2  1632880800        12.93             12.47               12.72   \n",
       "3  1632884400        12.61             12.15               10.34   \n",
       "4  1632888000        12.61             12.17                9.79   \n",
       "\n",
       "   Temperatura Máxima  Pressão Atmosférica  Humidade  Velocidade Vento  \\\n",
       "0               14.04                 1027        81              1.96   \n",
       "1               13.90                 1028        82              1.83   \n",
       "2               13.43                 1027        84              1.96   \n",
       "3               12.93                 1027        85              1.85   \n",
       "4               12.93                 1027        86              1.83   \n",
       "\n",
       "   Precipitação Média  Nebulosidade  Estado do Tempo       Data  Hora  Normal  \\\n",
       "0                 NaN            87  overcast clouds 2021-09-29     0     0.0   \n",
       "1                 NaN            91  overcast clouds 2021-09-29     1     0.0   \n",
       "2                 NaN            93  overcast clouds 2021-09-29     2     0.0   \n",
       "3                 NaN            95  overcast clouds 2021-09-29     3     0.0   \n",
       "4                 NaN            93  overcast clouds 2021-09-29     4     0.0   \n",
       "\n",
       "   Horário Económico  Autoconsumo Injeção na Rede   Ano  Mês  Dia  \n",
       "0                0.0          0.0             NaN  2021    9   29  \n",
       "1                0.0          0.0             NaN  2021    9   29  \n",
       "2                0.0          0.0             NaN  2021    9   29  \n",
       "3                0.0          0.0             NaN  2021    9   29  \n",
       "4                0.0          0.0             NaN  2021    9   29  "
      ]
     },
     "execution_count": 554,
     "metadata": {},
     "output_type": "execute_result"
    }
   ],
   "source": [
    "e_m['Ano'] = e_m['Data'].dt.year \n",
    "e_m['Mês'] = e_m['Data'].dt.month \n",
    "e_m['Dia'] = e_m['Data'].dt.day\n",
    "e_m.head()"
   ]
  },
  {
   "cell_type": "code",
   "execution_count": 555,
   "metadata": {},
   "outputs": [
    {
     "data": {
      "text/html": [
       "<div>\n",
       "<style scoped>\n",
       "    .dataframe tbody tr th:only-of-type {\n",
       "        vertical-align: middle;\n",
       "    }\n",
       "\n",
       "    .dataframe tbody tr th {\n",
       "        vertical-align: top;\n",
       "    }\n",
       "\n",
       "    .dataframe thead th {\n",
       "        text-align: right;\n",
       "    }\n",
       "</style>\n",
       "<table border=\"1\" class=\"dataframe\">\n",
       "  <thead>\n",
       "    <tr style=\"text-align: right;\">\n",
       "      <th></th>\n",
       "      <th>Timestamp</th>\n",
       "      <th>Temperatura</th>\n",
       "      <th>Sensação Térmica</th>\n",
       "      <th>Temperatura Mínima</th>\n",
       "      <th>Temperatura Máxima</th>\n",
       "      <th>Pressão Atmosférica</th>\n",
       "      <th>Humidade</th>\n",
       "      <th>Velocidade Vento</th>\n",
       "      <th>Precipitação Média</th>\n",
       "      <th>Nebulosidade</th>\n",
       "      <th>Estado do Tempo</th>\n",
       "      <th>Data</th>\n",
       "      <th>Hora</th>\n",
       "      <th>Normal</th>\n",
       "      <th>Horário Económico</th>\n",
       "      <th>Autoconsumo</th>\n",
       "      <th>Ano</th>\n",
       "      <th>Mês</th>\n",
       "      <th>Dia</th>\n",
       "    </tr>\n",
       "  </thead>\n",
       "  <tbody>\n",
       "    <tr>\n",
       "      <th>0</th>\n",
       "      <td>1672531200</td>\n",
       "      <td>12.93</td>\n",
       "      <td>12.76</td>\n",
       "      <td>12.72</td>\n",
       "      <td>13.43</td>\n",
       "      <td>1019</td>\n",
       "      <td>95.0</td>\n",
       "      <td>2.02</td>\n",
       "      <td>3.72</td>\n",
       "      <td>100.0</td>\n",
       "      <td>moderate rain</td>\n",
       "      <td>2023-01-01</td>\n",
       "      <td>0</td>\n",
       "      <td>0.0</td>\n",
       "      <td>0.467</td>\n",
       "      <td>0.0</td>\n",
       "      <td>2023</td>\n",
       "      <td>1</td>\n",
       "      <td>1</td>\n",
       "    </tr>\n",
       "    <tr>\n",
       "      <th>1</th>\n",
       "      <td>1672534800</td>\n",
       "      <td>13.49</td>\n",
       "      <td>13.38</td>\n",
       "      <td>13.43</td>\n",
       "      <td>13.90</td>\n",
       "      <td>1018</td>\n",
       "      <td>95.0</td>\n",
       "      <td>2.18</td>\n",
       "      <td>3.26</td>\n",
       "      <td>100.0</td>\n",
       "      <td>moderate rain</td>\n",
       "      <td>2023-01-01</td>\n",
       "      <td>1</td>\n",
       "      <td>0.0</td>\n",
       "      <td>0.577</td>\n",
       "      <td>0.0</td>\n",
       "      <td>2023</td>\n",
       "      <td>1</td>\n",
       "      <td>1</td>\n",
       "    </tr>\n",
       "    <tr>\n",
       "      <th>2</th>\n",
       "      <td>1672538400</td>\n",
       "      <td>13.55</td>\n",
       "      <td>13.44</td>\n",
       "      <td>13.48</td>\n",
       "      <td>14.82</td>\n",
       "      <td>1017</td>\n",
       "      <td>95.0</td>\n",
       "      <td>2.88</td>\n",
       "      <td>2.44</td>\n",
       "      <td>100.0</td>\n",
       "      <td>moderate rain</td>\n",
       "      <td>2023-01-01</td>\n",
       "      <td>2</td>\n",
       "      <td>0.0</td>\n",
       "      <td>0.346</td>\n",
       "      <td>0.0</td>\n",
       "      <td>2023</td>\n",
       "      <td>1</td>\n",
       "      <td>1</td>\n",
       "    </tr>\n",
       "    <tr>\n",
       "      <th>3</th>\n",
       "      <td>1672542000</td>\n",
       "      <td>13.61</td>\n",
       "      <td>13.51</td>\n",
       "      <td>12.01</td>\n",
       "      <td>14.82</td>\n",
       "      <td>1016</td>\n",
       "      <td>95.0</td>\n",
       "      <td>3.63</td>\n",
       "      <td>1.74</td>\n",
       "      <td>100.0</td>\n",
       "      <td>moderate rain</td>\n",
       "      <td>2023-01-01</td>\n",
       "      <td>3</td>\n",
       "      <td>0.0</td>\n",
       "      <td>0.270</td>\n",
       "      <td>0.0</td>\n",
       "      <td>2023</td>\n",
       "      <td>1</td>\n",
       "      <td>1</td>\n",
       "    </tr>\n",
       "    <tr>\n",
       "      <th>4</th>\n",
       "      <td>1672545600</td>\n",
       "      <td>13.59</td>\n",
       "      <td>13.49</td>\n",
       "      <td>12.01</td>\n",
       "      <td>14.82</td>\n",
       "      <td>1015</td>\n",
       "      <td>95.0</td>\n",
       "      <td>4.58</td>\n",
       "      <td>1.13</td>\n",
       "      <td>100.0</td>\n",
       "      <td>moderate rain</td>\n",
       "      <td>2023-01-01</td>\n",
       "      <td>4</td>\n",
       "      <td>0.0</td>\n",
       "      <td>0.252</td>\n",
       "      <td>0.0</td>\n",
       "      <td>2023</td>\n",
       "      <td>1</td>\n",
       "      <td>1</td>\n",
       "    </tr>\n",
       "  </tbody>\n",
       "</table>\n",
       "</div>"
      ],
      "text/plain": [
       "    Timestamp  Temperatura  Sensação Térmica  Temperatura Mínima  \\\n",
       "0  1672531200        12.93             12.76               12.72   \n",
       "1  1672534800        13.49             13.38               13.43   \n",
       "2  1672538400        13.55             13.44               13.48   \n",
       "3  1672542000        13.61             13.51               12.01   \n",
       "4  1672545600        13.59             13.49               12.01   \n",
       "\n",
       "   Temperatura Máxima  Pressão Atmosférica  Humidade  Velocidade Vento  \\\n",
       "0               13.43                 1019      95.0              2.02   \n",
       "1               13.90                 1018      95.0              2.18   \n",
       "2               14.82                 1017      95.0              2.88   \n",
       "3               14.82                 1016      95.0              3.63   \n",
       "4               14.82                 1015      95.0              4.58   \n",
       "\n",
       "   Precipitação Média  Nebulosidade Estado do Tempo       Data  Hora  Normal  \\\n",
       "0                3.72         100.0   moderate rain 2023-01-01     0     0.0   \n",
       "1                3.26         100.0   moderate rain 2023-01-01     1     0.0   \n",
       "2                2.44         100.0   moderate rain 2023-01-01     2     0.0   \n",
       "3                1.74         100.0   moderate rain 2023-01-01     3     0.0   \n",
       "4                1.13         100.0   moderate rain 2023-01-01     4     0.0   \n",
       "\n",
       "   Horário Económico  Autoconsumo   Ano  Mês  Dia  \n",
       "0              0.467          0.0  2023    1    1  \n",
       "1              0.577          0.0  2023    1    1  \n",
       "2              0.346          0.0  2023    1    1  \n",
       "3              0.270          0.0  2023    1    1  \n",
       "4              0.252          0.0  2023    1    1  "
      ]
     },
     "execution_count": 555,
     "metadata": {},
     "output_type": "execute_result"
    }
   ],
   "source": [
    "teste['Ano'] = teste['Data'].dt.year \n",
    "teste['Mês'] = teste['Data'].dt.month \n",
    "teste['Dia'] = teste['Data'].dt.day\n",
    "teste.head()"
   ]
  },
  {
   "cell_type": "code",
   "execution_count": 556,
   "metadata": {},
   "outputs": [
    {
     "data": {
      "text/plain": [
       "Timestamp              2256\n",
       "Temperatura             918\n",
       "Sensação Térmica       1007\n",
       "Temperatura Mínima      384\n",
       "Temperatura Máxima      538\n",
       "Pressão Atmosférica      31\n",
       "Humidade                 71\n",
       "Velocidade Vento        547\n",
       "Precipitação Média      120\n",
       "Nebulosidade             99\n",
       "Estado do Tempo           8\n",
       "Data                     94\n",
       "Hora                     24\n",
       "Normal                  709\n",
       "Horário Económico       490\n",
       "Autoconsumo             485\n",
       "Ano                       1\n",
       "Mês                       4\n",
       "Dia                      31\n",
       "dtype: int64"
      ]
     },
     "execution_count": 556,
     "metadata": {},
     "output_type": "execute_result"
    }
   ],
   "source": [
    "teste.nunique()"
   ]
  },
  {
   "cell_type": "code",
   "execution_count": 557,
   "metadata": {},
   "outputs": [],
   "source": [
    "e_m.drop(['Data','Ano'], axis=1, inplace=True)"
   ]
  },
  {
   "cell_type": "code",
   "execution_count": 558,
   "metadata": {},
   "outputs": [],
   "source": [
    "teste.drop(['Data','Ano'], axis=1, inplace=True)"
   ]
  },
  {
   "cell_type": "markdown",
   "metadata": {},
   "source": [
    "### Converter tipos de dados categóricos para numéricos"
   ]
  },
  {
   "cell_type": "markdown",
   "metadata": {},
   "source": [
    "#### Injeção na Rede"
   ]
  },
  {
   "cell_type": "code",
   "execution_count": 559,
   "metadata": {},
   "outputs": [],
   "source": [
    "#e_m['Injeção na Rede'] = pd.factorize(e_m['Injeção na Rede'])[0] + 1"
   ]
  },
  {
   "cell_type": "code",
   "execution_count": 560,
   "metadata": {},
   "outputs": [],
   "source": [
    "from sklearn.preprocessing import LabelEncoder    "
   ]
  },
  {
   "cell_type": "code",
   "execution_count": 561,
   "metadata": {},
   "outputs": [],
   "source": [
    "lb_make = LabelEncoder()\n",
    "e_m['Injeção na Rede'] = lb_make.fit_transform(e_m['Injeção na Rede'])"
   ]
  },
  {
   "cell_type": "markdown",
   "metadata": {},
   "source": [
    "#### Estado do Tempo"
   ]
  },
  {
   "cell_type": "code",
   "execution_count": 562,
   "metadata": {},
   "outputs": [],
   "source": [
    "#encoder = ce.BinaryEncoder(cols = ['Estado do Tempo'])\n",
    "#e_m = encoder.fit_transform(e_m)"
   ]
  },
  {
   "cell_type": "code",
   "execution_count": 563,
   "metadata": {},
   "outputs": [],
   "source": [
    "#encoder = ce.BinaryEncoder(cols = ['Estado do Tempo'])\n",
    "#teste = encoder.fit_transform(teste)"
   ]
  },
  {
   "cell_type": "code",
   "execution_count": 564,
   "metadata": {},
   "outputs": [],
   "source": [
    "lb_make = LabelEncoder()\n",
    "e_m['Estado do Tempo'] = lb_make.fit_transform(e_m['Estado do Tempo'])"
   ]
  },
  {
   "cell_type": "code",
   "execution_count": 565,
   "metadata": {},
   "outputs": [],
   "source": [
    "lb_make = LabelEncoder()\n",
    "teste['Estado do Tempo'] = lb_make.fit_transform(teste['Estado do Tempo'])"
   ]
  },
  {
   "cell_type": "markdown",
   "metadata": {},
   "source": [
    "### Normalização"
   ]
  },
  {
   "cell_type": "code",
   "execution_count": 566,
   "metadata": {},
   "outputs": [],
   "source": [
    "from sklearn import preprocessing"
   ]
  },
  {
   "cell_type": "code",
   "execution_count": 567,
   "metadata": {},
   "outputs": [
    {
     "data": {
      "text/html": [
       "<div>\n",
       "<style scoped>\n",
       "    .dataframe tbody tr th:only-of-type {\n",
       "        vertical-align: middle;\n",
       "    }\n",
       "\n",
       "    .dataframe tbody tr th {\n",
       "        vertical-align: top;\n",
       "    }\n",
       "\n",
       "    .dataframe thead th {\n",
       "        text-align: right;\n",
       "    }\n",
       "</style>\n",
       "<table border=\"1\" class=\"dataframe\">\n",
       "  <thead>\n",
       "    <tr style=\"text-align: right;\">\n",
       "      <th></th>\n",
       "      <th>Timestamp</th>\n",
       "      <th>Temperatura</th>\n",
       "      <th>Sensação Térmica</th>\n",
       "      <th>Temperatura Mínima</th>\n",
       "      <th>Temperatura Máxima</th>\n",
       "      <th>Pressão Atmosférica</th>\n",
       "      <th>Humidade</th>\n",
       "      <th>Velocidade Vento</th>\n",
       "      <th>Precipitação Média</th>\n",
       "      <th>Nebulosidade</th>\n",
       "      <th>Estado do Tempo</th>\n",
       "      <th>Hora</th>\n",
       "      <th>Normal</th>\n",
       "      <th>Horário Económico</th>\n",
       "      <th>Autoconsumo</th>\n",
       "      <th>Injeção na Rede</th>\n",
       "      <th>Mês</th>\n",
       "      <th>Dia</th>\n",
       "    </tr>\n",
       "  </thead>\n",
       "  <tbody>\n",
       "    <tr>\n",
       "      <th>count</th>\n",
       "      <td>1.101600e+04</td>\n",
       "      <td>11016.000000</td>\n",
       "      <td>11016.000000</td>\n",
       "      <td>11016.000000</td>\n",
       "      <td>11016.000000</td>\n",
       "      <td>11016.000000</td>\n",
       "      <td>11016.000000</td>\n",
       "      <td>11016.000000</td>\n",
       "      <td>2284.000000</td>\n",
       "      <td>11016.000000</td>\n",
       "      <td>11016.000000</td>\n",
       "      <td>11016.000000</td>\n",
       "      <td>11016.000000</td>\n",
       "      <td>11016.000000</td>\n",
       "      <td>11016.000000</td>\n",
       "      <td>11016.000000</td>\n",
       "      <td>11016.000000</td>\n",
       "      <td>11016.000000</td>\n",
       "    </tr>\n",
       "    <tr>\n",
       "      <th>mean</th>\n",
       "      <td>1.652701e+09</td>\n",
       "      <td>16.182991</td>\n",
       "      <td>15.826868</td>\n",
       "      <td>14.195064</td>\n",
       "      <td>17.288098</td>\n",
       "      <td>1018.396605</td>\n",
       "      <td>76.570715</td>\n",
       "      <td>2.672039</td>\n",
       "      <td>0.896642</td>\n",
       "      <td>54.000908</td>\n",
       "      <td>4.374818</td>\n",
       "      <td>11.500000</td>\n",
       "      <td>0.202278</td>\n",
       "      <td>0.159714</td>\n",
       "      <td>0.117314</td>\n",
       "      <td>3.227487</td>\n",
       "      <td>7.433551</td>\n",
       "      <td>15.803922</td>\n",
       "    </tr>\n",
       "    <tr>\n",
       "      <th>std</th>\n",
       "      <td>1.144868e+07</td>\n",
       "      <td>5.756972</td>\n",
       "      <td>6.264860</td>\n",
       "      <td>4.956014</td>\n",
       "      <td>6.164689</td>\n",
       "      <td>6.203379</td>\n",
       "      <td>16.268260</td>\n",
       "      <td>1.476158</td>\n",
       "      <td>1.079381</td>\n",
       "      <td>40.553002</td>\n",
       "      <td>2.403911</td>\n",
       "      <td>6.922501</td>\n",
       "      <td>0.349478</td>\n",
       "      <td>0.271792</td>\n",
       "      <td>0.176762</td>\n",
       "      <td>1.346130</td>\n",
       "      <td>3.578335</td>\n",
       "      <td>8.835905</td>\n",
       "    </tr>\n",
       "    <tr>\n",
       "      <th>min</th>\n",
       "      <td>1.632874e+09</td>\n",
       "      <td>0.320000</td>\n",
       "      <td>-2.190000</td>\n",
       "      <td>-0.640000</td>\n",
       "      <td>1.330000</td>\n",
       "      <td>994.000000</td>\n",
       "      <td>19.000000</td>\n",
       "      <td>0.060000</td>\n",
       "      <td>0.100000</td>\n",
       "      <td>0.000000</td>\n",
       "      <td>0.000000</td>\n",
       "      <td>0.000000</td>\n",
       "      <td>0.000000</td>\n",
       "      <td>0.000000</td>\n",
       "      <td>0.000000</td>\n",
       "      <td>0.000000</td>\n",
       "      <td>1.000000</td>\n",
       "      <td>1.000000</td>\n",
       "    </tr>\n",
       "    <tr>\n",
       "      <th>25%</th>\n",
       "      <td>1.642787e+09</td>\n",
       "      <td>12.080000</td>\n",
       "      <td>11.507500</td>\n",
       "      <td>10.720000</td>\n",
       "      <td>12.890000</td>\n",
       "      <td>1015.000000</td>\n",
       "      <td>66.000000</td>\n",
       "      <td>1.620000</td>\n",
       "      <td>0.210000</td>\n",
       "      <td>7.000000</td>\n",
       "      <td>3.000000</td>\n",
       "      <td>5.750000</td>\n",
       "      <td>0.000000</td>\n",
       "      <td>0.000000</td>\n",
       "      <td>0.000000</td>\n",
       "      <td>3.000000</td>\n",
       "      <td>4.000000</td>\n",
       "      <td>8.000000</td>\n",
       "    </tr>\n",
       "    <tr>\n",
       "      <th>50%</th>\n",
       "      <td>1.652701e+09</td>\n",
       "      <td>15.625000</td>\n",
       "      <td>15.230000</td>\n",
       "      <td>14.230000</td>\n",
       "      <td>16.260000</td>\n",
       "      <td>1018.000000</td>\n",
       "      <td>81.000000</td>\n",
       "      <td>2.400000</td>\n",
       "      <td>0.460000</td>\n",
       "      <td>60.000000</td>\n",
       "      <td>5.000000</td>\n",
       "      <td>11.500000</td>\n",
       "      <td>0.000000</td>\n",
       "      <td>0.000000</td>\n",
       "      <td>0.000000</td>\n",
       "      <td>4.000000</td>\n",
       "      <td>8.000000</td>\n",
       "      <td>16.000000</td>\n",
       "    </tr>\n",
       "    <tr>\n",
       "      <th>75%</th>\n",
       "      <td>1.662614e+09</td>\n",
       "      <td>19.270000</td>\n",
       "      <td>19.260000</td>\n",
       "      <td>17.490000</td>\n",
       "      <td>20.340000</td>\n",
       "      <td>1022.000000</td>\n",
       "      <td>91.000000</td>\n",
       "      <td>3.420000</td>\n",
       "      <td>1.092500</td>\n",
       "      <td>98.000000</td>\n",
       "      <td>7.000000</td>\n",
       "      <td>17.250000</td>\n",
       "      <td>0.314000</td>\n",
       "      <td>0.288000</td>\n",
       "      <td>0.227000</td>\n",
       "      <td>4.000000</td>\n",
       "      <td>11.000000</td>\n",
       "      <td>23.000000</td>\n",
       "    </tr>\n",
       "    <tr>\n",
       "      <th>max</th>\n",
       "      <td>1.672528e+09</td>\n",
       "      <td>40.850000</td>\n",
       "      <td>41.330000</td>\n",
       "      <td>36.720000</td>\n",
       "      <td>41.450000</td>\n",
       "      <td>1034.000000</td>\n",
       "      <td>100.000000</td>\n",
       "      <td>11.100000</td>\n",
       "      <td>7.450000</td>\n",
       "      <td>100.000000</td>\n",
       "      <td>7.000000</td>\n",
       "      <td>23.000000</td>\n",
       "      <td>3.251000</td>\n",
       "      <td>6.978000</td>\n",
       "      <td>1.192000</td>\n",
       "      <td>4.000000</td>\n",
       "      <td>12.000000</td>\n",
       "      <td>31.000000</td>\n",
       "    </tr>\n",
       "  </tbody>\n",
       "</table>\n",
       "</div>"
      ],
      "text/plain": [
       "          Timestamp   Temperatura  Sensação Térmica  Temperatura Mínima  \\\n",
       "count  1.101600e+04  11016.000000      11016.000000        11016.000000   \n",
       "mean   1.652701e+09     16.182991         15.826868           14.195064   \n",
       "std    1.144868e+07      5.756972          6.264860            4.956014   \n",
       "min    1.632874e+09      0.320000         -2.190000           -0.640000   \n",
       "25%    1.642787e+09     12.080000         11.507500           10.720000   \n",
       "50%    1.652701e+09     15.625000         15.230000           14.230000   \n",
       "75%    1.662614e+09     19.270000         19.260000           17.490000   \n",
       "max    1.672528e+09     40.850000         41.330000           36.720000   \n",
       "\n",
       "       Temperatura Máxima  Pressão Atmosférica      Humidade  \\\n",
       "count        11016.000000         11016.000000  11016.000000   \n",
       "mean            17.288098          1018.396605     76.570715   \n",
       "std              6.164689             6.203379     16.268260   \n",
       "min              1.330000           994.000000     19.000000   \n",
       "25%             12.890000          1015.000000     66.000000   \n",
       "50%             16.260000          1018.000000     81.000000   \n",
       "75%             20.340000          1022.000000     91.000000   \n",
       "max             41.450000          1034.000000    100.000000   \n",
       "\n",
       "       Velocidade Vento  Precipitação Média  Nebulosidade  Estado do Tempo  \\\n",
       "count      11016.000000         2284.000000  11016.000000     11016.000000   \n",
       "mean           2.672039            0.896642     54.000908         4.374818   \n",
       "std            1.476158            1.079381     40.553002         2.403911   \n",
       "min            0.060000            0.100000      0.000000         0.000000   \n",
       "25%            1.620000            0.210000      7.000000         3.000000   \n",
       "50%            2.400000            0.460000     60.000000         5.000000   \n",
       "75%            3.420000            1.092500     98.000000         7.000000   \n",
       "max           11.100000            7.450000    100.000000         7.000000   \n",
       "\n",
       "               Hora        Normal  Horário Económico   Autoconsumo  \\\n",
       "count  11016.000000  11016.000000       11016.000000  11016.000000   \n",
       "mean      11.500000      0.202278           0.159714      0.117314   \n",
       "std        6.922501      0.349478           0.271792      0.176762   \n",
       "min        0.000000      0.000000           0.000000      0.000000   \n",
       "25%        5.750000      0.000000           0.000000      0.000000   \n",
       "50%       11.500000      0.000000           0.000000      0.000000   \n",
       "75%       17.250000      0.314000           0.288000      0.227000   \n",
       "max       23.000000      3.251000           6.978000      1.192000   \n",
       "\n",
       "       Injeção na Rede           Mês           Dia  \n",
       "count     11016.000000  11016.000000  11016.000000  \n",
       "mean          3.227487      7.433551     15.803922  \n",
       "std           1.346130      3.578335      8.835905  \n",
       "min           0.000000      1.000000      1.000000  \n",
       "25%           3.000000      4.000000      8.000000  \n",
       "50%           4.000000      8.000000     16.000000  \n",
       "75%           4.000000     11.000000     23.000000  \n",
       "max           4.000000     12.000000     31.000000  "
      ]
     },
     "execution_count": 567,
     "metadata": {},
     "output_type": "execute_result"
    }
   ],
   "source": [
    "e_m.describe()"
   ]
  },
  {
   "cell_type": "code",
   "execution_count": 568,
   "metadata": {},
   "outputs": [],
   "source": [
    "from scipy.stats import zscore"
   ]
  },
  {
   "cell_type": "code",
   "execution_count": 569,
   "metadata": {},
   "outputs": [
    {
     "data": {
      "text/html": [
       "<div>\n",
       "<style scoped>\n",
       "    .dataframe tbody tr th:only-of-type {\n",
       "        vertical-align: middle;\n",
       "    }\n",
       "\n",
       "    .dataframe tbody tr th {\n",
       "        vertical-align: top;\n",
       "    }\n",
       "\n",
       "    .dataframe thead th {\n",
       "        text-align: right;\n",
       "    }\n",
       "</style>\n",
       "<table border=\"1\" class=\"dataframe\">\n",
       "  <thead>\n",
       "    <tr style=\"text-align: right;\">\n",
       "      <th></th>\n",
       "      <th>Timestamp</th>\n",
       "      <th>Temperatura</th>\n",
       "      <th>Sensação Térmica</th>\n",
       "      <th>Temperatura Mínima</th>\n",
       "      <th>Temperatura Máxima</th>\n",
       "      <th>Pressão Atmosférica</th>\n",
       "      <th>Humidade</th>\n",
       "      <th>Velocidade Vento</th>\n",
       "      <th>Precipitação Média</th>\n",
       "      <th>Nebulosidade</th>\n",
       "      <th>Estado do Tempo</th>\n",
       "      <th>Hora</th>\n",
       "      <th>Normal</th>\n",
       "      <th>Horário Económico</th>\n",
       "      <th>Autoconsumo</th>\n",
       "      <th>Injeção na Rede</th>\n",
       "      <th>Mês</th>\n",
       "      <th>Dia</th>\n",
       "    </tr>\n",
       "  </thead>\n",
       "  <tbody>\n",
       "    <tr>\n",
       "      <th>0</th>\n",
       "      <td>-1.731894</td>\n",
       "      <td>-0.384419</td>\n",
       "      <td>-0.365048</td>\n",
       "      <td>-0.553911</td>\n",
       "      <td>-0.526912</td>\n",
       "      <td>1.386951</td>\n",
       "      <td>0.272278</td>\n",
       "      <td>-0.482381</td>\n",
       "      <td>NaN</td>\n",
       "      <td>0.813764</td>\n",
       "      <td>0.260080</td>\n",
       "      <td>-1.661325</td>\n",
       "      <td>-0.578826</td>\n",
       "      <td>-0.587660</td>\n",
       "      <td>-0.663713</td>\n",
       "      <td>0.573903</td>\n",
       "      <td>0.437779</td>\n",
       "      <td>1.493529</td>\n",
       "    </tr>\n",
       "    <tr>\n",
       "      <th>1</th>\n",
       "      <td>-1.731579</td>\n",
       "      <td>-0.469537</td>\n",
       "      <td>-0.448054</td>\n",
       "      <td>-0.154378</td>\n",
       "      <td>-0.549623</td>\n",
       "      <td>1.548161</td>\n",
       "      <td>0.333750</td>\n",
       "      <td>-0.570452</td>\n",
       "      <td>NaN</td>\n",
       "      <td>0.912405</td>\n",
       "      <td>0.260080</td>\n",
       "      <td>-1.516862</td>\n",
       "      <td>-0.578826</td>\n",
       "      <td>-0.587660</td>\n",
       "      <td>-0.663713</td>\n",
       "      <td>0.573903</td>\n",
       "      <td>0.437779</td>\n",
       "      <td>1.493529</td>\n",
       "    </tr>\n",
       "    <tr>\n",
       "      <th>2</th>\n",
       "      <td>-1.731265</td>\n",
       "      <td>-0.565078</td>\n",
       "      <td>-0.535849</td>\n",
       "      <td>-0.297645</td>\n",
       "      <td>-0.625867</td>\n",
       "      <td>1.386951</td>\n",
       "      <td>0.456694</td>\n",
       "      <td>-0.482381</td>\n",
       "      <td>NaN</td>\n",
       "      <td>0.961726</td>\n",
       "      <td>0.260080</td>\n",
       "      <td>-1.372399</td>\n",
       "      <td>-0.578826</td>\n",
       "      <td>-0.587660</td>\n",
       "      <td>-0.663713</td>\n",
       "      <td>0.573903</td>\n",
       "      <td>0.437779</td>\n",
       "      <td>1.493529</td>\n",
       "    </tr>\n",
       "    <tr>\n",
       "      <th>3</th>\n",
       "      <td>-1.730950</td>\n",
       "      <td>-0.620665</td>\n",
       "      <td>-0.586930</td>\n",
       "      <td>-0.777891</td>\n",
       "      <td>-0.706977</td>\n",
       "      <td>1.386951</td>\n",
       "      <td>0.518167</td>\n",
       "      <td>-0.556902</td>\n",
       "      <td>NaN</td>\n",
       "      <td>1.011046</td>\n",
       "      <td>0.260080</td>\n",
       "      <td>-1.227936</td>\n",
       "      <td>-0.578826</td>\n",
       "      <td>-0.587660</td>\n",
       "      <td>-0.663713</td>\n",
       "      <td>0.573903</td>\n",
       "      <td>0.437779</td>\n",
       "      <td>1.493529</td>\n",
       "    </tr>\n",
       "    <tr>\n",
       "      <th>4</th>\n",
       "      <td>-1.730636</td>\n",
       "      <td>-0.620665</td>\n",
       "      <td>-0.583738</td>\n",
       "      <td>-0.888873</td>\n",
       "      <td>-0.706977</td>\n",
       "      <td>1.386951</td>\n",
       "      <td>0.579639</td>\n",
       "      <td>-0.570452</td>\n",
       "      <td>NaN</td>\n",
       "      <td>0.961726</td>\n",
       "      <td>0.260080</td>\n",
       "      <td>-1.083473</td>\n",
       "      <td>-0.578826</td>\n",
       "      <td>-0.587660</td>\n",
       "      <td>-0.663713</td>\n",
       "      <td>0.573903</td>\n",
       "      <td>0.437779</td>\n",
       "      <td>1.493529</td>\n",
       "    </tr>\n",
       "    <tr>\n",
       "      <th>...</th>\n",
       "      <td>...</td>\n",
       "      <td>...</td>\n",
       "      <td>...</td>\n",
       "      <td>...</td>\n",
       "      <td>...</td>\n",
       "      <td>...</td>\n",
       "      <td>...</td>\n",
       "      <td>...</td>\n",
       "      <td>...</td>\n",
       "      <td>...</td>\n",
       "      <td>...</td>\n",
       "      <td>...</td>\n",
       "      <td>...</td>\n",
       "      <td>...</td>\n",
       "      <td>...</td>\n",
       "      <td>...</td>\n",
       "      <td>...</td>\n",
       "      <td>...</td>\n",
       "    </tr>\n",
       "    <tr>\n",
       "      <th>11011</th>\n",
       "      <td>1.730636</td>\n",
       "      <td>-0.083901</td>\n",
       "      <td>-0.041003</td>\n",
       "      <td>0.277440</td>\n",
       "      <td>-0.254379</td>\n",
       "      <td>-0.063937</td>\n",
       "      <td>0.579639</td>\n",
       "      <td>1.956492</td>\n",
       "      <td>NaN</td>\n",
       "      <td>1.134347</td>\n",
       "      <td>-0.155927</td>\n",
       "      <td>1.083473</td>\n",
       "      <td>4.265757</td>\n",
       "      <td>-0.587660</td>\n",
       "      <td>-0.663713</td>\n",
       "      <td>0.573903</td>\n",
       "      <td>1.276196</td>\n",
       "      <td>1.719888</td>\n",
       "    </tr>\n",
       "    <tr>\n",
       "      <th>11012</th>\n",
       "      <td>1.730950</td>\n",
       "      <td>-0.109957</td>\n",
       "      <td>-0.063351</td>\n",
       "      <td>-0.297645</td>\n",
       "      <td>-0.257624</td>\n",
       "      <td>-0.063937</td>\n",
       "      <td>0.641111</td>\n",
       "      <td>1.218056</td>\n",
       "      <td>NaN</td>\n",
       "      <td>1.134347</td>\n",
       "      <td>-0.987942</td>\n",
       "      <td>1.227936</td>\n",
       "      <td>3.218435</td>\n",
       "      <td>-0.587660</td>\n",
       "      <td>-0.663713</td>\n",
       "      <td>0.573903</td>\n",
       "      <td>1.276196</td>\n",
       "      <td>1.719888</td>\n",
       "    </tr>\n",
       "    <tr>\n",
       "      <th>11013</th>\n",
       "      <td>1.731265</td>\n",
       "      <td>-0.474749</td>\n",
       "      <td>-0.406551</td>\n",
       "      <td>-0.396519</td>\n",
       "      <td>-0.535023</td>\n",
       "      <td>0.097273</td>\n",
       "      <td>1.009944</td>\n",
       "      <td>0.418647</td>\n",
       "      <td>NaN</td>\n",
       "      <td>1.134347</td>\n",
       "      <td>-0.987942</td>\n",
       "      <td>1.372399</td>\n",
       "      <td>1.587358</td>\n",
       "      <td>-0.587660</td>\n",
       "      <td>-0.663713</td>\n",
       "      <td>0.573903</td>\n",
       "      <td>1.276196</td>\n",
       "      <td>1.719888</td>\n",
       "    </tr>\n",
       "    <tr>\n",
       "      <th>11014</th>\n",
       "      <td>1.731579</td>\n",
       "      <td>-0.565078</td>\n",
       "      <td>-0.494346</td>\n",
       "      <td>-0.396519</td>\n",
       "      <td>-0.625867</td>\n",
       "      <td>0.097273</td>\n",
       "      <td>1.071416</td>\n",
       "      <td>-0.800790</td>\n",
       "      <td>NaN</td>\n",
       "      <td>1.134347</td>\n",
       "      <td>-0.155927</td>\n",
       "      <td>1.516862</td>\n",
       "      <td>-0.578826</td>\n",
       "      <td>1.895970</td>\n",
       "      <td>-0.663713</td>\n",
       "      <td>0.573903</td>\n",
       "      <td>1.276196</td>\n",
       "      <td>1.719888</td>\n",
       "    </tr>\n",
       "    <tr>\n",
       "      <th>11015</th>\n",
       "      <td>1.731894</td>\n",
       "      <td>-0.565078</td>\n",
       "      <td>-0.489557</td>\n",
       "      <td>-0.396519</td>\n",
       "      <td>-0.625867</td>\n",
       "      <td>0.097273</td>\n",
       "      <td>1.132888</td>\n",
       "      <td>-0.502705</td>\n",
       "      <td>NaN</td>\n",
       "      <td>1.134347</td>\n",
       "      <td>-0.987942</td>\n",
       "      <td>1.661325</td>\n",
       "      <td>-0.578826</td>\n",
       "      <td>0.895159</td>\n",
       "      <td>-0.663713</td>\n",
       "      <td>0.573903</td>\n",
       "      <td>1.276196</td>\n",
       "      <td>1.719888</td>\n",
       "    </tr>\n",
       "  </tbody>\n",
       "</table>\n",
       "<p>11016 rows × 18 columns</p>\n",
       "</div>"
      ],
      "text/plain": [
       "       Timestamp  Temperatura  Sensação Térmica  Temperatura Mínima  \\\n",
       "0      -1.731894    -0.384419         -0.365048           -0.553911   \n",
       "1      -1.731579    -0.469537         -0.448054           -0.154378   \n",
       "2      -1.731265    -0.565078         -0.535849           -0.297645   \n",
       "3      -1.730950    -0.620665         -0.586930           -0.777891   \n",
       "4      -1.730636    -0.620665         -0.583738           -0.888873   \n",
       "...          ...          ...               ...                 ...   \n",
       "11011   1.730636    -0.083901         -0.041003            0.277440   \n",
       "11012   1.730950    -0.109957         -0.063351           -0.297645   \n",
       "11013   1.731265    -0.474749         -0.406551           -0.396519   \n",
       "11014   1.731579    -0.565078         -0.494346           -0.396519   \n",
       "11015   1.731894    -0.565078         -0.489557           -0.396519   \n",
       "\n",
       "       Temperatura Máxima  Pressão Atmosférica  Humidade  Velocidade Vento  \\\n",
       "0               -0.526912             1.386951  0.272278         -0.482381   \n",
       "1               -0.549623             1.548161  0.333750         -0.570452   \n",
       "2               -0.625867             1.386951  0.456694         -0.482381   \n",
       "3               -0.706977             1.386951  0.518167         -0.556902   \n",
       "4               -0.706977             1.386951  0.579639         -0.570452   \n",
       "...                   ...                  ...       ...               ...   \n",
       "11011           -0.254379            -0.063937  0.579639          1.956492   \n",
       "11012           -0.257624            -0.063937  0.641111          1.218056   \n",
       "11013           -0.535023             0.097273  1.009944          0.418647   \n",
       "11014           -0.625867             0.097273  1.071416         -0.800790   \n",
       "11015           -0.625867             0.097273  1.132888         -0.502705   \n",
       "\n",
       "       Precipitação Média  Nebulosidade  Estado do Tempo      Hora    Normal  \\\n",
       "0                     NaN      0.813764         0.260080 -1.661325 -0.578826   \n",
       "1                     NaN      0.912405         0.260080 -1.516862 -0.578826   \n",
       "2                     NaN      0.961726         0.260080 -1.372399 -0.578826   \n",
       "3                     NaN      1.011046         0.260080 -1.227936 -0.578826   \n",
       "4                     NaN      0.961726         0.260080 -1.083473 -0.578826   \n",
       "...                   ...           ...              ...       ...       ...   \n",
       "11011                 NaN      1.134347        -0.155927  1.083473  4.265757   \n",
       "11012                 NaN      1.134347        -0.987942  1.227936  3.218435   \n",
       "11013                 NaN      1.134347        -0.987942  1.372399  1.587358   \n",
       "11014                 NaN      1.134347        -0.155927  1.516862 -0.578826   \n",
       "11015                 NaN      1.134347        -0.987942  1.661325 -0.578826   \n",
       "\n",
       "       Horário Económico  Autoconsumo  Injeção na Rede       Mês       Dia  \n",
       "0              -0.587660    -0.663713         0.573903  0.437779  1.493529  \n",
       "1              -0.587660    -0.663713         0.573903  0.437779  1.493529  \n",
       "2              -0.587660    -0.663713         0.573903  0.437779  1.493529  \n",
       "3              -0.587660    -0.663713         0.573903  0.437779  1.493529  \n",
       "4              -0.587660    -0.663713         0.573903  0.437779  1.493529  \n",
       "...                  ...          ...              ...       ...       ...  \n",
       "11011          -0.587660    -0.663713         0.573903  1.276196  1.719888  \n",
       "11012          -0.587660    -0.663713         0.573903  1.276196  1.719888  \n",
       "11013          -0.587660    -0.663713         0.573903  1.276196  1.719888  \n",
       "11014           1.895970    -0.663713         0.573903  1.276196  1.719888  \n",
       "11015           0.895159    -0.663713         0.573903  1.276196  1.719888  \n",
       "\n",
       "[11016 rows x 18 columns]"
      ]
     },
     "execution_count": 569,
     "metadata": {},
     "output_type": "execute_result"
    }
   ],
   "source": [
    "numeric_cols = e_m.select_dtypes(include=[np.number]).columns\n",
    "e_m[numeric_cols].apply(zscore)"
   ]
  },
  {
   "cell_type": "code",
   "execution_count": 570,
   "metadata": {},
   "outputs": [
    {
     "data": {
      "text/html": [
       "<div>\n",
       "<style scoped>\n",
       "    .dataframe tbody tr th:only-of-type {\n",
       "        vertical-align: middle;\n",
       "    }\n",
       "\n",
       "    .dataframe tbody tr th {\n",
       "        vertical-align: top;\n",
       "    }\n",
       "\n",
       "    .dataframe thead th {\n",
       "        text-align: right;\n",
       "    }\n",
       "</style>\n",
       "<table border=\"1\" class=\"dataframe\">\n",
       "  <thead>\n",
       "    <tr style=\"text-align: right;\">\n",
       "      <th></th>\n",
       "      <th>Timestamp</th>\n",
       "      <th>Temperatura</th>\n",
       "      <th>Sensação Térmica</th>\n",
       "      <th>Temperatura Mínima</th>\n",
       "      <th>Temperatura Máxima</th>\n",
       "      <th>Pressão Atmosférica</th>\n",
       "      <th>Humidade</th>\n",
       "      <th>Velocidade Vento</th>\n",
       "      <th>Precipitação Média</th>\n",
       "      <th>Nebulosidade</th>\n",
       "      <th>Estado do Tempo</th>\n",
       "      <th>Hora</th>\n",
       "      <th>Normal</th>\n",
       "      <th>Horário Económico</th>\n",
       "      <th>Autoconsumo</th>\n",
       "      <th>Mês</th>\n",
       "      <th>Dia</th>\n",
       "    </tr>\n",
       "  </thead>\n",
       "  <tbody>\n",
       "    <tr>\n",
       "      <th>0</th>\n",
       "      <td>-1.731283</td>\n",
       "      <td>0.430460</td>\n",
       "      <td>NaN</td>\n",
       "      <td>0.616555</td>\n",
       "      <td>0.299111</td>\n",
       "      <td>-0.557575</td>\n",
       "      <td>NaN</td>\n",
       "      <td>-0.573069</td>\n",
       "      <td>NaN</td>\n",
       "      <td>NaN</td>\n",
       "      <td>-0.311535</td>\n",
       "      <td>-1.661325</td>\n",
       "      <td>-0.577441</td>\n",
       "      <td>0.639369</td>\n",
       "      <td>-0.626783</td>\n",
       "      <td>-1.196445</td>\n",
       "      <td>-1.566418</td>\n",
       "    </tr>\n",
       "    <tr>\n",
       "      <th>1</th>\n",
       "      <td>-1.729748</td>\n",
       "      <td>0.577049</td>\n",
       "      <td>NaN</td>\n",
       "      <td>0.784556</td>\n",
       "      <td>0.425128</td>\n",
       "      <td>-0.712355</td>\n",
       "      <td>NaN</td>\n",
       "      <td>-0.481007</td>\n",
       "      <td>NaN</td>\n",
       "      <td>NaN</td>\n",
       "      <td>-0.311535</td>\n",
       "      <td>-1.516862</td>\n",
       "      <td>-0.577441</td>\n",
       "      <td>0.932180</td>\n",
       "      <td>-0.626783</td>\n",
       "      <td>-1.196445</td>\n",
       "      <td>-1.566418</td>\n",
       "    </tr>\n",
       "    <tr>\n",
       "      <th>2</th>\n",
       "      <td>-1.728212</td>\n",
       "      <td>0.592755</td>\n",
       "      <td>NaN</td>\n",
       "      <td>0.796387</td>\n",
       "      <td>0.671800</td>\n",
       "      <td>-0.867134</td>\n",
       "      <td>NaN</td>\n",
       "      <td>-0.078238</td>\n",
       "      <td>NaN</td>\n",
       "      <td>NaN</td>\n",
       "      <td>-0.311535</td>\n",
       "      <td>-1.372399</td>\n",
       "      <td>-0.577441</td>\n",
       "      <td>0.317277</td>\n",
       "      <td>-0.626783</td>\n",
       "      <td>-1.196445</td>\n",
       "      <td>-1.566418</td>\n",
       "    </tr>\n",
       "    <tr>\n",
       "      <th>3</th>\n",
       "      <td>-1.726677</td>\n",
       "      <td>0.608460</td>\n",
       "      <td>NaN</td>\n",
       "      <td>0.448555</td>\n",
       "      <td>0.671800</td>\n",
       "      <td>-1.021913</td>\n",
       "      <td>NaN</td>\n",
       "      <td>0.353300</td>\n",
       "      <td>NaN</td>\n",
       "      <td>NaN</td>\n",
       "      <td>-0.311535</td>\n",
       "      <td>-1.227936</td>\n",
       "      <td>-0.577441</td>\n",
       "      <td>0.114971</td>\n",
       "      <td>-0.626783</td>\n",
       "      <td>-1.196445</td>\n",
       "      <td>-1.566418</td>\n",
       "    </tr>\n",
       "    <tr>\n",
       "      <th>4</th>\n",
       "      <td>-1.725141</td>\n",
       "      <td>0.603225</td>\n",
       "      <td>NaN</td>\n",
       "      <td>0.448555</td>\n",
       "      <td>0.671800</td>\n",
       "      <td>-1.176692</td>\n",
       "      <td>NaN</td>\n",
       "      <td>0.899916</td>\n",
       "      <td>NaN</td>\n",
       "      <td>NaN</td>\n",
       "      <td>-0.311535</td>\n",
       "      <td>-1.083473</td>\n",
       "      <td>-0.577441</td>\n",
       "      <td>0.067057</td>\n",
       "      <td>-0.626783</td>\n",
       "      <td>-1.196445</td>\n",
       "      <td>-1.566418</td>\n",
       "    </tr>\n",
       "    <tr>\n",
       "      <th>...</th>\n",
       "      <td>...</td>\n",
       "      <td>...</td>\n",
       "      <td>...</td>\n",
       "      <td>...</td>\n",
       "      <td>...</td>\n",
       "      <td>...</td>\n",
       "      <td>...</td>\n",
       "      <td>...</td>\n",
       "      <td>...</td>\n",
       "      <td>...</td>\n",
       "      <td>...</td>\n",
       "      <td>...</td>\n",
       "      <td>...</td>\n",
       "      <td>...</td>\n",
       "      <td>...</td>\n",
       "      <td>...</td>\n",
       "      <td>...</td>\n",
       "    </tr>\n",
       "    <tr>\n",
       "      <th>2251</th>\n",
       "      <td>1.725141</td>\n",
       "      <td>1.843993</td>\n",
       "      <td>NaN</td>\n",
       "      <td>1.667152</td>\n",
       "      <td>2.194729</td>\n",
       "      <td>-1.331471</td>\n",
       "      <td>NaN</td>\n",
       "      <td>0.635239</td>\n",
       "      <td>NaN</td>\n",
       "      <td>NaN</td>\n",
       "      <td>0.899534</td>\n",
       "      <td>1.083473</td>\n",
       "      <td>1.475463</td>\n",
       "      <td>-0.603747</td>\n",
       "      <td>-0.563810</td>\n",
       "      <td>2.111373</td>\n",
       "      <td>-1.230246</td>\n",
       "    </tr>\n",
       "    <tr>\n",
       "      <th>2252</th>\n",
       "      <td>1.726677</td>\n",
       "      <td>1.234080</td>\n",
       "      <td>NaN</td>\n",
       "      <td>1.156051</td>\n",
       "      <td>1.269711</td>\n",
       "      <td>-1.176692</td>\n",
       "      <td>NaN</td>\n",
       "      <td>-0.256607</td>\n",
       "      <td>NaN</td>\n",
       "      <td>NaN</td>\n",
       "      <td>0.899534</td>\n",
       "      <td>1.227936</td>\n",
       "      <td>1.393606</td>\n",
       "      <td>-0.603747</td>\n",
       "      <td>-0.626783</td>\n",
       "      <td>2.111373</td>\n",
       "      <td>-1.230246</td>\n",
       "    </tr>\n",
       "    <tr>\n",
       "      <th>2253</th>\n",
       "      <td>1.728212</td>\n",
       "      <td>0.796931</td>\n",
       "      <td>NaN</td>\n",
       "      <td>0.943092</td>\n",
       "      <td>0.982821</td>\n",
       "      <td>-1.176692</td>\n",
       "      <td>NaN</td>\n",
       "      <td>-1.044884</td>\n",
       "      <td>NaN</td>\n",
       "      <td>NaN</td>\n",
       "      <td>0.899534</td>\n",
       "      <td>1.372399</td>\n",
       "      <td>0.454397</td>\n",
       "      <td>-0.603747</td>\n",
       "      <td>-0.626783</td>\n",
       "      <td>2.111373</td>\n",
       "      <td>-1.230246</td>\n",
       "    </tr>\n",
       "    <tr>\n",
       "      <th>2254</th>\n",
       "      <td>1.729748</td>\n",
       "      <td>0.535166</td>\n",
       "      <td>NaN</td>\n",
       "      <td>0.486414</td>\n",
       "      <td>0.543102</td>\n",
       "      <td>-1.021913</td>\n",
       "      <td>NaN</td>\n",
       "      <td>-1.044884</td>\n",
       "      <td>NaN</td>\n",
       "      <td>NaN</td>\n",
       "      <td>0.899534</td>\n",
       "      <td>1.516862</td>\n",
       "      <td>-0.577441</td>\n",
       "      <td>0.719227</td>\n",
       "      <td>-0.626783</td>\n",
       "      <td>2.111373</td>\n",
       "      <td>-1.230246</td>\n",
       "    </tr>\n",
       "    <tr>\n",
       "      <th>2255</th>\n",
       "      <td>1.731283</td>\n",
       "      <td>0.362401</td>\n",
       "      <td>NaN</td>\n",
       "      <td>0.323146</td>\n",
       "      <td>0.690568</td>\n",
       "      <td>-0.867134</td>\n",
       "      <td>NaN</td>\n",
       "      <td>-0.947069</td>\n",
       "      <td>NaN</td>\n",
       "      <td>NaN</td>\n",
       "      <td>0.899534</td>\n",
       "      <td>1.661325</td>\n",
       "      <td>-0.577441</td>\n",
       "      <td>0.692607</td>\n",
       "      <td>-0.626783</td>\n",
       "      <td>2.111373</td>\n",
       "      <td>-1.230246</td>\n",
       "    </tr>\n",
       "  </tbody>\n",
       "</table>\n",
       "<p>2256 rows × 17 columns</p>\n",
       "</div>"
      ],
      "text/plain": [
       "      Timestamp  Temperatura  Sensação Térmica  Temperatura Mínima  \\\n",
       "0     -1.731283     0.430460               NaN            0.616555   \n",
       "1     -1.729748     0.577049               NaN            0.784556   \n",
       "2     -1.728212     0.592755               NaN            0.796387   \n",
       "3     -1.726677     0.608460               NaN            0.448555   \n",
       "4     -1.725141     0.603225               NaN            0.448555   \n",
       "...         ...          ...               ...                 ...   \n",
       "2251   1.725141     1.843993               NaN            1.667152   \n",
       "2252   1.726677     1.234080               NaN            1.156051   \n",
       "2253   1.728212     0.796931               NaN            0.943092   \n",
       "2254   1.729748     0.535166               NaN            0.486414   \n",
       "2255   1.731283     0.362401               NaN            0.323146   \n",
       "\n",
       "      Temperatura Máxima  Pressão Atmosférica  Humidade  Velocidade Vento  \\\n",
       "0               0.299111            -0.557575       NaN         -0.573069   \n",
       "1               0.425128            -0.712355       NaN         -0.481007   \n",
       "2               0.671800            -0.867134       NaN         -0.078238   \n",
       "3               0.671800            -1.021913       NaN          0.353300   \n",
       "4               0.671800            -1.176692       NaN          0.899916   \n",
       "...                  ...                  ...       ...               ...   \n",
       "2251            2.194729            -1.331471       NaN          0.635239   \n",
       "2252            1.269711            -1.176692       NaN         -0.256607   \n",
       "2253            0.982821            -1.176692       NaN         -1.044884   \n",
       "2254            0.543102            -1.021913       NaN         -1.044884   \n",
       "2255            0.690568            -0.867134       NaN         -0.947069   \n",
       "\n",
       "      Precipitação Média  Nebulosidade  Estado do Tempo      Hora    Normal  \\\n",
       "0                    NaN           NaN        -0.311535 -1.661325 -0.577441   \n",
       "1                    NaN           NaN        -0.311535 -1.516862 -0.577441   \n",
       "2                    NaN           NaN        -0.311535 -1.372399 -0.577441   \n",
       "3                    NaN           NaN        -0.311535 -1.227936 -0.577441   \n",
       "4                    NaN           NaN        -0.311535 -1.083473 -0.577441   \n",
       "...                  ...           ...              ...       ...       ...   \n",
       "2251                 NaN           NaN         0.899534  1.083473  1.475463   \n",
       "2252                 NaN           NaN         0.899534  1.227936  1.393606   \n",
       "2253                 NaN           NaN         0.899534  1.372399  0.454397   \n",
       "2254                 NaN           NaN         0.899534  1.516862 -0.577441   \n",
       "2255                 NaN           NaN         0.899534  1.661325 -0.577441   \n",
       "\n",
       "      Horário Económico  Autoconsumo       Mês       Dia  \n",
       "0              0.639369    -0.626783 -1.196445 -1.566418  \n",
       "1              0.932180    -0.626783 -1.196445 -1.566418  \n",
       "2              0.317277    -0.626783 -1.196445 -1.566418  \n",
       "3              0.114971    -0.626783 -1.196445 -1.566418  \n",
       "4              0.067057    -0.626783 -1.196445 -1.566418  \n",
       "...                 ...          ...       ...       ...  \n",
       "2251          -0.603747    -0.563810  2.111373 -1.230246  \n",
       "2252          -0.603747    -0.626783  2.111373 -1.230246  \n",
       "2253          -0.603747    -0.626783  2.111373 -1.230246  \n",
       "2254           0.719227    -0.626783  2.111373 -1.230246  \n",
       "2255           0.692607    -0.626783  2.111373 -1.230246  \n",
       "\n",
       "[2256 rows x 17 columns]"
      ]
     },
     "execution_count": 570,
     "metadata": {},
     "output_type": "execute_result"
    }
   ],
   "source": [
    "numeric_cols = teste.select_dtypes(include=[np.number]).columns\n",
    "teste[numeric_cols].apply(zscore)"
   ]
  },
  {
   "cell_type": "markdown",
   "metadata": {},
   "source": [
    "### Tratamento de Outliers"
   ]
  },
  {
   "cell_type": "code",
   "execution_count": 571,
   "metadata": {},
   "outputs": [],
   "source": [
    "from scipy.stats.mstats import winsorize"
   ]
  },
  {
   "cell_type": "code",
   "execution_count": 572,
   "metadata": {},
   "outputs": [],
   "source": [
    "def get_outliers(lower,upper,field):\n",
    "    Q1 = e_m[field].quantile(0.25)\n",
    "    Q3 = e_m[field].quantile(0.75)\n",
    "    IQR = Q3-Q1\n",
    "\n",
    "    lower_lim = Q1 - lower * IQR\n",
    "    upper_lim = Q3 + upper * IQR\n",
    "\n",
    "    out_low = (e_m[field]<lower_lim)\n",
    "    out_up = (e_m[field]>upper_lim)\n",
    "\n",
    "    return [out_low,out_up]"
   ]
  },
  {
   "cell_type": "markdown",
   "metadata": {},
   "source": [
    "##### Temperatura"
   ]
  },
  {
   "cell_type": "code",
   "execution_count": 573,
   "metadata": {},
   "outputs": [],
   "source": [
    "#e_m['Temperatura'] = winsorize(e_m['Temperatura'], (0.000182,0.02442))"
   ]
  },
  {
   "cell_type": "code",
   "execution_count": null,
   "metadata": {},
   "outputs": [],
   "source": []
  },
  {
   "cell_type": "markdown",
   "metadata": {},
   "source": [
    "##### Sensação Térmica"
   ]
  },
  {
   "cell_type": "code",
   "execution_count": 574,
   "metadata": {},
   "outputs": [],
   "source": [
    "#e_m['Sensação Térmica'] = winsorize(e_m['Sensação Térmica'], (0.0003,0.0242))"
   ]
  },
  {
   "cell_type": "code",
   "execution_count": null,
   "metadata": {},
   "outputs": [],
   "source": []
  },
  {
   "cell_type": "markdown",
   "metadata": {},
   "source": [
    "##### Temperatura Mínima"
   ]
  },
  {
   "cell_type": "code",
   "execution_count": 575,
   "metadata": {},
   "outputs": [],
   "source": [
    "outliers_low, outliers_up = get_outliers(1.46,1.4,'Temperatura Mínima')\n",
    "\n",
    "median = e_m['Temperatura Mínima'].median()\n",
    "\n",
    "# Substituindo os outliers na coluna 'Temperatura' pelo valor da mediana\n",
    "e_m.loc[outliers_low | outliers_up, 'Temperatura Mínima'] = median"
   ]
  },
  {
   "cell_type": "markdown",
   "metadata": {},
   "source": [
    "##### Temperatura Máxima"
   ]
  },
  {
   "cell_type": "code",
   "execution_count": 576,
   "metadata": {},
   "outputs": [],
   "source": [
    "outliers_low, outliers_up = get_outliers(1.55,1.31,'Temperatura Máxima')"
   ]
  },
  {
   "cell_type": "code",
   "execution_count": 577,
   "metadata": {},
   "outputs": [],
   "source": [
    "e_m = e_m[~(outliers_low|outliers_up)]"
   ]
  },
  {
   "cell_type": "markdown",
   "metadata": {},
   "source": [
    "##### Pressão Atmosférica"
   ]
  },
  {
   "cell_type": "code",
   "execution_count": 578,
   "metadata": {},
   "outputs": [],
   "source": [
    "#e_m['Pressão Atmosférica'] = winsorize(e_m['Pressão Atmosférica'], (0.0258,0.0025))"
   ]
  },
  {
   "cell_type": "code",
   "execution_count": null,
   "metadata": {},
   "outputs": [],
   "source": []
  },
  {
   "cell_type": "markdown",
   "metadata": {},
   "source": [
    "##### Humidade"
   ]
  },
  {
   "cell_type": "code",
   "execution_count": 579,
   "metadata": {},
   "outputs": [],
   "source": [
    "#e_m['Humidade'] = winsorize(e_m['Humidade'], (0.0058,0.0))"
   ]
  },
  {
   "cell_type": "code",
   "execution_count": null,
   "metadata": {},
   "outputs": [],
   "source": []
  },
  {
   "cell_type": "markdown",
   "metadata": {},
   "source": [
    "##### Velocidade Vento"
   ]
  },
  {
   "cell_type": "code",
   "execution_count": 580,
   "metadata": {},
   "outputs": [],
   "source": [
    "outliers_low, outliers_up = get_outliers(1.5,1.15,'Velocidade Vento')\n",
    "\n",
    "median = e_m['Velocidade Vento'].median()\n",
    "\n",
    "# Substituindo os outliers na coluna 'Temperatura' pelo valor da mediana\n",
    "e_m.loc[outliers_low | outliers_up, 'Velocidade Vento'] = median"
   ]
  },
  {
   "cell_type": "markdown",
   "metadata": {},
   "source": [
    "##### Precipitação Média"
   ]
  },
  {
   "cell_type": "code",
   "execution_count": null,
   "metadata": {},
   "outputs": [],
   "source": []
  },
  {
   "cell_type": "markdown",
   "metadata": {},
   "source": [
    "##### Normal"
   ]
  },
  {
   "cell_type": "code",
   "execution_count": 581,
   "metadata": {},
   "outputs": [],
   "source": [
    "#e_m['Normal'] = winsorize(e_m['Normal'], (0.0,0.0683))"
   ]
  },
  {
   "cell_type": "code",
   "execution_count": null,
   "metadata": {},
   "outputs": [],
   "source": []
  },
  {
   "cell_type": "markdown",
   "metadata": {},
   "source": [
    "##### Horário Económico"
   ]
  },
  {
   "cell_type": "code",
   "execution_count": 582,
   "metadata": {},
   "outputs": [],
   "source": [
    "outliers_low, outliers_up = get_outliers(1.5,1.3,'Horário Económico')\n",
    "\n",
    "median = e_m['Horário Económico'].median()\n",
    "\n",
    "# Substituindo os outliers na coluna 'Temperatura' pelo valor da mediana\n",
    "e_m.loc[outliers_low | outliers_up, 'Horário Económico'] = median"
   ]
  },
  {
   "cell_type": "code",
   "execution_count": null,
   "metadata": {},
   "outputs": [],
   "source": []
  },
  {
   "cell_type": "markdown",
   "metadata": {},
   "source": [
    "##### Autoconsumo"
   ]
  },
  {
   "cell_type": "code",
   "execution_count": 583,
   "metadata": {},
   "outputs": [],
   "source": [
    "outliers_low, outliers_up = get_outliers(1.5,1.23,'Autoconsumo')"
   ]
  },
  {
   "cell_type": "code",
   "execution_count": 584,
   "metadata": {},
   "outputs": [],
   "source": [
    "e_m = e_m[~(outliers_low|outliers_up)]"
   ]
  },
  {
   "cell_type": "markdown",
   "metadata": {},
   "source": [
    "### Tratamento de Missing Values"
   ]
  },
  {
   "cell_type": "code",
   "execution_count": 585,
   "metadata": {},
   "outputs": [
    {
     "data": {
      "text/plain": [
       "Timestamp                 0\n",
       "Temperatura               0\n",
       "Sensação Térmica          0\n",
       "Temperatura Mínima        0\n",
       "Temperatura Máxima        0\n",
       "Pressão Atmosférica       0\n",
       "Humidade                  0\n",
       "Velocidade Vento          0\n",
       "Precipitação Média     7807\n",
       "Nebulosidade              0\n",
       "Estado do Tempo           0\n",
       "Hora                      0\n",
       "Normal                    0\n",
       "Horário Económico         0\n",
       "Autoconsumo               0\n",
       "Injeção na Rede           0\n",
       "Mês                       0\n",
       "Dia                       0\n",
       "dtype: int64"
      ]
     },
     "execution_count": 585,
     "metadata": {},
     "output_type": "execute_result"
    }
   ],
   "source": [
    "e_m.isna().sum()"
   ]
  },
  {
   "cell_type": "code",
   "execution_count": 586,
   "metadata": {},
   "outputs": [
    {
     "data": {
      "text/plain": [
       "Timestamp                 0\n",
       "Temperatura               0\n",
       "Sensação Térmica        504\n",
       "Temperatura Mínima        0\n",
       "Temperatura Máxima        0\n",
       "Pressão Atmosférica       0\n",
       "Humidade                504\n",
       "Velocidade Vento          0\n",
       "Precipitação Média     2050\n",
       "Nebulosidade            504\n",
       "Estado do Tempo           0\n",
       "Hora                      0\n",
       "Normal                    0\n",
       "Horário Económico         0\n",
       "Autoconsumo               0\n",
       "Mês                       0\n",
       "Dia                       0\n",
       "dtype: int64"
      ]
     },
     "execution_count": 586,
     "metadata": {},
     "output_type": "execute_result"
    }
   ],
   "source": [
    "teste.isna().sum()"
   ]
  },
  {
   "cell_type": "markdown",
   "metadata": {},
   "source": [
    "##### Temperatura"
   ]
  },
  {
   "cell_type": "code",
   "execution_count": 587,
   "metadata": {},
   "outputs": [],
   "source": [
    "#teste['Temperatura'].fillna(teste['Temperatura'].median(), inplace=True)"
   ]
  },
  {
   "cell_type": "markdown",
   "metadata": {},
   "source": [
    "##### Sensação Térmica"
   ]
  },
  {
   "cell_type": "code",
   "execution_count": 588,
   "metadata": {},
   "outputs": [],
   "source": [
    "#teste['Sensação Térmica'].fillna(teste['Sensação Térmica'].median(), inplace=True)"
   ]
  },
  {
   "cell_type": "markdown",
   "metadata": {},
   "source": [
    "##### Temperatura Mínima"
   ]
  },
  {
   "cell_type": "code",
   "execution_count": 589,
   "metadata": {},
   "outputs": [],
   "source": [
    "#teste['Temperatura Mínima'].fillna(teste['Temperatura Mínima'].median(), inplace=True)"
   ]
  },
  {
   "cell_type": "markdown",
   "metadata": {},
   "source": [
    "##### Temperatura Máxima"
   ]
  },
  {
   "cell_type": "code",
   "execution_count": 590,
   "metadata": {},
   "outputs": [],
   "source": [
    "#teste['Temperatura Máxima'].fillna(teste['Temperatura Máxima'].median(), inplace=True)"
   ]
  },
  {
   "cell_type": "markdown",
   "metadata": {},
   "source": [
    "##### Pressão Atmosférica"
   ]
  },
  {
   "cell_type": "code",
   "execution_count": 591,
   "metadata": {},
   "outputs": [],
   "source": [
    "#teste['Pressão Atmosférica'].fillna(teste['Pressão Atmosférica'].median(), inplace=True)"
   ]
  },
  {
   "cell_type": "markdown",
   "metadata": {},
   "source": [
    "##### Humidade"
   ]
  },
  {
   "cell_type": "code",
   "execution_count": 592,
   "metadata": {},
   "outputs": [],
   "source": [
    "teste['Humidade'].fillna(teste['Humidade'].median(), inplace=True)"
   ]
  },
  {
   "cell_type": "markdown",
   "metadata": {},
   "source": [
    "##### Velocidade Vento"
   ]
  },
  {
   "cell_type": "code",
   "execution_count": 593,
   "metadata": {},
   "outputs": [],
   "source": [
    "#teste['Velocidade Vento'].fillna(teste['Velocidade Vento'].median(), inplace=True)"
   ]
  },
  {
   "cell_type": "markdown",
   "metadata": {},
   "source": [
    "##### Precipitação Média"
   ]
  },
  {
   "cell_type": "code",
   "execution_count": 594,
   "metadata": {},
   "outputs": [],
   "source": [
    "e_m.drop(['Precipitação Média'], axis=1, inplace=True)"
   ]
  },
  {
   "cell_type": "code",
   "execution_count": 595,
   "metadata": {},
   "outputs": [],
   "source": [
    "teste.drop(['Precipitação Média'], axis=1, inplace=True)"
   ]
  },
  {
   "cell_type": "markdown",
   "metadata": {},
   "source": [
    "##### Nebulosidade"
   ]
  },
  {
   "cell_type": "code",
   "execution_count": 596,
   "metadata": {},
   "outputs": [],
   "source": [
    "teste['Nebulosidade'].fillna(teste['Nebulosidade'].median(), inplace=True)"
   ]
  },
  {
   "cell_type": "markdown",
   "metadata": {},
   "source": [
    "### Exploratory Data Analysis "
   ]
  },
  {
   "cell_type": "code",
   "execution_count": 597,
   "metadata": {},
   "outputs": [
    {
     "data": {
      "text/plain": [
       "<Axes: >"
      ]
     },
     "execution_count": 597,
     "metadata": {},
     "output_type": "execute_result"
    },
    {
     "data": {
      "image/png": "[encoded data removed]",
      "text/plain": [
       "<Figure size 1500x1000 with 2 Axes>"
      ]
     },
     "metadata": {},
     "output_type": "display_data"
    }
   ],
   "source": [
    "fig = plt.figure(figsize = (15,10))\n",
    "incidents_corr = e_m.corr(method = 'pearson')\n",
    "sns.heatmap(e_m.corr(),vmin=-1,annot = True)"
   ]
  },
  {
   "cell_type": "markdown",
   "metadata": {},
   "source": [
    "Drop das features muito correlacionadas"
   ]
  },
  {
   "cell_type": "code",
   "execution_count": 598,
   "metadata": {},
   "outputs": [],
   "source": [
    "e_m.drop(['Sensação Térmica','Temperatura','Temperatura Mínima'], axis=1, inplace=True)\n",
    "teste.drop(['Sensação Térmica','Temperatura','Temperatura Mínima'], axis=1, inplace=True)"
   ]
  },
  {
   "cell_type": "markdown",
   "metadata": {},
   "source": [
    "## Modelos"
   ]
  },
  {
   "cell_type": "code",
   "execution_count": 599,
   "metadata": {},
   "outputs": [],
   "source": [
    "X = e_m.drop(['Injeção na Rede'], axis=1)   # input features - tudo exceto o target\n",
    "y = e_m['Injeção na Rede'].to_frame()       # target feature - Injeção na Rede"
   ]
  },
  {
   "cell_type": "code",
   "execution_count": 600,
   "metadata": {},
   "outputs": [
    {
     "name": "stdout",
     "output_type": "stream",
     "text": [
      "<class 'pandas.core.frame.DataFrame'>\n",
      "Index: 2011 entries, 10821 to 1168\n",
      "Data columns (total 13 columns):\n",
      " #   Column               Non-Null Count  Dtype  \n",
      "---  ------               --------------  -----  \n",
      " 0   Timestamp            2011 non-null   int64  \n",
      " 1   Temperatura Máxima   2011 non-null   float64\n",
      " 2   Pressão Atmosférica  2011 non-null   int64  \n",
      " 3   Humidade             2011 non-null   int64  \n",
      " 4   Velocidade Vento     2011 non-null   float64\n",
      " 5   Nebulosidade         2011 non-null   int64  \n",
      " 6   Estado do Tempo      2011 non-null   int32  \n",
      " 7   Hora                 2011 non-null   int64  \n",
      " 8   Normal               2011 non-null   float64\n",
      " 9   Horário Económico    2011 non-null   float64\n",
      " 10  Autoconsumo          2011 non-null   float64\n",
      " 11  Mês                  2011 non-null   int32  \n",
      " 12  Dia                  2011 non-null   int32  \n",
      "dtypes: float64(5), int32(3), int64(5)\n",
      "memory usage: 196.4 KB\n"
     ]
    }
   ],
   "source": [
    "X_train, X_test, y_train, y_test = train_test_split(X, y, test_size=0.2, random_state=2023)\n",
    "X_test.info()"
   ]
  },
  {
   "cell_type": "markdown",
   "metadata": {},
   "source": [
    "### RandomForest"
   ]
  },
  {
   "cell_type": "code",
   "execution_count": 601,
   "metadata": {},
   "outputs": [],
   "source": [
    "class_weights = {0: 1, 1: 17, 2: 10, 3: 8, 4: 11} "
   ]
  },
  {
   "cell_type": "code",
   "execution_count": 602,
   "metadata": {},
   "outputs": [],
   "source": [
    "rfc = RandomForestClassifier(n_estimators=1000,random_state=2023)"
   ]
  },
  {
   "cell_type": "code",
   "execution_count": 603,
   "metadata": {},
   "outputs": [],
   "source": [
    "n_estimators = [int(x) for x in np.linspace (start = 100, stop = 300, num= 3)] \n",
    "max_features = ['sqrt'] \n",
    "max_depth = [2,6,10,20,] \n",
    "min_samples_split = [2, 5] \n",
    "min_samples_leaf = [1, 2] \n",
    "bootstrap = [True, False]\n",
    "\n",
    "# Create the param grid \n",
    "param_grid = {'n_estimators': n_estimators, \n",
    "              'max_features': max_features, \n",
    "              'max_depth': max_depth, \n",
    "              'min_samples_split': min_samples_split, \n",
    "              'min_samples_leaf': min_samples_leaf, \n",
    "              'bootstrap': bootstrap } "
   ]
  },
  {
   "cell_type": "code",
   "execution_count": 604,
   "metadata": {},
   "outputs": [],
   "source": [
    "rf_RandomGrid = RandomizedSearchCV(estimator = rfc, param_distributions = param_grid, cv = 5, verbose=1, n_jobs = -1, n_iter = 5, scoring = 'f1_weighted')"
   ]
  },
  {
   "cell_type": "code",
   "execution_count": 605,
   "metadata": {},
   "outputs": [
    {
     "name": "stdout",
     "output_type": "stream",
     "text": [
      "Fitting 5 folds for each of 5 candidates, totalling 25 fits\n"
     ]
    },
    {
     "data": {
      "text/html": [
       "<style>#sk-container-id-8 {color: black;}#sk-container-id-8 pre{padding: 0;}#sk-container-id-8 div.sk-toggleable {background-color: white;}#sk-container-id-8 label.sk-toggleable__label {cursor: pointer;display: block;width: 100%;margin-bottom: 0;padding: 0.3em;box-sizing: border-box;text-align: center;}#sk-container-id-8 label.sk-toggleable__label-arrow:before {content: \"▸\";float: left;margin-right: 0.25em;color: #696969;}#sk-container-id-8 label.sk-toggleable__label-arrow:hover:before {color: black;}#sk-container-id-8 div.sk-estimator:hover label.sk-toggleable__label-arrow:before {color: black;}#sk-container-id-8 div.sk-toggleable__content {max-height: 0;max-width: 0;overflow: hidden;text-align: left;background-color: #f0f8ff;}#sk-container-id-8 div.sk-toggleable__content pre {margin: 0.2em;color: black;border-radius: 0.25em;background-color: #f0f8ff;}#sk-container-id-8 input.sk-toggleable__control:checked~div.sk-toggleable__content {max-height: 200px;max-width: 100%;overflow: auto;}#sk-container-id-8 input.sk-toggleable__control:checked~label.sk-toggleable__label-arrow:before {content: \"▾\";}#sk-container-id-8 div.sk-estimator input.sk-toggleable__control:checked~label.sk-toggleable__label {background-color: #d4ebff;}#sk-container-id-8 div.sk-label input.sk-toggleable__control:checked~label.sk-toggleable__label {background-color: #d4ebff;}#sk-container-id-8 input.sk-hidden--visually {border: 0;clip: rect(1px 1px 1px 1px);clip: rect(1px, 1px, 1px, 1px);height: 1px;margin: -1px;overflow: hidden;padding: 0;position: absolute;width: 1px;}#sk-container-id-8 div.sk-estimator {font-family: monospace;background-color: #f0f8ff;border: 1px dotted black;border-radius: 0.25em;box-sizing: border-box;margin-bottom: 0.5em;}#sk-container-id-8 div.sk-estimator:hover {background-color: #d4ebff;}#sk-container-id-8 div.sk-parallel-item::after {content: \"\";width: 100%;border-bottom: 1px solid gray;flex-grow: 1;}#sk-container-id-8 div.sk-label:hover label.sk-toggleable__label {background-color: #d4ebff;}#sk-container-id-8 div.sk-serial::before {content: \"\";position: absolute;border-left: 1px solid gray;box-sizing: border-box;top: 0;bottom: 0;left: 50%;z-index: 0;}#sk-container-id-8 div.sk-serial {display: flex;flex-direction: column;align-items: center;background-color: white;padding-right: 0.2em;padding-left: 0.2em;position: relative;}#sk-container-id-8 div.sk-item {position: relative;z-index: 1;}#sk-container-id-8 div.sk-parallel {display: flex;align-items: stretch;justify-content: center;background-color: white;position: relative;}#sk-container-id-8 div.sk-item::before, #sk-container-id-8 div.sk-parallel-item::before {content: \"\";position: absolute;border-left: 1px solid gray;box-sizing: border-box;top: 0;bottom: 0;left: 50%;z-index: -1;}#sk-container-id-8 div.sk-parallel-item {display: flex;flex-direction: column;z-index: 1;position: relative;background-color: white;}#sk-container-id-8 div.sk-parallel-item:first-child::after {align-self: flex-end;width: 50%;}#sk-container-id-8 div.sk-parallel-item:last-child::after {align-self: flex-start;width: 50%;}#sk-container-id-8 div.sk-parallel-item:only-child::after {width: 0;}#sk-container-id-8 div.sk-dashed-wrapped {border: 1px dashed gray;margin: 0 0.4em 0.5em 0.4em;box-sizing: border-box;padding-bottom: 0.4em;background-color: white;}#sk-container-id-8 div.sk-label label {font-family: monospace;font-weight: bold;display: inline-block;line-height: 1.2em;}#sk-container-id-8 div.sk-label-container {text-align: center;}#sk-container-id-8 div.sk-container {/* jupyter's `normalize.less` sets `[hidden] { display: none; }` but bootstrap.min.css set `[hidden] { display: none !important; }` so we also need the `!important` here to be able to override the default hidden behavior on the sphinx rendered scikit-learn.org. See: https://github.com/scikit-learn/scikit-learn/issues/21755 */display: inline-block !important;position: relative;}#sk-container-id-8 div.sk-text-repr-fallback {display: none;}</style><div id=\"sk-container-id-8\" class=\"sk-top-container\"><div class=\"sk-text-repr-fallback\"><pre>RandomizedSearchCV(cv=5,\n",
       "                   estimator=RandomForestClassifier(n_estimators=1000,\n",
       "                                                    random_state=2023),\n",
       "                   n_iter=5, n_jobs=-1,\n",
       "                   param_distributions={&#x27;bootstrap&#x27;: [True, False],\n",
       "                                        &#x27;max_depth&#x27;: [2, 6, 10, 20],\n",
       "                                        &#x27;max_features&#x27;: [&#x27;sqrt&#x27;],\n",
       "                                        &#x27;min_samples_leaf&#x27;: [1, 2],\n",
       "                                        &#x27;min_samples_split&#x27;: [2, 5],\n",
       "                                        &#x27;n_estimators&#x27;: [100, 200, 300]},\n",
       "                   scoring=&#x27;f1_weighted&#x27;, verbose=1)</pre><b>In a Jupyter environment, please rerun this cell to show the HTML representation or trust the notebook. <br />On GitHub, the HTML representation is unable to render, please try loading this page with nbviewer.org.</b></div><div class=\"sk-container\" hidden><div class=\"sk-item sk-dashed-wrapped\"><div class=\"sk-label-container\"><div class=\"sk-label sk-toggleable\"><input class=\"sk-toggleable__control sk-hidden--visually\" id=\"sk-estimator-id-22\" type=\"checkbox\" ><label for=\"sk-estimator-id-22\" class=\"sk-toggleable__label sk-toggleable__label-arrow\">RandomizedSearchCV</label><div class=\"sk-toggleable__content\"><pre>RandomizedSearchCV(cv=5,\n",
       "                   estimator=RandomForestClassifier(n_estimators=1000,\n",
       "                                                    random_state=2023),\n",
       "                   n_iter=5, n_jobs=-1,\n",
       "                   param_distributions={&#x27;bootstrap&#x27;: [True, False],\n",
       "                                        &#x27;max_depth&#x27;: [2, 6, 10, 20],\n",
       "                                        &#x27;max_features&#x27;: [&#x27;sqrt&#x27;],\n",
       "                                        &#x27;min_samples_leaf&#x27;: [1, 2],\n",
       "                                        &#x27;min_samples_split&#x27;: [2, 5],\n",
       "                                        &#x27;n_estimators&#x27;: [100, 200, 300]},\n",
       "                   scoring=&#x27;f1_weighted&#x27;, verbose=1)</pre></div></div></div><div class=\"sk-parallel\"><div class=\"sk-parallel-item\"><div class=\"sk-item\"><div class=\"sk-label-container\"><div class=\"sk-label sk-toggleable\"><input class=\"sk-toggleable__control sk-hidden--visually\" id=\"sk-estimator-id-23\" type=\"checkbox\" ><label for=\"sk-estimator-id-23\" class=\"sk-toggleable__label sk-toggleable__label-arrow\">estimator: RandomForestClassifier</label><div class=\"sk-toggleable__content\"><pre>RandomForestClassifier(n_estimators=1000, random_state=2023)</pre></div></div></div><div class=\"sk-serial\"><div class=\"sk-item\"><div class=\"sk-estimator sk-toggleable\"><input class=\"sk-toggleable__control sk-hidden--visually\" id=\"sk-estimator-id-24\" type=\"checkbox\" ><label for=\"sk-estimator-id-24\" class=\"sk-toggleable__label sk-toggleable__label-arrow\">RandomForestClassifier</label><div class=\"sk-toggleable__content\"><pre>RandomForestClassifier(n_estimators=1000, random_state=2023)</pre></div></div></div></div></div></div></div></div></div></div>"
      ],
      "text/plain": [
       "RandomizedSearchCV(cv=5,\n",
       "                   estimator=RandomForestClassifier(n_estimators=1000,\n",
       "                                                    random_state=2023),\n",
       "                   n_iter=5, n_jobs=-1,\n",
       "                   param_distributions={'bootstrap': [True, False],\n",
       "                                        'max_depth': [2, 6, 10, 20],\n",
       "                                        'max_features': ['sqrt'],\n",
       "                                        'min_samples_leaf': [1, 2],\n",
       "                                        'min_samples_split': [2, 5],\n",
       "                                        'n_estimators': [100, 200, 300]},\n",
       "                   scoring='f1_weighted', verbose=1)"
      ]
     },
     "execution_count": 605,
     "metadata": {},
     "output_type": "execute_result"
    }
   ],
   "source": [
    "rf_RandomGrid.fit(X_train, np.ravel(y_train))"
   ]
  },
  {
   "cell_type": "code",
   "execution_count": 606,
   "metadata": {},
   "outputs": [],
   "source": [
    "rfc = rf_RandomGrid.best_estimator_"
   ]
  },
  {
   "cell_type": "code",
   "execution_count": 607,
   "metadata": {},
   "outputs": [],
   "source": [
    "pred_rfc = rfc.predict(X_test)"
   ]
  },
  {
   "cell_type": "code",
   "execution_count": 608,
   "metadata": {},
   "outputs": [
    {
     "name": "stdout",
     "output_type": "stream",
     "text": [
      "0.8990551964196917\n",
      "0.8990551964196917\n"
     ]
    }
   ],
   "source": [
    "accuracy_score(y_test,pred_rfc)\n",
    "print(precision_score(y_test, pred_rfc, average='micro'))\n",
    "print(recall_score(y_test, pred_rfc, average='micro')) "
   ]
  },
  {
   "cell_type": "code",
   "execution_count": 609,
   "metadata": {},
   "outputs": [
    {
     "data": {
      "text/plain": [
       "<sklearn.metrics._plot.confusion_matrix.ConfusionMatrixDisplay at 0x14f784351e0>"
      ]
     },
     "execution_count": 609,
     "metadata": {},
     "output_type": "execute_result"
    },
    {
     "data": {
      "image/png": "[encoded data removed]",
      "text/plain": [
       "<Figure size 640x480 with 2 Axes>"
      ]
     },
     "metadata": {},
     "output_type": "display_data"
    }
   ],
   "source": [
    "cm = confusion_matrix(y_test,pred_rfc)\n",
    "cmd = ConfusionMatrixDisplay(cm,display_labels=['None','Low','Medium','High','Very_High'])\n",
    "cmd.plot()"
   ]
  },
  {
   "cell_type": "code",
   "execution_count": 610,
   "metadata": {},
   "outputs": [
    {
     "name": "stdout",
     "output_type": "stream",
     "text": [
      "              precision    recall  f1-score   support\n",
      "\n",
      "           0       0.68      0.70      0.69       154\n",
      "           1       0.28      0.18      0.22        65\n",
      "           2       0.65      0.66      0.66       175\n",
      "           3       0.74      0.72      0.73        75\n",
      "           4       0.97      0.99      0.98      1542\n",
      "\n",
      "    accuracy                           0.90      2011\n",
      "   macro avg       0.67      0.65      0.66      2011\n",
      "weighted avg       0.89      0.90      0.90      2011\n",
      "\n"
     ]
    }
   ],
   "source": [
    "print(classification_report(y_test,pred_rfc))"
   ]
  },
  {
   "cell_type": "markdown",
   "metadata": {},
   "source": [
    "# Guardar Submissão"
   ]
  },
  {
   "cell_type": "code",
   "execution_count": 611,
   "metadata": {},
   "outputs": [],
   "source": [
    "# Fazer previsão com o RFC\n",
    "predictions = rfc.predict(teste)\n",
    "\n",
    "# Adicionar header\n",
    "submission = pd.DataFrame(predictions, columns = [\"Injeção na Rede\"]).head(2256)\n",
    "submission.index.name = 'RowId'\n",
    "submission.index += 1\n",
    "submission.rename(columns={'Injeção na Rede': 'Result'}, inplace=True)\n",
    "\n",
    "# Trocar para valores categóricos\n",
    "submission['Result'] = submission['Result'].replace({4:'None', 1:'Low', 2:'Medium', 0:'High', 3:'Very_High'})\n",
    "\n",
    "#Passar para um ficheiro CSV\n",
    "#submission.to_csv('submission_rf.csv', index=True, header=True)"
   ]
  }
 ],
 "metadata": {
  "kernelspec": {
   "display_name": "envPython",
   "language": "python",
   "name": "python3"
  },
  "language_info": {
   "codemirror_mode": {
    "name": "ipython",
    "version": 3
   },
   "file_extension": ".py",
   "mimetype": "text/x-python",
   "name": "python",
   "nbconvert_exporter": "python",
   "pygments_lexer": "ipython3",
   "version": "3.10.0"
  }
 },
 "nbformat": 4,
 "nbformat_minor": 2
}
