{
 "cells": [
  {
   "cell_type": "code",
   "execution_count": null,
   "id": "17b67495",
   "metadata": {},
   "outputs": [],
   "source": []
  },
  {
   "cell_type": "markdown",
   "id": "1c8c386d",
   "metadata": {},
   "source": [
    "## Introdução\n",
    "\n",
    "O dataset que escolhemos foi “Suicide Rates Overview 1985 to 2016” e o nosso\n",
    "objetivo é observar como os atributos presentes neste dataset e as relações entre eles têm\n",
    "impacto no atributo suicides_no (número de suicídios). Assim, para efetuar esta análise,\n",
    "usamos o ambiente miniconda."
   ]
  },
  {
   "cell_type": "code",
   "execution_count": 1,
   "id": "c4b16101",
   "metadata": {},
   "outputs": [],
   "source": [
    "'''import libraries'''\n",
    "import sklearn as skl\n",
    "import pandas as pd\n",
    "import matplotlib.pyplot as plt\n",
    "import seaborn as sns\n",
    "import numpy as np\n",
    "from sklearn import preprocessing\n",
    "import sklearn.linear_model as skl_lm"
   ]
  },
  {
   "cell_type": "code",
   "execution_count": 2,
   "id": "68922fe0",
   "metadata": {},
   "outputs": [],
   "source": [
    "'''Load CSV '''\n",
    "df = pd.read_csv('master.csv')"
   ]
  },
  {
   "cell_type": "markdown",
   "id": "77dd73c1",
   "metadata": {},
   "source": [
    "## Análise dos dados\n",
    "\n",
    "\n",
    "### Descrição dos atributos\n",
    "De forma a perceber a melhor forma de abordar o problema, começamos por\n",
    "analisar as features do dataset, Assim, podemos verificar que o dataset é composto pelos\n",
    "seguintes atributos:\n",
    "● country - variável do tipo string que identifica o país analisado.\n",
    "● year - variável do tipo int que representa o ano correspondente ao levantamento dos dados.\n",
    "● sex - variável do tipo string que define o sexo das pessoas que cometeram suicídio.\n",
    "● age - variável do tipo string que representa a faixa etária dos individuos que cometeram suicídio.\n",
    "● suicides_no - variável do tipo int que corresponde ao número de suicídios ocorridos.\n",
    "● population - variável do tipo int que define a população de um determinado país num determinado ano.\n",
    "● suicides/100k pop - variável do tipo double que corresponde ao número de suicídios por cada 100 mil habitantes .\n",
    "● country-year - variável do tipo string que representa o país e o ano correspondente ao levantamento de dados .\n",
    "● HDI for year - variável do tipo double que corresponde ao índice de desenvolvimento humano.\n",
    "● gdp_for_year - variável do tipo string que representa o grau de desenvolvimento de um país num determinado ano\n",
    "● gdp_per_capita - variável do tipo inteiro que representa o grau de desenvolvimento de um país per capita.\n",
    "● generation - variável do tipo string que representa a geração do conjunto de pessoas que cometeram suicidio.\n",
    "\n"
   ]
  },
  {
   "cell_type": "code",
   "execution_count": 3,
   "id": "434eba72",
   "metadata": {},
   "outputs": [
    {
     "data": {
      "text/plain": [
       "Index(['country', 'year', 'sex', 'age', 'suicides_no', 'population',\n",
       "       'suicides/100k pop', 'country-year', 'HDI for year',\n",
       "       ' gdp_for_year ($) ', 'gdp_per_capita ($)', 'generation'],\n",
       "      dtype='object')"
      ]
     },
     "execution_count": 3,
     "metadata": {},
     "output_type": "execute_result"
    }
   ],
   "source": [
    "df.columns"
   ]
  },
  {
   "cell_type": "code",
   "execution_count": 4,
   "id": "84f8cb26",
   "metadata": {},
   "outputs": [
    {
     "data": {
      "text/html": [
       "<div>\n",
       "<style scoped>\n",
       "    .dataframe tbody tr th:only-of-type {\n",
       "        vertical-align: middle;\n",
       "    }\n",
       "\n",
       "    .dataframe tbody tr th {\n",
       "        vertical-align: top;\n",
       "    }\n",
       "\n",
       "    .dataframe thead th {\n",
       "        text-align: right;\n",
       "    }\n",
       "</style>\n",
       "<table border=\"1\" class=\"dataframe\">\n",
       "  <thead>\n",
       "    <tr style=\"text-align: right;\">\n",
       "      <th></th>\n",
       "      <th>country</th>\n",
       "      <th>year</th>\n",
       "      <th>sex</th>\n",
       "      <th>age</th>\n",
       "      <th>suicides_no</th>\n",
       "      <th>population</th>\n",
       "      <th>suicides/100k pop</th>\n",
       "      <th>country-year</th>\n",
       "      <th>HDI for year</th>\n",
       "      <th>gdp_for_year ($)</th>\n",
       "      <th>gdp_per_capita ($)</th>\n",
       "      <th>generation</th>\n",
       "    </tr>\n",
       "  </thead>\n",
       "  <tbody>\n",
       "    <tr>\n",
       "      <th>0</th>\n",
       "      <td>Albania</td>\n",
       "      <td>1987</td>\n",
       "      <td>male</td>\n",
       "      <td>15-24 years</td>\n",
       "      <td>21</td>\n",
       "      <td>312900</td>\n",
       "      <td>6.71</td>\n",
       "      <td>Albania1987</td>\n",
       "      <td>NaN</td>\n",
       "      <td>2,156,624,900</td>\n",
       "      <td>796</td>\n",
       "      <td>Generation X</td>\n",
       "    </tr>\n",
       "    <tr>\n",
       "      <th>1</th>\n",
       "      <td>Albania</td>\n",
       "      <td>1987</td>\n",
       "      <td>male</td>\n",
       "      <td>35-54 years</td>\n",
       "      <td>16</td>\n",
       "      <td>308000</td>\n",
       "      <td>5.19</td>\n",
       "      <td>Albania1987</td>\n",
       "      <td>NaN</td>\n",
       "      <td>2,156,624,900</td>\n",
       "      <td>796</td>\n",
       "      <td>Silent</td>\n",
       "    </tr>\n",
       "    <tr>\n",
       "      <th>2</th>\n",
       "      <td>Albania</td>\n",
       "      <td>1987</td>\n",
       "      <td>female</td>\n",
       "      <td>15-24 years</td>\n",
       "      <td>14</td>\n",
       "      <td>289700</td>\n",
       "      <td>4.83</td>\n",
       "      <td>Albania1987</td>\n",
       "      <td>NaN</td>\n",
       "      <td>2,156,624,900</td>\n",
       "      <td>796</td>\n",
       "      <td>Generation X</td>\n",
       "    </tr>\n",
       "    <tr>\n",
       "      <th>3</th>\n",
       "      <td>Albania</td>\n",
       "      <td>1987</td>\n",
       "      <td>male</td>\n",
       "      <td>75+ years</td>\n",
       "      <td>1</td>\n",
       "      <td>21800</td>\n",
       "      <td>4.59</td>\n",
       "      <td>Albania1987</td>\n",
       "      <td>NaN</td>\n",
       "      <td>2,156,624,900</td>\n",
       "      <td>796</td>\n",
       "      <td>G.I. Generation</td>\n",
       "    </tr>\n",
       "    <tr>\n",
       "      <th>4</th>\n",
       "      <td>Albania</td>\n",
       "      <td>1987</td>\n",
       "      <td>male</td>\n",
       "      <td>25-34 years</td>\n",
       "      <td>9</td>\n",
       "      <td>274300</td>\n",
       "      <td>3.28</td>\n",
       "      <td>Albania1987</td>\n",
       "      <td>NaN</td>\n",
       "      <td>2,156,624,900</td>\n",
       "      <td>796</td>\n",
       "      <td>Boomers</td>\n",
       "    </tr>\n",
       "  </tbody>\n",
       "</table>\n",
       "</div>"
      ],
      "text/plain": [
       "   country  year     sex          age  suicides_no  population  \\\n",
       "0  Albania  1987    male  15-24 years           21      312900   \n",
       "1  Albania  1987    male  35-54 years           16      308000   \n",
       "2  Albania  1987  female  15-24 years           14      289700   \n",
       "3  Albania  1987    male    75+ years            1       21800   \n",
       "4  Albania  1987    male  25-34 years            9      274300   \n",
       "\n",
       "   suicides/100k pop country-year  HDI for year  gdp_for_year ($)   \\\n",
       "0               6.71  Albania1987           NaN      2,156,624,900   \n",
       "1               5.19  Albania1987           NaN      2,156,624,900   \n",
       "2               4.83  Albania1987           NaN      2,156,624,900   \n",
       "3               4.59  Albania1987           NaN      2,156,624,900   \n",
       "4               3.28  Albania1987           NaN      2,156,624,900   \n",
       "\n",
       "   gdp_per_capita ($)       generation  \n",
       "0                 796     Generation X  \n",
       "1                 796           Silent  \n",
       "2                 796     Generation X  \n",
       "3                 796  G.I. Generation  \n",
       "4                 796          Boomers  "
      ]
     },
     "execution_count": 4,
     "metadata": {},
     "output_type": "execute_result"
    }
   ],
   "source": [
    "df.head()"
   ]
  },
  {
   "cell_type": "code",
   "execution_count": 5,
   "id": "c35a22ca",
   "metadata": {},
   "outputs": [
    {
     "data": {
      "text/html": [
       "<div>\n",
       "<style scoped>\n",
       "    .dataframe tbody tr th:only-of-type {\n",
       "        vertical-align: middle;\n",
       "    }\n",
       "\n",
       "    .dataframe tbody tr th {\n",
       "        vertical-align: top;\n",
       "    }\n",
       "\n",
       "    .dataframe thead th {\n",
       "        text-align: right;\n",
       "    }\n",
       "</style>\n",
       "<table border=\"1\" class=\"dataframe\">\n",
       "  <thead>\n",
       "    <tr style=\"text-align: right;\">\n",
       "      <th></th>\n",
       "      <th>country</th>\n",
       "      <th>year</th>\n",
       "      <th>sex</th>\n",
       "      <th>age</th>\n",
       "      <th>suicides_no</th>\n",
       "      <th>population</th>\n",
       "      <th>suicides/100k pop</th>\n",
       "      <th>country-year</th>\n",
       "      <th>HDI for year</th>\n",
       "      <th>gdp_for_year ($)</th>\n",
       "      <th>gdp_per_capita ($)</th>\n",
       "      <th>generation</th>\n",
       "    </tr>\n",
       "  </thead>\n",
       "  <tbody>\n",
       "    <tr>\n",
       "      <th>27815</th>\n",
       "      <td>Uzbekistan</td>\n",
       "      <td>2014</td>\n",
       "      <td>female</td>\n",
       "      <td>35-54 years</td>\n",
       "      <td>107</td>\n",
       "      <td>3620833</td>\n",
       "      <td>2.96</td>\n",
       "      <td>Uzbekistan2014</td>\n",
       "      <td>0.675</td>\n",
       "      <td>63,067,077,179</td>\n",
       "      <td>2309</td>\n",
       "      <td>Generation X</td>\n",
       "    </tr>\n",
       "    <tr>\n",
       "      <th>27816</th>\n",
       "      <td>Uzbekistan</td>\n",
       "      <td>2014</td>\n",
       "      <td>female</td>\n",
       "      <td>75+ years</td>\n",
       "      <td>9</td>\n",
       "      <td>348465</td>\n",
       "      <td>2.58</td>\n",
       "      <td>Uzbekistan2014</td>\n",
       "      <td>0.675</td>\n",
       "      <td>63,067,077,179</td>\n",
       "      <td>2309</td>\n",
       "      <td>Silent</td>\n",
       "    </tr>\n",
       "    <tr>\n",
       "      <th>27817</th>\n",
       "      <td>Uzbekistan</td>\n",
       "      <td>2014</td>\n",
       "      <td>male</td>\n",
       "      <td>5-14 years</td>\n",
       "      <td>60</td>\n",
       "      <td>2762158</td>\n",
       "      <td>2.17</td>\n",
       "      <td>Uzbekistan2014</td>\n",
       "      <td>0.675</td>\n",
       "      <td>63,067,077,179</td>\n",
       "      <td>2309</td>\n",
       "      <td>Generation Z</td>\n",
       "    </tr>\n",
       "    <tr>\n",
       "      <th>27818</th>\n",
       "      <td>Uzbekistan</td>\n",
       "      <td>2014</td>\n",
       "      <td>female</td>\n",
       "      <td>5-14 years</td>\n",
       "      <td>44</td>\n",
       "      <td>2631600</td>\n",
       "      <td>1.67</td>\n",
       "      <td>Uzbekistan2014</td>\n",
       "      <td>0.675</td>\n",
       "      <td>63,067,077,179</td>\n",
       "      <td>2309</td>\n",
       "      <td>Generation Z</td>\n",
       "    </tr>\n",
       "    <tr>\n",
       "      <th>27819</th>\n",
       "      <td>Uzbekistan</td>\n",
       "      <td>2014</td>\n",
       "      <td>female</td>\n",
       "      <td>55-74 years</td>\n",
       "      <td>21</td>\n",
       "      <td>1438935</td>\n",
       "      <td>1.46</td>\n",
       "      <td>Uzbekistan2014</td>\n",
       "      <td>0.675</td>\n",
       "      <td>63,067,077,179</td>\n",
       "      <td>2309</td>\n",
       "      <td>Boomers</td>\n",
       "    </tr>\n",
       "  </tbody>\n",
       "</table>\n",
       "</div>"
      ],
      "text/plain": [
       "          country  year     sex          age  suicides_no  population  \\\n",
       "27815  Uzbekistan  2014  female  35-54 years          107     3620833   \n",
       "27816  Uzbekistan  2014  female    75+ years            9      348465   \n",
       "27817  Uzbekistan  2014    male   5-14 years           60     2762158   \n",
       "27818  Uzbekistan  2014  female   5-14 years           44     2631600   \n",
       "27819  Uzbekistan  2014  female  55-74 years           21     1438935   \n",
       "\n",
       "       suicides/100k pop    country-year  HDI for year  gdp_for_year ($)   \\\n",
       "27815               2.96  Uzbekistan2014         0.675     63,067,077,179   \n",
       "27816               2.58  Uzbekistan2014         0.675     63,067,077,179   \n",
       "27817               2.17  Uzbekistan2014         0.675     63,067,077,179   \n",
       "27818               1.67  Uzbekistan2014         0.675     63,067,077,179   \n",
       "27819               1.46  Uzbekistan2014         0.675     63,067,077,179   \n",
       "\n",
       "       gdp_per_capita ($)    generation  \n",
       "27815                2309  Generation X  \n",
       "27816                2309        Silent  \n",
       "27817                2309  Generation Z  \n",
       "27818                2309  Generation Z  \n",
       "27819                2309       Boomers  "
      ]
     },
     "execution_count": 5,
     "metadata": {},
     "output_type": "execute_result"
    }
   ],
   "source": [
    "df.tail()"
   ]
  },
  {
   "cell_type": "code",
   "execution_count": 6,
   "id": "75b934f3",
   "metadata": {},
   "outputs": [
    {
     "data": {
      "text/plain": [
       "(27820, 12)"
      ]
     },
     "execution_count": 6,
     "metadata": {},
     "output_type": "execute_result"
    }
   ],
   "source": [
    "df.shape\n",
    "#output:  (linhas, colunas)"
   ]
  },
  {
   "cell_type": "code",
   "execution_count": 7,
   "id": "d120a4a8",
   "metadata": {},
   "outputs": [
    {
     "name": "stdout",
     "output_type": "stream",
     "text": [
      "<class 'pandas.core.frame.DataFrame'>\n",
      "RangeIndex: 27820 entries, 0 to 27819\n",
      "Data columns (total 12 columns):\n",
      " #   Column              Non-Null Count  Dtype  \n",
      "---  ------              --------------  -----  \n",
      " 0   country             27820 non-null  object \n",
      " 1   year                27820 non-null  int64  \n",
      " 2   sex                 27820 non-null  object \n",
      " 3   age                 27820 non-null  object \n",
      " 4   suicides_no         27820 non-null  int64  \n",
      " 5   population          27820 non-null  int64  \n",
      " 6   suicides/100k pop   27820 non-null  float64\n",
      " 7   country-year        27820 non-null  object \n",
      " 8   HDI for year        8364 non-null   float64\n",
      " 9    gdp_for_year ($)   27820 non-null  object \n",
      " 10  gdp_per_capita ($)  27820 non-null  int64  \n",
      " 11  generation          27820 non-null  object \n",
      "dtypes: float64(2), int64(4), object(6)\n",
      "memory usage: 2.5+ MB\n"
     ]
    }
   ],
   "source": [
    "df.info()\n",
    "#Descreve os tipos dos respetivos atributos e conta o número de valores não NULL\n",
    "\n",
    "#Como podemos observar no output apenas 8364 das 27820 não são valores nulos"
   ]
  },
  {
   "cell_type": "code",
   "execution_count": 8,
   "id": "1ac8268a",
   "metadata": {},
   "outputs": [
    {
     "data": {
      "text/plain": [
       "country               False\n",
       "year                  False\n",
       "sex                   False\n",
       "age                   False\n",
       "suicides_no           False\n",
       "population            False\n",
       "suicides/100k pop     False\n",
       "country-year          False\n",
       "HDI for year           True\n",
       " gdp_for_year ($)     False\n",
       "gdp_per_capita ($)    False\n",
       "generation            False\n",
       "dtype: bool"
      ]
     },
     "execution_count": 8,
     "metadata": {},
     "output_type": "execute_result"
    }
   ],
   "source": [
    "'''Dados em Falta'''\n",
    "df.isna().any()"
   ]
  },
  {
   "cell_type": "code",
   "execution_count": 9,
   "id": "c785e53a",
   "metadata": {},
   "outputs": [
    {
     "name": "stdout",
     "output_type": "stream",
     "text": [
      "country                   0\n",
      "year                      0\n",
      "sex                       0\n",
      "age                       0\n",
      "suicides_no               0\n",
      "population                0\n",
      "suicides/100k pop         0\n",
      "country-year              0\n",
      "HDI for year          19456\n",
      " gdp_for_year ($)         0\n",
      "gdp_per_capita ($)        0\n",
      "generation                0\n",
      "dtype: int64\n"
     ]
    }
   ],
   "source": [
    "print(df.isna().sum())\n",
    "# Tal como em cima confirmamos aqui verificamos 19456 entradas nulas \n",
    "# no atributo 'HDI for year'"
   ]
  },
  {
   "cell_type": "code",
   "execution_count": 10,
   "id": "7e1df637",
   "metadata": {
    "scrolled": true
   },
   "outputs": [
    {
     "name": "stdout",
     "output_type": "stream",
     "text": [
      "27719\n"
     ]
    }
   ],
   "source": [
    "# Contar o número de registos repetidos\n",
    "print(df['country'].duplicated().sum())"
   ]
  },
  {
   "cell_type": "code",
   "execution_count": 11,
   "id": "a998c43e",
   "metadata": {},
   "outputs": [
    {
     "data": {
      "text/plain": [
       "HDI for year\n",
       "0.772    84\n",
       "0.713    84\n",
       "0.888    84\n",
       "0.830    72\n",
       "0.761    72\n",
       "         ..\n",
       "0.696    12\n",
       "0.894    12\n",
       "0.893    12\n",
       "0.770    12\n",
       "0.675    12\n",
       "Name: count, Length: 305, dtype: int64"
      ]
     },
     "execution_count": 11,
     "metadata": {},
     "output_type": "execute_result"
    }
   ],
   "source": [
    "df['HDI for year'].value_counts()"
   ]
  },
  {
   "cell_type": "code",
   "execution_count": 12,
   "id": "689c34ef",
   "metadata": {},
   "outputs": [
    {
     "data": {
      "text/plain": [
       "count    8364.000000\n",
       "mean        0.776601\n",
       "std         0.093367\n",
       "min         0.483000\n",
       "25%         0.713000\n",
       "50%         0.779000\n",
       "75%         0.855000\n",
       "max         0.944000\n",
       "Name: HDI for year, dtype: float64"
      ]
     },
     "execution_count": 12,
     "metadata": {},
     "output_type": "execute_result"
    }
   ],
   "source": [
    "df['HDI for year'].describe()"
   ]
  },
  {
   "cell_type": "code",
   "execution_count": 13,
   "id": "ceecc1e1",
   "metadata": {},
   "outputs": [
    {
     "name": "stdout",
     "output_type": "stream",
     "text": [
      "Axes(0.125,0.11;0.775x0.77)\n"
     ]
    },
    {
     "data": {
      "image/png": "[encoded data removed]",
      "text/plain": [
       "<Figure size 640x480 with 1 Axes>"
      ]
     },
     "metadata": {},
     "output_type": "display_data"
    }
   ],
   "source": [
    "print(df['HDI for year'].hist())"
   ]
  },
  {
   "cell_type": "code",
   "execution_count": null,
   "id": "83a05091",
   "metadata": {},
   "outputs": [],
   "source": []
  },
  {
   "cell_type": "code",
   "execution_count": 14,
   "id": "6121529c",
   "metadata": {},
   "outputs": [
    {
     "data": {
      "text/plain": [
       "<Axes: >"
      ]
     },
     "execution_count": 14,
     "metadata": {},
     "output_type": "execute_result"
    },
    {
     "data": {
      "image/png": "[encoded data removed]",
      "text/plain": [
       "<Figure size 640x480 with 1 Axes>"
      ]
     },
     "metadata": {},
     "output_type": "display_data"
    }
   ],
   "source": [
    "sns.heatmap(df.isnull(), yticklabels=False,cbar=False,cmap='viridis')\n"
   ]
  },
  {
   "cell_type": "code",
   "execution_count": 15,
   "id": "549e673b",
   "metadata": {},
   "outputs": [
    {
     "name": "stdout",
     "output_type": "stream",
     "text": [
      "Skewness: -0.30087744889575646\n",
      "Kurtosis: -0.6479139271723233\n"
     ]
    }
   ],
   "source": [
    "print(f\"Skewness: {df['HDI for year'].skew()}\")\n",
    "print(f\"Kurtosis: {df['HDI for year'].kurt()}\")"
   ]
  },
  {
   "cell_type": "code",
   "execution_count": 16,
   "id": "9a4d3896",
   "metadata": {},
   "outputs": [
    {
     "data": {
      "text/plain": [
       "\"\\ncountry', 'year', 'sex', 'age', 'suicides_no', 'population',\\n       'suicides/100k pop', 'country-year', 'HDI for year',\\n       ' gdp_for_year ($) ', 'gdp_per_capita ($)', 'generation'\\n\""
      ]
     },
     "execution_count": 16,
     "metadata": {},
     "output_type": "execute_result"
    },
    {
     "data": {
      "image/png": "[encoded data removed]",
      "text/plain": [
       "<Figure size 640x480 with 1 Axes>"
      ]
     },
     "metadata": {},
     "output_type": "display_data"
    }
   ],
   "source": [
    "sns.boxplot(y='HDI for year',data=df,palette='winter')\n",
    "\n",
    "'''\n",
    "country', 'year', 'sex', 'age', 'suicides_no', 'population',\n",
    "       'suicides/100k pop', 'country-year', 'HDI for year',\n",
    "       ' gdp_for_year ($) ', 'gdp_per_capita ($)', 'generation'\n",
    "'''"
   ]
  },
  {
   "cell_type": "code",
   "execution_count": 17,
   "id": "0bfd218b",
   "metadata": {},
   "outputs": [],
   "source": [
    "#df['HDI for year'] = df['HDI for year'].fillna(df['HDI for year'].mean())"
   ]
  },
  {
   "cell_type": "code",
   "execution_count": 18,
   "id": "2efef554",
   "metadata": {},
   "outputs": [
    {
     "name": "stdout",
     "output_type": "stream",
     "text": [
      "Axes(0.125,0.11;0.775x0.77)\n"
     ]
    },
    {
     "data": {
      "image/png": "[encoded data removed]",
      "text/plain": [
       "<Figure size 640x480 with 1 Axes>"
      ]
     },
     "metadata": {},
     "output_type": "display_data"
    }
   ],
   "source": [
    "print(df['HDI for year'].hist())"
   ]
  },
  {
   "cell_type": "code",
   "execution_count": 19,
   "id": "f280c6ec",
   "metadata": {},
   "outputs": [
    {
     "name": "stdout",
     "output_type": "stream",
     "text": [
      "<class 'pandas.core.frame.DataFrame'>\n",
      "RangeIndex: 27820 entries, 0 to 27819\n",
      "Data columns (total 12 columns):\n",
      " #   Column              Non-Null Count  Dtype  \n",
      "---  ------              --------------  -----  \n",
      " 0   country             27820 non-null  object \n",
      " 1   year                27820 non-null  int64  \n",
      " 2   sex                 27820 non-null  object \n",
      " 3   age                 27820 non-null  object \n",
      " 4   suicides_no         27820 non-null  int64  \n",
      " 5   population          27820 non-null  int64  \n",
      " 6   suicides/100k pop   27820 non-null  float64\n",
      " 7   country-year        27820 non-null  object \n",
      " 8   HDI for year        8364 non-null   float64\n",
      " 9   gdp_for_year        27820 non-null  object \n",
      " 10  gdp_per_capita ($)  27820 non-null  int64  \n",
      " 11  generation          27820 non-null  object \n",
      "dtypes: float64(2), int64(4), object(6)\n",
      "memory usage: 2.5+ MB\n"
     ]
    }
   ],
   "source": [
    "\n",
    "'''\n",
    "Rename complicated columns' names\n",
    "'''  \n",
    "df.rename(columns={\" gdp_for_year ($) \": \"gdp_for_year\"}, inplace=True)\n",
    "df.info()\n"
   ]
  },
  {
   "cell_type": "code",
   "execution_count": 20,
   "id": "48a6b35c",
   "metadata": {},
   "outputs": [],
   "source": [
    "df[\"gdp_for_year\"] = df[\"gdp_for_year\"].replace(\",\", \"\", regex=True)\n"
   ]
  },
  {
   "cell_type": "code",
   "execution_count": 21,
   "id": "8edf23fb",
   "metadata": {},
   "outputs": [
    {
     "name": "stdout",
     "output_type": "stream",
     "text": [
      "          country  year     sex          age  suicides_no  population  \\\n",
      "0         Albania  1987    male  15-24 years           21      312900   \n",
      "1         Albania  1987    male  35-54 years           16      308000   \n",
      "2         Albania  1987  female  15-24 years           14      289700   \n",
      "3         Albania  1987    male    75+ years            1       21800   \n",
      "4         Albania  1987    male  25-34 years            9      274300   \n",
      "...           ...   ...     ...          ...          ...         ...   \n",
      "27815  Uzbekistan  2014  female  35-54 years          107     3620833   \n",
      "27816  Uzbekistan  2014  female    75+ years            9      348465   \n",
      "27817  Uzbekistan  2014    male   5-14 years           60     2762158   \n",
      "27818  Uzbekistan  2014  female   5-14 years           44     2631600   \n",
      "27819  Uzbekistan  2014  female  55-74 years           21     1438935   \n",
      "\n",
      "       suicides/100k pop    country-year  HDI for year  gdp_for_year  \\\n",
      "0                   6.71     Albania1987           NaN    2156624900   \n",
      "1                   5.19     Albania1987           NaN    2156624900   \n",
      "2                   4.83     Albania1987           NaN    2156624900   \n",
      "3                   4.59     Albania1987           NaN    2156624900   \n",
      "4                   3.28     Albania1987           NaN    2156624900   \n",
      "...                  ...             ...           ...           ...   \n",
      "27815               2.96  Uzbekistan2014         0.675   63067077179   \n",
      "27816               2.58  Uzbekistan2014         0.675   63067077179   \n",
      "27817               2.17  Uzbekistan2014         0.675   63067077179   \n",
      "27818               1.67  Uzbekistan2014         0.675   63067077179   \n",
      "27819               1.46  Uzbekistan2014         0.675   63067077179   \n",
      "\n",
      "       gdp_per_capita ($)       generation  \n",
      "0                     796     Generation X  \n",
      "1                     796           Silent  \n",
      "2                     796     Generation X  \n",
      "3                     796  G.I. Generation  \n",
      "4                     796          Boomers  \n",
      "...                   ...              ...  \n",
      "27815                2309     Generation X  \n",
      "27816                2309           Silent  \n",
      "27817                2309     Generation Z  \n",
      "27818                2309     Generation Z  \n",
      "27819                2309          Boomers  \n",
      "\n",
      "[27820 rows x 12 columns]\n"
     ]
    }
   ],
   "source": [
    "df[\"gdp_for_year\"] = df[\"gdp_for_year\"].astype(\"int64\")\n",
    "print(df)"
   ]
  },
  {
   "cell_type": "code",
   "execution_count": 22,
   "id": "e449fead",
   "metadata": {},
   "outputs": [
    {
     "name": "stdout",
     "output_type": "stream",
     "text": [
      "          country  year     sex          age  suicides_no  population  \\\n",
      "0         Albania  1987    male  15-24 years           21      312900   \n",
      "1         Albania  1987    male  35-54 years           16      308000   \n",
      "2         Albania  1987  female  15-24 years           14      289700   \n",
      "3         Albania  1987    male    75+ years            1       21800   \n",
      "4         Albania  1987    male  25-34 years            9      274300   \n",
      "...           ...   ...     ...          ...          ...         ...   \n",
      "27815  Uzbekistan  2014  female  35-54 years          107     3620833   \n",
      "27816  Uzbekistan  2014  female    75+ years            9      348465   \n",
      "27817  Uzbekistan  2014    male   5-14 years           60     2762158   \n",
      "27818  Uzbekistan  2014  female   5-14 years           44     2631600   \n",
      "27819  Uzbekistan  2014  female  55-74 years           21     1438935   \n",
      "\n",
      "       suicides/100k pop    country-year  HDI for year  gdp_for_year  \\\n",
      "0                   6.71     Albania1987           NaN    2156624900   \n",
      "1                   5.19     Albania1987           NaN    2156624900   \n",
      "2                   4.83     Albania1987           NaN    2156624900   \n",
      "3                   4.59     Albania1987           NaN    2156624900   \n",
      "4                   3.28     Albania1987           NaN    2156624900   \n",
      "...                  ...             ...           ...           ...   \n",
      "27815               2.96  Uzbekistan2014         0.675   63067077179   \n",
      "27816               2.58  Uzbekistan2014         0.675   63067077179   \n",
      "27817               2.17  Uzbekistan2014         0.675   63067077179   \n",
      "27818               1.67  Uzbekistan2014         0.675   63067077179   \n",
      "27819               1.46  Uzbekistan2014         0.675   63067077179   \n",
      "\n",
      "       gdp_per_capita ($)       generation  country(to number)  \n",
      "0                     796     Generation X                   1  \n",
      "1                     796           Silent                   1  \n",
      "2                     796     Generation X                   1  \n",
      "3                     796  G.I. Generation                   1  \n",
      "4                     796          Boomers                   1  \n",
      "...                   ...              ...                 ...  \n",
      "27815                2309     Generation X                 101  \n",
      "27816                2309           Silent                 101  \n",
      "27817                2309     Generation Z                 101  \n",
      "27818                2309     Generation Z                 101  \n",
      "27819                2309          Boomers                 101  \n",
      "\n",
      "[27820 rows x 13 columns]\n"
     ]
    }
   ],
   "source": [
    "\"\"\"\n",
    "Replace each country with a number\n",
    "\"\"\"\n",
    "\n",
    "country_to_number = {}\n",
    "unique_countries = df['country'].unique()\n",
    "\n",
    "for i in range(len(unique_countries)):\n",
    "    country_to_number[unique_countries[i]] = i + 1\n",
    "\n",
    "# Adicione a coluna \"country(to number)\" ao DataFrame usando o mapeamento\n",
    "df['country(to number)'] = df['country'].map(country_to_number)\n",
    "\n",
    "# Exiba o DataFrame resultante\n",
    "print(df)\n"
   ]
  },
  {
   "cell_type": "code",
   "execution_count": 23,
   "id": "cc8cc5e7",
   "metadata": {},
   "outputs": [],
   "source": [
    "\"\"\"\n",
    "Remove as colunas country-year e country\n",
    "\"\"\"\n",
    "df = df.drop(['country-year','country'], axis=1)"
   ]
  },
  {
   "cell_type": "code",
   "execution_count": 24,
   "id": "6586572f",
   "metadata": {},
   "outputs": [],
   "source": [
    "#Fazer cópia\n",
    "df_copy1 = df.copy()"
   ]
  },
  {
   "cell_type": "code",
   "execution_count": 25,
   "id": "b61d97fa",
   "metadata": {},
   "outputs": [
    {
     "name": "stdout",
     "output_type": "stream",
     "text": [
      "27820\n"
     ]
    }
   ],
   "source": [
    "# Eliminar linhas com missing values\n",
    "df_copy1 = df_copy1.dropna(axis=1)\n",
    "\n",
    "# Contar o número de registros\n",
    "numero_de_registos = len(df_copy1.dropna(axis=0))\n",
    "\n",
    "print(numero_de_registos)"
   ]
  },
  {
   "cell_type": "code",
   "execution_count": 26,
   "id": "8f4990ae",
   "metadata": {},
   "outputs": [],
   "source": [
    "#sns.pairplot(df_copy1)"
   ]
  },
  {
   "cell_type": "code",
   "execution_count": 27,
   "id": "294517ab",
   "metadata": {},
   "outputs": [],
   "source": [
    "#sns.heatmap(df_copy1.corr(numeric_only=True))"
   ]
  },
  {
   "cell_type": "code",
   "execution_count": 28,
   "id": "a2ee2920",
   "metadata": {},
   "outputs": [],
   "source": [
    "from sklearn.linear_model import LinearRegression"
   ]
  },
  {
   "cell_type": "code",
   "execution_count": 29,
   "id": "5ec196b4",
   "metadata": {},
   "outputs": [
    {
     "ename": "KeyError",
     "evalue": "\"['HDI for year'] not found in axis\"",
     "output_type": "error",
     "traceback": [
      "\u001b[1;31m---------------------------------------------------------------------------\u001b[0m",
      "\u001b[1;31mKeyError\u001b[0m                                  Traceback (most recent call last)",
      "Cell \u001b[1;32mIn[29], line 5\u001b[0m\n\u001b[0;32m      1\u001b[0m \u001b[38;5;28;01mfrom\u001b[39;00m \u001b[38;5;21;01msklearn\u001b[39;00m\u001b[38;5;21;01m.\u001b[39;00m\u001b[38;5;21;01mmodel_selection\u001b[39;00m \u001b[38;5;28;01mimport\u001b[39;00m train_test_split\n\u001b[0;32m      4\u001b[0m \u001b[38;5;66;03m# Separar as variáveis independentes e dependentes\u001b[39;00m\n\u001b[1;32m----> 5\u001b[0m X \u001b[38;5;241m=\u001b[39m \u001b[43mdf_copy1\u001b[49m\u001b[38;5;241;43m.\u001b[39;49m\u001b[43mdrop\u001b[49m\u001b[43m(\u001b[49m\u001b[43m[\u001b[49m\u001b[38;5;124;43m\"\u001b[39;49m\u001b[38;5;124;43mHDI for year\u001b[39;49m\u001b[38;5;124;43m\"\u001b[39;49m\u001b[43m,\u001b[49m\u001b[38;5;124;43m\"\u001b[39;49m\u001b[38;5;124;43msex\u001b[39;49m\u001b[38;5;124;43m\"\u001b[39;49m\u001b[43m,\u001b[49m\u001b[38;5;124;43m\"\u001b[39;49m\u001b[38;5;124;43mage\u001b[39;49m\u001b[38;5;124;43m\"\u001b[39;49m\u001b[43m,\u001b[49m\u001b[38;5;124;43m\"\u001b[39;49m\u001b[38;5;124;43mgeneration\u001b[39;49m\u001b[38;5;124;43m\"\u001b[39;49m\u001b[43m]\u001b[49m\u001b[43m,\u001b[49m\u001b[43m \u001b[49m\u001b[43maxis\u001b[49m\u001b[38;5;241;43m=\u001b[39;49m\u001b[38;5;241;43m1\u001b[39;49m\u001b[43m)\u001b[49m\n\u001b[0;32m      6\u001b[0m y \u001b[38;5;241m=\u001b[39m df_copy1[\u001b[38;5;124m\"\u001b[39m\u001b[38;5;124mHDI for year\u001b[39m\u001b[38;5;124m\"\u001b[39m]\n\u001b[0;32m      8\u001b[0m X_train, X_test, y_train, y_test \u001b[38;5;241m=\u001b[39m train_test_split(X, y,test_size\u001b[38;5;241m=\u001b[39m\u001b[38;5;241m0.30\u001b[39m,random_state\u001b[38;5;241m=\u001b[39m\u001b[38;5;241m2023\u001b[39m)\n",
      "File \u001b[1;32m~\\miniconda3\\envs\\DAA\\lib\\site-packages\\pandas\\core\\frame.py:5258\u001b[0m, in \u001b[0;36mDataFrame.drop\u001b[1;34m(self, labels, axis, index, columns, level, inplace, errors)\u001b[0m\n\u001b[0;32m   5110\u001b[0m \u001b[38;5;28;01mdef\u001b[39;00m \u001b[38;5;21mdrop\u001b[39m(\n\u001b[0;32m   5111\u001b[0m     \u001b[38;5;28mself\u001b[39m,\n\u001b[0;32m   5112\u001b[0m     labels: IndexLabel \u001b[38;5;241m=\u001b[39m \u001b[38;5;28;01mNone\u001b[39;00m,\n\u001b[1;32m   (...)\u001b[0m\n\u001b[0;32m   5119\u001b[0m     errors: IgnoreRaise \u001b[38;5;241m=\u001b[39m \u001b[38;5;124m\"\u001b[39m\u001b[38;5;124mraise\u001b[39m\u001b[38;5;124m\"\u001b[39m,\n\u001b[0;32m   5120\u001b[0m ) \u001b[38;5;241m-\u001b[39m\u001b[38;5;241m>\u001b[39m DataFrame \u001b[38;5;241m|\u001b[39m \u001b[38;5;28;01mNone\u001b[39;00m:\n\u001b[0;32m   5121\u001b[0m \u001b[38;5;250m    \u001b[39m\u001b[38;5;124;03m\"\"\"\u001b[39;00m\n\u001b[0;32m   5122\u001b[0m \u001b[38;5;124;03m    Drop specified labels from rows or columns.\u001b[39;00m\n\u001b[0;32m   5123\u001b[0m \n\u001b[1;32m   (...)\u001b[0m\n\u001b[0;32m   5256\u001b[0m \u001b[38;5;124;03m            weight  1.0     0.8\u001b[39;00m\n\u001b[0;32m   5257\u001b[0m \u001b[38;5;124;03m    \"\"\"\u001b[39;00m\n\u001b[1;32m-> 5258\u001b[0m     \u001b[38;5;28;01mreturn\u001b[39;00m \u001b[38;5;28;43msuper\u001b[39;49m\u001b[43m(\u001b[49m\u001b[43m)\u001b[49m\u001b[38;5;241;43m.\u001b[39;49m\u001b[43mdrop\u001b[49m\u001b[43m(\u001b[49m\n\u001b[0;32m   5259\u001b[0m \u001b[43m        \u001b[49m\u001b[43mlabels\u001b[49m\u001b[38;5;241;43m=\u001b[39;49m\u001b[43mlabels\u001b[49m\u001b[43m,\u001b[49m\n\u001b[0;32m   5260\u001b[0m \u001b[43m        \u001b[49m\u001b[43maxis\u001b[49m\u001b[38;5;241;43m=\u001b[39;49m\u001b[43maxis\u001b[49m\u001b[43m,\u001b[49m\n\u001b[0;32m   5261\u001b[0m \u001b[43m        \u001b[49m\u001b[43mindex\u001b[49m\u001b[38;5;241;43m=\u001b[39;49m\u001b[43mindex\u001b[49m\u001b[43m,\u001b[49m\n\u001b[0;32m   5262\u001b[0m \u001b[43m        \u001b[49m\u001b[43mcolumns\u001b[49m\u001b[38;5;241;43m=\u001b[39;49m\u001b[43mcolumns\u001b[49m\u001b[43m,\u001b[49m\n\u001b[0;32m   5263\u001b[0m \u001b[43m        \u001b[49m\u001b[43mlevel\u001b[49m\u001b[38;5;241;43m=\u001b[39;49m\u001b[43mlevel\u001b[49m\u001b[43m,\u001b[49m\n\u001b[0;32m   5264\u001b[0m \u001b[43m        \u001b[49m\u001b[43minplace\u001b[49m\u001b[38;5;241;43m=\u001b[39;49m\u001b[43minplace\u001b[49m\u001b[43m,\u001b[49m\n\u001b[0;32m   5265\u001b[0m \u001b[43m        \u001b[49m\u001b[43merrors\u001b[49m\u001b[38;5;241;43m=\u001b[39;49m\u001b[43merrors\u001b[49m\u001b[43m,\u001b[49m\n\u001b[0;32m   5266\u001b[0m \u001b[43m    \u001b[49m\u001b[43m)\u001b[49m\n",
      "File \u001b[1;32m~\\miniconda3\\envs\\DAA\\lib\\site-packages\\pandas\\core\\generic.py:4549\u001b[0m, in \u001b[0;36mNDFrame.drop\u001b[1;34m(self, labels, axis, index, columns, level, inplace, errors)\u001b[0m\n\u001b[0;32m   4547\u001b[0m \u001b[38;5;28;01mfor\u001b[39;00m axis, labels \u001b[38;5;129;01min\u001b[39;00m axes\u001b[38;5;241m.\u001b[39mitems():\n\u001b[0;32m   4548\u001b[0m     \u001b[38;5;28;01mif\u001b[39;00m labels \u001b[38;5;129;01mis\u001b[39;00m \u001b[38;5;129;01mnot\u001b[39;00m \u001b[38;5;28;01mNone\u001b[39;00m:\n\u001b[1;32m-> 4549\u001b[0m         obj \u001b[38;5;241m=\u001b[39m \u001b[43mobj\u001b[49m\u001b[38;5;241;43m.\u001b[39;49m\u001b[43m_drop_axis\u001b[49m\u001b[43m(\u001b[49m\u001b[43mlabels\u001b[49m\u001b[43m,\u001b[49m\u001b[43m \u001b[49m\u001b[43maxis\u001b[49m\u001b[43m,\u001b[49m\u001b[43m \u001b[49m\u001b[43mlevel\u001b[49m\u001b[38;5;241;43m=\u001b[39;49m\u001b[43mlevel\u001b[49m\u001b[43m,\u001b[49m\u001b[43m \u001b[49m\u001b[43merrors\u001b[49m\u001b[38;5;241;43m=\u001b[39;49m\u001b[43merrors\u001b[49m\u001b[43m)\u001b[49m\n\u001b[0;32m   4551\u001b[0m \u001b[38;5;28;01mif\u001b[39;00m inplace:\n\u001b[0;32m   4552\u001b[0m     \u001b[38;5;28mself\u001b[39m\u001b[38;5;241m.\u001b[39m_update_inplace(obj)\n",
      "File \u001b[1;32m~\\miniconda3\\envs\\DAA\\lib\\site-packages\\pandas\\core\\generic.py:4591\u001b[0m, in \u001b[0;36mNDFrame._drop_axis\u001b[1;34m(self, labels, axis, level, errors, only_slice)\u001b[0m\n\u001b[0;32m   4589\u001b[0m         new_axis \u001b[38;5;241m=\u001b[39m axis\u001b[38;5;241m.\u001b[39mdrop(labels, level\u001b[38;5;241m=\u001b[39mlevel, errors\u001b[38;5;241m=\u001b[39merrors)\n\u001b[0;32m   4590\u001b[0m     \u001b[38;5;28;01melse\u001b[39;00m:\n\u001b[1;32m-> 4591\u001b[0m         new_axis \u001b[38;5;241m=\u001b[39m \u001b[43maxis\u001b[49m\u001b[38;5;241;43m.\u001b[39;49m\u001b[43mdrop\u001b[49m\u001b[43m(\u001b[49m\u001b[43mlabels\u001b[49m\u001b[43m,\u001b[49m\u001b[43m \u001b[49m\u001b[43merrors\u001b[49m\u001b[38;5;241;43m=\u001b[39;49m\u001b[43merrors\u001b[49m\u001b[43m)\u001b[49m\n\u001b[0;32m   4592\u001b[0m     indexer \u001b[38;5;241m=\u001b[39m axis\u001b[38;5;241m.\u001b[39mget_indexer(new_axis)\n\u001b[0;32m   4594\u001b[0m \u001b[38;5;66;03m# Case for non-unique axis\u001b[39;00m\n\u001b[0;32m   4595\u001b[0m \u001b[38;5;28;01melse\u001b[39;00m:\n",
      "File \u001b[1;32m~\\miniconda3\\envs\\DAA\\lib\\site-packages\\pandas\\core\\indexes\\base.py:6699\u001b[0m, in \u001b[0;36mIndex.drop\u001b[1;34m(self, labels, errors)\u001b[0m\n\u001b[0;32m   6697\u001b[0m \u001b[38;5;28;01mif\u001b[39;00m mask\u001b[38;5;241m.\u001b[39many():\n\u001b[0;32m   6698\u001b[0m     \u001b[38;5;28;01mif\u001b[39;00m errors \u001b[38;5;241m!=\u001b[39m \u001b[38;5;124m\"\u001b[39m\u001b[38;5;124mignore\u001b[39m\u001b[38;5;124m\"\u001b[39m:\n\u001b[1;32m-> 6699\u001b[0m         \u001b[38;5;28;01mraise\u001b[39;00m \u001b[38;5;167;01mKeyError\u001b[39;00m(\u001b[38;5;124mf\u001b[39m\u001b[38;5;124m\"\u001b[39m\u001b[38;5;132;01m{\u001b[39;00m\u001b[38;5;28mlist\u001b[39m(labels[mask])\u001b[38;5;132;01m}\u001b[39;00m\u001b[38;5;124m not found in axis\u001b[39m\u001b[38;5;124m\"\u001b[39m)\n\u001b[0;32m   6700\u001b[0m     indexer \u001b[38;5;241m=\u001b[39m indexer[\u001b[38;5;241m~\u001b[39mmask]\n\u001b[0;32m   6701\u001b[0m \u001b[38;5;28;01mreturn\u001b[39;00m \u001b[38;5;28mself\u001b[39m\u001b[38;5;241m.\u001b[39mdelete(indexer)\n",
      "\u001b[1;31mKeyError\u001b[0m: \"['HDI for year'] not found in axis\""
     ]
    }
   ],
   "source": [
    "from sklearn.model_selection import train_test_split\n",
    "\n",
    "\n",
    "# Separar as variáveis independentes e dependentes\n",
    "X = df_copy1.drop([\"HDI for year\",\"sex\",\"age\",\"generation\"], axis=1)\n",
    "y = df_copy1[\"HDI for year\"]\n",
    "\n",
    "X_train, X_test, y_train, y_test = train_test_split(X, y,test_size=0.30,random_state=2023)\n",
    "\n",
    "# Criar o modelo de regressão linear\n",
    "model = LinearRegression()\n",
    "\n",
    "# Treinar o modelo\n",
    "model.fit(X_train, y_train)\n",
    "\n",
    "predictions1 = model.predict(X_test)\n",
    "\n",
    "# Criar uma lista de observações com missing values\n",
    "#missing_values = df[df[\"HDI for year\"].isna()].index.tolist()\n",
    "\n",
    "# Previsões para as observações com missing values\n",
    "#predictions = model.predict(df.loc[missing_values])\n",
    "\n",
    "# Substituir os missing values\n",
    "#df.loc[missing_values, \"HDI for year\"] = predictions"
   ]
  },
  {
   "cell_type": "markdown",
   "id": "278314bf",
   "metadata": {},
   "source": [
    "## Evaluation"
   ]
  },
  {
   "cell_type": "markdown",
   "id": "a8deaf80",
   "metadata": {},
   "source": [
    "We can check precision,recall,f1-score using classification report!"
   ]
  },
  {
   "cell_type": "code",
   "execution_count": null,
   "id": "d3987d25",
   "metadata": {},
   "outputs": [],
   "source": [
    "from sklearn.metrics import classification_report, ConfusionMatrixDisplay"
   ]
  },
  {
   "cell_type": "code",
   "execution_count": null,
   "id": "9a16e839",
   "metadata": {},
   "outputs": [],
   "source": [
    "print(\"With 'newton-cg': \\n\", classification_report(y_test,predictions1))\n",
    "#print(\"With 'lbfgs': \\n\", classification_report(y_test,predictions2))\n",
    "#print(\"With 'liblinear': \\n\", classification_report(y_test,predictions3))"
   ]
  },
  {
   "cell_type": "code",
   "execution_count": null,
   "id": "4babd9c1",
   "metadata": {},
   "outputs": [],
   "source": [
    "df.columns"
   ]
  },
  {
   "cell_type": "code",
   "execution_count": null,
   "id": "691a36cc",
   "metadata": {},
   "outputs": [],
   "source": [
    "print(df['HDI for year'].hist())"
   ]
  },
  {
   "cell_type": "code",
   "execution_count": null,
   "id": "6326ecd6",
   "metadata": {},
   "outputs": [],
   "source": [
    "\"\"\"\n",
    "Tratamento dos Outliers\n",
    "\"\"\"\n"
   ]
  }
 ],
 "metadata": {
  "kernelspec": {
   "display_name": "Python 3 (ipykernel)",
   "language": "python",
   "name": "python3"
  },
  "language_info": {
   "codemirror_mode": {
    "name": "ipython",
    "version": 3
   },
   "file_extension": ".py",
   "mimetype": "text/x-python",
   "name": "python",
   "nbconvert_exporter": "python",
   "pygments_lexer": "ipython3",
   "version": "3.10.0"
  }
 },
 "nbformat": 4,
 "nbformat_minor": 5
}
