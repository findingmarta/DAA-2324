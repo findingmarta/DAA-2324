{
 "cells": [
  {
   "cell_type": "markdown",
   "id": "1c8c386d",
   "metadata": {},
   "source": [
    "## Introdução\n",
    "\n",
    "O dataset que escolhemos foi “Suicide Rates Overview 1985 to 2016” e o nosso\n",
    "objetivo é observar como os atributos presentes neste dataset e as relações entre eles têm\n",
    "impacto no atributo suicides_no (número de suicídios). Assim, para efetuar esta análise,\n",
    "usamos o ambiente miniconda."
   ]
  },
  {
   "cell_type": "code",
   "execution_count": 1,
   "id": "c4b16101",
   "metadata": {},
   "outputs": [],
   "source": [
    "'''import libraries'''\n",
    "import sklearn as skl\n",
    "import pandas as pd\n",
    "import matplotlib.pyplot as plt\n",
    "import seaborn as sns\n",
    "import numpy as np\n",
    "from sklearn import preprocessing\n",
    "from sklearn.linear_model import LinearRegression\n",
    "from sklearn.model_selection import train_test_split\n",
    "from sklearn.metrics import r2_score\n",
    "from sklearn.metrics import confusion_matrix\n",
    "from sklearn.metrics import recall_score\n",
    "from sklearn.metrics import accuracy_score\n",
    "from sklearn.metrics import precision_score\n",
    "from sklearn.metrics import roc_auc_score\n",
    "from sklearn.metrics import roc_curve\n",
    "from sklearn.metrics import f1_score\n",
    "from sklearn.metrics import fbeta_score\n",
    "from sklearn.metrics import mean_absolute_error\n",
    "from sklearn.metrics import mean_squared_error\n",
    "from sklearn.model_selection import cross_val_score"
   ]
  },
  {
   "cell_type": "markdown",
   "id": "77dd73c1",
   "metadata": {},
   "source": [
    "## Análise dos dados\n",
    "\n",
    "\n",
    "### Descrição dos atributos\n",
    "De forma a perceber a melhor forma de abordar o problema, começamos por\n",
    "analisar as features do dataset, Assim, podemos verificar que o dataset é composto pelos\n",
    "seguintes atributos:\n",
    "* **country**: variável do tipo string que identifica o país analisado.\n",
    "* **year**: variável do tipo int que representa o ano correspondente ao levantamento dos dados.\n",
    "* **sex**: variável do tipo string que define o sexo das pessoas que cometeram suicídio.\n",
    "* **age**: variável do tipo string que representa a faixa etária dos individuos que cometeram suicídio.\n",
    "* **suicides_no**: variável do tipo int que corresponde ao número de suicídios ocorridos.\n",
    "* **population**: variável do tipo int que define a população de um determinado país num determinado ano.\n",
    "* **suicides/100k pop**: variável do tipo double que corresponde ao número de suicídios por cada 100 mil habitantes .\n",
    "* **country-year**: variável do tipo string que representa o país e o ano correspondente ao levantamento de dados .\n",
    "* **HDI for year**: variável do tipo double que corresponde ao índice de desenvolvimento humano.\n",
    "* **gdp_for_year**: variável do tipo string que representa o grau de desenvolvimento de um país num determinado ano\n",
    "* **gdp_per_capita**: variável do tipo inteiro que representa o grau de desenvolvimento de um país per capita.\n",
    "* **generation**: variável do tipo string que representa a geração do conjunto de pessoas que cometeram suicidio.\n",
    "\n"
   ]
  },
  {
   "cell_type": "code",
   "execution_count": 2,
   "id": "68922fe0",
   "metadata": {},
   "outputs": [],
   "source": [
    "'''Load CSV'''\n",
    "df = pd.read_csv('master.csv')"
   ]
  },
  {
   "cell_type": "code",
   "execution_count": 3,
   "id": "84f8cb26",
   "metadata": {},
   "outputs": [
    {
     "data": {
      "text/html": [
       "<div>\n",
       "<style scoped>\n",
       "    .dataframe tbody tr th:only-of-type {\n",
       "        vertical-align: middle;\n",
       "    }\n",
       "\n",
       "    .dataframe tbody tr th {\n",
       "        vertical-align: top;\n",
       "    }\n",
       "\n",
       "    .dataframe thead th {\n",
       "        text-align: right;\n",
       "    }\n",
       "</style>\n",
       "<table border=\"1\" class=\"dataframe\">\n",
       "  <thead>\n",
       "    <tr style=\"text-align: right;\">\n",
       "      <th></th>\n",
       "      <th>country</th>\n",
       "      <th>year</th>\n",
       "      <th>sex</th>\n",
       "      <th>age</th>\n",
       "      <th>suicides_no</th>\n",
       "      <th>population</th>\n",
       "      <th>suicides/100k pop</th>\n",
       "      <th>country-year</th>\n",
       "      <th>HDI for year</th>\n",
       "      <th>gdp_for_year ($)</th>\n",
       "      <th>gdp_per_capita ($)</th>\n",
       "      <th>generation</th>\n",
       "    </tr>\n",
       "  </thead>\n",
       "  <tbody>\n",
       "    <tr>\n",
       "      <th>0</th>\n",
       "      <td>Albania</td>\n",
       "      <td>1987</td>\n",
       "      <td>male</td>\n",
       "      <td>15-24 years</td>\n",
       "      <td>21</td>\n",
       "      <td>312900</td>\n",
       "      <td>6.71</td>\n",
       "      <td>Albania1987</td>\n",
       "      <td>NaN</td>\n",
       "      <td>2,156,624,900</td>\n",
       "      <td>796</td>\n",
       "      <td>Generation X</td>\n",
       "    </tr>\n",
       "    <tr>\n",
       "      <th>1</th>\n",
       "      <td>Albania</td>\n",
       "      <td>1987</td>\n",
       "      <td>male</td>\n",
       "      <td>35-54 years</td>\n",
       "      <td>16</td>\n",
       "      <td>308000</td>\n",
       "      <td>5.19</td>\n",
       "      <td>Albania1987</td>\n",
       "      <td>NaN</td>\n",
       "      <td>2,156,624,900</td>\n",
       "      <td>796</td>\n",
       "      <td>Silent</td>\n",
       "    </tr>\n",
       "    <tr>\n",
       "      <th>2</th>\n",
       "      <td>Albania</td>\n",
       "      <td>1987</td>\n",
       "      <td>female</td>\n",
       "      <td>15-24 years</td>\n",
       "      <td>14</td>\n",
       "      <td>289700</td>\n",
       "      <td>4.83</td>\n",
       "      <td>Albania1987</td>\n",
       "      <td>NaN</td>\n",
       "      <td>2,156,624,900</td>\n",
       "      <td>796</td>\n",
       "      <td>Generation X</td>\n",
       "    </tr>\n",
       "    <tr>\n",
       "      <th>3</th>\n",
       "      <td>Albania</td>\n",
       "      <td>1987</td>\n",
       "      <td>male</td>\n",
       "      <td>75+ years</td>\n",
       "      <td>1</td>\n",
       "      <td>21800</td>\n",
       "      <td>4.59</td>\n",
       "      <td>Albania1987</td>\n",
       "      <td>NaN</td>\n",
       "      <td>2,156,624,900</td>\n",
       "      <td>796</td>\n",
       "      <td>G.I. Generation</td>\n",
       "    </tr>\n",
       "    <tr>\n",
       "      <th>4</th>\n",
       "      <td>Albania</td>\n",
       "      <td>1987</td>\n",
       "      <td>male</td>\n",
       "      <td>25-34 years</td>\n",
       "      <td>9</td>\n",
       "      <td>274300</td>\n",
       "      <td>3.28</td>\n",
       "      <td>Albania1987</td>\n",
       "      <td>NaN</td>\n",
       "      <td>2,156,624,900</td>\n",
       "      <td>796</td>\n",
       "      <td>Boomers</td>\n",
       "    </tr>\n",
       "  </tbody>\n",
       "</table>\n",
       "</div>"
      ],
      "text/plain": [
       "   country  year     sex          age  suicides_no  population  \\\n",
       "0  Albania  1987    male  15-24 years           21      312900   \n",
       "1  Albania  1987    male  35-54 years           16      308000   \n",
       "2  Albania  1987  female  15-24 years           14      289700   \n",
       "3  Albania  1987    male    75+ years            1       21800   \n",
       "4  Albania  1987    male  25-34 years            9      274300   \n",
       "\n",
       "   suicides/100k pop country-year  HDI for year  gdp_for_year ($)   \\\n",
       "0               6.71  Albania1987           NaN      2,156,624,900   \n",
       "1               5.19  Albania1987           NaN      2,156,624,900   \n",
       "2               4.83  Albania1987           NaN      2,156,624,900   \n",
       "3               4.59  Albania1987           NaN      2,156,624,900   \n",
       "4               3.28  Albania1987           NaN      2,156,624,900   \n",
       "\n",
       "   gdp_per_capita ($)       generation  \n",
       "0                 796     Generation X  \n",
       "1                 796           Silent  \n",
       "2                 796     Generation X  \n",
       "3                 796  G.I. Generation  \n",
       "4                 796          Boomers  "
      ]
     },
     "execution_count": 3,
     "metadata": {},
     "output_type": "execute_result"
    }
   ],
   "source": [
    "''''''\n",
    "df.head()"
   ]
  },
  {
   "cell_type": "code",
   "execution_count": 4,
   "id": "c35a22ca",
   "metadata": {},
   "outputs": [
    {
     "data": {
      "text/html": [
       "<div>\n",
       "<style scoped>\n",
       "    .dataframe tbody tr th:only-of-type {\n",
       "        vertical-align: middle;\n",
       "    }\n",
       "\n",
       "    .dataframe tbody tr th {\n",
       "        vertical-align: top;\n",
       "    }\n",
       "\n",
       "    .dataframe thead th {\n",
       "        text-align: right;\n",
       "    }\n",
       "</style>\n",
       "<table border=\"1\" class=\"dataframe\">\n",
       "  <thead>\n",
       "    <tr style=\"text-align: right;\">\n",
       "      <th></th>\n",
       "      <th>country</th>\n",
       "      <th>year</th>\n",
       "      <th>sex</th>\n",
       "      <th>age</th>\n",
       "      <th>suicides_no</th>\n",
       "      <th>population</th>\n",
       "      <th>suicides/100k pop</th>\n",
       "      <th>country-year</th>\n",
       "      <th>HDI for year</th>\n",
       "      <th>gdp_for_year ($)</th>\n",
       "      <th>gdp_per_capita ($)</th>\n",
       "      <th>generation</th>\n",
       "    </tr>\n",
       "  </thead>\n",
       "  <tbody>\n",
       "    <tr>\n",
       "      <th>27815</th>\n",
       "      <td>Uzbekistan</td>\n",
       "      <td>2014</td>\n",
       "      <td>female</td>\n",
       "      <td>35-54 years</td>\n",
       "      <td>107</td>\n",
       "      <td>3620833</td>\n",
       "      <td>2.96</td>\n",
       "      <td>Uzbekistan2014</td>\n",
       "      <td>0.675</td>\n",
       "      <td>63,067,077,179</td>\n",
       "      <td>2309</td>\n",
       "      <td>Generation X</td>\n",
       "    </tr>\n",
       "    <tr>\n",
       "      <th>27816</th>\n",
       "      <td>Uzbekistan</td>\n",
       "      <td>2014</td>\n",
       "      <td>female</td>\n",
       "      <td>75+ years</td>\n",
       "      <td>9</td>\n",
       "      <td>348465</td>\n",
       "      <td>2.58</td>\n",
       "      <td>Uzbekistan2014</td>\n",
       "      <td>0.675</td>\n",
       "      <td>63,067,077,179</td>\n",
       "      <td>2309</td>\n",
       "      <td>Silent</td>\n",
       "    </tr>\n",
       "    <tr>\n",
       "      <th>27817</th>\n",
       "      <td>Uzbekistan</td>\n",
       "      <td>2014</td>\n",
       "      <td>male</td>\n",
       "      <td>5-14 years</td>\n",
       "      <td>60</td>\n",
       "      <td>2762158</td>\n",
       "      <td>2.17</td>\n",
       "      <td>Uzbekistan2014</td>\n",
       "      <td>0.675</td>\n",
       "      <td>63,067,077,179</td>\n",
       "      <td>2309</td>\n",
       "      <td>Generation Z</td>\n",
       "    </tr>\n",
       "    <tr>\n",
       "      <th>27818</th>\n",
       "      <td>Uzbekistan</td>\n",
       "      <td>2014</td>\n",
       "      <td>female</td>\n",
       "      <td>5-14 years</td>\n",
       "      <td>44</td>\n",
       "      <td>2631600</td>\n",
       "      <td>1.67</td>\n",
       "      <td>Uzbekistan2014</td>\n",
       "      <td>0.675</td>\n",
       "      <td>63,067,077,179</td>\n",
       "      <td>2309</td>\n",
       "      <td>Generation Z</td>\n",
       "    </tr>\n",
       "    <tr>\n",
       "      <th>27819</th>\n",
       "      <td>Uzbekistan</td>\n",
       "      <td>2014</td>\n",
       "      <td>female</td>\n",
       "      <td>55-74 years</td>\n",
       "      <td>21</td>\n",
       "      <td>1438935</td>\n",
       "      <td>1.46</td>\n",
       "      <td>Uzbekistan2014</td>\n",
       "      <td>0.675</td>\n",
       "      <td>63,067,077,179</td>\n",
       "      <td>2309</td>\n",
       "      <td>Boomers</td>\n",
       "    </tr>\n",
       "  </tbody>\n",
       "</table>\n",
       "</div>"
      ],
      "text/plain": [
       "          country  year     sex          age  suicides_no  population  \\\n",
       "27815  Uzbekistan  2014  female  35-54 years          107     3620833   \n",
       "27816  Uzbekistan  2014  female    75+ years            9      348465   \n",
       "27817  Uzbekistan  2014    male   5-14 years           60     2762158   \n",
       "27818  Uzbekistan  2014  female   5-14 years           44     2631600   \n",
       "27819  Uzbekistan  2014  female  55-74 years           21     1438935   \n",
       "\n",
       "       suicides/100k pop    country-year  HDI for year  gdp_for_year ($)   \\\n",
       "27815               2.96  Uzbekistan2014         0.675     63,067,077,179   \n",
       "27816               2.58  Uzbekistan2014         0.675     63,067,077,179   \n",
       "27817               2.17  Uzbekistan2014         0.675     63,067,077,179   \n",
       "27818               1.67  Uzbekistan2014         0.675     63,067,077,179   \n",
       "27819               1.46  Uzbekistan2014         0.675     63,067,077,179   \n",
       "\n",
       "       gdp_per_capita ($)    generation  \n",
       "27815                2309  Generation X  \n",
       "27816                2309        Silent  \n",
       "27817                2309  Generation Z  \n",
       "27818                2309  Generation Z  \n",
       "27819                2309       Boomers  "
      ]
     },
     "execution_count": 4,
     "metadata": {},
     "output_type": "execute_result"
    }
   ],
   "source": [
    "df.tail()"
   ]
  },
  {
   "cell_type": "code",
   "execution_count": 5,
   "id": "d120a4a8",
   "metadata": {},
   "outputs": [
    {
     "name": "stdout",
     "output_type": "stream",
     "text": [
      "<class 'pandas.core.frame.DataFrame'>\n",
      "RangeIndex: 27820 entries, 0 to 27819\n",
      "Data columns (total 12 columns):\n",
      " #   Column              Non-Null Count  Dtype  \n",
      "---  ------              --------------  -----  \n",
      " 0   country             27820 non-null  object \n",
      " 1   year                27820 non-null  int64  \n",
      " 2   sex                 27820 non-null  object \n",
      " 3   age                 27820 non-null  object \n",
      " 4   suicides_no         27820 non-null  int64  \n",
      " 5   population          27820 non-null  int64  \n",
      " 6   suicides/100k pop   27820 non-null  float64\n",
      " 7   country-year        27820 non-null  object \n",
      " 8   HDI for year        8364 non-null   float64\n",
      " 9    gdp_for_year ($)   27820 non-null  object \n",
      " 10  gdp_per_capita ($)  27820 non-null  int64  \n",
      " 11  generation          27820 non-null  object \n",
      "dtypes: float64(2), int64(4), object(6)\n",
      "memory usage: 2.5+ MB\n"
     ]
    }
   ],
   "source": [
    "df.info()\n",
    "#Descreve os tipos dos respetivos atributos e conta o número de valores não NULL\n",
    "\n",
    "#Como podemos observar no output apenas 8364 das 27820 não são valores nulos"
   ]
  },
  {
   "cell_type": "code",
   "execution_count": 6,
   "id": "c785e53a",
   "metadata": {},
   "outputs": [
    {
     "name": "stdout",
     "output_type": "stream",
     "text": [
      "country                   0\n",
      "year                      0\n",
      "sex                       0\n",
      "age                       0\n",
      "suicides_no               0\n",
      "population                0\n",
      "suicides/100k pop         0\n",
      "country-year              0\n",
      "HDI for year          19456\n",
      " gdp_for_year ($)         0\n",
      "gdp_per_capita ($)        0\n",
      "generation                0\n",
      "dtype: int64\n"
     ]
    }
   ],
   "source": [
    "print(df.isna().sum())\n",
    "# Tal como em cima confirmamos aqui verificamos 19456 entradas nulas \n",
    "# no atributo 'HDI for year'"
   ]
  },
  {
   "cell_type": "code",
   "execution_count": 7,
   "id": "7e1df637",
   "metadata": {
    "scrolled": true
   },
   "outputs": [
    {
     "name": "stdout",
     "output_type": "stream",
     "text": [
      "27719\n"
     ]
    }
   ],
   "source": [
    "# Contar o número de registos repetidos\n",
    "print(df['country'].duplicated().sum())"
   ]
  },
  {
   "cell_type": "code",
   "execution_count": 8,
   "id": "a998c43e",
   "metadata": {},
   "outputs": [
    {
     "data": {
      "text/plain": [
       "HDI for year\n",
       "0.772    84\n",
       "0.713    84\n",
       "0.888    84\n",
       "0.830    72\n",
       "0.761    72\n",
       "         ..\n",
       "0.696    12\n",
       "0.894    12\n",
       "0.893    12\n",
       "0.770    12\n",
       "0.675    12\n",
       "Name: count, Length: 305, dtype: int64"
      ]
     },
     "execution_count": 8,
     "metadata": {},
     "output_type": "execute_result"
    }
   ],
   "source": [
    "df['HDI for year'].value_counts()"
   ]
  },
  {
   "cell_type": "code",
   "execution_count": 9,
   "id": "689c34ef",
   "metadata": {},
   "outputs": [
    {
     "data": {
      "text/plain": [
       "count    8364.000000\n",
       "mean        0.776601\n",
       "std         0.093367\n",
       "min         0.483000\n",
       "25%         0.713000\n",
       "50%         0.779000\n",
       "75%         0.855000\n",
       "max         0.944000\n",
       "Name: HDI for year, dtype: float64"
      ]
     },
     "execution_count": 9,
     "metadata": {},
     "output_type": "execute_result"
    }
   ],
   "source": [
    "df['HDI for year'].describe()"
   ]
  },
  {
   "cell_type": "code",
   "execution_count": 10,
   "id": "ceecc1e1",
   "metadata": {},
   "outputs": [
    {
     "name": "stdout",
     "output_type": "stream",
     "text": [
      "Axes(0.125,0.11;0.775x0.77)\n"
     ]
    },
    {
     "data": {
      "image/png": "[encoded data removed]",
      "text/plain": [
       "<Figure size 640x480 with 1 Axes>"
      ]
     },
     "metadata": {},
     "output_type": "display_data"
    }
   ],
   "source": [
    "print(df['HDI for year'].hist())"
   ]
  },
  {
   "cell_type": "code",
   "execution_count": 11,
   "id": "6121529c",
   "metadata": {},
   "outputs": [
    {
     "data": {
      "text/plain": [
       "<Axes: >"
      ]
     },
     "execution_count": 11,
     "metadata": {},
     "output_type": "execute_result"
    },
    {
     "data": {
      "image/png": "[encoded data removed]",
      "text/plain": [
       "<Figure size 640x480 with 1 Axes>"
      ]
     },
     "metadata": {},
     "output_type": "display_data"
    }
   ],
   "source": [
    "sns.heatmap(df.isnull(), yticklabels=False,cbar=False,cmap='viridis')\n"
   ]
  },
  {
   "cell_type": "code",
   "execution_count": 12,
   "id": "549e673b",
   "metadata": {},
   "outputs": [
    {
     "name": "stdout",
     "output_type": "stream",
     "text": [
      "Skewness: -0.30087744889575646\n",
      "Kurtosis: -0.6479139271723233\n"
     ]
    }
   ],
   "source": [
    "print(f\"Skewness: {df['HDI for year'].skew()}\")\n",
    "print(f\"Kurtosis: {df['HDI for year'].kurt()}\")"
   ]
  },
  {
   "cell_type": "code",
   "execution_count": 13,
   "id": "9a4d3896",
   "metadata": {},
   "outputs": [
    {
     "data": {
      "text/plain": [
       "\"\\ncountry', 'year', 'sex', 'age', 'suicides_no', 'population',\\n       'suicides/100k pop', 'country-year', 'HDI for year',\\n       ' gdp_for_year ($) ', 'gdp_per_capita ($)', 'generation'\\n\""
      ]
     },
     "execution_count": 13,
     "metadata": {},
     "output_type": "execute_result"
    },
    {
     "data": {
      "image/png": "[encoded data removed]",
      "text/plain": [
       "<Figure size 640x480 with 1 Axes>"
      ]
     },
     "metadata": {},
     "output_type": "display_data"
    }
   ],
   "source": [
    "sns.boxplot(y='HDI for year',data=df,palette='winter')\n",
    "\n",
    "'''\n",
    "country', 'year', 'sex', 'age', 'suicides_no', 'population',\n",
    "       'suicides/100k pop', 'country-year', 'HDI for year',\n",
    "       ' gdp_for_year ($) ', 'gdp_per_capita ($)', 'generation'\n",
    "'''"
   ]
  },
  {
   "cell_type": "code",
   "execution_count": 14,
   "id": "0bfd218b",
   "metadata": {},
   "outputs": [],
   "source": [
    "#df['HDI for year'] = df['HDI for year'].fillna(df['HDI for year'].mean())"
   ]
  },
  {
   "cell_type": "code",
   "execution_count": 15,
   "id": "2efef554",
   "metadata": {},
   "outputs": [
    {
     "name": "stdout",
     "output_type": "stream",
     "text": [
      "Axes(0.125,0.11;0.775x0.77)\n"
     ]
    },
    {
     "data": {
      "image/png": "[encoded data removed]",
      "text/plain": [
       "<Figure size 640x480 with 1 Axes>"
      ]
     },
     "metadata": {},
     "output_type": "display_data"
    }
   ],
   "source": [
    "print(df['HDI for year'].hist())"
   ]
  },
  {
   "cell_type": "code",
   "execution_count": 16,
   "id": "f280c6ec",
   "metadata": {},
   "outputs": [
    {
     "name": "stdout",
     "output_type": "stream",
     "text": [
      "<class 'pandas.core.frame.DataFrame'>\n",
      "RangeIndex: 27820 entries, 0 to 27819\n",
      "Data columns (total 12 columns):\n",
      " #   Column              Non-Null Count  Dtype  \n",
      "---  ------              --------------  -----  \n",
      " 0   country             27820 non-null  object \n",
      " 1   year                27820 non-null  int64  \n",
      " 2   sex                 27820 non-null  object \n",
      " 3   age                 27820 non-null  object \n",
      " 4   suicides_no         27820 non-null  int64  \n",
      " 5   population          27820 non-null  int64  \n",
      " 6   suicides/100k pop   27820 non-null  float64\n",
      " 7   country-year        27820 non-null  object \n",
      " 8   HDI for year        8364 non-null   float64\n",
      " 9   gdp_for_year        27820 non-null  object \n",
      " 10  gdp_per_capita ($)  27820 non-null  int64  \n",
      " 11  generation          27820 non-null  object \n",
      "dtypes: float64(2), int64(4), object(6)\n",
      "memory usage: 2.5+ MB\n"
     ]
    }
   ],
   "source": [
    "\n",
    "'''\n",
    "Rename complicated columns' names\n",
    "'''  \n",
    "df.rename(columns={\" gdp_for_year ($) \": \"gdp_for_year\"}, inplace=True)\n",
    "df.info()\n"
   ]
  },
  {
   "cell_type": "code",
   "execution_count": 17,
   "id": "48a6b35c",
   "metadata": {},
   "outputs": [],
   "source": [
    "df[\"gdp_for_year\"] = df[\"gdp_for_year\"].replace(\",\", \"\", regex=True)\n"
   ]
  },
  {
   "cell_type": "code",
   "execution_count": 18,
   "id": "8edf23fb",
   "metadata": {},
   "outputs": [
    {
     "name": "stdout",
     "output_type": "stream",
     "text": [
      "          country  year     sex          age  suicides_no  population  \\\n",
      "0         Albania  1987    male  15-24 years           21      312900   \n",
      "1         Albania  1987    male  35-54 years           16      308000   \n",
      "2         Albania  1987  female  15-24 years           14      289700   \n",
      "3         Albania  1987    male    75+ years            1       21800   \n",
      "4         Albania  1987    male  25-34 years            9      274300   \n",
      "...           ...   ...     ...          ...          ...         ...   \n",
      "27815  Uzbekistan  2014  female  35-54 years          107     3620833   \n",
      "27816  Uzbekistan  2014  female    75+ years            9      348465   \n",
      "27817  Uzbekistan  2014    male   5-14 years           60     2762158   \n",
      "27818  Uzbekistan  2014  female   5-14 years           44     2631600   \n",
      "27819  Uzbekistan  2014  female  55-74 years           21     1438935   \n",
      "\n",
      "       suicides/100k pop    country-year  HDI for year  gdp_for_year  \\\n",
      "0                   6.71     Albania1987           NaN    2156624900   \n",
      "1                   5.19     Albania1987           NaN    2156624900   \n",
      "2                   4.83     Albania1987           NaN    2156624900   \n",
      "3                   4.59     Albania1987           NaN    2156624900   \n",
      "4                   3.28     Albania1987           NaN    2156624900   \n",
      "...                  ...             ...           ...           ...   \n",
      "27815               2.96  Uzbekistan2014         0.675   63067077179   \n",
      "27816               2.58  Uzbekistan2014         0.675   63067077179   \n",
      "27817               2.17  Uzbekistan2014         0.675   63067077179   \n",
      "27818               1.67  Uzbekistan2014         0.675   63067077179   \n",
      "27819               1.46  Uzbekistan2014         0.675   63067077179   \n",
      "\n",
      "       gdp_per_capita ($)       generation  \n",
      "0                     796     Generation X  \n",
      "1                     796           Silent  \n",
      "2                     796     Generation X  \n",
      "3                     796  G.I. Generation  \n",
      "4                     796          Boomers  \n",
      "...                   ...              ...  \n",
      "27815                2309     Generation X  \n",
      "27816                2309           Silent  \n",
      "27817                2309     Generation Z  \n",
      "27818                2309     Generation Z  \n",
      "27819                2309          Boomers  \n",
      "\n",
      "[27820 rows x 12 columns]\n"
     ]
    }
   ],
   "source": [
    "df[\"gdp_for_year\"] = df[\"gdp_for_year\"].astype(\"int64\")\n",
    "print(df)"
   ]
  },
  {
   "cell_type": "code",
   "execution_count": 19,
   "id": "e449fead",
   "metadata": {},
   "outputs": [
    {
     "name": "stdout",
     "output_type": "stream",
     "text": [
      "          country  year     sex          age  suicides_no  population  \\\n",
      "0         Albania  1987    male  15-24 years           21      312900   \n",
      "1         Albania  1987    male  35-54 years           16      308000   \n",
      "2         Albania  1987  female  15-24 years           14      289700   \n",
      "3         Albania  1987    male    75+ years            1       21800   \n",
      "4         Albania  1987    male  25-34 years            9      274300   \n",
      "...           ...   ...     ...          ...          ...         ...   \n",
      "27815  Uzbekistan  2014  female  35-54 years          107     3620833   \n",
      "27816  Uzbekistan  2014  female    75+ years            9      348465   \n",
      "27817  Uzbekistan  2014    male   5-14 years           60     2762158   \n",
      "27818  Uzbekistan  2014  female   5-14 years           44     2631600   \n",
      "27819  Uzbekistan  2014  female  55-74 years           21     1438935   \n",
      "\n",
      "       suicides/100k pop    country-year  HDI for year  gdp_for_year  \\\n",
      "0                   6.71     Albania1987           NaN    2156624900   \n",
      "1                   5.19     Albania1987           NaN    2156624900   \n",
      "2                   4.83     Albania1987           NaN    2156624900   \n",
      "3                   4.59     Albania1987           NaN    2156624900   \n",
      "4                   3.28     Albania1987           NaN    2156624900   \n",
      "...                  ...             ...           ...           ...   \n",
      "27815               2.96  Uzbekistan2014         0.675   63067077179   \n",
      "27816               2.58  Uzbekistan2014         0.675   63067077179   \n",
      "27817               2.17  Uzbekistan2014         0.675   63067077179   \n",
      "27818               1.67  Uzbekistan2014         0.675   63067077179   \n",
      "27819               1.46  Uzbekistan2014         0.675   63067077179   \n",
      "\n",
      "       gdp_per_capita ($)       generation  country(to number)  \n",
      "0                     796     Generation X                   1  \n",
      "1                     796           Silent                   1  \n",
      "2                     796     Generation X                   1  \n",
      "3                     796  G.I. Generation                   1  \n",
      "4                     796          Boomers                   1  \n",
      "...                   ...              ...                 ...  \n",
      "27815                2309     Generation X                 101  \n",
      "27816                2309           Silent                 101  \n",
      "27817                2309     Generation Z                 101  \n",
      "27818                2309     Generation Z                 101  \n",
      "27819                2309          Boomers                 101  \n",
      "\n",
      "[27820 rows x 13 columns]\n"
     ]
    }
   ],
   "source": [
    "\"\"\"\n",
    "Replace each country with a number\n",
    "\"\"\"\n",
    "\n",
    "country_to_number = {}\n",
    "unique_countries = df['country'].unique()\n",
    "\n",
    "for i in range(len(unique_countries)):\n",
    "    country_to_number[unique_countries[i]] = i + 1\n",
    "\n",
    "# Adicione a coluna \"country(to number)\" ao DataFrame usando o mapeamento\n",
    "df['country(to number)'] = df['country'].map(country_to_number)\n",
    "\n",
    "# Exiba o DataFrame resultante\n",
    "print(df)\n"
   ]
  },
  {
   "cell_type": "code",
   "execution_count": 20,
   "id": "cc8cc5e7",
   "metadata": {},
   "outputs": [],
   "source": [
    "\"\"\"\n",
    "Remove as colunas country-year e country\n",
    "\"\"\"\n",
    "df = df.drop(['country-year','country'], axis=1)"
   ]
  },
  {
   "cell_type": "code",
   "execution_count": 21,
   "id": "6586572f",
   "metadata": {
    "scrolled": true
   },
   "outputs": [],
   "source": [
    "#Fazer cópia\n",
    "df_copy1 = df.copy()"
   ]
  },
  {
   "cell_type": "code",
   "execution_count": 22,
   "id": "b61d97fa",
   "metadata": {
    "scrolled": false
   },
   "outputs": [
    {
     "name": "stdout",
     "output_type": "stream",
     "text": [
      "<class 'pandas.core.frame.DataFrame'>\n",
      "Index: 8364 entries, 72 to 27819\n",
      "Data columns (total 11 columns):\n",
      " #   Column              Non-Null Count  Dtype  \n",
      "---  ------              --------------  -----  \n",
      " 0   year                8364 non-null   int64  \n",
      " 1   sex                 8364 non-null   object \n",
      " 2   age                 8364 non-null   object \n",
      " 3   suicides_no         8364 non-null   int64  \n",
      " 4   population          8364 non-null   int64  \n",
      " 5   suicides/100k pop   8364 non-null   float64\n",
      " 6   HDI for year        8364 non-null   float64\n",
      " 7   gdp_for_year        8364 non-null   int64  \n",
      " 8   gdp_per_capita ($)  8364 non-null   int64  \n",
      " 9   generation          8364 non-null   object \n",
      " 10  country(to number)  8364 non-null   int64  \n",
      "dtypes: float64(2), int64(6), object(3)\n",
      "memory usage: 784.1+ KB\n"
     ]
    }
   ],
   "source": [
    "# Eliminar a coluna \"HDI for year\"\n",
    "df_copy1 = df_copy1.dropna()\n",
    "df_copy1.info()"
   ]
  },
  {
   "cell_type": "markdown",
   "id": "e230336a",
   "metadata": {},
   "source": [
    "## Treino de um Modelo de Regressão Linear"
   ]
  },
  {
   "cell_type": "code",
   "execution_count": 23,
   "id": "01b6aa52",
   "metadata": {},
   "outputs": [],
   "source": [
    "X = df_copy1[['year','suicides/100k pop','gdp_for_year','gdp_per_capita ($)','country(to number)']]\n",
    "y = df_copy1['suicides_no']"
   ]
  },
  {
   "cell_type": "markdown",
   "id": "fea6bd4d",
   "metadata": {},
   "source": [
    "### Separação dos dados de teste"
   ]
  },
  {
   "cell_type": "code",
   "execution_count": 24,
   "id": "5ec196b4",
   "metadata": {},
   "outputs": [],
   "source": [
    "X_train, X_test, y_train, y_test = train_test_split(X,y, test_size=0.4, random_state=2023)\n",
    "#X_train = X_train.drop(['sex','age','population','generation'],axis=1)\n",
    "#X_test = X_test.drop(['sex','age','population','generation'],axis=1)"
   ]
  },
  {
   "cell_type": "markdown",
   "id": "1509717b",
   "metadata": {},
   "source": [
    "### Criação e treino do Modelo"
   ]
  },
  {
   "cell_type": "code",
   "execution_count": 25,
   "id": "1ff957db",
   "metadata": {},
   "outputs": [],
   "source": [
    "#Treino\n",
    "lm = LinearRegression()"
   ]
  },
  {
   "cell_type": "code",
   "execution_count": 26,
   "id": "ef5a36c8",
   "metadata": {
    "scrolled": true
   },
   "outputs": [
    {
     "data": {
      "text/html": [
       "<style>#sk-container-id-1 {color: black;}#sk-container-id-1 pre{padding: 0;}#sk-container-id-1 div.sk-toggleable {background-color: white;}#sk-container-id-1 label.sk-toggleable__label {cursor: pointer;display: block;width: 100%;margin-bottom: 0;padding: 0.3em;box-sizing: border-box;text-align: center;}#sk-container-id-1 label.sk-toggleable__label-arrow:before {content: \"▸\";float: left;margin-right: 0.25em;color: #696969;}#sk-container-id-1 label.sk-toggleable__label-arrow:hover:before {color: black;}#sk-container-id-1 div.sk-estimator:hover label.sk-toggleable__label-arrow:before {color: black;}#sk-container-id-1 div.sk-toggleable__content {max-height: 0;max-width: 0;overflow: hidden;text-align: left;background-color: #f0f8ff;}#sk-container-id-1 div.sk-toggleable__content pre {margin: 0.2em;color: black;border-radius: 0.25em;background-color: #f0f8ff;}#sk-container-id-1 input.sk-toggleable__control:checked~div.sk-toggleable__content {max-height: 200px;max-width: 100%;overflow: auto;}#sk-container-id-1 input.sk-toggleable__control:checked~label.sk-toggleable__label-arrow:before {content: \"▾\";}#sk-container-id-1 div.sk-estimator input.sk-toggleable__control:checked~label.sk-toggleable__label {background-color: #d4ebff;}#sk-container-id-1 div.sk-label input.sk-toggleable__control:checked~label.sk-toggleable__label {background-color: #d4ebff;}#sk-container-id-1 input.sk-hidden--visually {border: 0;clip: rect(1px 1px 1px 1px);clip: rect(1px, 1px, 1px, 1px);height: 1px;margin: -1px;overflow: hidden;padding: 0;position: absolute;width: 1px;}#sk-container-id-1 div.sk-estimator {font-family: monospace;background-color: #f0f8ff;border: 1px dotted black;border-radius: 0.25em;box-sizing: border-box;margin-bottom: 0.5em;}#sk-container-id-1 div.sk-estimator:hover {background-color: #d4ebff;}#sk-container-id-1 div.sk-parallel-item::after {content: \"\";width: 100%;border-bottom: 1px solid gray;flex-grow: 1;}#sk-container-id-1 div.sk-label:hover label.sk-toggleable__label {background-color: #d4ebff;}#sk-container-id-1 div.sk-serial::before {content: \"\";position: absolute;border-left: 1px solid gray;box-sizing: border-box;top: 0;bottom: 0;left: 50%;z-index: 0;}#sk-container-id-1 div.sk-serial {display: flex;flex-direction: column;align-items: center;background-color: white;padding-right: 0.2em;padding-left: 0.2em;position: relative;}#sk-container-id-1 div.sk-item {position: relative;z-index: 1;}#sk-container-id-1 div.sk-parallel {display: flex;align-items: stretch;justify-content: center;background-color: white;position: relative;}#sk-container-id-1 div.sk-item::before, #sk-container-id-1 div.sk-parallel-item::before {content: \"\";position: absolute;border-left: 1px solid gray;box-sizing: border-box;top: 0;bottom: 0;left: 50%;z-index: -1;}#sk-container-id-1 div.sk-parallel-item {display: flex;flex-direction: column;z-index: 1;position: relative;background-color: white;}#sk-container-id-1 div.sk-parallel-item:first-child::after {align-self: flex-end;width: 50%;}#sk-container-id-1 div.sk-parallel-item:last-child::after {align-self: flex-start;width: 50%;}#sk-container-id-1 div.sk-parallel-item:only-child::after {width: 0;}#sk-container-id-1 div.sk-dashed-wrapped {border: 1px dashed gray;margin: 0 0.4em 0.5em 0.4em;box-sizing: border-box;padding-bottom: 0.4em;background-color: white;}#sk-container-id-1 div.sk-label label {font-family: monospace;font-weight: bold;display: inline-block;line-height: 1.2em;}#sk-container-id-1 div.sk-label-container {text-align: center;}#sk-container-id-1 div.sk-container {/* jupyter's `normalize.less` sets `[hidden] { display: none; }` but bootstrap.min.css set `[hidden] { display: none !important; }` so we also need the `!important` here to be able to override the default hidden behavior on the sphinx rendered scikit-learn.org. See: https://github.com/scikit-learn/scikit-learn/issues/21755 */display: inline-block !important;position: relative;}#sk-container-id-1 div.sk-text-repr-fallback {display: none;}</style><div id=\"sk-container-id-1\" class=\"sk-top-container\"><div class=\"sk-text-repr-fallback\"><pre>LinearRegression()</pre><b>In a Jupyter environment, please rerun this cell to show the HTML representation or trust the notebook. <br />On GitHub, the HTML representation is unable to render, please try loading this page with nbviewer.org.</b></div><div class=\"sk-container\" hidden><div class=\"sk-item\"><div class=\"sk-estimator sk-toggleable\"><input class=\"sk-toggleable__control sk-hidden--visually\" id=\"sk-estimator-id-1\" type=\"checkbox\" checked><label for=\"sk-estimator-id-1\" class=\"sk-toggleable__label sk-toggleable__label-arrow\">LinearRegression</label><div class=\"sk-toggleable__content\"><pre>LinearRegression()</pre></div></div></div></div></div>"
      ],
      "text/plain": [
       "LinearRegression()"
      ]
     },
     "execution_count": 26,
     "metadata": {},
     "output_type": "execute_result"
    }
   ],
   "source": [
    "lm.fit(X_train,y_train)"
   ]
  },
  {
   "cell_type": "markdown",
   "id": "8904aff7",
   "metadata": {},
   "source": [
    "### Avaliação do Modelo"
   ]
  },
  {
   "cell_type": "code",
   "execution_count": 27,
   "id": "e9cdf08d",
   "metadata": {},
   "outputs": [
    {
     "name": "stdout",
     "output_type": "stream",
     "text": [
      "6467.953670264962\n"
     ]
    }
   ],
   "source": [
    "print(lm.intercept_)"
   ]
  },
  {
   "cell_type": "code",
   "execution_count": 28,
   "id": "1ba62b64",
   "metadata": {},
   "outputs": [
    {
     "name": "stdout",
     "output_type": "stream",
     "text": [
      "6467.953670264962\n"
     ]
    }
   ],
   "source": [
    "print(lm.intercept_)"
   ]
  },
  {
   "cell_type": "code",
   "execution_count": 29,
   "id": "d3f8b314",
   "metadata": {},
   "outputs": [],
   "source": [
    "predictions = lm.predict(X_test)"
   ]
  },
  {
   "cell_type": "code",
   "execution_count": 30,
   "id": "3b601ec8",
   "metadata": {},
   "outputs": [
    {
     "name": "stdout",
     "output_type": "stream",
     "text": [
      "MAE: 181.31719277842146\n",
      "MSE: 267294.0569014941\n",
      "RMSE: 517.004890597269\n",
      "R2: 0.4575644649327144\n"
     ]
    }
   ],
   "source": [
    "from sklearn import metrics\n",
    "\n",
    "\n",
    "print(\"MAE:\", metrics.mean_absolute_error(y_test,predictions))\n",
    "print(\"MSE:\", metrics.mean_squared_error(y_test,predictions))\n",
    "print(\"RMSE:\", np.sqrt(metrics.mean_squared_error(y_test,predictions)))\n",
    "print(\"R2:\",r2_score(y_test, predictions))"
   ]
  },
  {
   "cell_type": "code",
   "execution_count": 31,
   "id": "2b5b879e",
   "metadata": {},
   "outputs": [
    {
     "data": {
      "text/plain": [
       "<matplotlib.collections.PathCollection at 0x1a6441f2080>"
      ]
     },
     "execution_count": 31,
     "metadata": {},
     "output_type": "execute_result"
    },
    {
     "data": {
      "image/png": "[encoded data removed]",
      "text/plain": [
       "<Figure size 640x480 with 1 Axes>"
      ]
     },
     "metadata": {},
     "output_type": "display_data"
    }
   ],
   "source": [
    "plt.scatter(y_test,predictions)"
   ]
  },
  {
   "cell_type": "code",
   "execution_count": 32,
   "id": "05fbb1c5",
   "metadata": {},
   "outputs": [
    {
     "data": {
      "image/png": "[encoded data removed]",
      "text/plain": [
       "<Figure size 640x480 with 1 Axes>"
      ]
     },
     "metadata": {},
     "output_type": "display_data"
    }
   ],
   "source": [
    "sns.histplot((y_test-predictions),bins=100);"
   ]
  },
  {
   "cell_type": "markdown",
   "id": "278314bf",
   "metadata": {},
   "source": [
    "## Evaluation"
   ]
  },
  {
   "cell_type": "markdown",
   "id": "a8deaf80",
   "metadata": {},
   "source": [
    "We can check precision,recall,f1-score using classification report!"
   ]
  },
  {
   "cell_type": "code",
   "execution_count": 33,
   "id": "d3987d25",
   "metadata": {},
   "outputs": [],
   "source": [
    "from sklearn.metrics import classification_report, ConfusionMatrixDisplay"
   ]
  },
  {
   "cell_type": "code",
   "execution_count": 34,
   "id": "9a16e839",
   "metadata": {},
   "outputs": [
    {
     "data": {
      "image/png": "[encoded data removed]",
      "text/plain": [
       "<Figure size 640x480 with 1 Axes>"
      ]
     },
     "metadata": {},
     "output_type": "display_data"
    }
   ],
   "source": [
    "#print(\"With 'newton-cg': \\n\", classification_report(y_test,predictions))\n",
    "#print(\"With 'lbfgs': \\n\", classification_report(y_test,predictions2))\n",
    "#print(\"With 'liblinear': \\n\", classification_report(y_test,predictions3))\n",
    "\n",
    "# Gráfico de dispersão com linha de regressão\n",
    "'''plt.scatter(y_test, predictions)\n",
    "plt.xlabel(\"Valores Reais\")\n",
    "plt.ylabel(\"Valores Previstos\")\n",
    "plt.title(\"Gráfico de Dispersão com Linha de Regressão\")\n",
    "plt.plot([y_test.min(), y_test.max()], [y_test.min(), y_test.max()], '--k', linewidth=2)  # Linha de 45 graus\n",
    "plt.show()'''\n",
    "\n",
    "\n",
    "# Gráfico de regressão linear\n",
    "sns.regplot(x=y_test, y=predictions)\n",
    "plt.xlabel(\"Valores Reais\")\n",
    "plt.ylabel(\"Valores Previstos\")\n",
    "plt.title(\"Gráfico de Regressão Linear\")\n",
    "plt.show()\n"
   ]
  },
  {
   "cell_type": "code",
   "execution_count": 35,
   "id": "4babd9c1",
   "metadata": {},
   "outputs": [
    {
     "data": {
      "text/plain": [
       "Index(['year', 'sex', 'age', 'suicides_no', 'population', 'suicides/100k pop',\n",
       "       'HDI for year', 'gdp_for_year', 'gdp_per_capita ($)', 'generation',\n",
       "       'country(to number)'],\n",
       "      dtype='object')"
      ]
     },
     "execution_count": 35,
     "metadata": {},
     "output_type": "execute_result"
    }
   ],
   "source": [
    "df.columns"
   ]
  },
  {
   "cell_type": "code",
   "execution_count": 36,
   "id": "691a36cc",
   "metadata": {},
   "outputs": [
    {
     "name": "stdout",
     "output_type": "stream",
     "text": [
      "Axes(0.125,0.11;0.775x0.77)\n"
     ]
    },
    {
     "data": {
      "image/png": "[encoded data removed]",
      "text/plain": [
       "<Figure size 640x480 with 1 Axes>"
      ]
     },
     "metadata": {},
     "output_type": "display_data"
    }
   ],
   "source": [
    "print(df['HDI for year'].hist())"
   ]
  },
  {
   "cell_type": "code",
   "execution_count": 37,
   "id": "6326ecd6",
   "metadata": {},
   "outputs": [
    {
     "data": {
      "text/plain": [
       "<Axes: >"
      ]
     },
     "execution_count": 37,
     "metadata": {},
     "output_type": "execute_result"
    },
    {
     "data": {
      "image/png": "[encoded data removed]",
      "text/plain": [
       "<Figure size 2000x1000 with 1 Axes>"
      ]
     },
     "metadata": {},
     "output_type": "display_data"
    }
   ],
   "source": [
    "\"\"\"\n",
    "Tratamento dos Outliers\n",
    "\"\"\"\n",
    "\n",
    "# Outliers boxplot\n",
    "sns.set_theme(palette=\"pastel\")\n",
    "plt.subplots(figsize=(20,10))\n",
    "\n",
    "sns.boxplot(data=df)"
   ]
  },
  {
   "cell_type": "code",
   "execution_count": null,
   "id": "78ba4a5d",
   "metadata": {},
   "outputs": [],
   "source": []
  },
  {
   "cell_type": "code",
   "execution_count": 38,
   "id": "434eba72",
   "metadata": {},
   "outputs": [
    {
     "data": {
      "text/plain": [
       "Index(['year', 'sex', 'age', 'suicides_no', 'population', 'suicides/100k pop',\n",
       "       'HDI for year', 'gdp_for_year', 'gdp_per_capita ($)', 'generation',\n",
       "       'country(to number)'],\n",
       "      dtype='object')"
      ]
     },
     "execution_count": 38,
     "metadata": {},
     "output_type": "execute_result"
    }
   ],
   "source": [
    "df.columns"
   ]
  },
  {
   "cell_type": "code",
   "execution_count": null,
   "id": "12bd30a4",
   "metadata": {},
   "outputs": [],
   "source": []
  },
  {
   "cell_type": "code",
   "execution_count": null,
   "id": "c4c2036a",
   "metadata": {},
   "outputs": [],
   "source": []
  },
  {
   "cell_type": "code",
   "execution_count": null,
   "id": "a05c4ea4",
   "metadata": {},
   "outputs": [],
   "source": []
  },
  {
   "cell_type": "code",
   "execution_count": 39,
   "id": "1ac8268a",
   "metadata": {},
   "outputs": [
    {
     "data": {
      "text/plain": [
       "year                  False\n",
       "sex                   False\n",
       "age                   False\n",
       "suicides_no           False\n",
       "population            False\n",
       "suicides/100k pop     False\n",
       "HDI for year           True\n",
       "gdp_for_year          False\n",
       "gdp_per_capita ($)    False\n",
       "generation            False\n",
       "country(to number)    False\n",
       "dtype: bool"
      ]
     },
     "execution_count": 39,
     "metadata": {},
     "output_type": "execute_result"
    }
   ],
   "source": [
    "'''Dados em Falta'''\n",
    "df.isna().any()"
   ]
  },
  {
   "cell_type": "code",
   "execution_count": 40,
   "id": "75b934f3",
   "metadata": {},
   "outputs": [
    {
     "data": {
      "text/plain": [
       "(27820, 11)"
      ]
     },
     "execution_count": 40,
     "metadata": {},
     "output_type": "execute_result"
    }
   ],
   "source": [
    "df.shape\n",
    "#output:  (linhas, colunas)"
   ]
  }
 ],
 "metadata": {
  "kernelspec": {
   "display_name": "Python 3 (ipykernel)",
   "language": "python",
   "name": "python3"
  },
  "language_info": {
   "codemirror_mode": {
    "name": "ipython",
    "version": 3
   },
   "file_extension": ".py",
   "mimetype": "text/x-python",
   "name": "python",
   "nbconvert_exporter": "python",
   "pygments_lexer": "ipython3",
   "version": "3.10.0"
  }
 },
 "nbformat": 4,
 "nbformat_minor": 5
}
