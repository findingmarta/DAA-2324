{
 "cells": [
  {
   "cell_type": "markdown",
   "id": "1c8c386d",
   "metadata": {},
   "source": [
    "## Introdução\n",
    "\n",
    "O dataset que escolhemos foi “Suicide Rates Overview 1985 to 2016” e o nosso\n",
    "objetivo é observar como os atributos presentes neste dataset e as relações entre eles têm\n",
    "impacto no atributo suicides_no (número de suicídios). Assim, para efetuar esta análise,\n",
    "usamos o ambiente miniconda."
   ]
  },
  {
   "cell_type": "code",
   "execution_count": 105,
   "id": "c4b16101",
   "metadata": {},
   "outputs": [
    {
     "ename": "SyntaxError",
     "evalue": "invalid syntax (2961267147.py, line 7)",
     "output_type": "error",
     "traceback": [
      "\u001b[1;36m  Cell \u001b[1;32mIn[105], line 7\u001b[1;36m\u001b[0m\n\u001b[1;33m    from\u001b[0m\n\u001b[1;37m        ^\u001b[0m\n\u001b[1;31mSyntaxError\u001b[0m\u001b[1;31m:\u001b[0m invalid syntax\n"
     ]
    }
   ],
   "source": [
    "'''import libraries'''\n",
    "import sklearn as skl\n",
    "import pandas as pd\n",
    "import matplotlib.pyplot as plt\n",
    "import seaborn as sns\n",
    "import numpy as np\n",
    "from\n",
    "klearn import preprocessing\n",
    "from sklearn.linear_model import LinearRegression\n",
    "from sklearn.model_selection import train_test_split\n",
    "from sklearn.metrics import confusion_matrix\n",
    "from sklearn.metrics import recall_score\n",
    "from sklearn.metrics import accuracy_score\n",
    "from sklearn.metrics import precision_score\n",
    "from sklearn.metrics import roc_auc_score\n",
    "from sklearn.metrics import roc_curve\n",
    "from sklearn.metrics import f1_score\n",
    "from sklearn.metrics import fbeta_score\n",
    "from sklearn.metrics import mean_absolute_error\n",
    "from sklearn.metrics import mean_squared_error\n",
    "from sklearn.model_selection import cross_val_score"
   ]
  },
  {
   "cell_type": "markdown",
   "id": "77dd73c1",
   "metadata": {},
   "source": [
    "## Análise dos dados\n",
    "\n",
    "\n",
    "### Descrição dos atributos\n",
    "De forma a perceber a melhor forma de abordar o problema, começamos por\n",
    "analisar as features do dataset, Assim, podemos verificar que o dataset é composto pelos\n",
    "seguintes atributos:\n",
    "* **country**: variável do tipo string que identifica o país analisado.\n",
    "* **year**: variável do tipo int que representa o ano correspondente ao levantamento dos dados.\n",
    "* **sex**: variável do tipo string que define o sexo das pessoas que cometeram suicídio.\n",
    "* **age**: variável do tipo string que representa a faixa etária dos individuos que cometeram suicídio.\n",
    "* **suicides_no**: variável do tipo int que corresponde ao número de suicídios ocorridos.\n",
    "* **population**: variável do tipo int que define a população de um determinado país num determinado ano.\n",
    "* **suicides/100k pop**: variável do tipo double que corresponde ao número de suicídios por cada 100 mil habitantes .\n",
    "* **country-year**: variável do tipo string que representa o país e o ano correspondente ao levantamento de dados .\n",
    "* **HDI for year**: variável do tipo double que corresponde ao índice de desenvolvimento humano.\n",
    "* **gdp_for_year**: variável do tipo string que representa o grau de desenvolvimento de um país num determinado ano\n",
    "* **gdp_per_capita**: variável do tipo inteiro que representa o grau de desenvolvimento de um país per capita.\n",
    "* **generation**: variável do tipo string que representa a geração do conjunto de pessoas que cometeram suicidio.\n",
    "\n"
   ]
  },
  {
   "cell_type": "code",
   "execution_count": null,
   "id": "68922fe0",
   "metadata": {},
   "outputs": [],
   "source": [
    "'''Load CSV'''\n",
    "df = pd.read_csv('master.csv')"
   ]
  },
  {
   "cell_type": "code",
   "execution_count": null,
   "id": "84f8cb26",
   "metadata": {},
   "outputs": [
    {
     "data": {
      "text/html": [
       "<div>\n",
       "<style scoped>\n",
       "    .dataframe tbody tr th:only-of-type {\n",
       "        vertical-align: middle;\n",
       "    }\n",
       "\n",
       "    .dataframe tbody tr th {\n",
       "        vertical-align: top;\n",
       "    }\n",
       "\n",
       "    .dataframe thead th {\n",
       "        text-align: right;\n",
       "    }\n",
       "</style>\n",
       "<table border=\"1\" class=\"dataframe\">\n",
       "  <thead>\n",
       "    <tr style=\"text-align: right;\">\n",
       "      <th></th>\n",
       "      <th>year</th>\n",
       "      <th>sex</th>\n",
       "      <th>age</th>\n",
       "      <th>suicides_no</th>\n",
       "      <th>population</th>\n",
       "      <th>suicides/100k pop</th>\n",
       "      <th>HDI for year</th>\n",
       "      <th>gdp_for_year</th>\n",
       "      <th>gdp_per_capita ($)</th>\n",
       "      <th>generation</th>\n",
       "      <th>country(to number)</th>\n",
       "    </tr>\n",
       "  </thead>\n",
       "  <tbody>\n",
       "    <tr>\n",
       "      <th>0</th>\n",
       "      <td>1987</td>\n",
       "      <td>male</td>\n",
       "      <td>15-24 years</td>\n",
       "      <td>21</td>\n",
       "      <td>312900</td>\n",
       "      <td>6.71</td>\n",
       "      <td>NaN</td>\n",
       "      <td>2156624900</td>\n",
       "      <td>796</td>\n",
       "      <td>Generation X</td>\n",
       "      <td>1</td>\n",
       "    </tr>\n",
       "    <tr>\n",
       "      <th>1</th>\n",
       "      <td>1987</td>\n",
       "      <td>male</td>\n",
       "      <td>35-54 years</td>\n",
       "      <td>16</td>\n",
       "      <td>308000</td>\n",
       "      <td>5.19</td>\n",
       "      <td>NaN</td>\n",
       "      <td>2156624900</td>\n",
       "      <td>796</td>\n",
       "      <td>Silent</td>\n",
       "      <td>1</td>\n",
       "    </tr>\n",
       "    <tr>\n",
       "      <th>2</th>\n",
       "      <td>1987</td>\n",
       "      <td>female</td>\n",
       "      <td>15-24 years</td>\n",
       "      <td>14</td>\n",
       "      <td>289700</td>\n",
       "      <td>4.83</td>\n",
       "      <td>NaN</td>\n",
       "      <td>2156624900</td>\n",
       "      <td>796</td>\n",
       "      <td>Generation X</td>\n",
       "      <td>1</td>\n",
       "    </tr>\n",
       "    <tr>\n",
       "      <th>3</th>\n",
       "      <td>1987</td>\n",
       "      <td>male</td>\n",
       "      <td>75+ years</td>\n",
       "      <td>1</td>\n",
       "      <td>21800</td>\n",
       "      <td>4.59</td>\n",
       "      <td>NaN</td>\n",
       "      <td>2156624900</td>\n",
       "      <td>796</td>\n",
       "      <td>G.I. Generation</td>\n",
       "      <td>1</td>\n",
       "    </tr>\n",
       "    <tr>\n",
       "      <th>4</th>\n",
       "      <td>1987</td>\n",
       "      <td>male</td>\n",
       "      <td>25-34 years</td>\n",
       "      <td>9</td>\n",
       "      <td>274300</td>\n",
       "      <td>3.28</td>\n",
       "      <td>NaN</td>\n",
       "      <td>2156624900</td>\n",
       "      <td>796</td>\n",
       "      <td>Boomers</td>\n",
       "      <td>1</td>\n",
       "    </tr>\n",
       "  </tbody>\n",
       "</table>\n",
       "</div>"
      ],
      "text/plain": [
       "   year     sex          age  suicides_no  population  suicides/100k pop  \\\n",
       "0  1987    male  15-24 years           21      312900               6.71   \n",
       "1  1987    male  35-54 years           16      308000               5.19   \n",
       "2  1987  female  15-24 years           14      289700               4.83   \n",
       "3  1987    male    75+ years            1       21800               4.59   \n",
       "4  1987    male  25-34 years            9      274300               3.28   \n",
       "\n",
       "   HDI for year  gdp_for_year  gdp_per_capita ($)       generation  \\\n",
       "0           NaN    2156624900                 796     Generation X   \n",
       "1           NaN    2156624900                 796           Silent   \n",
       "2           NaN    2156624900                 796     Generation X   \n",
       "3           NaN    2156624900                 796  G.I. Generation   \n",
       "4           NaN    2156624900                 796          Boomers   \n",
       "\n",
       "   country(to number)  \n",
       "0                   1  \n",
       "1                   1  \n",
       "2                   1  \n",
       "3                   1  \n",
       "4                   1  "
      ]
     },
     "execution_count": 94,
     "metadata": {},
     "output_type": "execute_result"
    }
   ],
   "source": [
    "''''''\n",
    "df.head()"
   ]
  },
  {
   "cell_type": "code",
   "execution_count": null,
   "id": "c35a22ca",
   "metadata": {},
   "outputs": [],
   "source": [
    "df.tail()"
   ]
  },
  {
   "cell_type": "code",
   "execution_count": null,
   "id": "d120a4a8",
   "metadata": {},
   "outputs": [
    {
     "name": "stdout",
     "output_type": "stream",
     "text": [
      "<class 'pandas.core.frame.DataFrame'>\n",
      "RangeIndex: 27820 entries, 0 to 27819\n",
      "Data columns (total 11 columns):\n",
      " #   Column              Non-Null Count  Dtype  \n",
      "---  ------              --------------  -----  \n",
      " 0   year                27820 non-null  int64  \n",
      " 1   sex                 27820 non-null  object \n",
      " 2   age                 27820 non-null  object \n",
      " 3   suicides_no         27820 non-null  int64  \n",
      " 4   population          27820 non-null  int64  \n",
      " 5   suicides/100k pop   27820 non-null  float64\n",
      " 6   HDI for year        8364 non-null   float64\n",
      " 7   gdp_for_year        27820 non-null  int64  \n",
      " 8   gdp_per_capita ($)  27820 non-null  int64  \n",
      " 9   generation          27820 non-null  object \n",
      " 10  country(to number)  27820 non-null  int64  \n",
      "dtypes: float64(2), int64(6), object(3)\n",
      "memory usage: 2.3+ MB\n"
     ]
    }
   ],
   "source": [
    "df.info()\n",
    "#Descreve os tipos dos respetivos atributos e conta o número de valores não NULL\n",
    "\n",
    "#Como podemos observar no output apenas 8364 das 27820 não são valores nulos"
   ]
  },
  {
   "cell_type": "code",
   "execution_count": null,
   "id": "c785e53a",
   "metadata": {},
   "outputs": [],
   "source": [
    "print(df.isna().sum())\n",
    "# Tal como em cima confirmamos aqui verificamos 19456 entradas nulas \n",
    "# no atributo 'HDI for year'"
   ]
  },
  {
   "cell_type": "code",
   "execution_count": null,
   "id": "7e1df637",
   "metadata": {
    "scrolled": true
   },
   "outputs": [],
   "source": [
    "# Contar o número de registos repetidos\n",
    "print(df['country'].duplicated().sum())"
   ]
  },
  {
   "cell_type": "code",
   "execution_count": null,
   "id": "a998c43e",
   "metadata": {},
   "outputs": [],
   "source": [
    "df['HDI for year'].value_counts()"
   ]
  },
  {
   "cell_type": "code",
   "execution_count": null,
   "id": "689c34ef",
   "metadata": {},
   "outputs": [],
   "source": [
    "df['HDI for year'].describe()"
   ]
  },
  {
   "cell_type": "code",
   "execution_count": 108,
   "id": "ceecc1e1",
   "metadata": {},
   "outputs": [
    {
     "name": "stdout",
     "output_type": "stream",
     "text": [
      "Axes(0.125,0.11;0.775x0.77)\n"
     ]
    },
    {
     "data": {
      "image/png": "[encoded data removed]",
      "text/plain": [
       "<Figure size 640x480 with 1 Axes>"
      ]
     },
     "metadata": {},
     "output_type": "display_data"
    }
   ],
   "source": [
    "print(df['HDI for year'].hist())"
   ]
  },
  {
   "cell_type": "code",
   "execution_count": 109,
   "id": "6121529c",
   "metadata": {},
   "outputs": [
    {
     "ename": "",
     "evalue": "",
     "output_type": "error",
     "traceback": [
      "\u001b[1;31mThe Kernel crashed while executing code in the the current cell or a previous cell. Please review the code in the cell(s) to identify a possible cause of the failure. Click <a href='https://aka.ms/vscodeJupyterKernelCrash'>here</a> for more info. View Jupyter <a href='command:jupyter.viewOutput'>log</a> for further details."
     ]
    }
   ],
   "source": [
    "sns.heatmap(df.isnull(), yticklabels=False,cbar=False,cmap='viridis')\n"
   ]
  },
  {
   "cell_type": "code",
   "execution_count": null,
   "id": "549e673b",
   "metadata": {},
   "outputs": [],
   "source": [
    "print(f\"Skewness: {df['HDI for year'].skew()}\")\n",
    "print(f\"Kurtosis: {df['HDI for year'].kurt()}\")"
   ]
  },
  {
   "cell_type": "code",
   "execution_count": null,
   "id": "9a4d3896",
   "metadata": {},
   "outputs": [],
   "source": [
    "sns.boxplot(y='HDI for year',data=df,palette='winter')\n",
    "\n",
    "'''\n",
    "country', 'year', 'sex', 'age', 'suicides_no', 'population',\n",
    "       'suicides/100k pop', 'country-year', 'HDI for year',\n",
    "       ' gdp_for_year ($) ', 'gdp_per_capita ($)', 'generation'\n",
    "'''"
   ]
  },
  {
   "cell_type": "code",
   "execution_count": null,
   "id": "0bfd218b",
   "metadata": {},
   "outputs": [],
   "source": [
    "#df['HDI for year'] = df['HDI for year'].fillna(df['HDI for year'].mean())"
   ]
  },
  {
   "cell_type": "code",
   "execution_count": null,
   "id": "2efef554",
   "metadata": {},
   "outputs": [],
   "source": [
    "print(df['HDI for year'].hist())"
   ]
  },
  {
   "cell_type": "code",
   "execution_count": null,
   "id": "f280c6ec",
   "metadata": {},
   "outputs": [],
   "source": [
    "\n",
    "'''\n",
    "Rename complicated columns' names\n",
    "'''  \n",
    "df.rename(columns={\" gdp_for_year ($) \": \"gdp_for_year\"}, inplace=True)\n",
    "df.info()\n"
   ]
  },
  {
   "cell_type": "code",
   "execution_count": null,
   "id": "48a6b35c",
   "metadata": {},
   "outputs": [],
   "source": [
    "df[\"gdp_for_year\"] = df[\"gdp_for_year\"].replace(\",\", \"\", regex=True)\n"
   ]
  },
  {
   "cell_type": "code",
   "execution_count": null,
   "id": "8edf23fb",
   "metadata": {},
   "outputs": [],
   "source": [
    "df[\"gdp_for_year\"] = df[\"gdp_for_year\"].astype(\"int64\")\n",
    "print(df)"
   ]
  },
  {
   "cell_type": "code",
   "execution_count": null,
   "id": "e449fead",
   "metadata": {},
   "outputs": [],
   "source": [
    "\"\"\"\n",
    "Replace each country with a number\n",
    "\"\"\"\n",
    "\n",
    "country_to_number = {}\n",
    "unique_countries = df['country'].unique()\n",
    "\n",
    "for i in range(len(unique_countries)):\n",
    "    country_to_number[unique_countries[i]] = i + 1\n",
    "\n",
    "# Adicione a coluna \"country(to number)\" ao DataFrame usando o mapeamento\n",
    "df['country(to number)'] = df['country'].map(country_to_number)\n",
    "\n",
    "# Exiba o DataFrame resultante\n",
    "print(df)\n"
   ]
  },
  {
   "cell_type": "code",
   "execution_count": null,
   "id": "cc8cc5e7",
   "metadata": {},
   "outputs": [],
   "source": [
    "\"\"\"\n",
    "Remove as colunas country-year e country\n",
    "\"\"\"\n",
    "df = df.drop(['country-year','country'], axis=1)"
   ]
  },
  {
   "cell_type": "code",
   "execution_count": null,
   "id": "6586572f",
   "metadata": {
    "scrolled": true
   },
   "outputs": [],
   "source": [
    "#Fazer cópia\n",
    "df_copy1 = df.copy()"
   ]
  },
  {
   "cell_type": "code",
   "execution_count": null,
   "id": "b61d97fa",
   "metadata": {
    "scrolled": false
   },
   "outputs": [],
   "source": [
    "# Eliminar a coluna \"HDI for year\"\n",
    "df_copy1 = df_copy1.dropna()\n",
    "df_copy1.info()"
   ]
  },
  {
   "cell_type": "markdown",
   "id": "e230336a",
   "metadata": {},
   "source": [
    "## Treino de um Modelo de Regressão Linear"
   ]
  },
  {
   "cell_type": "code",
   "execution_count": null,
   "id": "01b6aa52",
   "metadata": {},
   "outputs": [],
   "source": [
    "X = df_copy1[['year','suicides/100k pop','gdp_for_year','gdp_per_capita ($)','country(to number)']]\n",
    "y = df_copy1['suicides_no']"
   ]
  },
  {
   "cell_type": "markdown",
   "id": "fea6bd4d",
   "metadata": {},
   "source": [
    "### Separação dos dados de teste"
   ]
  },
  {
   "cell_type": "code",
   "execution_count": null,
   "id": "5ec196b4",
   "metadata": {},
   "outputs": [],
   "source": [
    "X_train, X_test, y_train, y_test = train_test_split(X,y, test_size=0.4, random_state=2023)\n",
    "#X_train = X_train.drop(['sex','age','population','generation'],axis=1)\n",
    "#X_test = X_test.drop(['sex','age','population','generation'],axis=1)"
   ]
  },
  {
   "cell_type": "markdown",
   "id": "1509717b",
   "metadata": {},
   "source": [
    "### Criação e treino do Modelo"
   ]
  },
  {
   "cell_type": "code",
   "execution_count": null,
   "id": "1ff957db",
   "metadata": {},
   "outputs": [],
   "source": [
    "#Treino\n",
    "lm = LinearRegression()"
   ]
  },
  {
   "cell_type": "code",
   "execution_count": null,
   "id": "ef5a36c8",
   "metadata": {
    "scrolled": true
   },
   "outputs": [],
   "source": [
    "lm.fit(X_train,y_train)"
   ]
  },
  {
   "cell_type": "markdown",
   "id": "8904aff7",
   "metadata": {},
   "source": [
    "### Avaliação do Modelo"
   ]
  },
  {
   "cell_type": "code",
   "execution_count": null,
   "id": "e9cdf08d",
   "metadata": {},
   "outputs": [],
   "source": [
    "print(lm.intercept_)"
   ]
  },
  {
   "cell_type": "code",
   "execution_count": null,
   "id": "1ba62b64",
   "metadata": {},
   "outputs": [],
   "source": [
    "coeff_df = pd.DataFrame(lm.coef_,X.columns,columns=['Coefficient'])\n",
    "coeff_df"
   ]
  },
  {
   "cell_type": "code",
   "execution_count": null,
   "metadata": {},
   "outputs": [],
   "source": [
    "predictions = lm.predict(X_test)"
   ]
  },
  {
   "cell_type": "code",
   "execution_count": null,
   "metadata": {},
   "outputs": [],
   "source": [
    "from sklearn import metrics\n",
    "\n",
    "\n",
    "print(\"MAE:\", metrics.mean_absolute_error(y_test,predictions))\n",
    "print(\"MSE:\", metrics.mean_squared_error(y_test,predictions))\n",
    "print(\"RMSE:\", np.sqrt(metrics.mean_squared_error(y_test,predictions)))\n"
   ]
  },
  {
   "cell_type": "code",
   "execution_count": null,
   "metadata": {},
   "outputs": [],
   "source": [
    "plt.scatter(y_test,predictions)"
   ]
  },
  {
   "cell_type": "code",
   "execution_count": null,
   "metadata": {},
   "outputs": [],
   "source": [
    "sns.histplot((y_test-predictions),bins=100);"
   ]
  },
  {
   "cell_type": "markdown",
   "id": "278314bf",
   "metadata": {},
   "source": [
    "## Evaluation"
   ]
  },
  {
   "cell_type": "markdown",
   "id": "a8deaf80",
   "metadata": {},
   "source": [
    "We can check precision,recall,f1-score using classification report!"
   ]
  },
  {
   "cell_type": "code",
   "execution_count": null,
   "id": "d3987d25",
   "metadata": {},
   "outputs": [],
   "source": [
    "from sklearn.metrics import classification_report, ConfusionMatrixDisplay"
   ]
  },
  {
   "cell_type": "code",
   "execution_count": null,
   "id": "9a16e839",
   "metadata": {},
   "outputs": [],
   "source": [
    "print(\"With 'newton-cg': \\n\", classification_report(y_test,predictions))\n",
    "#print(\"With 'lbfgs': \\n\", classification_report(y_test,predictions2))\n",
    "#print(\"With 'liblinear': \\n\", classification_report(y_test,predictions3))"
   ]
  },
  {
   "cell_type": "code",
   "execution_count": null,
   "id": "4babd9c1",
   "metadata": {},
   "outputs": [],
   "source": [
    "df.columns"
   ]
  },
  {
   "cell_type": "code",
   "execution_count": null,
   "id": "691a36cc",
   "metadata": {},
   "outputs": [],
   "source": [
    "print(df['HDI for year'].hist())"
   ]
  },
  {
   "cell_type": "code",
   "execution_count": null,
   "id": "6326ecd6",
   "metadata": {},
   "outputs": [
    {
     "data": {
      "text/plain": [
       "<Axes: >"
      ]
     },
     "execution_count": 107,
     "metadata": {},
     "output_type": "execute_result"
    },
    {
     "data": {
      "image/png": "[encoded data removed]",
      "text/plain": [
       "<Figure size 2000x1000 with 1 Axes>"
      ]
     },
     "metadata": {},
     "output_type": "display_data"
    }
   ],
   "source": [
    "\"\"\"\n",
    "Tratamento dos Outliers\n",
    "\"\"\"\n",
    "\n",
    "# Outliers boxplot\n",
    "sns.set_theme(palette=\"pastel\")\n",
    "plt.subplots(figsize=(20,10))\n",
    "\n",
    "sns.boxplot(data=df)"
   ]
  },
  {
   "cell_type": "code",
   "execution_count": null,
   "metadata": {},
   "outputs": [],
   "source": []
  },
  {
   "cell_type": "code",
   "execution_count": null,
   "id": "434eba72",
   "metadata": {},
   "outputs": [],
   "source": [
    "df.columns"
   ]
  },
  {
   "cell_type": "code",
   "execution_count": null,
   "metadata": {},
   "outputs": [],
   "source": []
  },
  {
   "cell_type": "code",
   "execution_count": null,
   "metadata": {},
   "outputs": [],
   "source": []
  },
  {
   "cell_type": "code",
   "execution_count": null,
   "metadata": {},
   "outputs": [],
   "source": []
  },
  {
   "cell_type": "code",
   "execution_count": null,
   "id": "1ac8268a",
   "metadata": {},
   "outputs": [],
   "source": [
    "'''Dados em Falta'''\n",
    "df.isna().any()"
   ]
  },
  {
   "cell_type": "code",
   "execution_count": null,
   "id": "75b934f3",
   "metadata": {},
   "outputs": [],
   "source": [
    "df.shape\n",
    "#output:  (linhas, colunas)"
   ]
  }
 ],
 "metadata": {
  "kernelspec": {
   "display_name": "Python 3 (ipykernel)",
   "language": "python",
   "name": "python3"
  },
  "language_info": {
   "codemirror_mode": {
    "name": "ipython",
    "version": 3
   },
   "file_extension": ".py",
   "mimetype": "text/x-python",
   "name": "python",
   "nbconvert_exporter": "python",
   "pygments_lexer": "ipython3",
   "version": "3.10.0"
  }
 },
 "nbformat": 4,
 "nbformat_minor": 5
}
